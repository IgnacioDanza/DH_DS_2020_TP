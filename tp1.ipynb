{
 "cells": [
  {
   "cell_type": "code",
   "execution_count": null,
   "metadata": {},
   "outputs": [],
   "source": []
  },
  {
   "cell_type": "markdown",
   "metadata": {},
   "source": [
    "Importamos las herramientas con que vamos a trabajar"
   ]
  },
  {
   "cell_type": "code",
   "execution_count": 141,
   "metadata": {},
   "outputs": [],
   "source": [
    "import numpy as np \n",
    "import pandas as pd\n",
    "import re\n",
    "import seaborn as sns\n",
    "import matplotlib.pyplot as plt\n",
    "import chardet"
   ]
  },
  {
   "cell_type": "markdown",
   "metadata": {},
   "source": [
    "Vamos a relevar la codificación que tiene el archivo"
   ]
  },
  {
   "cell_type": "code",
   "execution_count": 142,
   "metadata": {},
   "outputs": [],
   "source": [
    "def get_encoding_type(csv_path):\n",
    "    rawdata = open(csv_path, 'rb').read()\n",
    "    result = chardet.detect(rawdata)\n",
    "    return result.get('encoding')\n"
   ]
  },
  {
   "cell_type": "code",
   "execution_count": 143,
   "metadata": {},
   "outputs": [
    {
     "name": "stdout",
     "output_type": "stream",
     "text": [
      "(121220, 26)\n"
     ]
    },
    {
     "data": {
      "text/plain": [
       "Unnamed: 0                      int64\n",
       "operation                      object\n",
       "property_type                  object\n",
       "place_name                     object\n",
       "place_with_parent_names        object\n",
       "country_name                   object\n",
       "state_name                     object\n",
       "geonames_id                   float64\n",
       "lat-lon                        object\n",
       "lat                           float64\n",
       "lon                           float64\n",
       "price                         float64\n",
       "currency                       object\n",
       "price_aprox_local_currency    float64\n",
       "price_aprox_usd               float64\n",
       "surface_total_in_m2           float64\n",
       "surface_covered_in_m2         float64\n",
       "price_usd_per_m2              float64\n",
       "price_per_m2                  float64\n",
       "floor                         float64\n",
       "rooms                         float64\n",
       "expenses                      float64\n",
       "properati_url                  object\n",
       "description                    object\n",
       "title                          object\n",
       "image_thumbnail                object\n",
       "dtype: object"
      ]
     },
     "execution_count": 143,
     "metadata": {},
     "output_type": "execute_result"
    }
   ],
   "source": [
    "data_location = \"../data/properati.csv\"\n",
    "data_orig = pd.read_csv(data_location, sep = \",\", encoding = 'utf-8')\n",
    "print(data_orig.shape)\n",
    "data_orig.dtypes"
   ]
  },
  {
   "cell_type": "markdown",
   "metadata": {},
   "source": [
    "## Elimino registros duplicados\n",
    "\n",
    "Veamos si existen registros duplicados en el `DataFrame` data considerando sólo las columnas **\"property_type\"**, **\"place_name\"**, **\"price\"**, **\"currency\"**, **\"surface_total_in_m2\"**, **\"surface_covered_in_m2\"**, marcando como no duplicado la primera ocurrencia de un registro.\n",
    "\n",
    "NOTA: Se desprecia la columna **\"description\"**, siendo que aún se encuentran duplicados al tener en cuenta dicha olumna."
   ]
  },
  {
   "cell_type": "code",
   "execution_count": 144,
   "metadata": {},
   "outputs": [
    {
     "name": "stdout",
     "output_type": "stream",
     "text": [
      "Cantidad de registros duplicados: 22432\n",
      "Cantidad de registros duplicados considerando\" description\": 6555\n"
     ]
    },
    {
     "data": {
      "text/html": [
       "<div>\n",
       "<style scoped>\n",
       "    .dataframe tbody tr th:only-of-type {\n",
       "        vertical-align: middle;\n",
       "    }\n",
       "\n",
       "    .dataframe tbody tr th {\n",
       "        vertical-align: top;\n",
       "    }\n",
       "\n",
       "    .dataframe thead th {\n",
       "        text-align: right;\n",
       "    }\n",
       "</style>\n",
       "<table border=\"1\" class=\"dataframe\">\n",
       "  <thead>\n",
       "    <tr style=\"text-align: right;\">\n",
       "      <th></th>\n",
       "      <th>Unnamed: 0</th>\n",
       "      <th>operation</th>\n",
       "      <th>property_type</th>\n",
       "      <th>place_name</th>\n",
       "      <th>place_with_parent_names</th>\n",
       "      <th>country_name</th>\n",
       "      <th>state_name</th>\n",
       "      <th>geonames_id</th>\n",
       "      <th>lat-lon</th>\n",
       "      <th>lat</th>\n",
       "      <th>...</th>\n",
       "      <th>surface_covered_in_m2</th>\n",
       "      <th>price_usd_per_m2</th>\n",
       "      <th>price_per_m2</th>\n",
       "      <th>floor</th>\n",
       "      <th>rooms</th>\n",
       "      <th>expenses</th>\n",
       "      <th>properati_url</th>\n",
       "      <th>description</th>\n",
       "      <th>title</th>\n",
       "      <th>image_thumbnail</th>\n",
       "    </tr>\n",
       "  </thead>\n",
       "  <tbody>\n",
       "    <tr>\n",
       "      <th>84</th>\n",
       "      <td>84</td>\n",
       "      <td>sell</td>\n",
       "      <td>apartment</td>\n",
       "      <td>Rosario</td>\n",
       "      <td>|Argentina|Santa Fe|Rosario|</td>\n",
       "      <td>Argentina</td>\n",
       "      <td>Santa Fe</td>\n",
       "      <td>3838574.0</td>\n",
       "      <td>-32.9327656,-60.6533854</td>\n",
       "      <td>-32.932766</td>\n",
       "      <td>...</td>\n",
       "      <td>55.0</td>\n",
       "      <td>NaN</td>\n",
       "      <td>NaN</td>\n",
       "      <td>NaN</td>\n",
       "      <td>2.0</td>\n",
       "      <td>NaN</td>\n",
       "      <td>http://www.properati.com.ar/15bz0_ve...</td>\n",
       "      <td>Departamento en PB con cocina comedo...</td>\n",
       "      <td>2 Dormitorios. Güemes al 2400</td>\n",
       "      <td>https://thumbs4.properati.com/3/p47w...</td>\n",
       "    </tr>\n",
       "    <tr>\n",
       "      <th>101</th>\n",
       "      <td>101</td>\n",
       "      <td>sell</td>\n",
       "      <td>apartment</td>\n",
       "      <td>Rosario</td>\n",
       "      <td>|Argentina|Santa Fe|Rosario|</td>\n",
       "      <td>Argentina</td>\n",
       "      <td>Santa Fe</td>\n",
       "      <td>3838574.0</td>\n",
       "      <td>-32.9359588621,-60.6691426017</td>\n",
       "      <td>-32.935959</td>\n",
       "      <td>...</td>\n",
       "      <td>NaN</td>\n",
       "      <td>NaN</td>\n",
       "      <td>NaN</td>\n",
       "      <td>NaN</td>\n",
       "      <td>NaN</td>\n",
       "      <td>NaN</td>\n",
       "      <td>http://www.properati.com.ar/15d1n_ve...</td>\n",
       "      <td>Tucuman 3476Edificio PB y 4 pisos po...</td>\n",
       "      <td>Rosario - Tucuman 3400 - Venta Dptos...</td>\n",
       "      <td>https://thumbs4.properati.com/1/2fJF...</td>\n",
       "    </tr>\n",
       "    <tr>\n",
       "      <th>102</th>\n",
       "      <td>102</td>\n",
       "      <td>sell</td>\n",
       "      <td>apartment</td>\n",
       "      <td>Rosario</td>\n",
       "      <td>|Argentina|Santa Fe|Rosario|</td>\n",
       "      <td>Argentina</td>\n",
       "      <td>Santa Fe</td>\n",
       "      <td>3838574.0</td>\n",
       "      <td>-32.9359588621,-60.6691426017</td>\n",
       "      <td>-32.935959</td>\n",
       "      <td>...</td>\n",
       "      <td>NaN</td>\n",
       "      <td>NaN</td>\n",
       "      <td>NaN</td>\n",
       "      <td>NaN</td>\n",
       "      <td>NaN</td>\n",
       "      <td>NaN</td>\n",
       "      <td>http://www.properati.com.ar/15d1o_ve...</td>\n",
       "      <td>Tucuman 3476Edificio PB y 4 pisos po...</td>\n",
       "      <td>Rosario - Tucuman 3400 - Venta Dptos...</td>\n",
       "      <td>https://thumbs4.properati.com/3/Ugx8...</td>\n",
       "    </tr>\n",
       "  </tbody>\n",
       "</table>\n",
       "<p>3 rows × 26 columns</p>\n",
       "</div>"
      ],
      "text/plain": [
       "     Unnamed: 0 operation property_type place_name  \\\n",
       "84           84      sell     apartment    Rosario   \n",
       "101         101      sell     apartment    Rosario   \n",
       "102         102      sell     apartment    Rosario   \n",
       "\n",
       "          place_with_parent_names country_name state_name  geonames_id  \\\n",
       "84   |Argentina|Santa Fe|Rosario|    Argentina   Santa Fe    3838574.0   \n",
       "101  |Argentina|Santa Fe|Rosario|    Argentina   Santa Fe    3838574.0   \n",
       "102  |Argentina|Santa Fe|Rosario|    Argentina   Santa Fe    3838574.0   \n",
       "\n",
       "                           lat-lon        lat  ...  surface_covered_in_m2  \\\n",
       "84         -32.9327656,-60.6533854 -32.932766  ...                   55.0   \n",
       "101  -32.9359588621,-60.6691426017 -32.935959  ...                    NaN   \n",
       "102  -32.9359588621,-60.6691426017 -32.935959  ...                    NaN   \n",
       "\n",
       "     price_usd_per_m2 price_per_m2  floor  rooms  expenses  \\\n",
       "84                NaN          NaN    NaN    2.0       NaN   \n",
       "101               NaN          NaN    NaN    NaN       NaN   \n",
       "102               NaN          NaN    NaN    NaN       NaN   \n",
       "\n",
       "                               properati_url  \\\n",
       "84   http://www.properati.com.ar/15bz0_ve...   \n",
       "101  http://www.properati.com.ar/15d1n_ve...   \n",
       "102  http://www.properati.com.ar/15d1o_ve...   \n",
       "\n",
       "                                 description  \\\n",
       "84   Departamento en PB con cocina comedo...   \n",
       "101  Tucuman 3476Edificio PB y 4 pisos po...   \n",
       "102  Tucuman 3476Edificio PB y 4 pisos po...   \n",
       "\n",
       "                                       title  \\\n",
       "84             2 Dormitorios. Güemes al 2400   \n",
       "101  Rosario - Tucuman 3400 - Venta Dptos...   \n",
       "102  Rosario - Tucuman 3400 - Venta Dptos...   \n",
       "\n",
       "                             image_thumbnail  \n",
       "84   https://thumbs4.properati.com/3/p47w...  \n",
       "101  https://thumbs4.properati.com/1/2fJF...  \n",
       "102  https://thumbs4.properati.com/3/Ugx8...  \n",
       "\n",
       "[3 rows x 26 columns]"
      ]
     },
     "execution_count": 144,
     "metadata": {},
     "output_type": "execute_result"
    }
   ],
   "source": [
    "# subset que utilizaré para eliminar registros duplicados\n",
    "subset = [\"property_type\",\"place_name\",\"price\",\"currency\",\"surface_total_in_m2\",\"surface_covered_in_m2\"]\n",
    "mask_duplicated = data_orig.duplicated(subset, keep = 'first')\n",
    "\n",
    "# subset considerando \"description\":\n",
    "subset = [\"property_type\",\"place_name\",\"price\",\"currency\",\"surface_total_in_m2\",\"surface_covered_in_m2\",\"description\"]\n",
    "mask_duplicated_with_description = data_orig.duplicated(subset, keep = 'first')\n",
    "\n",
    "\n",
    "print('Cantidad de registros duplicados: '+str(mask_duplicated.sum()))\n",
    "print('Cantidad de registros duplicados considerando\" description\": '+str(mask_duplicated_with_description.sum()))\n",
    "\n",
    "duplicated_records = data_orig.loc[mask_duplicated]\n",
    "duplicated_records.head(3).sort_values(by = 'place_name')"
   ]
  },
  {
   "cell_type": "code",
   "execution_count": 145,
   "metadata": {},
   "outputs": [
    {
     "name": "stdout",
     "output_type": "stream",
     "text": [
      "(121220, 26)\n",
      "(114665, 26)\n"
     ]
    }
   ],
   "source": [
    "data_nodup = data_orig.drop_duplicates(subset, keep = \"first\")\n",
    "print(data_orig.shape)\n",
    "print(data_nodup.shape)\n",
    "\n",
    "# Vemos que no quedan registros duplicados para el subset definido \n",
    "#dup_mask = data_nodup.duplicated(subset, keep = \"first\")\n",
    "#any(dup_mask)"
   ]
  },
  {
   "cell_type": "markdown",
   "metadata": {},
   "source": [
    "## Análisis de la información - Desestimación de datos\n",
    "\n",
    "Veamos la cantidad de nulos que hay en mi `DataFrame` original"
   ]
  },
  {
   "cell_type": "code",
   "execution_count": 146,
   "metadata": {},
   "outputs": [
    {
     "data": {
      "text/plain": [
       "Unnamed: 0                    0.000000\n",
       "operation                     0.000000\n",
       "property_type                 0.000000\n",
       "place_name                    0.000190\n",
       "place_with_parent_names       0.000000\n",
       "country_name                  0.000000\n",
       "state_name                    0.000000\n",
       "geonames_id                   0.154405\n",
       "lat-lon                       0.425260\n",
       "lat                           0.425260\n",
       "lon                           0.425260\n",
       "price                         0.168372\n",
       "currency                      0.168380\n",
       "price_aprox_local_currency    0.168372\n",
       "price_aprox_usd               0.168372\n",
       "surface_total_in_m2           0.324435\n",
       "surface_covered_in_m2         0.164222\n",
       "price_usd_per_m2              0.433947\n",
       "price_per_m2                  0.276869\n",
       "floor                         0.934837\n",
       "rooms                         0.609058\n",
       "expenses                      0.882346\n",
       "properati_url                 0.000000\n",
       "description                   0.000016\n",
       "title                         0.000000\n",
       "image_thumbnail               0.025672\n",
       "dtype: float64"
      ]
     },
     "execution_count": 146,
     "metadata": {},
     "output_type": "execute_result"
    }
   ],
   "source": [
    "data_orig.isnull().sum()/data_orig.shape[0]"
   ]
  },
  {
   "cell_type": "code",
   "execution_count": 147,
   "metadata": {},
   "outputs": [
    {
     "name": "stdout",
     "output_type": "stream",
     "text": [
      "(114665, 26)\n"
     ]
    },
    {
     "data": {
      "text/html": [
       "<div>\n",
       "<style scoped>\n",
       "    .dataframe tbody tr th:only-of-type {\n",
       "        vertical-align: middle;\n",
       "    }\n",
       "\n",
       "    .dataframe tbody tr th {\n",
       "        vertical-align: top;\n",
       "    }\n",
       "\n",
       "    .dataframe thead th {\n",
       "        text-align: right;\n",
       "    }\n",
       "</style>\n",
       "<table border=\"1\" class=\"dataframe\">\n",
       "  <thead>\n",
       "    <tr style=\"text-align: right;\">\n",
       "      <th></th>\n",
       "      <th>Unnamed: 0</th>\n",
       "      <th>operation</th>\n",
       "      <th>property_type</th>\n",
       "      <th>place_name</th>\n",
       "      <th>place_with_parent_names</th>\n",
       "      <th>country_name</th>\n",
       "      <th>state_name</th>\n",
       "      <th>geonames_id</th>\n",
       "      <th>lat-lon</th>\n",
       "      <th>lat</th>\n",
       "      <th>...</th>\n",
       "      <th>surface_covered_in_m2</th>\n",
       "      <th>price_usd_per_m2</th>\n",
       "      <th>price_per_m2</th>\n",
       "      <th>floor</th>\n",
       "      <th>rooms</th>\n",
       "      <th>expenses</th>\n",
       "      <th>properati_url</th>\n",
       "      <th>description</th>\n",
       "      <th>title</th>\n",
       "      <th>image_thumbnail</th>\n",
       "    </tr>\n",
       "  </thead>\n",
       "  <tbody>\n",
       "    <tr>\n",
       "      <th>0</th>\n",
       "      <td>0</td>\n",
       "      <td>sell</td>\n",
       "      <td>PH</td>\n",
       "      <td>Mataderos</td>\n",
       "      <td>|Argentina|Capital Federal|Mataderos|</td>\n",
       "      <td>Argentina</td>\n",
       "      <td>Capital Federal</td>\n",
       "      <td>3430787.0</td>\n",
       "      <td>-34.6618237,-58.5088387</td>\n",
       "      <td>-34.661824</td>\n",
       "      <td>...</td>\n",
       "      <td>40.0</td>\n",
       "      <td>1127.272727</td>\n",
       "      <td>1550.000000</td>\n",
       "      <td>NaN</td>\n",
       "      <td>NaN</td>\n",
       "      <td>NaN</td>\n",
       "      <td>http://www.properati.com.ar/15bo8_ve...</td>\n",
       "      <td>2 AMBIENTES TIPO CASA PLANTA BAJA PO...</td>\n",
       "      <td>2 AMB TIPO CASA SIN EXPENSAS EN PB</td>\n",
       "      <td>https://thumbs4.properati.com/8/BluU...</td>\n",
       "    </tr>\n",
       "    <tr>\n",
       "      <th>1</th>\n",
       "      <td>1</td>\n",
       "      <td>sell</td>\n",
       "      <td>apartment</td>\n",
       "      <td>La Plata</td>\n",
       "      <td>|Argentina|Bs.As. G.B.A. Zona Sur|La...</td>\n",
       "      <td>Argentina</td>\n",
       "      <td>Bs.As. G.B.A. Zona Sur</td>\n",
       "      <td>3432039.0</td>\n",
       "      <td>-34.9038831,-57.9643295</td>\n",
       "      <td>-34.903883</td>\n",
       "      <td>...</td>\n",
       "      <td>NaN</td>\n",
       "      <td>NaN</td>\n",
       "      <td>NaN</td>\n",
       "      <td>NaN</td>\n",
       "      <td>NaN</td>\n",
       "      <td>NaN</td>\n",
       "      <td>http://www.properati.com.ar/15bob_ve...</td>\n",
       "      <td>Venta de departamento en décimo piso...</td>\n",
       "      <td>VENTA Depto 2 dorm. a estrenar 7 e/ ...</td>\n",
       "      <td>https://thumbs4.properati.com/7/ikpV...</td>\n",
       "    </tr>\n",
       "    <tr>\n",
       "      <th>2</th>\n",
       "      <td>2</td>\n",
       "      <td>sell</td>\n",
       "      <td>apartment</td>\n",
       "      <td>Mataderos</td>\n",
       "      <td>|Argentina|Capital Federal|Mataderos|</td>\n",
       "      <td>Argentina</td>\n",
       "      <td>Capital Federal</td>\n",
       "      <td>3430787.0</td>\n",
       "      <td>-34.6522615,-58.5229825</td>\n",
       "      <td>-34.652262</td>\n",
       "      <td>...</td>\n",
       "      <td>55.0</td>\n",
       "      <td>1309.090909</td>\n",
       "      <td>1309.090909</td>\n",
       "      <td>NaN</td>\n",
       "      <td>NaN</td>\n",
       "      <td>NaN</td>\n",
       "      <td>http://www.properati.com.ar/15bod_ve...</td>\n",
       "      <td>2 AMBIENTES 3ER PISO LATERAL LIVING ...</td>\n",
       "      <td>2 AMB 3ER PISO CON ASCENSOR APTO CRE...</td>\n",
       "      <td>https://thumbs4.properati.com/5/SXKr...</td>\n",
       "    </tr>\n",
       "  </tbody>\n",
       "</table>\n",
       "<p>3 rows × 26 columns</p>\n",
       "</div>"
      ],
      "text/plain": [
       "   Unnamed: 0 operation property_type place_name  \\\n",
       "0           0      sell            PH  Mataderos   \n",
       "1           1      sell     apartment   La Plata   \n",
       "2           2      sell     apartment  Mataderos   \n",
       "\n",
       "                   place_with_parent_names country_name  \\\n",
       "0    |Argentina|Capital Federal|Mataderos|    Argentina   \n",
       "1  |Argentina|Bs.As. G.B.A. Zona Sur|La...    Argentina   \n",
       "2    |Argentina|Capital Federal|Mataderos|    Argentina   \n",
       "\n",
       "               state_name  geonames_id                  lat-lon        lat  \\\n",
       "0         Capital Federal    3430787.0  -34.6618237,-58.5088387 -34.661824   \n",
       "1  Bs.As. G.B.A. Zona Sur    3432039.0  -34.9038831,-57.9643295 -34.903883   \n",
       "2         Capital Federal    3430787.0  -34.6522615,-58.5229825 -34.652262   \n",
       "\n",
       "   ...  surface_covered_in_m2  price_usd_per_m2 price_per_m2  floor  rooms  \\\n",
       "0  ...                   40.0       1127.272727  1550.000000    NaN    NaN   \n",
       "1  ...                    NaN               NaN          NaN    NaN    NaN   \n",
       "2  ...                   55.0       1309.090909  1309.090909    NaN    NaN   \n",
       "\n",
       "   expenses                            properati_url  \\\n",
       "0       NaN  http://www.properati.com.ar/15bo8_ve...   \n",
       "1       NaN  http://www.properati.com.ar/15bob_ve...   \n",
       "2       NaN  http://www.properati.com.ar/15bod_ve...   \n",
       "\n",
       "                               description  \\\n",
       "0  2 AMBIENTES TIPO CASA PLANTA BAJA PO...   \n",
       "1  Venta de departamento en décimo piso...   \n",
       "2  2 AMBIENTES 3ER PISO LATERAL LIVING ...   \n",
       "\n",
       "                                     title  \\\n",
       "0       2 AMB TIPO CASA SIN EXPENSAS EN PB   \n",
       "1  VENTA Depto 2 dorm. a estrenar 7 e/ ...   \n",
       "2  2 AMB 3ER PISO CON ASCENSOR APTO CRE...   \n",
       "\n",
       "                           image_thumbnail  \n",
       "0  https://thumbs4.properati.com/8/BluU...  \n",
       "1  https://thumbs4.properati.com/7/ikpV...  \n",
       "2  https://thumbs4.properati.com/5/SXKr...  \n",
       "\n",
       "[3 rows x 26 columns]"
      ]
     },
     "execution_count": 147,
     "metadata": {},
     "output_type": "execute_result"
    }
   ],
   "source": [
    "print(data_nodup.shape)\n",
    "data_nodup.head(3)"
   ]
  },
  {
   "cell_type": "markdown",
   "metadata": {},
   "source": [
    "## Análisis para eliminar registros \n",
    "\n",
    "Veamos los registros que no que no tienen moneda en AR o US$"
   ]
  },
  {
   "cell_type": "code",
   "execution_count": 148,
   "metadata": {},
   "outputs": [
    {
     "data": {
      "text/plain": [
       "USD    85035\n",
       "ARS    12541\n",
       "PEN        2\n",
       "UYU        1\n",
       "Name: currency, dtype: int64"
      ]
     },
     "execution_count": 148,
     "metadata": {},
     "output_type": "execute_result"
    }
   ],
   "source": [
    "data_nodup.currency.value_counts()"
   ]
  },
  {
   "cell_type": "markdown",
   "metadata": {},
   "source": [
    "Veo qué pasa con **PEN**.\n",
    "Se dropea?"
   ]
  },
  {
   "cell_type": "code",
   "execution_count": 149,
   "metadata": {},
   "outputs": [
    {
     "name": "stdout",
     "output_type": "stream",
     "text": [
      "Precios de PEN:\n",
      "50387    380000.0\n",
      "50388    950000.0\n",
      "Name: price, dtype: float64\n"
     ]
    },
    {
     "data": {
      "text/html": [
       "<div>\n",
       "<style scoped>\n",
       "    .dataframe tbody tr th:only-of-type {\n",
       "        vertical-align: middle;\n",
       "    }\n",
       "\n",
       "    .dataframe tbody tr th {\n",
       "        vertical-align: top;\n",
       "    }\n",
       "\n",
       "    .dataframe thead th {\n",
       "        text-align: right;\n",
       "    }\n",
       "</style>\n",
       "<table border=\"1\" class=\"dataframe\">\n",
       "  <thead>\n",
       "    <tr style=\"text-align: right;\">\n",
       "      <th></th>\n",
       "      <th>Unnamed: 0</th>\n",
       "      <th>operation</th>\n",
       "      <th>property_type</th>\n",
       "      <th>place_name</th>\n",
       "      <th>place_with_parent_names</th>\n",
       "      <th>country_name</th>\n",
       "      <th>state_name</th>\n",
       "      <th>geonames_id</th>\n",
       "      <th>lat-lon</th>\n",
       "      <th>lat</th>\n",
       "      <th>...</th>\n",
       "      <th>surface_covered_in_m2</th>\n",
       "      <th>price_usd_per_m2</th>\n",
       "      <th>price_per_m2</th>\n",
       "      <th>floor</th>\n",
       "      <th>rooms</th>\n",
       "      <th>expenses</th>\n",
       "      <th>properati_url</th>\n",
       "      <th>description</th>\n",
       "      <th>title</th>\n",
       "      <th>image_thumbnail</th>\n",
       "    </tr>\n",
       "  </thead>\n",
       "  <tbody>\n",
       "    <tr>\n",
       "      <th>50387</th>\n",
       "      <td>50387</td>\n",
       "      <td>sell</td>\n",
       "      <td>apartment</td>\n",
       "      <td>Capital Federal</td>\n",
       "      <td>|Argentina|Capital Federal|</td>\n",
       "      <td>Argentina</td>\n",
       "      <td>Capital Federal</td>\n",
       "      <td>3433955.0</td>\n",
       "      <td>NaN</td>\n",
       "      <td>NaN</td>\n",
       "      <td>...</td>\n",
       "      <td>NaN</td>\n",
       "      <td>NaN</td>\n",
       "      <td>NaN</td>\n",
       "      <td>NaN</td>\n",
       "      <td>NaN</td>\n",
       "      <td>NaN</td>\n",
       "      <td>http://www.properati.com.ar/19e8z_ve...</td>\n",
       "      <td>Ref.: 55:PREVENTA ::: OPORTUNIDAD ::...</td>\n",
       "      <td>DUPLEX A LA VENTA | Liniers 1200 | T...</td>\n",
       "      <td>https://thumbs4.properati.com/9/N_Qr...</td>\n",
       "    </tr>\n",
       "    <tr>\n",
       "      <th>50388</th>\n",
       "      <td>50388</td>\n",
       "      <td>sell</td>\n",
       "      <td>apartment</td>\n",
       "      <td>Capital Federal</td>\n",
       "      <td>|Argentina|Capital Federal|</td>\n",
       "      <td>Argentina</td>\n",
       "      <td>Capital Federal</td>\n",
       "      <td>3433955.0</td>\n",
       "      <td>NaN</td>\n",
       "      <td>NaN</td>\n",
       "      <td>...</td>\n",
       "      <td>NaN</td>\n",
       "      <td>NaN</td>\n",
       "      <td>NaN</td>\n",
       "      <td>NaN</td>\n",
       "      <td>NaN</td>\n",
       "      <td>NaN</td>\n",
       "      <td>http://www.properati.com.ar/19e90_ve...</td>\n",
       "      <td>Ref.: 56Duplex en venta de 1 dormito...</td>\n",
       "      <td>DUPLEX A LA VENTA | Liniers 1200 | T...</td>\n",
       "      <td>https://thumbs4.properati.com/8/_cBX...</td>\n",
       "    </tr>\n",
       "  </tbody>\n",
       "</table>\n",
       "<p>2 rows × 26 columns</p>\n",
       "</div>"
      ],
      "text/plain": [
       "       Unnamed: 0 operation property_type       place_name  \\\n",
       "50387       50387      sell     apartment  Capital Federal   \n",
       "50388       50388      sell     apartment  Capital Federal   \n",
       "\n",
       "           place_with_parent_names country_name       state_name  geonames_id  \\\n",
       "50387  |Argentina|Capital Federal|    Argentina  Capital Federal    3433955.0   \n",
       "50388  |Argentina|Capital Federal|    Argentina  Capital Federal    3433955.0   \n",
       "\n",
       "      lat-lon  lat  ...  surface_covered_in_m2  price_usd_per_m2 price_per_m2  \\\n",
       "50387     NaN  NaN  ...                    NaN               NaN          NaN   \n",
       "50388     NaN  NaN  ...                    NaN               NaN          NaN   \n",
       "\n",
       "       floor  rooms  expenses                            properati_url  \\\n",
       "50387    NaN    NaN       NaN  http://www.properati.com.ar/19e8z_ve...   \n",
       "50388    NaN    NaN       NaN  http://www.properati.com.ar/19e90_ve...   \n",
       "\n",
       "                                   description  \\\n",
       "50387  Ref.: 55:PREVENTA ::: OPORTUNIDAD ::...   \n",
       "50388  Ref.: 56Duplex en venta de 1 dormito...   \n",
       "\n",
       "                                         title  \\\n",
       "50387  DUPLEX A LA VENTA | Liniers 1200 | T...   \n",
       "50388  DUPLEX A LA VENTA | Liniers 1200 | T...   \n",
       "\n",
       "                               image_thumbnail  \n",
       "50387  https://thumbs4.properati.com/9/N_Qr...  \n",
       "50388  https://thumbs4.properati.com/8/_cBX...  \n",
       "\n",
       "[2 rows x 26 columns]"
      ]
     },
     "execution_count": 149,
     "metadata": {},
     "output_type": "execute_result"
    }
   ],
   "source": [
    "mask_PEN = data_nodup.currency == 'PEN'\n",
    "print('Precios de PEN:\\n'+str(data_nodup.loc[mask_PEN].price))\n",
    "data_nodup.loc[mask_PEN]"
   ]
  },
  {
   "cell_type": "markdown",
   "metadata": {},
   "source": [
    "Veo qué pasa con **UYU**.\n",
    "Se dropea?"
   ]
  },
  {
   "cell_type": "code",
   "execution_count": 150,
   "metadata": {},
   "outputs": [
    {
     "name": "stdout",
     "output_type": "stream",
     "text": [
      "Precios de UYU:\n",
      "107390    650000000.0\n",
      "Name: price, dtype: float64\n"
     ]
    },
    {
     "data": {
      "text/html": [
       "<div>\n",
       "<style scoped>\n",
       "    .dataframe tbody tr th:only-of-type {\n",
       "        vertical-align: middle;\n",
       "    }\n",
       "\n",
       "    .dataframe tbody tr th {\n",
       "        vertical-align: top;\n",
       "    }\n",
       "\n",
       "    .dataframe thead th {\n",
       "        text-align: right;\n",
       "    }\n",
       "</style>\n",
       "<table border=\"1\" class=\"dataframe\">\n",
       "  <thead>\n",
       "    <tr style=\"text-align: right;\">\n",
       "      <th></th>\n",
       "      <th>Unnamed: 0</th>\n",
       "      <th>operation</th>\n",
       "      <th>property_type</th>\n",
       "      <th>place_name</th>\n",
       "      <th>place_with_parent_names</th>\n",
       "      <th>country_name</th>\n",
       "      <th>state_name</th>\n",
       "      <th>geonames_id</th>\n",
       "      <th>lat-lon</th>\n",
       "      <th>lat</th>\n",
       "      <th>...</th>\n",
       "      <th>surface_covered_in_m2</th>\n",
       "      <th>price_usd_per_m2</th>\n",
       "      <th>price_per_m2</th>\n",
       "      <th>floor</th>\n",
       "      <th>rooms</th>\n",
       "      <th>expenses</th>\n",
       "      <th>properati_url</th>\n",
       "      <th>description</th>\n",
       "      <th>title</th>\n",
       "      <th>image_thumbnail</th>\n",
       "    </tr>\n",
       "  </thead>\n",
       "  <tbody>\n",
       "    <tr>\n",
       "      <th>107390</th>\n",
       "      <td>107390</td>\n",
       "      <td>sell</td>\n",
       "      <td>house</td>\n",
       "      <td>San Roque</td>\n",
       "      <td>|Argentina|Mendoza|San Roque|</td>\n",
       "      <td>Argentina</td>\n",
       "      <td>Mendoza</td>\n",
       "      <td>3836586.0</td>\n",
       "      <td>NaN</td>\n",
       "      <td>NaN</td>\n",
       "      <td>...</td>\n",
       "      <td>NaN</td>\n",
       "      <td>NaN</td>\n",
       "      <td>NaN</td>\n",
       "      <td>NaN</td>\n",
       "      <td>NaN</td>\n",
       "      <td>NaN</td>\n",
       "      <td>http://www.properati.com.ar/1by0s_ve...</td>\n",
       "      <td>Casa con Calefacción central, Mendoz...</td>\n",
       "      <td>Casa - San Vicente</td>\n",
       "      <td>https://thumbs4.properati.com/2/pA0R...</td>\n",
       "    </tr>\n",
       "  </tbody>\n",
       "</table>\n",
       "<p>1 rows × 26 columns</p>\n",
       "</div>"
      ],
      "text/plain": [
       "        Unnamed: 0 operation property_type place_name  \\\n",
       "107390      107390      sell         house  San Roque   \n",
       "\n",
       "              place_with_parent_names country_name state_name  geonames_id  \\\n",
       "107390  |Argentina|Mendoza|San Roque|    Argentina    Mendoza    3836586.0   \n",
       "\n",
       "       lat-lon  lat  ...  surface_covered_in_m2  price_usd_per_m2  \\\n",
       "107390     NaN  NaN  ...                    NaN               NaN   \n",
       "\n",
       "       price_per_m2  floor  rooms  expenses  \\\n",
       "107390          NaN    NaN    NaN       NaN   \n",
       "\n",
       "                                  properati_url  \\\n",
       "107390  http://www.properati.com.ar/1by0s_ve...   \n",
       "\n",
       "                                    description               title  \\\n",
       "107390  Casa con Calefacción central, Mendoz...  Casa - San Vicente   \n",
       "\n",
       "                                image_thumbnail  \n",
       "107390  https://thumbs4.properati.com/2/pA0R...  \n",
       "\n",
       "[1 rows x 26 columns]"
      ]
     },
     "execution_count": 150,
     "metadata": {},
     "output_type": "execute_result"
    }
   ],
   "source": [
    "mask_UYU = data_nodup.currency == 'UYU'\n",
    "print('Precios de UYU:\\n'+str(data_nodup.loc[mask_UYU].price))\n",
    "data_nodup.loc[mask_UYU]"
   ]
  },
  {
   "cell_type": "markdown",
   "metadata": {},
   "source": [
    "Elimino los registros que no tienen moneda en AR o US$"
   ]
  },
  {
   "cell_type": "code",
   "execution_count": 151,
   "metadata": {},
   "outputs": [
    {
     "name": "stdout",
     "output_type": "stream",
     "text": [
      "Cantidad de elementos a eliminar:  3\n"
     ]
    },
    {
     "data": {
      "text/plain": [
       "Int64Index([50387, 50388, 107390], dtype='int64')"
      ]
     },
     "execution_count": 151,
     "metadata": {},
     "output_type": "execute_result"
    }
   ],
   "source": [
    "mask_AR_US = np.logical_or(data_nodup.currency == 'UYU', data_nodup.currency == 'PEN') \n",
    "print('Cantidad de elementos a eliminar: ', str(mask_AR_US.sum()))\n",
    "\n",
    "# Identifico los índices que voy a eliminar\n",
    "inds = data_nodup.loc[mask_AR_US].index\n",
    "inds"
   ]
  },
  {
   "cell_type": "code",
   "execution_count": 152,
   "metadata": {},
   "outputs": [
    {
     "name": "stdout",
     "output_type": "stream",
     "text": [
      "Filas en Registros limpios: 114662\n",
      "Filas en Registros anterior: 114665\n"
     ]
    },
    {
     "data": {
      "text/html": [
       "<div>\n",
       "<style scoped>\n",
       "    .dataframe tbody tr th:only-of-type {\n",
       "        vertical-align: middle;\n",
       "    }\n",
       "\n",
       "    .dataframe tbody tr th {\n",
       "        vertical-align: top;\n",
       "    }\n",
       "\n",
       "    .dataframe thead th {\n",
       "        text-align: right;\n",
       "    }\n",
       "</style>\n",
       "<table border=\"1\" class=\"dataframe\">\n",
       "  <thead>\n",
       "    <tr style=\"text-align: right;\">\n",
       "      <th></th>\n",
       "      <th>Unnamed: 0</th>\n",
       "      <th>operation</th>\n",
       "      <th>property_type</th>\n",
       "      <th>place_name</th>\n",
       "      <th>place_with_parent_names</th>\n",
       "      <th>country_name</th>\n",
       "      <th>state_name</th>\n",
       "      <th>geonames_id</th>\n",
       "      <th>lat-lon</th>\n",
       "      <th>lat</th>\n",
       "      <th>...</th>\n",
       "      <th>surface_covered_in_m2</th>\n",
       "      <th>price_usd_per_m2</th>\n",
       "      <th>price_per_m2</th>\n",
       "      <th>floor</th>\n",
       "      <th>rooms</th>\n",
       "      <th>expenses</th>\n",
       "      <th>properati_url</th>\n",
       "      <th>description</th>\n",
       "      <th>title</th>\n",
       "      <th>image_thumbnail</th>\n",
       "    </tr>\n",
       "  </thead>\n",
       "  <tbody>\n",
       "    <tr>\n",
       "      <th>0</th>\n",
       "      <td>0</td>\n",
       "      <td>sell</td>\n",
       "      <td>PH</td>\n",
       "      <td>Mataderos</td>\n",
       "      <td>|Argentina|Capital Federal|Mataderos|</td>\n",
       "      <td>Argentina</td>\n",
       "      <td>Capital Federal</td>\n",
       "      <td>3430787.0</td>\n",
       "      <td>-34.6618237,-58.5088387</td>\n",
       "      <td>-34.661824</td>\n",
       "      <td>...</td>\n",
       "      <td>40.0</td>\n",
       "      <td>1127.272727</td>\n",
       "      <td>1550.000000</td>\n",
       "      <td>NaN</td>\n",
       "      <td>NaN</td>\n",
       "      <td>NaN</td>\n",
       "      <td>http://www.properati.com.ar/15bo8_ve...</td>\n",
       "      <td>2 AMBIENTES TIPO CASA PLANTA BAJA PO...</td>\n",
       "      <td>2 AMB TIPO CASA SIN EXPENSAS EN PB</td>\n",
       "      <td>https://thumbs4.properati.com/8/BluU...</td>\n",
       "    </tr>\n",
       "    <tr>\n",
       "      <th>1</th>\n",
       "      <td>1</td>\n",
       "      <td>sell</td>\n",
       "      <td>apartment</td>\n",
       "      <td>La Plata</td>\n",
       "      <td>|Argentina|Bs.As. G.B.A. Zona Sur|La...</td>\n",
       "      <td>Argentina</td>\n",
       "      <td>Bs.As. G.B.A. Zona Sur</td>\n",
       "      <td>3432039.0</td>\n",
       "      <td>-34.9038831,-57.9643295</td>\n",
       "      <td>-34.903883</td>\n",
       "      <td>...</td>\n",
       "      <td>NaN</td>\n",
       "      <td>NaN</td>\n",
       "      <td>NaN</td>\n",
       "      <td>NaN</td>\n",
       "      <td>NaN</td>\n",
       "      <td>NaN</td>\n",
       "      <td>http://www.properati.com.ar/15bob_ve...</td>\n",
       "      <td>Venta de departamento en décimo piso...</td>\n",
       "      <td>VENTA Depto 2 dorm. a estrenar 7 e/ ...</td>\n",
       "      <td>https://thumbs4.properati.com/7/ikpV...</td>\n",
       "    </tr>\n",
       "    <tr>\n",
       "      <th>2</th>\n",
       "      <td>2</td>\n",
       "      <td>sell</td>\n",
       "      <td>apartment</td>\n",
       "      <td>Mataderos</td>\n",
       "      <td>|Argentina|Capital Federal|Mataderos|</td>\n",
       "      <td>Argentina</td>\n",
       "      <td>Capital Federal</td>\n",
       "      <td>3430787.0</td>\n",
       "      <td>-34.6522615,-58.5229825</td>\n",
       "      <td>-34.652262</td>\n",
       "      <td>...</td>\n",
       "      <td>55.0</td>\n",
       "      <td>1309.090909</td>\n",
       "      <td>1309.090909</td>\n",
       "      <td>NaN</td>\n",
       "      <td>NaN</td>\n",
       "      <td>NaN</td>\n",
       "      <td>http://www.properati.com.ar/15bod_ve...</td>\n",
       "      <td>2 AMBIENTES 3ER PISO LATERAL LIVING ...</td>\n",
       "      <td>2 AMB 3ER PISO CON ASCENSOR APTO CRE...</td>\n",
       "      <td>https://thumbs4.properati.com/5/SXKr...</td>\n",
       "    </tr>\n",
       "    <tr>\n",
       "      <th>3</th>\n",
       "      <td>3</td>\n",
       "      <td>sell</td>\n",
       "      <td>PH</td>\n",
       "      <td>Liniers</td>\n",
       "      <td>|Argentina|Capital Federal|Liniers|</td>\n",
       "      <td>Argentina</td>\n",
       "      <td>Capital Federal</td>\n",
       "      <td>3431333.0</td>\n",
       "      <td>-34.6477969,-58.5164244</td>\n",
       "      <td>-34.647797</td>\n",
       "      <td>...</td>\n",
       "      <td>NaN</td>\n",
       "      <td>NaN</td>\n",
       "      <td>NaN</td>\n",
       "      <td>NaN</td>\n",
       "      <td>NaN</td>\n",
       "      <td>NaN</td>\n",
       "      <td>http://www.properati.com.ar/15boh_ve...</td>\n",
       "      <td>PH 3 ambientes con patio. Hay 3 dept...</td>\n",
       "      <td>PH 3 amb. cfte. reciclado</td>\n",
       "      <td>https://thumbs4.properati.com/3/DgIf...</td>\n",
       "    </tr>\n",
       "    <tr>\n",
       "      <th>4</th>\n",
       "      <td>4</td>\n",
       "      <td>sell</td>\n",
       "      <td>apartment</td>\n",
       "      <td>Centro</td>\n",
       "      <td>|Argentina|Buenos Aires Costa Atlánt...</td>\n",
       "      <td>Argentina</td>\n",
       "      <td>Buenos Aires Costa Atlántica</td>\n",
       "      <td>3435548.0</td>\n",
       "      <td>-38.0026256,-57.5494468</td>\n",
       "      <td>-38.002626</td>\n",
       "      <td>...</td>\n",
       "      <td>35.0</td>\n",
       "      <td>1828.571429</td>\n",
       "      <td>1828.571429</td>\n",
       "      <td>NaN</td>\n",
       "      <td>NaN</td>\n",
       "      <td>NaN</td>\n",
       "      <td>http://www.properati.com.ar/15bok_ve...</td>\n",
       "      <td>DEPARTAMENTO CON FANTÁSTICA ILUMINAC...</td>\n",
       "      <td>DEPTO 2 AMB AL CONTRAFRENTE ZONA CEN...</td>\n",
       "      <td>https://thumbs4.properati.com/5/xrRq...</td>\n",
       "    </tr>\n",
       "  </tbody>\n",
       "</table>\n",
       "<p>5 rows × 26 columns</p>\n",
       "</div>"
      ],
      "text/plain": [
       "   Unnamed: 0 operation property_type place_name  \\\n",
       "0           0      sell            PH  Mataderos   \n",
       "1           1      sell     apartment   La Plata   \n",
       "2           2      sell     apartment  Mataderos   \n",
       "3           3      sell            PH    Liniers   \n",
       "4           4      sell     apartment     Centro   \n",
       "\n",
       "                   place_with_parent_names country_name  \\\n",
       "0    |Argentina|Capital Federal|Mataderos|    Argentina   \n",
       "1  |Argentina|Bs.As. G.B.A. Zona Sur|La...    Argentina   \n",
       "2    |Argentina|Capital Federal|Mataderos|    Argentina   \n",
       "3      |Argentina|Capital Federal|Liniers|    Argentina   \n",
       "4  |Argentina|Buenos Aires Costa Atlánt...    Argentina   \n",
       "\n",
       "                     state_name  geonames_id                  lat-lon  \\\n",
       "0               Capital Federal    3430787.0  -34.6618237,-58.5088387   \n",
       "1        Bs.As. G.B.A. Zona Sur    3432039.0  -34.9038831,-57.9643295   \n",
       "2               Capital Federal    3430787.0  -34.6522615,-58.5229825   \n",
       "3               Capital Federal    3431333.0  -34.6477969,-58.5164244   \n",
       "4  Buenos Aires Costa Atlántica    3435548.0  -38.0026256,-57.5494468   \n",
       "\n",
       "         lat  ...  surface_covered_in_m2  price_usd_per_m2 price_per_m2  \\\n",
       "0 -34.661824  ...                   40.0       1127.272727  1550.000000   \n",
       "1 -34.903883  ...                    NaN               NaN          NaN   \n",
       "2 -34.652262  ...                   55.0       1309.090909  1309.090909   \n",
       "3 -34.647797  ...                    NaN               NaN          NaN   \n",
       "4 -38.002626  ...                   35.0       1828.571429  1828.571429   \n",
       "\n",
       "   floor  rooms  expenses                            properati_url  \\\n",
       "0    NaN    NaN       NaN  http://www.properati.com.ar/15bo8_ve...   \n",
       "1    NaN    NaN       NaN  http://www.properati.com.ar/15bob_ve...   \n",
       "2    NaN    NaN       NaN  http://www.properati.com.ar/15bod_ve...   \n",
       "3    NaN    NaN       NaN  http://www.properati.com.ar/15boh_ve...   \n",
       "4    NaN    NaN       NaN  http://www.properati.com.ar/15bok_ve...   \n",
       "\n",
       "                               description  \\\n",
       "0  2 AMBIENTES TIPO CASA PLANTA BAJA PO...   \n",
       "1  Venta de departamento en décimo piso...   \n",
       "2  2 AMBIENTES 3ER PISO LATERAL LIVING ...   \n",
       "3  PH 3 ambientes con patio. Hay 3 dept...   \n",
       "4  DEPARTAMENTO CON FANTÁSTICA ILUMINAC...   \n",
       "\n",
       "                                     title  \\\n",
       "0       2 AMB TIPO CASA SIN EXPENSAS EN PB   \n",
       "1  VENTA Depto 2 dorm. a estrenar 7 e/ ...   \n",
       "2  2 AMB 3ER PISO CON ASCENSOR APTO CRE...   \n",
       "3             PH 3 amb. cfte. reciclado      \n",
       "4  DEPTO 2 AMB AL CONTRAFRENTE ZONA CEN...   \n",
       "\n",
       "                           image_thumbnail  \n",
       "0  https://thumbs4.properati.com/8/BluU...  \n",
       "1  https://thumbs4.properati.com/7/ikpV...  \n",
       "2  https://thumbs4.properati.com/5/SXKr...  \n",
       "3  https://thumbs4.properati.com/3/DgIf...  \n",
       "4  https://thumbs4.properati.com/5/xrRq...  \n",
       "\n",
       "[5 rows x 26 columns]"
      ]
     },
     "execution_count": 152,
     "metadata": {},
     "output_type": "execute_result"
    }
   ],
   "source": [
    "data_nodup_dropped = data_nodup.drop(index = inds)\n",
    "print(\"Filas en Registros limpios: \"+str(data_nodup_dropped.shape[0]))\n",
    "print(\"Filas en Registros anterior: \"+str(data_nodup.shape[0]))\n",
    "data_nodup_dropped.head()"
   ]
  },
  {
   "cell_type": "markdown",
   "metadata": {},
   "source": [
    "Armo un `DataFrama` **data** quedándome con las columnas de interés."
   ]
  },
  {
   "cell_type": "code",
   "execution_count": 153,
   "metadata": {},
   "outputs": [
    {
     "name": "stdout",
     "output_type": "stream",
     "text": [
      "(114662, 15)\n"
     ]
    },
    {
     "data": {
      "text/html": [
       "<div>\n",
       "<style scoped>\n",
       "    .dataframe tbody tr th:only-of-type {\n",
       "        vertical-align: middle;\n",
       "    }\n",
       "\n",
       "    .dataframe tbody tr th {\n",
       "        vertical-align: top;\n",
       "    }\n",
       "\n",
       "    .dataframe thead th {\n",
       "        text-align: right;\n",
       "    }\n",
       "</style>\n",
       "<table border=\"1\" class=\"dataframe\">\n",
       "  <thead>\n",
       "    <tr style=\"text-align: right;\">\n",
       "      <th></th>\n",
       "      <th>property_type</th>\n",
       "      <th>place_name</th>\n",
       "      <th>place_with_parent_names</th>\n",
       "      <th>state_name</th>\n",
       "      <th>price</th>\n",
       "      <th>currency</th>\n",
       "      <th>price_aprox_local_currency</th>\n",
       "      <th>price_aprox_usd</th>\n",
       "      <th>surface_total_in_m2</th>\n",
       "      <th>surface_covered_in_m2</th>\n",
       "      <th>price_usd_per_m2</th>\n",
       "      <th>price_per_m2</th>\n",
       "      <th>rooms</th>\n",
       "      <th>description</th>\n",
       "      <th>title</th>\n",
       "    </tr>\n",
       "  </thead>\n",
       "  <tbody>\n",
       "    <tr>\n",
       "      <th>28089</th>\n",
       "      <td>apartment</td>\n",
       "      <td>Balvanera</td>\n",
       "      <td>|Argentina|Capital Federal|Balvanera|</td>\n",
       "      <td>Capital Federal</td>\n",
       "      <td>120000.0</td>\n",
       "      <td>USD</td>\n",
       "      <td>2117340.0</td>\n",
       "      <td>120000.0</td>\n",
       "      <td>NaN</td>\n",
       "      <td>47.0</td>\n",
       "      <td>NaN</td>\n",
       "      <td>2553.191489</td>\n",
       "      <td>3.0</td>\n",
       "      <td>Corredor Responsable: Hernan Perrone...</td>\n",
       "      <td>DEPTO DE CATEGORIA 3 AMBIENTES</td>\n",
       "    </tr>\n",
       "    <tr>\n",
       "      <th>98848</th>\n",
       "      <td>house</td>\n",
       "      <td>Lanús</td>\n",
       "      <td>|Argentina|Bs.As. G.B.A. Zona Sur|La...</td>\n",
       "      <td>Bs.As. G.B.A. Zona Sur</td>\n",
       "      <td>320000.0</td>\n",
       "      <td>USD</td>\n",
       "      <td>5646240.0</td>\n",
       "      <td>320000.0</td>\n",
       "      <td>680.0</td>\n",
       "      <td>525.0</td>\n",
       "      <td>470.588235</td>\n",
       "      <td>609.523810</td>\n",
       "      <td>NaN</td>\n",
       "      <td>Casa para dos familias sobre doble l...</td>\n",
       "      <td>Casa - Lanús Oeste</td>\n",
       "    </tr>\n",
       "    <tr>\n",
       "      <th>28122</th>\n",
       "      <td>apartment</td>\n",
       "      <td>Rosario</td>\n",
       "      <td>|Argentina|Santa Fe|Rosario|</td>\n",
       "      <td>Santa Fe</td>\n",
       "      <td>NaN</td>\n",
       "      <td>NaN</td>\n",
       "      <td>NaN</td>\n",
       "      <td>NaN</td>\n",
       "      <td>NaN</td>\n",
       "      <td>NaN</td>\n",
       "      <td>NaN</td>\n",
       "      <td>NaN</td>\n",
       "      <td>5.0</td>\n",
       "      <td>Corredor Responsable: CRISTIAN ASTOL...</td>\n",
       "      <td>DEPTO 3 DORMITORIOS CON COCHERA PISO...</td>\n",
       "    </tr>\n",
       "  </tbody>\n",
       "</table>\n",
       "</div>"
      ],
      "text/plain": [
       "      property_type place_name                  place_with_parent_names  \\\n",
       "28089     apartment  Balvanera    |Argentina|Capital Federal|Balvanera|   \n",
       "98848         house      Lanús  |Argentina|Bs.As. G.B.A. Zona Sur|La...   \n",
       "28122     apartment    Rosario             |Argentina|Santa Fe|Rosario|   \n",
       "\n",
       "                   state_name     price currency  price_aprox_local_currency  \\\n",
       "28089         Capital Federal  120000.0      USD                   2117340.0   \n",
       "98848  Bs.As. G.B.A. Zona Sur  320000.0      USD                   5646240.0   \n",
       "28122                Santa Fe       NaN      NaN                         NaN   \n",
       "\n",
       "       price_aprox_usd  surface_total_in_m2  surface_covered_in_m2  \\\n",
       "28089         120000.0                  NaN                   47.0   \n",
       "98848         320000.0                680.0                  525.0   \n",
       "28122              NaN                  NaN                    NaN   \n",
       "\n",
       "       price_usd_per_m2  price_per_m2  rooms  \\\n",
       "28089               NaN   2553.191489    3.0   \n",
       "98848        470.588235    609.523810    NaN   \n",
       "28122               NaN           NaN    5.0   \n",
       "\n",
       "                                   description  \\\n",
       "28089  Corredor Responsable: Hernan Perrone...   \n",
       "98848  Casa para dos familias sobre doble l...   \n",
       "28122  Corredor Responsable: CRISTIAN ASTOL...   \n",
       "\n",
       "                                         title  \n",
       "28089           DEPTO DE CATEGORIA 3 AMBIENTES  \n",
       "98848                       Casa - Lanús Oeste  \n",
       "28122  DEPTO 3 DORMITORIOS CON COCHERA PISO...  "
      ]
     },
     "execution_count": 153,
     "metadata": {},
     "output_type": "execute_result"
    }
   ],
   "source": [
    "subset = ['Unnamed: 0','operation','country_name','geonames_id','lat-lon','lat','lon','floor','expenses','properati_url','image_thumbnail']\n",
    "\n",
    "data = data_nodup_dropped.drop(subset, axis = 1)\n",
    "print(data.shape)\n",
    "data.sample(3)"
   ]
  },
  {
   "cell_type": "markdown",
   "metadata": {},
   "source": [
    "## Análisis de precios\n",
    "\n",
    "Veamos cuestiones referido a los precios en AR o US$.\n",
    "\n",
    "Lo primero para analizar es la tasa de conversión entre pesos y dólares, la cual viene dada por el factor de conversión 17.6445, no importa si el precio se define en $AR o USD. Con este argumento podrían eliminar algunos datos."
   ]
  },
  {
   "cell_type": "code",
   "execution_count": 154,
   "metadata": {},
   "outputs": [
    {
     "data": {
      "text/plain": [
       "17.6445    97576\n",
       "dtype: int64"
      ]
     },
     "execution_count": 154,
     "metadata": {},
     "output_type": "execute_result"
    }
   ],
   "source": [
    "# tasa de conversión\n",
    "serie_price_aprox_local_currency = data.price_aprox_local_currency\n",
    "serie_price_aprox_usd = data.price_aprox_usd\n",
    "\n",
    "tasa_conversion = (serie_price_aprox_local_currency/serie_price_aprox_usd).round(4)\n",
    "tasa_conversion.value_counts()"
   ]
  },
  {
   "cell_type": "code",
   "execution_count": 155,
   "metadata": {},
   "outputs": [
    {
     "name": "stdout",
     "output_type": "stream",
     "text": [
      "Cantidad de inconsistencias:  1\n"
     ]
    },
    {
     "data": {
      "text/html": [
       "<div>\n",
       "<style scoped>\n",
       "    .dataframe tbody tr th:only-of-type {\n",
       "        vertical-align: middle;\n",
       "    }\n",
       "\n",
       "    .dataframe tbody tr th {\n",
       "        vertical-align: top;\n",
       "    }\n",
       "\n",
       "    .dataframe thead th {\n",
       "        text-align: right;\n",
       "    }\n",
       "</style>\n",
       "<table border=\"1\" class=\"dataframe\">\n",
       "  <thead>\n",
       "    <tr style=\"text-align: right;\">\n",
       "      <th></th>\n",
       "      <th>property_type</th>\n",
       "      <th>place_name</th>\n",
       "      <th>place_with_parent_names</th>\n",
       "      <th>state_name</th>\n",
       "      <th>price</th>\n",
       "      <th>currency</th>\n",
       "      <th>price_aprox_local_currency</th>\n",
       "      <th>price_aprox_usd</th>\n",
       "      <th>surface_total_in_m2</th>\n",
       "      <th>surface_covered_in_m2</th>\n",
       "      <th>price_usd_per_m2</th>\n",
       "      <th>price_per_m2</th>\n",
       "      <th>rooms</th>\n",
       "      <th>description</th>\n",
       "      <th>title</th>\n",
       "    </tr>\n",
       "  </thead>\n",
       "  <tbody>\n",
       "    <tr>\n",
       "      <th>9761</th>\n",
       "      <td>house</td>\n",
       "      <td>Córdoba</td>\n",
       "      <td>|Argentina|Córdoba|</td>\n",
       "      <td>Córdoba</td>\n",
       "      <td>0.0</td>\n",
       "      <td>NaN</td>\n",
       "      <td>0.0</td>\n",
       "      <td>0.0</td>\n",
       "      <td>NaN</td>\n",
       "      <td>NaN</td>\n",
       "      <td>NaN</td>\n",
       "      <td>NaN</td>\n",
       "      <td>3.0</td>\n",
       "      <td>Casa en Venta de 2 dorm. en Armenia</td>\n",
       "      <td>SE VENDE CASA EN EL BARRIO EL LIMONAR</td>\n",
       "    </tr>\n",
       "  </tbody>\n",
       "</table>\n",
       "</div>"
      ],
      "text/plain": [
       "     property_type place_name place_with_parent_names state_name  price  \\\n",
       "9761         house    Córdoba     |Argentina|Córdoba|    Córdoba    0.0   \n",
       "\n",
       "     currency  price_aprox_local_currency  price_aprox_usd  \\\n",
       "9761      NaN                         0.0              0.0   \n",
       "\n",
       "      surface_total_in_m2  surface_covered_in_m2  price_usd_per_m2  \\\n",
       "9761                  NaN                    NaN               NaN   \n",
       "\n",
       "      price_per_m2  rooms                          description  \\\n",
       "9761           NaN    3.0  Casa en Venta de 2 dorm. en Armenia   \n",
       "\n",
       "                                      title  \n",
       "9761  SE VENDE CASA EN EL BARRIO EL LIMONAR  "
      ]
     },
     "execution_count": 155,
     "metadata": {},
     "output_type": "execute_result"
    }
   ],
   "source": [
    "# Me fijo inconsistencia en los precios en AR y US$\n",
    "mask_prices = data.price_aprox_usd >= data.price_aprox_local_currency\n",
    "print(\"Cantidad de inconsistencias: \", mask_prices.sum())\n",
    "data.loc[mask_prices]"
   ]
  },
  {
   "cell_type": "code",
   "execution_count": 156,
   "metadata": {},
   "outputs": [
    {
     "name": "stdout",
     "output_type": "stream",
     "text": [
      "9761    SE VENDE CASA EN EL BARRIO EL LIMONAR\n",
      "Name: title, dtype: object\n",
      "9761    Casa en Venta de 2 dorm. en Armenia\n",
      "Name: description, dtype: object\n"
     ]
    }
   ],
   "source": [
    "#Veo si hay algún dato rescatable\n",
    "print(data.loc[mask_prices].title)\n",
    "print(data.loc[mask_prices].description)"
   ]
  },
  {
   "cell_type": "markdown",
   "metadata": {},
   "source": [
    "Dado que este registro tiene los datos de interés en **NaN** y no se puede extraer información de otros registros, decido eliminarlo."
   ]
  },
  {
   "cell_type": "code",
   "execution_count": 157,
   "metadata": {},
   "outputs": [
    {
     "data": {
      "text/plain": [
       "(114661, 15)"
      ]
     },
     "execution_count": 157,
     "metadata": {},
     "output_type": "execute_result"
    }
   ],
   "source": [
    "ind_prices = data.loc[mask_prices].index\n",
    "\n",
    "# Elimino el registro\n",
    "data = data.drop(index = ind_prices)\n",
    "data.shape"
   ]
  },
  {
   "cell_type": "markdown",
   "metadata": {},
   "source": [
    "Veo si **NO** tiene definido el precio pero **SÍ** el precio/m2.\n",
    "\n",
    "Vemos que **NO** se da el caso."
   ]
  },
  {
   "cell_type": "code",
   "execution_count": 158,
   "metadata": {},
   "outputs": [
    {
     "data": {
      "text/plain": [
       "0"
      ]
     },
     "execution_count": 158,
     "metadata": {},
     "output_type": "execute_result"
    }
   ],
   "source": [
    "mask_prices = np.logical_and(data.price.isnull(), data.price_usd_per_m2.notnull())\n",
    "mask_prices.sum()"
   ]
  },
  {
   "cell_type": "code",
   "execution_count": 159,
   "metadata": {},
   "outputs": [
    {
     "data": {
      "text/html": [
       "<div>\n",
       "<style scoped>\n",
       "    .dataframe tbody tr th:only-of-type {\n",
       "        vertical-align: middle;\n",
       "    }\n",
       "\n",
       "    .dataframe tbody tr th {\n",
       "        vertical-align: top;\n",
       "    }\n",
       "\n",
       "    .dataframe thead th {\n",
       "        text-align: right;\n",
       "    }\n",
       "</style>\n",
       "<table border=\"1\" class=\"dataframe\">\n",
       "  <thead>\n",
       "    <tr style=\"text-align: right;\">\n",
       "      <th></th>\n",
       "      <th>property_type</th>\n",
       "      <th>place_name</th>\n",
       "      <th>place_with_parent_names</th>\n",
       "      <th>state_name</th>\n",
       "      <th>price</th>\n",
       "      <th>currency</th>\n",
       "      <th>price_aprox_local_currency</th>\n",
       "      <th>price_aprox_usd</th>\n",
       "      <th>surface_total_in_m2</th>\n",
       "      <th>surface_covered_in_m2</th>\n",
       "      <th>price_usd_per_m2</th>\n",
       "      <th>price_per_m2</th>\n",
       "      <th>rooms</th>\n",
       "      <th>description</th>\n",
       "      <th>title</th>\n",
       "    </tr>\n",
       "  </thead>\n",
       "  <tbody>\n",
       "    <tr>\n",
       "      <th>0</th>\n",
       "      <td>PH</td>\n",
       "      <td>Mataderos</td>\n",
       "      <td>|Argentina|Capital Federal|Mataderos|</td>\n",
       "      <td>Capital Federal</td>\n",
       "      <td>62000.0</td>\n",
       "      <td>USD</td>\n",
       "      <td>1093959.0</td>\n",
       "      <td>62000.0</td>\n",
       "      <td>55.0</td>\n",
       "      <td>40.0</td>\n",
       "      <td>1127.272727</td>\n",
       "      <td>1550.0</td>\n",
       "      <td>NaN</td>\n",
       "      <td>2 AMBIENTES TIPO CASA PLANTA BAJA PO...</td>\n",
       "      <td>2 AMB TIPO CASA SIN EXPENSAS EN PB</td>\n",
       "    </tr>\n",
       "    <tr>\n",
       "      <th>1</th>\n",
       "      <td>apartment</td>\n",
       "      <td>La Plata</td>\n",
       "      <td>|Argentina|Bs.As. G.B.A. Zona Sur|La...</td>\n",
       "      <td>Bs.As. G.B.A. Zona Sur</td>\n",
       "      <td>150000.0</td>\n",
       "      <td>USD</td>\n",
       "      <td>2646675.0</td>\n",
       "      <td>150000.0</td>\n",
       "      <td>NaN</td>\n",
       "      <td>NaN</td>\n",
       "      <td>NaN</td>\n",
       "      <td>NaN</td>\n",
       "      <td>NaN</td>\n",
       "      <td>Venta de departamento en décimo piso...</td>\n",
       "      <td>VENTA Depto 2 dorm. a estrenar 7 e/ ...</td>\n",
       "    </tr>\n",
       "  </tbody>\n",
       "</table>\n",
       "</div>"
      ],
      "text/plain": [
       "  property_type place_name                  place_with_parent_names  \\\n",
       "0            PH  Mataderos    |Argentina|Capital Federal|Mataderos|   \n",
       "1     apartment   La Plata  |Argentina|Bs.As. G.B.A. Zona Sur|La...   \n",
       "\n",
       "               state_name     price currency  price_aprox_local_currency  \\\n",
       "0         Capital Federal   62000.0      USD                   1093959.0   \n",
       "1  Bs.As. G.B.A. Zona Sur  150000.0      USD                   2646675.0   \n",
       "\n",
       "   price_aprox_usd  surface_total_in_m2  surface_covered_in_m2  \\\n",
       "0          62000.0                 55.0                   40.0   \n",
       "1         150000.0                  NaN                    NaN   \n",
       "\n",
       "   price_usd_per_m2  price_per_m2  rooms  \\\n",
       "0       1127.272727        1550.0    NaN   \n",
       "1               NaN           NaN    NaN   \n",
       "\n",
       "                               description  \\\n",
       "0  2 AMBIENTES TIPO CASA PLANTA BAJA PO...   \n",
       "1  Venta de departamento en décimo piso...   \n",
       "\n",
       "                                     title  \n",
       "0       2 AMB TIPO CASA SIN EXPENSAS EN PB  \n",
       "1  VENTA Depto 2 dorm. a estrenar 7 e/ ...  "
      ]
     },
     "execution_count": 159,
     "metadata": {},
     "output_type": "execute_result"
    }
   ],
   "source": [
    "data.head(2)"
   ]
  },
  {
   "cell_type": "code",
   "execution_count": 160,
   "metadata": {},
   "outputs": [
    {
     "name": "stdout",
     "output_type": "stream",
     "text": [
      "85035\n",
      "85035\n"
     ]
    }
   ],
   "source": [
    "# Evalúo para USD\n",
    "mask_usd = data.currency == 'USD'\n",
    "print(mask_usd.sum())\n",
    "mask_prices_usd = data.loc[mask_usd].price.round(2) == data.loc[mask_usd].price_aprox_usd.round(2)\n",
    "print(mask_prices_usd.sum())"
   ]
  },
  {
   "cell_type": "markdown",
   "metadata": {},
   "source": [
    "Vemos que coincide la columna **price** con **price_aprox_usd** cuando **currency** es USD.\n",
    "\n",
    "Veamos qué sucede cuando **price** es ARS:"
   ]
  },
  {
   "cell_type": "code",
   "execution_count": 161,
   "metadata": {},
   "outputs": [
    {
     "name": "stdout",
     "output_type": "stream",
     "text": [
      "12541\n",
      "0\n"
     ]
    },
    {
     "data": {
      "text/html": [
       "<div>\n",
       "<style scoped>\n",
       "    .dataframe tbody tr th:only-of-type {\n",
       "        vertical-align: middle;\n",
       "    }\n",
       "\n",
       "    .dataframe tbody tr th {\n",
       "        vertical-align: top;\n",
       "    }\n",
       "\n",
       "    .dataframe thead th {\n",
       "        text-align: right;\n",
       "    }\n",
       "</style>\n",
       "<table border=\"1\" class=\"dataframe\">\n",
       "  <thead>\n",
       "    <tr style=\"text-align: right;\">\n",
       "      <th></th>\n",
       "      <th>property_type</th>\n",
       "      <th>place_name</th>\n",
       "      <th>place_with_parent_names</th>\n",
       "      <th>state_name</th>\n",
       "      <th>price</th>\n",
       "      <th>currency</th>\n",
       "      <th>price_aprox_local_currency</th>\n",
       "      <th>price_aprox_usd</th>\n",
       "      <th>surface_total_in_m2</th>\n",
       "      <th>surface_covered_in_m2</th>\n",
       "      <th>price_usd_per_m2</th>\n",
       "      <th>price_per_m2</th>\n",
       "      <th>rooms</th>\n",
       "      <th>description</th>\n",
       "      <th>title</th>\n",
       "    </tr>\n",
       "  </thead>\n",
       "  <tbody>\n",
       "    <tr>\n",
       "      <th>9</th>\n",
       "      <td>house</td>\n",
       "      <td>Rosario</td>\n",
       "      <td>|Argentina|Santa Fe|Rosario|</td>\n",
       "      <td>Santa Fe</td>\n",
       "      <td>460000.0</td>\n",
       "      <td>ARS</td>\n",
       "      <td>455201.45</td>\n",
       "      <td>25798.49</td>\n",
       "      <td>NaN</td>\n",
       "      <td>NaN</td>\n",
       "      <td>NaN</td>\n",
       "      <td>NaN</td>\n",
       "      <td>NaN</td>\n",
       "      <td>MEDNOZA AL 7600A UNA CUADRA DE CALLE...</td>\n",
       "      <td>WHITE 7637 - 2 DORMITORIOS CON PATIO...</td>\n",
       "    </tr>\n",
       "    <tr>\n",
       "      <th>32</th>\n",
       "      <td>apartment</td>\n",
       "      <td>Córdoba</td>\n",
       "      <td>|Argentina|Córdoba|Córdoba|</td>\n",
       "      <td>Córdoba</td>\n",
       "      <td>550000.0</td>\n",
       "      <td>ARS</td>\n",
       "      <td>544262.59</td>\n",
       "      <td>30846.02</td>\n",
       "      <td>50.0</td>\n",
       "      <td>50.0</td>\n",
       "      <td>616.920400</td>\n",
       "      <td>11000.000000</td>\n",
       "      <td>3.0</td>\n",
       "      <td>EN VENTA, departamento ubicado en ba...</td>\n",
       "      <td>Departamento apto crédito! Barrio Pu...</td>\n",
       "    </tr>\n",
       "    <tr>\n",
       "      <th>37</th>\n",
       "      <td>house</td>\n",
       "      <td>Malagueño</td>\n",
       "      <td>|Argentina|Córdoba|Malagueño|</td>\n",
       "      <td>Córdoba</td>\n",
       "      <td>1250000.0</td>\n",
       "      <td>ARS</td>\n",
       "      <td>1236960.43</td>\n",
       "      <td>70104.59</td>\n",
       "      <td>75.0</td>\n",
       "      <td>75.0</td>\n",
       "      <td>934.727867</td>\n",
       "      <td>16666.666667</td>\n",
       "      <td>NaN</td>\n",
       "      <td>Nuevos ingreso:-VENTA-Villa San Nico...</td>\n",
       "      <td>Casa Venta Villa San Nicolas</td>\n",
       "    </tr>\n",
       "    <tr>\n",
       "      <th>78</th>\n",
       "      <td>house</td>\n",
       "      <td>Posadas</td>\n",
       "      <td>|Argentina|Misiones|Posadas|</td>\n",
       "      <td>Misiones</td>\n",
       "      <td>5500000.0</td>\n",
       "      <td>ARS</td>\n",
       "      <td>5442626.35</td>\n",
       "      <td>308460.22</td>\n",
       "      <td>261.0</td>\n",
       "      <td>18615.0</td>\n",
       "      <td>1181.839923</td>\n",
       "      <td>295.460650</td>\n",
       "      <td>5.0</td>\n",
       "      <td>S/AVDA   COSTANERA ,  NUEVA  ZONA GA...</td>\n",
       "      <td>Oportunidad! Casa zona Bahía el Brete</td>\n",
       "    </tr>\n",
       "    <tr>\n",
       "      <th>97</th>\n",
       "      <td>apartment</td>\n",
       "      <td>San Telmo</td>\n",
       "      <td>|Argentina|Capital Federal|San Telmo|</td>\n",
       "      <td>Capital Federal</td>\n",
       "      <td>1423800.0</td>\n",
       "      <td>ARS</td>\n",
       "      <td>1408947.37</td>\n",
       "      <td>79851.93</td>\n",
       "      <td>NaN</td>\n",
       "      <td>NaN</td>\n",
       "      <td>NaN</td>\n",
       "      <td>NaN</td>\n",
       "      <td>1.0</td>\n",
       "      <td>Torre de 15 pisos con amenities ubic...</td>\n",
       "      <td>VIVÍ CERCA DE TODO Av. 9 de Julio</td>\n",
       "    </tr>\n",
       "  </tbody>\n",
       "</table>\n",
       "</div>"
      ],
      "text/plain": [
       "   property_type place_name                place_with_parent_names  \\\n",
       "9          house    Rosario           |Argentina|Santa Fe|Rosario|   \n",
       "32     apartment    Córdoba            |Argentina|Córdoba|Córdoba|   \n",
       "37         house  Malagueño          |Argentina|Córdoba|Malagueño|   \n",
       "78         house    Posadas           |Argentina|Misiones|Posadas|   \n",
       "97     apartment  San Telmo  |Argentina|Capital Federal|San Telmo|   \n",
       "\n",
       "         state_name      price currency  price_aprox_local_currency  \\\n",
       "9          Santa Fe   460000.0      ARS                   455201.45   \n",
       "32          Córdoba   550000.0      ARS                   544262.59   \n",
       "37          Córdoba  1250000.0      ARS                  1236960.43   \n",
       "78         Misiones  5500000.0      ARS                  5442626.35   \n",
       "97  Capital Federal  1423800.0      ARS                  1408947.37   \n",
       "\n",
       "    price_aprox_usd  surface_total_in_m2  surface_covered_in_m2  \\\n",
       "9          25798.49                  NaN                    NaN   \n",
       "32         30846.02                 50.0                   50.0   \n",
       "37         70104.59                 75.0                   75.0   \n",
       "78        308460.22                261.0                18615.0   \n",
       "97         79851.93                  NaN                    NaN   \n",
       "\n",
       "    price_usd_per_m2  price_per_m2  rooms  \\\n",
       "9                NaN           NaN    NaN   \n",
       "32        616.920400  11000.000000    3.0   \n",
       "37        934.727867  16666.666667    NaN   \n",
       "78       1181.839923    295.460650    5.0   \n",
       "97               NaN           NaN    1.0   \n",
       "\n",
       "                                description  \\\n",
       "9   MEDNOZA AL 7600A UNA CUADRA DE CALLE...   \n",
       "32  EN VENTA, departamento ubicado en ba...   \n",
       "37  Nuevos ingreso:-VENTA-Villa San Nico...   \n",
       "78  S/AVDA   COSTANERA ,  NUEVA  ZONA GA...   \n",
       "97  Torre de 15 pisos con amenities ubic...   \n",
       "\n",
       "                                      title  \n",
       "9   WHITE 7637 - 2 DORMITORIOS CON PATIO...  \n",
       "32  Departamento apto crédito! Barrio Pu...  \n",
       "37             Casa Venta Villa San Nicolas  \n",
       "78    Oportunidad! Casa zona Bahía el Brete  \n",
       "97        VIVÍ CERCA DE TODO Av. 9 de Julio  "
      ]
     },
     "execution_count": 161,
     "metadata": {},
     "output_type": "execute_result"
    }
   ],
   "source": [
    "# Evalúo para ARS\n",
    "mask_ars = data.currency == 'ARS'\n",
    "print(mask_ars.sum())\n",
    "mask_prices_ars = data.loc[mask_ars].price.round(2) == data.loc[mask_ars].price_aprox_local_currency.round(2)\n",
    "print(mask_prices_ars.sum())\n",
    "data.loc[mask_ars].head()"
   ]
  },
  {
   "cell_type": "markdown",
   "metadata": {},
   "source": [
    "Cómo vemos que **price** en ARS no cinciden, veamos si tienen relación con **price_aprox_usd**:"
   ]
  },
  {
   "cell_type": "code",
   "execution_count": 162,
   "metadata": {},
   "outputs": [
    {
     "data": {
      "text/plain": [
       "17.8305    12217\n",
       "17.1430      255\n",
       "17.6340       52\n",
       "17.7980        6\n",
       "17.2040        4\n",
       "17.5025        3\n",
       "17.4265        1\n",
       "17.4040        1\n",
       "17.4670        1\n",
       "17.4050        1\n",
       "dtype: int64"
      ]
     },
     "execution_count": 162,
     "metadata": {},
     "output_type": "execute_result"
    }
   ],
   "source": [
    "# tasa de conversión\n",
    "serie_price_ARS = data[mask_ars].price\n",
    "serie_price_aprox_usd = data[mask_ars].price_aprox_usd\n",
    "\n",
    "tasa_conversion = (serie_price_ARS/serie_price_aprox_usd).round(4)\n",
    "tasa_conversion.value_counts()"
   ]
  },
  {
   "cell_type": "markdown",
   "metadata": {},
   "source": [
    "Como vemos que predomina la tasa de cambio de 17.8305 entre el **price** en ARS y el **price_aprox_usd**, vamos a utilizar esta tasa para redefinir los precios en US$.\n",
    "\n",
    "Vamos a definir una nueva columna **\"price_USD\"** y va a contener:\n",
    "- Los valores de price cuando currency sea USD\n",
    "- Los valores de price modificados por la tasa de cambio de 17.8305 cuando currency sea ARS"
   ]
  },
  {
   "cell_type": "code",
   "execution_count": 163,
   "metadata": {},
   "outputs": [
    {
     "name": "stdout",
     "output_type": "stream",
     "text": [
      "Cantidad de nulls en columna price_USD:  17085\n",
      "Cantidad de nulls en columna price:  17085\n"
     ]
    }
   ],
   "source": [
    "data.loc[mask_usd,\"price_USD\"] = (data.loc[mask_usd,\"price\"]).round(0)\n",
    "data.loc[mask_ars,\"price_USD\"] = (data.loc[mask_ars,\"price\"]/17.8305).round(0)\n",
    "\n",
    "print(\"Cantidad de nulls en columna price_USD: \",data[\"price_USD\"].isnull().sum())\n",
    "print(\"Cantidad de nulls en columna price: \",data[\"price_USD\"].isnull().sum())"
   ]
  },
  {
   "cell_type": "markdown",
   "metadata": {},
   "source": [
    "A partir de aquí sabemos que podemos eliminar las columnas **price**, **currency**, **price_aprox_local_currency**, **price_aprox_usd**, pero vamos a dejarlo para después porque podemos llegar a necesitarlas en el análisis de las superficies y precio/superficie."
   ]
  },
  {
   "cell_type": "markdown",
   "metadata": {},
   "source": [
    "## INICIO DE REGEX\n",
    "\n",
    "Quiero ver si en los registros en que \"price\" es null puedo extraer los precios de \"description\".\n",
    "\n",
    "**NO FUNCIONA**."
   ]
  },
  {
   "cell_type": "code",
   "execution_count": 164,
   "metadata": {},
   "outputs": [
    {
     "data": {
      "text/plain": [
       "5        NaN\n",
       "20       NaN\n",
       "41       NaN\n",
       "62       NaN\n",
       "67       NaN\n",
       "          ..\n",
       "121210   NaN\n",
       "121211   NaN\n",
       "121212   NaN\n",
       "121213   NaN\n",
       "121214   NaN\n",
       "Name: price, Length: 17085, dtype: float64"
      ]
     },
     "execution_count": 164,
     "metadata": {},
     "output_type": "execute_result"
    }
   ],
   "source": [
    "mask_nulls_prices = data[\"price\"].isnull()\n",
    "data.loc[mask_nulls_prices,'price']"
   ]
  },
  {
   "cell_type": "code",
   "execution_count": 165,
   "metadata": {},
   "outputs": [
    {
     "name": "stdout",
     "output_type": "stream",
     "text": [
      "5         None\n",
      "20        None\n",
      "41        None\n",
      "62        None\n",
      "67        None\n",
      "          ... \n",
      "121210    None\n",
      "121211    None\n",
      "121212    None\n",
      "121213    None\n",
      "121214    None\n",
      "Name: description, Length: 17085, dtype: object\n",
      "5         False\n",
      "20        False\n",
      "41        False\n",
      "62        False\n",
      "67        False\n",
      "          ...  \n",
      "121210    False\n",
      "121211    False\n",
      "121212    False\n",
      "121213    False\n",
      "121214    False\n",
      "Name: description, Length: 17085, dtype: bool\n",
      "1311\n"
     ]
    },
    {
     "data": {
      "text/plain": [
       "124       precio\n",
       "125       precio\n",
       "126       precio\n",
       "263       precio\n",
       "264       precio\n",
       "           ...  \n",
       "121032    precio\n",
       "121036    precio\n",
       "121049    precio\n",
       "121050    precio\n",
       "121110    precio\n",
       "Name: description, Length: 1311, dtype: object"
      ]
     },
     "execution_count": 165,
     "metadata": {},
     "output_type": "execute_result"
    }
   ],
   "source": [
    "import re\n",
    "price_pattern = 'precio'\n",
    "price_regex = re.compile(price_pattern)\n",
    "\n",
    "precio_in_description = data.loc[mask_nulls_prices].description.apply(lambda x: x if x is np.NaN else price_regex.search(x))\n",
    "mask_precio_in_description_notnull = precio_in_description.notnull()\n",
    "print(precio_in_description)\n",
    "print(mask_precio_in_description_notnull)\n",
    "print(mask_precio_in_description_notnull.sum())\n",
    "\n",
    "resultado = precio_in_description.loc[mask_precio_in_description_notnull].apply(lambda x: x.group(0))\n",
    "resultado"
   ]
  },
  {
   "cell_type": "code",
   "execution_count": 166,
   "metadata": {},
   "outputs": [
    {
     "data": {
      "text/plain": [
       "'CODIGO:  ubicado en: Ricardo Balbin DR. 4300 -  Publicado por: LA KASA FELIZ PROP. Y SERVICIOS. El precio es de USD 181000 null. Descripción  A ESTRENAR - POSESION y ESCRITURA DENTRO DE LOS 60 DIAS DEPARTAMENTO AL CONTRAFRENTE - SUPERFICIE TOTAL: 71,88 m2. - DE 3 AMBIENTES: LIVING-COMNEDOR: 7,60X3 CON SALIDA A BALCON  2 DORMITORIOS CON PLACARDS CON FRENTE ESPEJADO y CON INTERIORES COMPLETOS: (3,10X2,70 CON SALIDA A BALCON) (3,04X2,80) 1 BAÑO TOIILETTE COCINA CON LAVADERO INCORPORADO. CALEFACCION POR LOZA RADIANTE INDIVIDUAL POR CABLE, MARCA EUROCABLE, TERMOSTATO POR AMBIENTE. AGUA CALIENTE CENTRAL. PREINSTALACION ELECTRICA PARA EQUIPOS TIPO SPLITS . INSTALACION DE TELEFONICA: LAS UNIDADES SE ENTREGAN CABLEADAS HASTA LA PRIMER BOCA y CUENTAN CON CANALIZACIONES VACIAS. CANALIZACIONES y BOCAS VACIAS PARA CONEXION DE TV DETALLES DEL EDIFICIO: HALL CON MARMOL y REVESTIMIENTO EN WENGUE. 2 ASCENSORES DE PRIMERA MARCA (UNO PARA 14 PERSONAS). AGUA CALIENTE CENTRAL, CON TRES TERMOTANQUES MARCA RHEEN DE ALTA RECUPERACION PILETA DE NATACION CON SISTEMA DE FILTRADO. SOLARIUM CON CRISTAL TEMPLADO EN LATERALES DE 2 mts. DE ALTURA. SUM. SALON DE USOS MULTIPLES PARRILLAS, GIMNASIO y LAUNDRY   Datos principales Departamento   Precio Venta  U$S 181000 71m² Superficie total 67m² Superficie cubierta 3 Ambientes 2 Dormitorios 1 Baño Antigüedad: A estrenar . Publicado a través de Mapaprop'"
      ]
     },
     "execution_count": 166,
     "metadata": {},
     "output_type": "execute_result"
    }
   ],
   "source": [
    "data.iloc[264].description"
   ]
  },
  {
   "cell_type": "code",
   "execution_count": 167,
   "metadata": {},
   "outputs": [
    {
     "data": {
      "text/plain": [
       "property_type                                               apartment\n",
       "place_name                                                   Saavedra\n",
       "place_with_parent_names          |Argentina|Capital Federal|Saavedra|\n",
       "state_name                                            Capital Federal\n",
       "price                                                          181000\n",
       "currency                                                          USD\n",
       "price_aprox_local_currency                                3.19365e+06\n",
       "price_aprox_usd                                                181000\n",
       "surface_total_in_m2                                                71\n",
       "surface_covered_in_m2                                              67\n",
       "price_usd_per_m2                                               2549.3\n",
       "price_per_m2                                                  2701.49\n",
       "rooms                                                             NaN\n",
       "description                   CODIGO:  ubicado en: Ricardo Balbin ...\n",
       "title                         Venta 3 Amb. Ricardo Balbin 4300  Sa...\n",
       "price_USD                                                      181000\n",
       "Name: 271, dtype: object"
      ]
     },
     "execution_count": 167,
     "metadata": {},
     "output_type": "execute_result"
    }
   ],
   "source": [
    "data.iloc[264]"
   ]
  },
  {
   "cell_type": "markdown",
   "metadata": {},
   "source": [
    "## FIN DE REGEX"
   ]
  },
  {
   "cell_type": "markdown",
   "metadata": {},
   "source": [
    "## Análisis de Superficies\n",
    "\n",
    "Veamos cuestiones relacionadas a los campos \"surface_total_in_m2\" y \"surface_covered_in_m2\".\n",
    "VAmos a tratar de limpiar, emprolijar y reconstruir estos campos."
   ]
  },
  {
   "cell_type": "code",
   "execution_count": 168,
   "metadata": {},
   "outputs": [
    {
     "data": {
      "text/plain": [
       "property_type                 0.000000\n",
       "place_name                    0.000201\n",
       "place_with_parent_names       0.000000\n",
       "state_name                    0.000000\n",
       "price                         0.149004\n",
       "currency                      0.149004\n",
       "price_aprox_local_currency    0.149004\n",
       "price_aprox_usd               0.149004\n",
       "surface_total_in_m2           0.331141\n",
       "surface_covered_in_m2         0.161868\n",
       "price_usd_per_m2              0.423553\n",
       "price_per_m2                  0.260507\n",
       "rooms                         0.603614\n",
       "description                   0.000017\n",
       "title                         0.000000\n",
       "price_USD                     0.149004\n",
       "dtype: float64"
      ]
     },
     "execution_count": 168,
     "metadata": {},
     "output_type": "execute_result"
    }
   ],
   "source": [
    "data.isnull().sum()/data.shape[0]"
   ]
  },
  {
   "cell_type": "code",
   "execution_count": 169,
   "metadata": {},
   "outputs": [
    {
     "name": "stdout",
     "output_type": "stream",
     "text": [
      "Cantidad de registros coherentes: 68824\n"
     ]
    },
    {
     "data": {
      "text/html": [
       "<div>\n",
       "<style scoped>\n",
       "    .dataframe tbody tr th:only-of-type {\n",
       "        vertical-align: middle;\n",
       "    }\n",
       "\n",
       "    .dataframe tbody tr th {\n",
       "        vertical-align: top;\n",
       "    }\n",
       "\n",
       "    .dataframe thead th {\n",
       "        text-align: right;\n",
       "    }\n",
       "</style>\n",
       "<table border=\"1\" class=\"dataframe\">\n",
       "  <thead>\n",
       "    <tr style=\"text-align: right;\">\n",
       "      <th></th>\n",
       "      <th>property_type</th>\n",
       "      <th>place_name</th>\n",
       "      <th>place_with_parent_names</th>\n",
       "      <th>state_name</th>\n",
       "      <th>price</th>\n",
       "      <th>currency</th>\n",
       "      <th>price_aprox_local_currency</th>\n",
       "      <th>price_aprox_usd</th>\n",
       "      <th>surface_total_in_m2</th>\n",
       "      <th>surface_covered_in_m2</th>\n",
       "      <th>price_usd_per_m2</th>\n",
       "      <th>price_per_m2</th>\n",
       "      <th>rooms</th>\n",
       "      <th>description</th>\n",
       "      <th>title</th>\n",
       "      <th>price_USD</th>\n",
       "    </tr>\n",
       "  </thead>\n",
       "  <tbody>\n",
       "    <tr>\n",
       "      <th>0</th>\n",
       "      <td>PH</td>\n",
       "      <td>Mataderos</td>\n",
       "      <td>|Argentina|Capital Federal|Mataderos|</td>\n",
       "      <td>Capital Federal</td>\n",
       "      <td>62000.0</td>\n",
       "      <td>USD</td>\n",
       "      <td>1093959.0</td>\n",
       "      <td>62000.0</td>\n",
       "      <td>55.0</td>\n",
       "      <td>40.0</td>\n",
       "      <td>1127.272727</td>\n",
       "      <td>1550.000000</td>\n",
       "      <td>NaN</td>\n",
       "      <td>2 AMBIENTES TIPO CASA PLANTA BAJA PO...</td>\n",
       "      <td>2 AMB TIPO CASA SIN EXPENSAS EN PB</td>\n",
       "      <td>62000.0</td>\n",
       "    </tr>\n",
       "    <tr>\n",
       "      <th>2</th>\n",
       "      <td>apartment</td>\n",
       "      <td>Mataderos</td>\n",
       "      <td>|Argentina|Capital Federal|Mataderos|</td>\n",
       "      <td>Capital Federal</td>\n",
       "      <td>72000.0</td>\n",
       "      <td>USD</td>\n",
       "      <td>1270404.0</td>\n",
       "      <td>72000.0</td>\n",
       "      <td>55.0</td>\n",
       "      <td>55.0</td>\n",
       "      <td>1309.090909</td>\n",
       "      <td>1309.090909</td>\n",
       "      <td>NaN</td>\n",
       "      <td>2 AMBIENTES 3ER PISO LATERAL LIVING ...</td>\n",
       "      <td>2 AMB 3ER PISO CON ASCENSOR APTO CRE...</td>\n",
       "      <td>72000.0</td>\n",
       "    </tr>\n",
       "  </tbody>\n",
       "</table>\n",
       "</div>"
      ],
      "text/plain": [
       "  property_type place_name                place_with_parent_names  \\\n",
       "0            PH  Mataderos  |Argentina|Capital Federal|Mataderos|   \n",
       "2     apartment  Mataderos  |Argentina|Capital Federal|Mataderos|   \n",
       "\n",
       "        state_name    price currency  price_aprox_local_currency  \\\n",
       "0  Capital Federal  62000.0      USD                   1093959.0   \n",
       "2  Capital Federal  72000.0      USD                   1270404.0   \n",
       "\n",
       "   price_aprox_usd  surface_total_in_m2  surface_covered_in_m2  \\\n",
       "0          62000.0                 55.0                   40.0   \n",
       "2          72000.0                 55.0                   55.0   \n",
       "\n",
       "   price_usd_per_m2  price_per_m2  rooms  \\\n",
       "0       1127.272727   1550.000000    NaN   \n",
       "2       1309.090909   1309.090909    NaN   \n",
       "\n",
       "                               description  \\\n",
       "0  2 AMBIENTES TIPO CASA PLANTA BAJA PO...   \n",
       "2  2 AMBIENTES 3ER PISO LATERAL LIVING ...   \n",
       "\n",
       "                                     title  price_USD  \n",
       "0       2 AMB TIPO CASA SIN EXPENSAS EN PB    62000.0  \n",
       "2  2 AMB 3ER PISO CON ASCENSOR APTO CRE...    72000.0  "
      ]
     },
     "execution_count": 169,
     "metadata": {},
     "output_type": "execute_result"
    }
   ],
   "source": [
    "# Acá me aseguro que ninguno de los dos campos tengan nulls:\n",
    "mask_size_right_surfaces = data.surface_total_in_m2 >= data.surface_covered_in_m2\n",
    "print('Cantidad de registros coherentes: ' + str(mask_size_right_surfaces.sum()))\n",
    "data.loc[mask_size_right_surfaces].head(2)"
   ]
  },
  {
   "cell_type": "code",
   "execution_count": 170,
   "metadata": {},
   "outputs": [
    {
     "data": {
      "text/html": [
       "<div>\n",
       "<style scoped>\n",
       "    .dataframe tbody tr th:only-of-type {\n",
       "        vertical-align: middle;\n",
       "    }\n",
       "\n",
       "    .dataframe tbody tr th {\n",
       "        vertical-align: top;\n",
       "    }\n",
       "\n",
       "    .dataframe thead th {\n",
       "        text-align: right;\n",
       "    }\n",
       "</style>\n",
       "<table border=\"1\" class=\"dataframe\">\n",
       "  <thead>\n",
       "    <tr style=\"text-align: right;\">\n",
       "      <th></th>\n",
       "      <th>property_type</th>\n",
       "      <th>place_name</th>\n",
       "      <th>place_with_parent_names</th>\n",
       "      <th>state_name</th>\n",
       "      <th>price</th>\n",
       "      <th>currency</th>\n",
       "      <th>price_aprox_local_currency</th>\n",
       "      <th>price_aprox_usd</th>\n",
       "      <th>surface_total_in_m2</th>\n",
       "      <th>surface_covered_in_m2</th>\n",
       "      <th>price_usd_per_m2</th>\n",
       "      <th>price_per_m2</th>\n",
       "      <th>rooms</th>\n",
       "      <th>description</th>\n",
       "      <th>title</th>\n",
       "      <th>price_USD</th>\n",
       "      <th>superficie_TOTAL</th>\n",
       "      <th>superficie_CUBIERTA</th>\n",
       "    </tr>\n",
       "  </thead>\n",
       "  <tbody>\n",
       "    <tr>\n",
       "      <th>0</th>\n",
       "      <td>PH</td>\n",
       "      <td>Mataderos</td>\n",
       "      <td>|Argentina|Capital Federal|Mataderos|</td>\n",
       "      <td>Capital Federal</td>\n",
       "      <td>62000.0</td>\n",
       "      <td>USD</td>\n",
       "      <td>1093959.0</td>\n",
       "      <td>62000.0</td>\n",
       "      <td>55.0</td>\n",
       "      <td>40.0</td>\n",
       "      <td>1127.272727</td>\n",
       "      <td>1550.0</td>\n",
       "      <td>NaN</td>\n",
       "      <td>2 AMBIENTES TIPO CASA PLANTA BAJA PO...</td>\n",
       "      <td>2 AMB TIPO CASA SIN EXPENSAS EN PB</td>\n",
       "      <td>62000.0</td>\n",
       "      <td>55.0</td>\n",
       "      <td>40.0</td>\n",
       "    </tr>\n",
       "  </tbody>\n",
       "</table>\n",
       "</div>"
      ],
      "text/plain": [
       "  property_type place_name                place_with_parent_names  \\\n",
       "0            PH  Mataderos  |Argentina|Capital Federal|Mataderos|   \n",
       "\n",
       "        state_name    price currency  price_aprox_local_currency  \\\n",
       "0  Capital Federal  62000.0      USD                   1093959.0   \n",
       "\n",
       "   price_aprox_usd  surface_total_in_m2  surface_covered_in_m2  \\\n",
       "0          62000.0                 55.0                   40.0   \n",
       "\n",
       "   price_usd_per_m2  price_per_m2  rooms  \\\n",
       "0       1127.272727        1550.0    NaN   \n",
       "\n",
       "                               description  \\\n",
       "0  2 AMBIENTES TIPO CASA PLANTA BAJA PO...   \n",
       "\n",
       "                                title  price_USD  superficie_TOTAL  \\\n",
       "0  2 AMB TIPO CASA SIN EXPENSAS EN PB    62000.0              55.0   \n",
       "\n",
       "   superficie_CUBIERTA  \n",
       "0                 40.0  "
      ]
     },
     "execution_count": 170,
     "metadata": {},
     "output_type": "execute_result"
    }
   ],
   "source": [
    "# Agrego los datos verificados en nuevas columnas:\n",
    "data.loc[mask_size_right_surfaces,'superficie_TOTAL'] = data.loc[mask_size_right_surfaces,'surface_total_in_m2']\n",
    "data.loc[mask_size_right_surfaces,'superficie_CUBIERTA'] = data.loc[mask_size_right_surfaces,'surface_covered_in_m2']\n",
    "data.head(1)"
   ]
  },
  {
   "cell_type": "code",
   "execution_count": 171,
   "metadata": {},
   "outputs": [
    {
     "name": "stdout",
     "output_type": "stream",
     "text": [
      "MEAN de la diferencia de superficies: 113.73\n",
      "STD de la diferencia de superficies: 1546.88\n"
     ]
    }
   ],
   "source": [
    "# Vamos a calcular la media y desvío estándar de la diferencia entre ambas sups:\n",
    "resta_sups_right = (data.loc[mask_size_right_surfaces].surface_total_in_m2 - data.loc[mask_size_right_surfaces].surface_covered_in_m2)\n",
    "mean_surfaces_right = resta_sups_right.mean().round(2)\n",
    "stdv_surfaces_right = resta_sups_right.std().round(2)\n",
    "\n",
    "print('MEAN de la diferencia de superficies: '+str(mean_surfaces_right))\n",
    "print('STD de la diferencia de superficies: '+str(stdv_surfaces_right))"
   ]
  },
  {
   "cell_type": "code",
   "execution_count": 172,
   "metadata": {},
   "outputs": [],
   "source": [
    "#from bokeh.plotting import figure, output_notebook, show\n",
    "#from bokeh.models import HoverTool\n",
    "\n",
    "#p = figure(plot_width=600, plot_height=400)\n",
    "#p.circle(x=resta_sups_right.index, y=resta_sups_right.values, size=8)\n",
    "\n",
    "#hover = HoverTool(tooltips=[(\"index\", \"$index\"), (\"(x,y)\", \"($x, $y)\")])\n",
    "\n",
    "#p.add_tools(hover)\n",
    "#output_notebook()\n",
    "#show(p)"
   ]
  },
  {
   "cell_type": "code",
   "execution_count": 173,
   "metadata": {},
   "outputs": [],
   "source": [
    "#data.loc[mask_size_right_surfaces].iloc[5975]"
   ]
  },
  {
   "cell_type": "markdown",
   "metadata": {},
   "source": [
    "Veamos cuando solo tenemos una de las dos superficies definidas:"
   ]
  },
  {
   "cell_type": "code",
   "execution_count": 174,
   "metadata": {},
   "outputs": [],
   "source": [
    "mask_surface_total_in_m2_nulls = data.surface_total_in_m2.isnull()\n",
    "mask_surface_covered_in_m2_nulls = data.surface_covered_in_m2.isnull()"
   ]
  },
  {
   "cell_type": "code",
   "execution_count": 175,
   "metadata": {},
   "outputs": [
    {
     "name": "stdout",
     "output_type": "stream",
     "text": [
      "Cantidad de casos: 6776\n"
     ]
    },
    {
     "data": {
      "text/html": [
       "<div>\n",
       "<style scoped>\n",
       "    .dataframe tbody tr th:only-of-type {\n",
       "        vertical-align: middle;\n",
       "    }\n",
       "\n",
       "    .dataframe tbody tr th {\n",
       "        vertical-align: top;\n",
       "    }\n",
       "\n",
       "    .dataframe thead th {\n",
       "        text-align: right;\n",
       "    }\n",
       "</style>\n",
       "<table border=\"1\" class=\"dataframe\">\n",
       "  <thead>\n",
       "    <tr style=\"text-align: right;\">\n",
       "      <th></th>\n",
       "      <th>property_type</th>\n",
       "      <th>place_name</th>\n",
       "      <th>place_with_parent_names</th>\n",
       "      <th>state_name</th>\n",
       "      <th>price</th>\n",
       "      <th>currency</th>\n",
       "      <th>price_aprox_local_currency</th>\n",
       "      <th>price_aprox_usd</th>\n",
       "      <th>surface_total_in_m2</th>\n",
       "      <th>surface_covered_in_m2</th>\n",
       "      <th>price_usd_per_m2</th>\n",
       "      <th>price_per_m2</th>\n",
       "      <th>rooms</th>\n",
       "      <th>description</th>\n",
       "      <th>title</th>\n",
       "      <th>price_USD</th>\n",
       "      <th>superficie_TOTAL</th>\n",
       "      <th>superficie_CUBIERTA</th>\n",
       "    </tr>\n",
       "  </thead>\n",
       "  <tbody>\n",
       "    <tr>\n",
       "      <th>5</th>\n",
       "      <td>house</td>\n",
       "      <td>Gualeguaychú</td>\n",
       "      <td>|Argentina|Entre Ríos|Gualeguaychú|</td>\n",
       "      <td>Entre Ríos</td>\n",
       "      <td>NaN</td>\n",
       "      <td>NaN</td>\n",
       "      <td>NaN</td>\n",
       "      <td>NaN</td>\n",
       "      <td>53.0</td>\n",
       "      <td>NaN</td>\n",
       "      <td>NaN</td>\n",
       "      <td>NaN</td>\n",
       "      <td>NaN</td>\n",
       "      <td>Casa en el perímetro del barrio 338,...</td>\n",
       "      <td>Casa Barrio 338. Sobre calle 3 de ca...</td>\n",
       "      <td>NaN</td>\n",
       "      <td>53.0</td>\n",
       "      <td>NaN</td>\n",
       "    </tr>\n",
       "  </tbody>\n",
       "</table>\n",
       "</div>"
      ],
      "text/plain": [
       "  property_type    place_name              place_with_parent_names  \\\n",
       "5         house  Gualeguaychú  |Argentina|Entre Ríos|Gualeguaychú|   \n",
       "\n",
       "   state_name  price currency  price_aprox_local_currency  price_aprox_usd  \\\n",
       "5  Entre Ríos    NaN      NaN                         NaN              NaN   \n",
       "\n",
       "   surface_total_in_m2  surface_covered_in_m2  price_usd_per_m2  price_per_m2  \\\n",
       "5                 53.0                    NaN               NaN           NaN   \n",
       "\n",
       "   rooms                              description  \\\n",
       "5    NaN  Casa en el perímetro del barrio 338,...   \n",
       "\n",
       "                                     title  price_USD  superficie_TOTAL  \\\n",
       "5  Casa Barrio 338. Sobre calle 3 de ca...        NaN              53.0   \n",
       "\n",
       "   superficie_CUBIERTA  \n",
       "5                  NaN  "
      ]
     },
     "execution_count": 175,
     "metadata": {},
     "output_type": "execute_result"
    }
   ],
   "source": [
    "# Tengo TOTAL pero no tengo CUBIERTA\n",
    "mask_surface_total = np.logical_and(np.logical_not(mask_surface_total_in_m2_nulls),mask_surface_covered_in_m2_nulls)\n",
    "print('Cantidad de casos: ' + str(mask_surface_total.sum()))\n",
    "data.loc[mask_surface_total,'superficie_TOTAL'] = data.loc[mask_surface_total,'surface_total_in_m2']\n",
    "data.loc[mask_surface_total].head(1)"
   ]
  },
  {
   "cell_type": "code",
   "execution_count": 176,
   "metadata": {},
   "outputs": [
    {
     "name": "stdout",
     "output_type": "stream",
     "text": [
      "Cantidad de casos: 26185\n"
     ]
    },
    {
     "data": {
      "text/html": [
       "<div>\n",
       "<style scoped>\n",
       "    .dataframe tbody tr th:only-of-type {\n",
       "        vertical-align: middle;\n",
       "    }\n",
       "\n",
       "    .dataframe tbody tr th {\n",
       "        vertical-align: top;\n",
       "    }\n",
       "\n",
       "    .dataframe thead th {\n",
       "        text-align: right;\n",
       "    }\n",
       "</style>\n",
       "<table border=\"1\" class=\"dataframe\">\n",
       "  <thead>\n",
       "    <tr style=\"text-align: right;\">\n",
       "      <th></th>\n",
       "      <th>property_type</th>\n",
       "      <th>place_name</th>\n",
       "      <th>place_with_parent_names</th>\n",
       "      <th>state_name</th>\n",
       "      <th>price</th>\n",
       "      <th>currency</th>\n",
       "      <th>price_aprox_local_currency</th>\n",
       "      <th>price_aprox_usd</th>\n",
       "      <th>surface_total_in_m2</th>\n",
       "      <th>surface_covered_in_m2</th>\n",
       "      <th>price_usd_per_m2</th>\n",
       "      <th>price_per_m2</th>\n",
       "      <th>rooms</th>\n",
       "      <th>description</th>\n",
       "      <th>title</th>\n",
       "      <th>price_USD</th>\n",
       "      <th>superficie_TOTAL</th>\n",
       "      <th>superficie_CUBIERTA</th>\n",
       "    </tr>\n",
       "  </thead>\n",
       "  <tbody>\n",
       "    <tr>\n",
       "      <th>68</th>\n",
       "      <td>apartment</td>\n",
       "      <td>Mar del Plata</td>\n",
       "      <td>|Argentina|Buenos Aires Costa Atlánt...</td>\n",
       "      <td>Buenos Aires Costa Atlántica</td>\n",
       "      <td>235000.0</td>\n",
       "      <td>USD</td>\n",
       "      <td>4146457.5</td>\n",
       "      <td>235000.0</td>\n",
       "      <td>NaN</td>\n",
       "      <td>72.0</td>\n",
       "      <td>NaN</td>\n",
       "      <td>3263.888889</td>\n",
       "      <td>2.0</td>\n",
       "      <td>Cocina integrada con barra ,  horno ...</td>\n",
       "      <td>EXCELENTE DEPARTAMENTO CON VISTA AL ...</td>\n",
       "      <td>235000.0</td>\n",
       "      <td>NaN</td>\n",
       "      <td>72.0</td>\n",
       "    </tr>\n",
       "  </tbody>\n",
       "</table>\n",
       "</div>"
      ],
      "text/plain": [
       "   property_type     place_name                  place_with_parent_names  \\\n",
       "68     apartment  Mar del Plata  |Argentina|Buenos Aires Costa Atlánt...   \n",
       "\n",
       "                      state_name     price currency  \\\n",
       "68  Buenos Aires Costa Atlántica  235000.0      USD   \n",
       "\n",
       "    price_aprox_local_currency  price_aprox_usd  surface_total_in_m2  \\\n",
       "68                   4146457.5         235000.0                  NaN   \n",
       "\n",
       "    surface_covered_in_m2  price_usd_per_m2  price_per_m2  rooms  \\\n",
       "68                   72.0               NaN   3263.888889    2.0   \n",
       "\n",
       "                                description  \\\n",
       "68  Cocina integrada con barra ,  horno ...   \n",
       "\n",
       "                                      title  price_USD  superficie_TOTAL  \\\n",
       "68  EXCELENTE DEPARTAMENTO CON VISTA AL ...   235000.0               NaN   \n",
       "\n",
       "    superficie_CUBIERTA  \n",
       "68                 72.0  "
      ]
     },
     "execution_count": 176,
     "metadata": {},
     "output_type": "execute_result"
    }
   ],
   "source": [
    "# Tengo CUBIERTA pero no tengo TOTAL\n",
    "mask_surface_covered = np.logical_and(mask_surface_total_in_m2_nulls,np.logical_not(mask_surface_covered_in_m2_nulls))\n",
    "print('Cantidad de casos: ' + str(mask_surface_covered.sum()))\n",
    "data.loc[mask_surface_covered,'superficie_CUBIERTA'] = data.loc[mask_surface_covered,'surface_covered_in_m2']\n",
    "data.loc[mask_surface_covered].head(1)"
   ]
  },
  {
   "cell_type": "code",
   "execution_count": null,
   "metadata": {},
   "outputs": [],
   "source": []
  },
  {
   "cell_type": "code",
   "execution_count": null,
   "metadata": {},
   "outputs": [],
   "source": []
  },
  {
   "cell_type": "markdown",
   "metadata": {},
   "source": [
    "Veamos qué pasa con los casos donde la sup cubierta es mayor que sup total:"
   ]
  },
  {
   "cell_type": "code",
   "execution_count": 177,
   "metadata": {},
   "outputs": [
    {
     "name": "stdout",
     "output_type": "stream",
     "text": [
      "Cantidad de inconsistencias en superficie: 1092\n"
     ]
    },
    {
     "data": {
      "text/html": [
       "<div>\n",
       "<style scoped>\n",
       "    .dataframe tbody tr th:only-of-type {\n",
       "        vertical-align: middle;\n",
       "    }\n",
       "\n",
       "    .dataframe tbody tr th {\n",
       "        vertical-align: top;\n",
       "    }\n",
       "\n",
       "    .dataframe thead th {\n",
       "        text-align: right;\n",
       "    }\n",
       "</style>\n",
       "<table border=\"1\" class=\"dataframe\">\n",
       "  <thead>\n",
       "    <tr style=\"text-align: right;\">\n",
       "      <th></th>\n",
       "      <th>property_type</th>\n",
       "      <th>place_name</th>\n",
       "      <th>place_with_parent_names</th>\n",
       "      <th>state_name</th>\n",
       "      <th>price</th>\n",
       "      <th>currency</th>\n",
       "      <th>price_aprox_local_currency</th>\n",
       "      <th>price_aprox_usd</th>\n",
       "      <th>surface_total_in_m2</th>\n",
       "      <th>surface_covered_in_m2</th>\n",
       "      <th>price_usd_per_m2</th>\n",
       "      <th>price_per_m2</th>\n",
       "      <th>rooms</th>\n",
       "      <th>description</th>\n",
       "      <th>title</th>\n",
       "      <th>price_USD</th>\n",
       "      <th>superficie_TOTAL</th>\n",
       "      <th>superficie_CUBIERTA</th>\n",
       "    </tr>\n",
       "  </thead>\n",
       "  <tbody>\n",
       "    <tr>\n",
       "      <th>78</th>\n",
       "      <td>house</td>\n",
       "      <td>Posadas</td>\n",
       "      <td>|Argentina|Misiones|Posadas|</td>\n",
       "      <td>Misiones</td>\n",
       "      <td>5500000.0</td>\n",
       "      <td>ARS</td>\n",
       "      <td>5442626.35</td>\n",
       "      <td>308460.22</td>\n",
       "      <td>261.0</td>\n",
       "      <td>18615.0</td>\n",
       "      <td>1181.839923</td>\n",
       "      <td>295.460650</td>\n",
       "      <td>5.0</td>\n",
       "      <td>S/AVDA   COSTANERA ,  NUEVA  ZONA GA...</td>\n",
       "      <td>Oportunidad! Casa zona Bahía el Brete</td>\n",
       "      <td>308460.0</td>\n",
       "      <td>NaN</td>\n",
       "      <td>NaN</td>\n",
       "    </tr>\n",
       "    <tr>\n",
       "      <th>177</th>\n",
       "      <td>apartment</td>\n",
       "      <td>Villa Carlos Paz</td>\n",
       "      <td>|Argentina|Córdoba|Villa Carlos Paz|</td>\n",
       "      <td>Córdoba</td>\n",
       "      <td>470000.0</td>\n",
       "      <td>USD</td>\n",
       "      <td>8292915.00</td>\n",
       "      <td>470000.00</td>\n",
       "      <td>420.0</td>\n",
       "      <td>450.0</td>\n",
       "      <td>1119.047619</td>\n",
       "      <td>1044.444444</td>\n",
       "      <td>9.0</td>\n",
       "      <td>CASA PRINCIPAL QUE CONSTA DE 3 DORM,...</td>\n",
       "      <td>SE VENDE VIVIENDA+LOCALES COMERCIALE...</td>\n",
       "      <td>470000.0</td>\n",
       "      <td>NaN</td>\n",
       "      <td>NaN</td>\n",
       "    </tr>\n",
       "  </tbody>\n",
       "</table>\n",
       "</div>"
      ],
      "text/plain": [
       "    property_type        place_name               place_with_parent_names  \\\n",
       "78          house           Posadas          |Argentina|Misiones|Posadas|   \n",
       "177     apartment  Villa Carlos Paz  |Argentina|Córdoba|Villa Carlos Paz|   \n",
       "\n",
       "    state_name      price currency  price_aprox_local_currency  \\\n",
       "78    Misiones  5500000.0      ARS                  5442626.35   \n",
       "177    Córdoba   470000.0      USD                  8292915.00   \n",
       "\n",
       "     price_aprox_usd  surface_total_in_m2  surface_covered_in_m2  \\\n",
       "78         308460.22                261.0                18615.0   \n",
       "177        470000.00                420.0                  450.0   \n",
       "\n",
       "     price_usd_per_m2  price_per_m2  rooms  \\\n",
       "78        1181.839923    295.460650    5.0   \n",
       "177       1119.047619   1044.444444    9.0   \n",
       "\n",
       "                                 description  \\\n",
       "78   S/AVDA   COSTANERA ,  NUEVA  ZONA GA...   \n",
       "177  CASA PRINCIPAL QUE CONSTA DE 3 DORM,...   \n",
       "\n",
       "                                       title  price_USD  superficie_TOTAL  \\\n",
       "78     Oportunidad! Casa zona Bahía el Brete   308460.0               NaN   \n",
       "177  SE VENDE VIVIENDA+LOCALES COMERCIALE...   470000.0               NaN   \n",
       "\n",
       "     superficie_CUBIERTA  \n",
       "78                   NaN  \n",
       "177                  NaN  "
      ]
     },
     "execution_count": 177,
     "metadata": {},
     "output_type": "execute_result"
    }
   ],
   "source": [
    "mask_size_surfaces = data.surface_total_in_m2 < data.surface_covered_in_m2\n",
    "print('Cantidad de inconsistencias en superficie: ' + str(mask_size_surfaces.sum()))\n",
    "data.loc[mask_size_surfaces].head(2)"
   ]
  },
  {
   "cell_type": "code",
   "execution_count": 178,
   "metadata": {},
   "outputs": [
    {
     "name": "stdout",
     "output_type": "stream",
     "text": [
      "MEAN de la diferencia de superficies: 321.76\n",
      "STD de la diferencia de superficies: 2478.97\n"
     ]
    }
   ],
   "source": [
    "# Vamos a calcular la media y desvío estándar de la diferencia entre ambas sups:\n",
    "resta_sups_wrong = (data.loc[mask_size_surfaces].surface_covered_in_m2 - data.loc[mask_size_surfaces].surface_total_in_m2)\n",
    "mean_surfaces_wrong = resta_sups_wrong.mean().round(2)\n",
    "stdv_surfaces_wrong = resta_sups_wrong.std().round(2)\n",
    "\n",
    "print('MEAN de la diferencia de superficies: '+str(mean_surfaces_wrong))\n",
    "print('STD de la diferencia de superficies: '+str(stdv_surfaces_wrong))"
   ]
  },
  {
   "cell_type": "code",
   "execution_count": 179,
   "metadata": {},
   "outputs": [
    {
     "data": {
      "text/plain": [
       "1092"
      ]
     },
     "execution_count": 179,
     "metadata": {},
     "output_type": "execute_result"
    }
   ],
   "source": [
    "resta_sups_wrong.shape[0]"
   ]
  },
  {
   "cell_type": "code",
   "execution_count": 180,
   "metadata": {},
   "outputs": [
    {
     "data": {
      "text/plain": [
       "1092"
      ]
     },
     "execution_count": 180,
     "metadata": {},
     "output_type": "execute_result"
    }
   ],
   "source": [
    "mask_resta_sups_wrong_acceptable = resta_sups_wrong < mean_surfaces_right\n",
    "mask_resta_sups_wrong_acceptable.shape[0]"
   ]
  },
  {
   "cell_type": "markdown",
   "metadata": {},
   "source": [
    "Como la mayoría de la diferencia de estas superficies está por debajo de la media de las que asumo que están bien, entonces invierto los valores y los cargo en las nuevas columnas."
   ]
  },
  {
   "cell_type": "code",
   "execution_count": 181,
   "metadata": {},
   "outputs": [
    {
     "data": {
      "text/html": [
       "<div>\n",
       "<style scoped>\n",
       "    .dataframe tbody tr th:only-of-type {\n",
       "        vertical-align: middle;\n",
       "    }\n",
       "\n",
       "    .dataframe tbody tr th {\n",
       "        vertical-align: top;\n",
       "    }\n",
       "\n",
       "    .dataframe thead th {\n",
       "        text-align: right;\n",
       "    }\n",
       "</style>\n",
       "<table border=\"1\" class=\"dataframe\">\n",
       "  <thead>\n",
       "    <tr style=\"text-align: right;\">\n",
       "      <th></th>\n",
       "      <th>property_type</th>\n",
       "      <th>place_name</th>\n",
       "      <th>place_with_parent_names</th>\n",
       "      <th>state_name</th>\n",
       "      <th>price</th>\n",
       "      <th>currency</th>\n",
       "      <th>price_aprox_local_currency</th>\n",
       "      <th>price_aprox_usd</th>\n",
       "      <th>surface_total_in_m2</th>\n",
       "      <th>surface_covered_in_m2</th>\n",
       "      <th>price_usd_per_m2</th>\n",
       "      <th>price_per_m2</th>\n",
       "      <th>rooms</th>\n",
       "      <th>description</th>\n",
       "      <th>title</th>\n",
       "      <th>price_USD</th>\n",
       "      <th>superficie_TOTAL</th>\n",
       "      <th>superficie_CUBIERTA</th>\n",
       "    </tr>\n",
       "  </thead>\n",
       "  <tbody>\n",
       "    <tr>\n",
       "      <th>177</th>\n",
       "      <td>apartment</td>\n",
       "      <td>Villa Carlos Paz</td>\n",
       "      <td>|Argentina|Córdoba|Villa Carlos Paz|</td>\n",
       "      <td>Córdoba</td>\n",
       "      <td>470000.0</td>\n",
       "      <td>USD</td>\n",
       "      <td>8292915.0</td>\n",
       "      <td>470000.0</td>\n",
       "      <td>420.0</td>\n",
       "      <td>450.0</td>\n",
       "      <td>1119.047619</td>\n",
       "      <td>1044.444444</td>\n",
       "      <td>9.0</td>\n",
       "      <td>CASA PRINCIPAL QUE CONSTA DE 3 DORM,...</td>\n",
       "      <td>SE VENDE VIVIENDA+LOCALES COMERCIALE...</td>\n",
       "      <td>470000.0</td>\n",
       "      <td>NaN</td>\n",
       "      <td>NaN</td>\n",
       "    </tr>\n",
       "  </tbody>\n",
       "</table>\n",
       "</div>"
      ],
      "text/plain": [
       "    property_type        place_name               place_with_parent_names  \\\n",
       "177     apartment  Villa Carlos Paz  |Argentina|Córdoba|Villa Carlos Paz|   \n",
       "\n",
       "    state_name     price currency  price_aprox_local_currency  \\\n",
       "177    Córdoba  470000.0      USD                   8292915.0   \n",
       "\n",
       "     price_aprox_usd  surface_total_in_m2  surface_covered_in_m2  \\\n",
       "177         470000.0                420.0                  450.0   \n",
       "\n",
       "     price_usd_per_m2  price_per_m2  rooms  \\\n",
       "177       1119.047619   1044.444444    9.0   \n",
       "\n",
       "                                 description  \\\n",
       "177  CASA PRINCIPAL QUE CONSTA DE 3 DORM,...   \n",
       "\n",
       "                                       title  price_USD  superficie_TOTAL  \\\n",
       "177  SE VENDE VIVIENDA+LOCALES COMERCIALE...   470000.0               NaN   \n",
       "\n",
       "     superficie_CUBIERTA  \n",
       "177                  NaN  "
      ]
     },
     "execution_count": 181,
     "metadata": {},
     "output_type": "execute_result"
    }
   ],
   "source": [
    "# NO ME FUNCIONA!!!\n",
    "# me quedan en NaN las nuevas columnas\n",
    "\n",
    "# Agrego los datos verificados en nuevas columnas:\n",
    "#data.loc[mask_size_surfaces,'superficie_TOTAL'].loc[mask_resta_sups_wrong_acceptable] = data.loc[mask_size_surfaces,'surface_covered_in_m2'].loc[mask_resta_sups_wrong_acceptable]\n",
    "#data.loc[mask_size_surfaces.loc[mask_resta_sups_wrong_acceptable],'superficie_CUBIERTA'] = data.loc[mask_size_surfaces,'surface_total_in_m2']\n",
    "data.loc[mask_size_surfaces].loc[mask_resta_sups_wrong_acceptable].head(1)\n",
    "#mask_size_surfaces"
   ]
  },
  {
   "cell_type": "markdown",
   "metadata": {},
   "source": [
    "Vemos que la media y std son bastante mayores a los valores consistentes. \n",
    "\n",
    "Vamos a hacer algunos gráficos para identificar visualmente qué indices de mi `Serie` **diferencia_surface** tiene diferencias entre superficie \"grandes\"."
   ]
  },
  {
   "cell_type": "code",
   "execution_count": 182,
   "metadata": {},
   "outputs": [
    {
     "data": {
      "text/plain": [
       "<matplotlib.collections.PathCollection at 0x146924ddf88>"
      ]
     },
     "execution_count": 182,
     "metadata": {},
     "output_type": "execute_result"
    },
    {
     "data": {
      "image/png": "[encoded data removed]",
      "text/plain": [
       "<Figure size 432x288 with 1 Axes>"
      ]
     },
     "metadata": {
      "needs_background": "light"
     },
     "output_type": "display_data"
    }
   ],
   "source": [
    "import seaborn as sns\n",
    "import matplotlib.pyplot as plt\n",
    "fig = plt.figure()\n",
    "# creo los axes\n",
    "ax = plt.axes()\n",
    "# dibujo en axes:\n",
    "ax.scatter(resta_sups_wrong.index, resta_sups_wrong.values, marker = 'o', color = \"green\", label='serie sin', alpha = 0.4)\n"
   ]
  },
  {
   "cell_type": "code",
   "execution_count": 183,
   "metadata": {},
   "outputs": [
    {
     "data": {
      "text/html": [
       "\n",
       "    <div class=\"bk-root\">\n",
       "        <a href=\"https://bokeh.org\" target=\"_blank\" class=\"bk-logo bk-logo-small bk-logo-notebook\"></a>\n",
       "        <span id=\"1139\">Loading BokehJS ...</span>\n",
       "    </div>"
      ]
     },
     "metadata": {},
     "output_type": "display_data"
    },
    {
     "data": {
      "application/javascript": [
       "\n",
       "(function(root) {\n",
       "  function now() {\n",
       "    return new Date();\n",
       "  }\n",
       "\n",
       "  var force = true;\n",
       "\n",
       "  if (typeof root._bokeh_onload_callbacks === \"undefined\" || force === true) {\n",
       "    root._bokeh_onload_callbacks = [];\n",
       "    root._bokeh_is_loading = undefined;\n",
       "  }\n",
       "\n",
       "  var JS_MIME_TYPE = 'application/javascript';\n",
       "  var HTML_MIME_TYPE = 'text/html';\n",
       "  var EXEC_MIME_TYPE = 'application/vnd.bokehjs_exec.v0+json';\n",
       "  var CLASS_NAME = 'output_bokeh rendered_html';\n",
       "\n",
       "  /**\n",
       "   * Render data to the DOM node\n",
       "   */\n",
       "  function render(props, node) {\n",
       "    var script = document.createElement(\"script\");\n",
       "    node.appendChild(script);\n",
       "  }\n",
       "\n",
       "  /**\n",
       "   * Handle when an output is cleared or removed\n",
       "   */\n",
       "  function handleClearOutput(event, handle) {\n",
       "    var cell = handle.cell;\n",
       "\n",
       "    var id = cell.output_area._bokeh_element_id;\n",
       "    var server_id = cell.output_area._bokeh_server_id;\n",
       "    // Clean up Bokeh references\n",
       "    if (id != null && id in Bokeh.index) {\n",
       "      Bokeh.index[id].model.document.clear();\n",
       "      delete Bokeh.index[id];\n",
       "    }\n",
       "\n",
       "    if (server_id !== undefined) {\n",
       "      // Clean up Bokeh references\n",
       "      var cmd = \"from bokeh.io.state import curstate; print(curstate().uuid_to_server['\" + server_id + \"'].get_sessions()[0].document.roots[0]._id)\";\n",
       "      cell.notebook.kernel.execute(cmd, {\n",
       "        iopub: {\n",
       "          output: function(msg) {\n",
       "            var id = msg.content.text.trim();\n",
       "            if (id in Bokeh.index) {\n",
       "              Bokeh.index[id].model.document.clear();\n",
       "              delete Bokeh.index[id];\n",
       "            }\n",
       "          }\n",
       "        }\n",
       "      });\n",
       "      // Destroy server and session\n",
       "      var cmd = \"import bokeh.io.notebook as ion; ion.destroy_server('\" + server_id + \"')\";\n",
       "      cell.notebook.kernel.execute(cmd);\n",
       "    }\n",
       "  }\n",
       "\n",
       "  /**\n",
       "   * Handle when a new output is added\n",
       "   */\n",
       "  function handleAddOutput(event, handle) {\n",
       "    var output_area = handle.output_area;\n",
       "    var output = handle.output;\n",
       "\n",
       "    // limit handleAddOutput to display_data with EXEC_MIME_TYPE content only\n",
       "    if ((output.output_type != \"display_data\") || (!output.data.hasOwnProperty(EXEC_MIME_TYPE))) {\n",
       "      return\n",
       "    }\n",
       "\n",
       "    var toinsert = output_area.element.find(\".\" + CLASS_NAME.split(' ')[0]);\n",
       "\n",
       "    if (output.metadata[EXEC_MIME_TYPE][\"id\"] !== undefined) {\n",
       "      toinsert[toinsert.length - 1].firstChild.textContent = output.data[JS_MIME_TYPE];\n",
       "      // store reference to embed id on output_area\n",
       "      output_area._bokeh_element_id = output.metadata[EXEC_MIME_TYPE][\"id\"];\n",
       "    }\n",
       "    if (output.metadata[EXEC_MIME_TYPE][\"server_id\"] !== undefined) {\n",
       "      var bk_div = document.createElement(\"div\");\n",
       "      bk_div.innerHTML = output.data[HTML_MIME_TYPE];\n",
       "      var script_attrs = bk_div.children[0].attributes;\n",
       "      for (var i = 0; i < script_attrs.length; i++) {\n",
       "        toinsert[toinsert.length - 1].firstChild.setAttribute(script_attrs[i].name, script_attrs[i].value);\n",
       "        toinsert[toinsert.length - 1].firstChild.textContent = bk_div.children[0].textContent\n",
       "      }\n",
       "      // store reference to server id on output_area\n",
       "      output_area._bokeh_server_id = output.metadata[EXEC_MIME_TYPE][\"server_id\"];\n",
       "    }\n",
       "  }\n",
       "\n",
       "  function register_renderer(events, OutputArea) {\n",
       "\n",
       "    function append_mime(data, metadata, element) {\n",
       "      // create a DOM node to render to\n",
       "      var toinsert = this.create_output_subarea(\n",
       "        metadata,\n",
       "        CLASS_NAME,\n",
       "        EXEC_MIME_TYPE\n",
       "      );\n",
       "      this.keyboard_manager.register_events(toinsert);\n",
       "      // Render to node\n",
       "      var props = {data: data, metadata: metadata[EXEC_MIME_TYPE]};\n",
       "      render(props, toinsert[toinsert.length - 1]);\n",
       "      element.append(toinsert);\n",
       "      return toinsert\n",
       "    }\n",
       "\n",
       "    /* Handle when an output is cleared or removed */\n",
       "    events.on('clear_output.CodeCell', handleClearOutput);\n",
       "    events.on('delete.Cell', handleClearOutput);\n",
       "\n",
       "    /* Handle when a new output is added */\n",
       "    events.on('output_added.OutputArea', handleAddOutput);\n",
       "\n",
       "    /**\n",
       "     * Register the mime type and append_mime function with output_area\n",
       "     */\n",
       "    OutputArea.prototype.register_mime_type(EXEC_MIME_TYPE, append_mime, {\n",
       "      /* Is output safe? */\n",
       "      safe: true,\n",
       "      /* Index of renderer in `output_area.display_order` */\n",
       "      index: 0\n",
       "    });\n",
       "  }\n",
       "\n",
       "  // register the mime type if in Jupyter Notebook environment and previously unregistered\n",
       "  if (root.Jupyter !== undefined) {\n",
       "    var events = require('base/js/events');\n",
       "    var OutputArea = require('notebook/js/outputarea').OutputArea;\n",
       "\n",
       "    if (OutputArea.prototype.mime_types().indexOf(EXEC_MIME_TYPE) == -1) {\n",
       "      register_renderer(events, OutputArea);\n",
       "    }\n",
       "  }\n",
       "\n",
       "  \n",
       "  if (typeof (root._bokeh_timeout) === \"undefined\" || force === true) {\n",
       "    root._bokeh_timeout = Date.now() + 5000;\n",
       "    root._bokeh_failed_load = false;\n",
       "  }\n",
       "\n",
       "  var NB_LOAD_WARNING = {'data': {'text/html':\n",
       "     \"<div style='background-color: #fdd'>\\n\"+\n",
       "     \"<p>\\n\"+\n",
       "     \"BokehJS does not appear to have successfully loaded. If loading BokehJS from CDN, this \\n\"+\n",
       "     \"may be due to a slow or bad network connection. Possible fixes:\\n\"+\n",
       "     \"</p>\\n\"+\n",
       "     \"<ul>\\n\"+\n",
       "     \"<li>re-rerun `output_notebook()` to attempt to load from CDN again, or</li>\\n\"+\n",
       "     \"<li>use INLINE resources instead, as so:</li>\\n\"+\n",
       "     \"</ul>\\n\"+\n",
       "     \"<code>\\n\"+\n",
       "     \"from bokeh.resources import INLINE\\n\"+\n",
       "     \"output_notebook(resources=INLINE)\\n\"+\n",
       "     \"</code>\\n\"+\n",
       "     \"</div>\"}};\n",
       "\n",
       "  function display_loaded() {\n",
       "    var el = document.getElementById(\"1139\");\n",
       "    if (el != null) {\n",
       "      el.textContent = \"BokehJS is loading...\";\n",
       "    }\n",
       "    if (root.Bokeh !== undefined) {\n",
       "      if (el != null) {\n",
       "        el.textContent = \"BokehJS \" + root.Bokeh.version + \" successfully loaded.\";\n",
       "      }\n",
       "    } else if (Date.now() < root._bokeh_timeout) {\n",
       "      setTimeout(display_loaded, 100)\n",
       "    }\n",
       "  }\n",
       "\n",
       "\n",
       "  function run_callbacks() {\n",
       "    try {\n",
       "      root._bokeh_onload_callbacks.forEach(function(callback) {\n",
       "        if (callback != null)\n",
       "          callback();\n",
       "      });\n",
       "    } finally {\n",
       "      delete root._bokeh_onload_callbacks\n",
       "    }\n",
       "    console.debug(\"Bokeh: all callbacks have finished\");\n",
       "  }\n",
       "\n",
       "  function load_libs(css_urls, js_urls, callback) {\n",
       "    if (css_urls == null) css_urls = [];\n",
       "    if (js_urls == null) js_urls = [];\n",
       "\n",
       "    root._bokeh_onload_callbacks.push(callback);\n",
       "    if (root._bokeh_is_loading > 0) {\n",
       "      console.debug(\"Bokeh: BokehJS is being loaded, scheduling callback at\", now());\n",
       "      return null;\n",
       "    }\n",
       "    if (js_urls == null || js_urls.length === 0) {\n",
       "      run_callbacks();\n",
       "      return null;\n",
       "    }\n",
       "    console.debug(\"Bokeh: BokehJS not loaded, scheduling load and callback at\", now());\n",
       "    root._bokeh_is_loading = css_urls.length + js_urls.length;\n",
       "\n",
       "    function on_load() {\n",
       "      root._bokeh_is_loading--;\n",
       "      if (root._bokeh_is_loading === 0) {\n",
       "        console.debug(\"Bokeh: all BokehJS libraries/stylesheets loaded\");\n",
       "        run_callbacks()\n",
       "      }\n",
       "    }\n",
       "\n",
       "    function on_error() {\n",
       "      console.error(\"failed to load \" + url);\n",
       "    }\n",
       "\n",
       "    for (var i = 0; i < css_urls.length; i++) {\n",
       "      var url = css_urls[i];\n",
       "      const element = document.createElement(\"link\");\n",
       "      element.onload = on_load;\n",
       "      element.onerror = on_error;\n",
       "      element.rel = \"stylesheet\";\n",
       "      element.type = \"text/css\";\n",
       "      element.href = url;\n",
       "      console.debug(\"Bokeh: injecting link tag for BokehJS stylesheet: \", url);\n",
       "      document.body.appendChild(element);\n",
       "    }\n",
       "\n",
       "    for (var i = 0; i < js_urls.length; i++) {\n",
       "      var url = js_urls[i];\n",
       "      var element = document.createElement('script');\n",
       "      element.onload = on_load;\n",
       "      element.onerror = on_error;\n",
       "      element.async = false;\n",
       "      element.src = url;\n",
       "      \n",
       "      console.debug(\"Bokeh: injecting script tag for BokehJS library: \", url);\n",
       "      document.head.appendChild(element);\n",
       "    }\n",
       "  };var element = document.getElementById(\"1139\");\n",
       "  if (element == null) {\n",
       "    console.error(\"Bokeh: ERROR: autoload.js configured with elementid '1139' but no matching script tag was found. \")\n",
       "    return false;\n",
       "  }\n",
       "\n",
       "  function inject_raw_css(css) {\n",
       "    const element = document.createElement(\"style\");\n",
       "    element.appendChild(document.createTextNode(css));\n",
       "    document.body.appendChild(element);\n",
       "  }\n",
       "\n",
       "  \n",
       "  var js_urls = [\"https://cdn.bokeh.org/bokeh/release/bokeh-2.0.0.min.js\", \"https://cdn.bokeh.org/bokeh/release/bokeh-widgets-2.0.0.min.js\", \"https://cdn.bokeh.org/bokeh/release/bokeh-tables-2.0.0.min.js\", \"https://cdn.bokeh.org/bokeh/release/bokeh-gl-2.0.0.min.js\"];\n",
       "  var css_urls = [];\n",
       "  \n",
       "\n",
       "  var inline_js = [\n",
       "    function(Bokeh) {\n",
       "      Bokeh.set_log_level(\"info\");\n",
       "    },\n",
       "    function(Bokeh) {\n",
       "    \n",
       "    \n",
       "    }\n",
       "  ];\n",
       "\n",
       "  function run_inline_js() {\n",
       "    \n",
       "    if (root.Bokeh !== undefined || force === true) {\n",
       "      \n",
       "    for (var i = 0; i < inline_js.length; i++) {\n",
       "      inline_js[i].call(root, root.Bokeh);\n",
       "    }\n",
       "    if (force === true) {\n",
       "        display_loaded();\n",
       "      }} else if (Date.now() < root._bokeh_timeout) {\n",
       "      setTimeout(run_inline_js, 100);\n",
       "    } else if (!root._bokeh_failed_load) {\n",
       "      console.log(\"Bokeh: BokehJS failed to load within specified timeout.\");\n",
       "      root._bokeh_failed_load = true;\n",
       "    } else if (force !== true) {\n",
       "      var cell = $(document.getElementById(\"1139\")).parents('.cell').data().cell;\n",
       "      cell.output_area.append_execute_result(NB_LOAD_WARNING)\n",
       "    }\n",
       "\n",
       "  }\n",
       "\n",
       "  if (root._bokeh_is_loading === 0) {\n",
       "    console.debug(\"Bokeh: BokehJS loaded, going straight to plotting\");\n",
       "    run_inline_js();\n",
       "  } else {\n",
       "    load_libs(css_urls, js_urls, function() {\n",
       "      console.debug(\"Bokeh: BokehJS plotting callback run at\", now());\n",
       "      run_inline_js();\n",
       "    });\n",
       "  }\n",
       "}(window));"
      ],
      "application/vnd.bokehjs_load.v0+json": "\n(function(root) {\n  function now() {\n    return new Date();\n  }\n\n  var force = true;\n\n  if (typeof root._bokeh_onload_callbacks === \"undefined\" || force === true) {\n    root._bokeh_onload_callbacks = [];\n    root._bokeh_is_loading = undefined;\n  }\n\n  \n\n  \n  if (typeof (root._bokeh_timeout) === \"undefined\" || force === true) {\n    root._bokeh_timeout = Date.now() + 5000;\n    root._bokeh_failed_load = false;\n  }\n\n  var NB_LOAD_WARNING = {'data': {'text/html':\n     \"<div style='background-color: #fdd'>\\n\"+\n     \"<p>\\n\"+\n     \"BokehJS does not appear to have successfully loaded. If loading BokehJS from CDN, this \\n\"+\n     \"may be due to a slow or bad network connection. Possible fixes:\\n\"+\n     \"</p>\\n\"+\n     \"<ul>\\n\"+\n     \"<li>re-rerun `output_notebook()` to attempt to load from CDN again, or</li>\\n\"+\n     \"<li>use INLINE resources instead, as so:</li>\\n\"+\n     \"</ul>\\n\"+\n     \"<code>\\n\"+\n     \"from bokeh.resources import INLINE\\n\"+\n     \"output_notebook(resources=INLINE)\\n\"+\n     \"</code>\\n\"+\n     \"</div>\"}};\n\n  function display_loaded() {\n    var el = document.getElementById(\"1139\");\n    if (el != null) {\n      el.textContent = \"BokehJS is loading...\";\n    }\n    if (root.Bokeh !== undefined) {\n      if (el != null) {\n        el.textContent = \"BokehJS \" + root.Bokeh.version + \" successfully loaded.\";\n      }\n    } else if (Date.now() < root._bokeh_timeout) {\n      setTimeout(display_loaded, 100)\n    }\n  }\n\n\n  function run_callbacks() {\n    try {\n      root._bokeh_onload_callbacks.forEach(function(callback) {\n        if (callback != null)\n          callback();\n      });\n    } finally {\n      delete root._bokeh_onload_callbacks\n    }\n    console.debug(\"Bokeh: all callbacks have finished\");\n  }\n\n  function load_libs(css_urls, js_urls, callback) {\n    if (css_urls == null) css_urls = [];\n    if (js_urls == null) js_urls = [];\n\n    root._bokeh_onload_callbacks.push(callback);\n    if (root._bokeh_is_loading > 0) {\n      console.debug(\"Bokeh: BokehJS is being loaded, scheduling callback at\", now());\n      return null;\n    }\n    if (js_urls == null || js_urls.length === 0) {\n      run_callbacks();\n      return null;\n    }\n    console.debug(\"Bokeh: BokehJS not loaded, scheduling load and callback at\", now());\n    root._bokeh_is_loading = css_urls.length + js_urls.length;\n\n    function on_load() {\n      root._bokeh_is_loading--;\n      if (root._bokeh_is_loading === 0) {\n        console.debug(\"Bokeh: all BokehJS libraries/stylesheets loaded\");\n        run_callbacks()\n      }\n    }\n\n    function on_error() {\n      console.error(\"failed to load \" + url);\n    }\n\n    for (var i = 0; i < css_urls.length; i++) {\n      var url = css_urls[i];\n      const element = document.createElement(\"link\");\n      element.onload = on_load;\n      element.onerror = on_error;\n      element.rel = \"stylesheet\";\n      element.type = \"text/css\";\n      element.href = url;\n      console.debug(\"Bokeh: injecting link tag for BokehJS stylesheet: \", url);\n      document.body.appendChild(element);\n    }\n\n    for (var i = 0; i < js_urls.length; i++) {\n      var url = js_urls[i];\n      var element = document.createElement('script');\n      element.onload = on_load;\n      element.onerror = on_error;\n      element.async = false;\n      element.src = url;\n      \n      console.debug(\"Bokeh: injecting script tag for BokehJS library: \", url);\n      document.head.appendChild(element);\n    }\n  };var element = document.getElementById(\"1139\");\n  if (element == null) {\n    console.error(\"Bokeh: ERROR: autoload.js configured with elementid '1139' but no matching script tag was found. \")\n    return false;\n  }\n\n  function inject_raw_css(css) {\n    const element = document.createElement(\"style\");\n    element.appendChild(document.createTextNode(css));\n    document.body.appendChild(element);\n  }\n\n  \n  var js_urls = [\"https://cdn.bokeh.org/bokeh/release/bokeh-2.0.0.min.js\", \"https://cdn.bokeh.org/bokeh/release/bokeh-widgets-2.0.0.min.js\", \"https://cdn.bokeh.org/bokeh/release/bokeh-tables-2.0.0.min.js\", \"https://cdn.bokeh.org/bokeh/release/bokeh-gl-2.0.0.min.js\"];\n  var css_urls = [];\n  \n\n  var inline_js = [\n    function(Bokeh) {\n      Bokeh.set_log_level(\"info\");\n    },\n    function(Bokeh) {\n    \n    \n    }\n  ];\n\n  function run_inline_js() {\n    \n    if (root.Bokeh !== undefined || force === true) {\n      \n    for (var i = 0; i < inline_js.length; i++) {\n      inline_js[i].call(root, root.Bokeh);\n    }\n    if (force === true) {\n        display_loaded();\n      }} else if (Date.now() < root._bokeh_timeout) {\n      setTimeout(run_inline_js, 100);\n    } else if (!root._bokeh_failed_load) {\n      console.log(\"Bokeh: BokehJS failed to load within specified timeout.\");\n      root._bokeh_failed_load = true;\n    } else if (force !== true) {\n      var cell = $(document.getElementById(\"1139\")).parents('.cell').data().cell;\n      cell.output_area.append_execute_result(NB_LOAD_WARNING)\n    }\n\n  }\n\n  if (root._bokeh_is_loading === 0) {\n    console.debug(\"Bokeh: BokehJS loaded, going straight to plotting\");\n    run_inline_js();\n  } else {\n    load_libs(css_urls, js_urls, function() {\n      console.debug(\"Bokeh: BokehJS plotting callback run at\", now());\n      run_inline_js();\n    });\n  }\n}(window));"
     },
     "metadata": {},
     "output_type": "display_data"
    },
    {
     "data": {
      "text/html": [
       "\n",
       "\n",
       "\n",
       "\n",
       "\n",
       "\n",
       "  <div class=\"bk-root\" id=\"b791eb07-95fa-4d2c-b273-761b7265d306\" data-root-id=\"1102\"></div>\n"
      ]
     },
     "metadata": {},
     "output_type": "display_data"
    },
    {
     "data": {
      "application/javascript": [
       "(function(root) {\n",
       "  function embed_document(root) {\n",
       "    \n",
       "  var docs_json = {\"698eaba1-e1da-482b-9381-10c51203b8f6\":{\"roots\":{\"references\":[{\"attributes\":{\"below\":[{\"id\":\"1111\"}],\"center\":[{\"id\":\"1114\"},{\"id\":\"1118\"}],\"left\":[{\"id\":\"1115\"}],\"plot_height\":400,\"renderers\":[{\"id\":\"1135\"}],\"title\":{\"id\":\"1150\"},\"toolbar\":{\"id\":\"1125\"},\"x_range\":{\"id\":\"1103\"},\"x_scale\":{\"id\":\"1107\"},\"y_range\":{\"id\":\"1105\"},\"y_scale\":{\"id\":\"1109\"}},\"id\":\"1102\",\"subtype\":\"Figure\",\"type\":\"Plot\"},{\"attributes\":{},\"id\":\"1119\",\"type\":\"PanTool\"},{\"attributes\":{},\"id\":\"1120\",\"type\":\"WheelZoomTool\"},{\"attributes\":{},\"id\":\"1152\",\"type\":\"BasicTickFormatter\"},{\"attributes\":{\"overlay\":{\"id\":\"1155\"}},\"id\":\"1121\",\"type\":\"BoxZoomTool\"},{\"attributes\":{},\"id\":\"1107\",\"type\":\"LinearScale\"},{\"attributes\":{},\"id\":\"1122\",\"type\":\"SaveTool\"},{\"attributes\":{},\"id\":\"1156\",\"type\":\"UnionRenderers\"},{\"attributes\":{\"formatter\":{\"id\":\"1152\"},\"ticker\":{\"id\":\"1112\"}},\"id\":\"1111\",\"type\":\"LinearAxis\"},{\"attributes\":{},\"id\":\"1124\",\"type\":\"HelpTool\"},{\"attributes\":{},\"id\":\"1157\",\"type\":\"Selection\"},{\"attributes\":{},\"id\":\"1123\",\"type\":\"ResetTool\"},{\"attributes\":{},\"id\":\"1109\",\"type\":\"LinearScale\"},{\"attributes\":{\"fill_color\":{\"value\":\"#1f77b4\"},\"line_color\":{\"value\":\"#1f77b4\"},\"size\":{\"units\":\"screen\",\"value\":8},\"x\":{\"field\":\"x\"},\"y\":{\"field\":\"y\"}},\"id\":\"1133\",\"type\":\"Circle\"},{\"attributes\":{\"text\":\"\"},\"id\":\"1150\",\"type\":\"Title\"},{\"attributes\":{\"source\":{\"id\":\"1132\"}},\"id\":\"1136\",\"type\":\"CDSView\"},{\"attributes\":{},\"id\":\"1112\",\"type\":\"BasicTicker\"},{\"attributes\":{\"axis\":{\"id\":\"1111\"},\"ticker\":null},\"id\":\"1114\",\"type\":\"Grid\"},{\"attributes\":{\"formatter\":{\"id\":\"1154\"},\"ticker\":{\"id\":\"1116\"}},\"id\":\"1115\",\"type\":\"LinearAxis\"},{\"attributes\":{\"bottom_units\":\"screen\",\"fill_alpha\":0.5,\"fill_color\":\"lightgrey\",\"left_units\":\"screen\",\"level\":\"overlay\",\"line_alpha\":1.0,\"line_color\":\"black\",\"line_dash\":[4,4],\"line_width\":2,\"render_mode\":\"css\",\"right_units\":\"screen\",\"top_units\":\"screen\"},\"id\":\"1155\",\"type\":\"BoxAnnotation\"},{\"attributes\":{\"data_source\":{\"id\":\"1132\"},\"glyph\":{\"id\":\"1133\"},\"hover_glyph\":null,\"muted_glyph\":null,\"nonselection_glyph\":{\"id\":\"1134\"},\"selection_glyph\":null,\"view\":{\"id\":\"1136\"}},\"id\":\"1135\",\"type\":\"GlyphRenderer\"},{\"attributes\":{},\"id\":\"1116\",\"type\":\"BasicTicker\"},{\"attributes\":{\"active_drag\":\"auto\",\"active_inspect\":\"auto\",\"active_multi\":null,\"active_scroll\":\"auto\",\"active_tap\":\"auto\",\"tools\":[{\"id\":\"1119\"},{\"id\":\"1120\"},{\"id\":\"1121\"},{\"id\":\"1122\"},{\"id\":\"1123\"},{\"id\":\"1124\"},{\"id\":\"1137\"}]},\"id\":\"1125\",\"type\":\"Toolbar\"},{\"attributes\":{},\"id\":\"1154\",\"type\":\"BasicTickFormatter\"},{\"attributes\":{\"data\":{\"x\":[78,177,316,455,668,918,1397,1598,1690,1696,1703,1802,1804,1811,1868,2443,2487,2529,2584,2876,2884,2942,3487,3491,3499,3719,3822,3838,3860,3884,3889,3906,3909,3947,3952,3959,3973,4048,4068,4115,4121,4182,4189,4282,4363,4526,4833,5089,5098,5303,5401,5531,5610,6008,6016,6030,6083,6264,6272,6312,6536,6650,6724,6773,6870,6874,6875,6891,6903,6907,6911,6918,6920,6922,6941,6949,6958,6960,6970,6979,6983,6984,6996,6999,7016,7017,7022,7026,7250,7445,7452,7562,7645,7719,7851,7883,7907,8193,8352,8643,8717,8725,8727,8729,8730,8734,8741,8872,8924,8935,8945,9130,9153,9173,9350,9372,9446,9661,9857,9866,9877,10167,10179,10208,10287,10300,10304,10419,10605,10706,10753,10756,10824,10895,10971,11096,11319,11342,11348,11367,11422,11444,11583,11686,11751,11767,11772,11782,11784,12083,12429,12559,12563,12625,12745,12877,12893,12934,13144,13170,13455,13524,13551,13597,13601,13603,13610,13618,13621,13699,13800,13801,13812,13814,13823,13844,13867,13945,14237,14296,14316,14547,14690,14769,14770,14779,14974,15276,15294,15335,15360,15369,15393,15542,15677,15813,15874,15941,15959,16132,16158,16170,16206,16369,16551,16578,16640,16653,16900,16925,16962,17025,17379,17397,17628,17636,17680,17681,17696,17712,17735,17761,17790,18271,18366,18388,18395,18408,18409,18647,18717,18724,18729,18778,18865,19148,19173,19183,19253,19311,19807,20208,20235,20244,20250,20285,20420,20423,20424,20439,20531,20765,20928,21138,21195,21211,21259,21263,21266,21273,21274,21277,21278,21309,21313,21322,21325,21328,21345,21372,21377,21381,21421,21531,21654,21672,22106,22125,22146,22312,22321,22338,22400,22420,22453,22562,22924,22929,22992,23254,23288,23728,23737,23740,23747,23755,23759,23760,23762,23765,23769,23777,23778,23807,23815,23823,23829,23900,23953,24041,24176,24237,24252,24438,24580,24589,24609,24635,24762,24769,24779,24871,24894,24980,24990,25051,25101,25139,25217,25415,25465,25761,25985,26247,26352,26511,26521,26554,26646,26697,26737,26858,26872,26916,26956,27040,27448,27449,27460,27483,27522,27529,27530,27667,27835,27836,27837,28215,28233,28234,28282,28369,28370,28372,28373,28374,28456,28457,28458,28459,28482,28485,28697,28702,28868,28869,29070,29088,29241,29250,29261,29266,29267,29290,29292,29347,29438,29521,29609,29610,29631,30154,30635,30668,30739,30758,30885,30925,30972,30992,31069,31520,31744,31807,31944,31989,32020,32021,32194,32236,32439,32488,32526,32830,32842,32874,32947,33086,33108,33143,33144,33146,33150,33151,33157,33160,33163,33169,33266,33273,33388,33389,33496,33548,33573,33690,33888,34036,34039,34046,34049,34051,34056,34073,34074,34075,34082,34083,34085,34089,34099,34100,34107,34108,34110,34111,34229,34307,34455,34582,34648,34649,34663,34809,34940,35151,35156,35478,35628,35778,35874,35889,35966,35967,35991,36264,36270,36283,36383,36492,36576,36602,36803,36888,36959,36961,37073,37077,37083,37309,37351,37354,37368,37369,37398,37615,37676,37798,37866,37955,38135,38448,38498,38589,38611,38792,38829,38835,38917,39221,39236,39259,39892,40127,40147,40172,40185,40239,40315,40446,40453,40454,40456,40457,40467,40472,40726,40741,40773,40789,41445,41589,41731,41761,41790,41820,41824,41825,41858,41864,41932,41933,41934,41935,41937,41939,41942,41943,41944,41945,41947,41960,41962,41963,41974,41976,41977,41980,41982,42341,42608,42753,42754,42800,42844,42848,42949,43111,43119,43127,43131,43139,43182,43221,43287,43323,43356,43372,43524,43685,43891,43929,44241,44275,44614,44748,44752,44754,44773,44778,44792,44934,45013,45034,45178,45450,45499,45505,45686,45695,45748,45764,45765,45774,45844,45864,45865,46042,46086,46148,46149,46150,46266,46473,46571,46715,46808,46919,46989,47377,47478,47494,47541,47832,47957,47962,48128,48486,48492,48531,48536,48967,49159,49199,49236,49609,49852,50316,50460,50500,50575,50713,50715,50724,50829,51154,51183,51199,51201,51205,51329,51337,51785,51825,51906,52260,52291,52530,52534,52544,52550,52552,52618,52708,52779,52972,53325,53336,53342,53824,53833,53922,53929,54562,54572,54576,54587,54699,54789,54897,54963,54966,54987,55023,55249,55477,55479,55482,55483,55497,55508,55517,55519,55523,55636,55725,56349,56350,56364,56395,56919,56986,57090,57384,57505,57650,57917,58464,58471,58598,58618,58674,59014,59108,59110,59182,59241,59245,59248,59608,59757,59758,59769,59774,59801,59815,59823,59917,60092,60283,60466,60779,60793,61698,61740,61895,62198,62209,62229,62230,62231,62235,62256,62259,62271,62276,62284,62721,62722,62948,63171,63414,63453,63610,63700,63736,63758,63857,64183,64222,64815,64870,65225,65706,65715,66249,66256,66762,66807,66820,67110,67464,67466,67485,67487,67500,67590,67778,68065,68187,68304,68754,68758,68773,68808,69033,69260,69282,69384,69589,69688,69812,70255,70614,70692,70731,71655,71915,71920,71986,72106,72809,72836,72979,73171,73304,73657,73668,73763,73779,73905,74251,74342,74396,74682,75051,76447,76892,77369,77380,77427,77448,77541,77836,78050,78472,78487,78554,78610,79777,80502,80695,80821,81007,81255,81569,82375,82408,82413,82725,83158,83680,83772,83789,83809,83926,84077,84162,84165,84356,84416,84426,84504,84517,84868,85279,86124,86132,86383,86764,87903,88231,88282,88955,90883,91512,91619,91913,92148,92187,92239,92284,92408,92646,92661,93571,94486,94560,94655,95143,95174,95190,95199,95306,95349,95456,95749,95796,96238,96246,97175,97278,97419,97425,97746,98091,99072,99191,99480,99587,99745,100253,100815,100865,100898,101354,101412,101420,101505,102179,102188,102197,102217,102228,102239,102248,102260,102273,102288,102297,102314,102319,102325,102335,102349,102368,102377,102388,102692,103204,103248,103931,104326,104377,104390,104412,104464,104488,104499,104515,104709,104719,104765,105080,105326,105328,105331,105698,105782,105788,105798,105801,105886,106100,106111,106849,106850,106938,106944,106948,106949,106950,106953,106954,106955,106963,106964,106972,106979,106986,106992,106996,106998,107001,107005,107010,107016,107022,107028,107034,107055,107057,107059,107088,107091,107095,107099,107102,107107,107110,107115,107118,107133,107137,107149,107162,107173,107178,107183,107188,107192,107196,107197,107202,107225,107233,107236,107269,107270,107311,107316,107328,107333,107345,107350,107383,107401,107416,107422,107428,107431,107450,107489,107493,107497,107513,107519,107537,107626,107686,107691,107700,107761,107766,107770,107777,107793,107794,107798,107803,108142,108143,108162,108733,109495,109497,109563,110112,110113,110180,110492,110616,110633,111266,111368,111510,111514,112802,112803,112852,113310,113388,113400,113593,113829,113882,113886,114080,114237,114241,114296,116260,116280,116283,116883,117192,117211,117533,118327,119563,119565,119778,119784,119787,119830,119846,120124,120168,120181,120202,120302,121055],\"y\":{\"__ndarray__\":\"AAAAAIDs0UAAAAAAAAA+QAAAAAAAAD9AAAAAAABAcEAAAAAAAABJQAAAAAAAABRAAAAAAAAAIkAAAAAAAAAuQAAAAAAAQGBAAAAAAAAACEAAAAAAAABJQAAAAAAAAFRAAAAAAAAAJEAAAAAAAABJQAAAAAAAgFZAAAAAAACAQ0AAAAAAAAA2QAAAAAAAwGdAAAAAAAAAFEAAAAAAAABZQAAAAAAAABRAAAAAAACgZEAAAAAAAAAkQAAAAAAAAD5AAAAAAACAVkAAAAAAAIBDQAAAAAAAABRAAAAAAAAAQUAAAAAAAAAQQAAAAAAAAABAAAAAAAAATkAAAAAAAAAcQAAAAAAAADRAAAAAAAAAIkAAAAAAAAAUQAAAAAAAAC5AAAAAAAAAEEAAAAAAAABAQAAAAAAAAEdAAAAAAACwg0AAAAAAAFCBQAAAAAAAAEJAAAAAAAAAS0AAAAAAAABJQAAAAAAAAElAAAAAAAAACEAAAAAAAAA5QAAAAAAA4GVAAAAAAAAACEAAAAAAAAA+QAAAAAAAwFhAAAAAAACAQEAAAAAAAIBWQAAAAAAAAFRAAAAAAAAAHEAAAAAAAAAcQAAAAAAA8IRAAAAAAAAAKEAAAAAAAABJQAAAAAAAAAhAAAAAAAAAAEAAAAAAAABGQAAAAAAAAD9AAAAAAACAR0AAAAAAAAAuQAAAAAAAADRAAAAAAAAAMEAAAAAAAAAcQAAAAAAAADJAAAAAAAAAKkAAAAAAAIBHQAAAAAAAAD5AAAAAAAAAPkAAAAAAAAAQQAAAAAAAAERAAAAAAAAAT0AAAAAAAABEQAAAAAAAADdAAAAAAAAALkAAAAAAAAAoQAAAAAAAAERAAAAAAAAATkAAAAAAAABBQAAAAAAAAD5AAAAAAADAYkAAAAAAAMBiQAAAAAAAWIpAAAAAAAAAVkAAAAAAAAAQQAAAAAAAgGNAAAAAAAAAFEAAAAAAAEBcQAAAAAAA8IlAAAAAAACgYEAAAAAAAABGQAAAAAAAkI1AAAAAAACgYkAAAAAAAAA4QAAAAAAAABBAAAAAAADAckAAAAAAAAA8QAAAAAAAAPA/AAAAAAAAGEAAAAAAAAAxQAAAAAAAAD9AAAAAAAAAHEAAAAAAAAA0QAAAAAAAAC5AAAAAAAAAWUAAAAAAAAAIQAAAAAAAgFFAAAAAAADAYkAAAAAAAIBAQAAAAAAAgEhAAAAAAAAAQUAAAAAAAAAUQAAAAAAAgGFAAAAAAAAAREAAAAAAAEB/QAAAAAAAwFRAAAAAAACASUAAAAAAAABJQAAAAAAAAC5AAAAAAAAAGEAAAAAAAAAUQAAAAAAAAFRAAAAAAAAATkAAAAAAAAAAQAAAAAAAwGJAAAAAAACARkAAAAAAAABLQAAAAAAAAEVAAAAAAIBFxUAAAAAAAECaQAAAAAAAQG9AAAAAAAAAUEAAAAAAAAAUQAAAAAAAwF1AAAAAAAAAXUAAAAAAAAA9QAAAAAAAgJFAAAAAAAAAXUAAAAAAAAAIQAAAAAAAQFZAAAAAAAAAAEAAAAAAAIBLQAAAAAAAQFBAAAAAAACAQUAAAAAAAABEQAAAAAAAAFBAAAAAAAAQdUAAAAAAAAA/QAAAAAAAADFAAAAAAAAAXkAAAAAAAICmQAAAAAAAAD9AAAAAAAAAN0AAAAAAAIBGQAAAAAAAQGVAAAAAAAAAJEAAAAAAAMCCQAAAAAAAACRAAAAAAACARkAAAAAAAABVQAAAAAAAAENAAAAAAAAAAEAAAAAAAAAAQAAAAAAAQFxAAAAAAAAAAEAAAAAAAB+9QAAAAAAAACBAAAAAAACARUAAAAAAAFB4QAAAAAAAYGFAAAAAAAAAOUAAAAAAAABOQAAAAAAAADhAAAAAAAAAAEAAAAAAAMBaQAAAAAAAyJhAAAAAAACQhUAAAAAAAAA2QAAAAAAAFKRAAAAAAEBe0UAAAAAAAIBCQAAAAAAAQGBAAAAAAAAAMkAAAAAAAEB/QAAAAAAAABBAAAAAAAAAAEAAAAAAAIBCQAAAAAAAAC5AAAAAAAAAN0AAAAAAAAAyQAAAAAAAAPA/AAAAAAAAQkAAAAAAAAAwQAAAAAAAAChAAAAAAAAALEAAAAAAAAAkQAAAAAAAAPA/AAAAAAAAUUAAAAAAAAAQQAAAAAAAABhAAAAAAAAAJEAAAAAAAAAUQAAAAAAAAERAAAAAAAAAQEAAAAAAALyaQAAAAAAAAFlAAAAAAAAAMkAAAAAAAAAgQAAAAAAAABBAAAAAAAAAUkAAAAAAAAAAQAAAAAAAABBAAAAAAAAANEAAAAAAAABJQAAAAAAAADdAAAAAAAAAAEAAAAAAAAA0QAAAAAAAACZAAAAAAADAXEAAAAAAAMBSQAAAAAAAgFdAAAAAAACAU0AAAAAAAAAoQAAAAAAAQGVAAAAAAAAAXkAAAAAAAIBZQAAAAAAAABhAAAAAAACAQkAAAAAAAIBHQAAAAAAAAAhAAAAAAACAVkAAAAAAAAAwQAAAAAAAwFJAAAAAAAAAEEAAAAAAAMBSQAAAAAAAgEBAAAAAAAAAREAAAAAAAGBtQAAAAAAAAABAAAAAAADYjUAAAAAAAABZQAAAAAAAwFlAAAAAAAAAAEAAAAAAAIBIQAAAAAAAAEdAAAAAAAAAOUAAAAAAAABLQAAAAAAAADlAAAAAAADgYUAAAAAAAAAxQAAAAAAAAEdAAAAAAACAVkAAAAAAAIBHQAAAAAAAAD5AAAAAAAAAKEAAAAAAAABJQAAAAAAAgFZAAAAAAAAAZkAAAAAAAAA7QAAAAAAAADdAAAAAAAAAFEAAAAAAAAAuQAAAAAAAAD5AAAAAAAAAHEAAAAAAAMBYQAAAAAAAACpAAAAAAAAAO0AAAAAAAEBbQAAAAAAAQFVAAAAAAAAgYkAAAAAAAAA3QAAAAAAAAC5AAAAAAACAQkAAAAAAAAAIQAAAAAAAkIVAAAAAAAAALEAAAAAAAAAIQAAAAAAAAHlAAAAAAAAALkAAAAAAAEBdQAAAAAAAAE5AAAAAAAAA8D8AAAAAAABJQAAAAAAAABRAAAAAAAAAJEAAAAAAAAAxQAAAAAAAwFtAAAAAAAAANkAAAAAAAMBRQAAAAAAAAENAAAAAAAAANEAAAAAAAAAqQAAAAAAAgEtAAAAAAAAAU0AAAAAAAEBZQAAAAAAAACRAAAAAAAAAREAAAAAAAABGQAAAAAAAAENAAAAAAAAASUAAAAAAAIBaQAAAAAAAADlAAAAAAAAATkAAAAAAAIBLQAAAAAAAwFhAAAAAAAAAFEAAAAAAAABJQAAAAAAAADJAAAAAAAAANEAAAAAAAAAuQAAAAAAAAEhAAAAAAACATEAAAAAAAAAUQAAAAAAAAD9AAAAAAAAAQUAAAAAAAAAQQAAAAAAAQIVAAAAAAAAANEAAAAAAAAAQQAAAAAAAABBAAAAAAAAASUAAAAAAAMBYQAAAAAAAADFAAAAAAAAYhUAAAAAAAAA/QAAAAAAAABRAAAAAAAAAVEAAAAAAAIBDQAAAAAAAAEBAAAAAAAAAVEAAAAAAAIBmQAAAAAAAAPA/AAAAAAAA8D8AAAAAAADwPwAAAAAAAElAAAAAAAAAAEAAAAAAAAAkQAAAAAAAABBAAAAAAAAAWUAAAAAAAABFQAAAAAAAADRAAAAAAAAACEAAAAAAAMBQQAAAAAAAAD5AAAAAAAAAJEAAAAAAAIBYQAAAAAAAAD5AAAAAAADAUkAAAAAAAMBSQAAAAAAAABRAAAAAAAAALEAAAAAAAAA1QAAAAAAAADdAAAAAAAAAIEAAAAAAAAAzQAAAAAAAABhAAAAAAAAAT0AAAAAAAABKQAAAAAAAAEpAAAAAAAAAQ0AAAAAAAABDQAAAAAAAgE1AAAAAAAAAQEAAAAAAAABAQAAAAAAAAEBAAAAAAAAAQEAAAAAAAAAUQAAAAAAAHKxAAAAAAAAAOUAAAAAAAABZQAAAAAAAAEBAAAAAAAAAQEAAAAAAAAAUQAAAAAAAQFpAAAAAAAAANEAAAAAAAAA8QAAAAAAAACRAAAAAAAAALkAAAAAAACBzQAAAAAAAAD5AAAAAAACAUUAAAAAAAAAsQAAAAAAAQJ9AAAAAAADwh0AAAAAAAAA+QAAAAAAAgGFAAAAAAAAALkAAAAAAAAA0QAAAAAAAAGhAAAAAAAAAWUAAAAAAAOBhQAAAAAAA4GBAAAAAAAAAMEAAAAAAAABOQAAAAAAAAFRAAAAAAACAUUAAAAAAAIBKQAAAAAAA4GFAAAAAAAAASkAAAAAAACBiQAAAAAAAAPA/AAAAAACAREAAAAAAAAAUQAAAAAAAAAhAAAAAAAAAJkAAAAAAAABOQAAAAAAAAF5AAAAAAAAAMkAAAAAAAAAQQAAAAAAA4GBAAAAAAACwcUAAAAAAAMBRQAAAAAAAAABAAAAAAAAAQUAAAAAAAAA0QAAAAAAAABRAAAAAAACAU0AAAAAAAABEQAAAAAAAABBAAAAAAAAAWkAAAAAAAABUQAAAAAAAgEpAAAAAAAAAWkAAAAAAAAAIQAAAAAAAQF1AAAAAAAAAAEAAAAAAAAA0QAAAAAAAEHBAAAAAAACAaUAAAAAAAAAcQAAAAAAAAEVAAAAAAACATkAAAAAAAABOQAAAAAAAAGZAAAAAAAAAREAAAAAAAAAyQAAAAAAAACRAAAAAAAAAUEAAAAAAAAAQQAAAAAAAgEpAAAAAAAAALkAAAAAAAAAuQAAAAAAAAFlAAAAAAACAW0AAAAAAAABAQAAAAAAAAERAAAAAAAAAOUAAAAAAAAA6QAAAAAAAABxAAAAAAACAZkAAAAAAAIBKQAAAAAAAADVAAAAAAAAANEAAAAAAAEBwQAAAAAAAACZAAAAAAABAXkAAAAAAAABFQAAAAAAAAFRAAAAAAAAANEAAAAAAAAA1QAAAAAAAAENAAAAAAIDm50AAAAAAAABOQAAAAAAAgFFAAAAAAAAAQ0AAAAAAAAAUQAAAAAAAgFFAAAAAAAAAREAAAAAAAEBaQAAAAAAAgENAAAAAAAAAEEAAAAAAAEB6QAAAAAAAwFJAAAAAAAAgnEAAAAAAAAAuQAAAAAAAQGBAAAAAAAAAPEAAAAAAAABZQAAAAAAAADBAAAAAAACAUEAAAAAAAAA+QAAAAAAAAD5AAAAAAAAAPEAAAAAAAIBIQAAAAAAAADlAAAAAAAAAHEAAAAAAAAAUQAAAAAAAABBAAAAAAADAV0AAAAAAAAA1QAAAAAAAwFdAAAAAAAAAXkAAAAAAAFyiQAAAAAAAADFAAAAAAADAUUAAAAAAAAAuQAAAAAAA4GNAAAAAAAAAQ0AAAAAAAGK2QAAAAAAAgFtAAAAAAAAAO0AAAAAAAHCnQAAAAAAAACRAAAAAAAAAQEAAAAAAAIBGQAAAAAAAFuJAAAAAAACASkAAAAAAAAA0QAAAAAAAAGRAAAAAAAAACEAAAAAAAEBTQAAAAAAA4IBAAAAAAACAQEAAAAAAACB8QAAAAAAAAElAAAAAAAAALkAAAAAAAAA5QAAAAAAAAERAAAAAAAAAMkAAAAAAAAAiQAAAAAAAABRAAAAAAAAAREAAAAAAAAAcQAAAAAAAACJAAAAAAAAAQkAAAAAAAIBBQAAAAAAAAERAAAAAAAAAPkAAAAAAAADwPwAAAAAAABBAAAAAAAAA8D8AAAAAAAAgQAAAAAAAAFRAAAAAAAAAIEAAAAAAAABEQAAAAAAAAFpAAAAAAAAAAEAAAAAAAAAQQAAAAAAAACZAAAAAAAAALkAAAAAAAAAAQAAAAAAAAABAAAAAAAAAFEAAAAAAAABZQAAAAAAAABBAAAAAAAAAHEAAAAAAAAAAQAAAAAAAAFRAAAAAAAAAO0AAAAAAAAA0QAAAAAAAAABAAAAAAAAAAEAAAAAAAAAAQAAAAAAAwGVAAAAAAAAAAEAAAAAAAABAQAAAAAAAAABAAAAAAAAAEEAAAAAAAAAqQAAAAAAAAE5AAAAAAACxskAAAAAAAAAmQAAAAAAAABRAAAAAAAAAWUAAAAAAAAA9QAAAAAAAADRAAAAAAACEnEAAAAAAAIBEQAAAAAAAgEBAAAAAAAAAXkAAAAAAAAAUQAAAAAAAAAhAAAAAAACwe0AAAAAAAIBlQAAAAAAAeI5AAAAAAAAAdEAAAAAAAAAIQAAAAAAAYIpAAAAAAMBB1kAAAAAAAABPQAAAAAAAABhAAAAAAAAAREAAAAAAAAAmQAAAAAAAADlAAAAAAAAAQUAAAAAAAABDQAAAAAAAAEJAAAAAAAAASUAAAAAAAABZQAAAAAAAAD1AAAAAAAAAJEAAAAAAAABOQAAAAAAAAChAAAAAAAAATUAAAAAAAABCQAAAAAAAADtAAAAAAAAAdUAAAAAAAKByQAAAAAAAoHJAAAAAAABgikAAAAAAAAAgQAAAAAAAgENAAAAAAACAQ0AAAAAAAABSQAAAAAAAbrlAAAAAAAAAJEAAAAAAAIBmQAAAAAAAAC5AAAAAAAAAWUAAAAAAAABUQAAAAAAAgFZAAAAAAAAAKEAAAAAAAIBNQAAAAAAAgGBAAAAAAAAAJEAAAAAAAIBIQAAAAAAAgFVAAAAAAACAUUAAAAAAAHBxQAAAAAAAwFBAAAAAAAAAAEAAAAAAAAAAQAAAAAAAACRAAAAAAAAAS0AAAAAAAAAzQAAAAAAAAC5AAAAAAAAAREAAAAAAAAA+QAAAAAAAAD5AAAAAAADAVUAAAAAAAAAkQAAAAAAAAE1AAAAAAAAAR0AAAAAAAABMQAAAAAAAgFJAAAAAAADAUEAAAAAAAABKQAAAAAAAAAhAAAAAAAAAPkAAAAAAAABJQAAAAAAAAAhAAAAAAAAANkAAAAAAAAA/QAAAAAAAAD5AAAAAAAAAUkAAAAAAAABeQAAAAAAAADlAAAAAAABAZEAAAAAAAABEQAAAAAAAIGRAAAAAAAAAAEAAAAAAAAAQQAAAAAAAABBAAAAAAADAV0AAAAAAAAAUQAAAAAAAACZAAAAAAAAAFEAAAAAAAAAkQAAAAAAAAFNAAAAAAABogUAAAAAAAIBQQAAAAAAAABRAAAAAAACAV0AAAAAAAAAzQAAAAAAAAD5AAAAAAABAWEAAAAAAAAAUQAAAAAAAACRAAAAAAAAACEAAAAAAAAAAQAAAAAAAADBAAAAAAAAANEAAAAAAAIBFQAAAAAAAgEtAAAAAAACARkAAAAAAAAAAQAAAAAAAAERAAAAAAAAAWUAAAAAAAABJQAAAAAAAAChAAAAAAACAS0AAAAAAAAAUQAAAAAAAAChAAAAAAAAAPkAAAAAAAAA6QAAAAAAAAE5AAAAAAAAAJEAAAAAAAABEQAAAAAAAAElAAAAAAAAAREAAAAAAAAAAQAAAAAAAwG9AAAAAAAAAIkAAAAAAAIBRQAAAAAAAAAhAAAAAAAAA8D8AAAAAAAA+QAAAAAAAQFVAAAAAAACAZEAAAAAAADB7QAAAAAAAcHFAAAAAAAAASUAAAAAAAAA7QAAAAAAAQF1AAAAAAAAAPkAAAAAAAIBRQAAAAAAAwGJAAAAAAAAALEAAAAAAAAAkQAAAAAAAAE5AAAAAAAAAUEAAAAAAAABJQAAAAAAAADtAAAAAAABAVEAAAAAAAIBBQAAAAAAAABxAAAAAAAAAOUAAAAAAAAA+QAAAAAAAADJAAAAAAADAUEAAAAAAAEBSQAAAAAAAADRAAAAAAADgcEAAAAAAAAAqQAAAAAAAACRAAAAAAAAAOUAAAAAAAAAmQAAAAAAAABRAAAAAAAAASkAAAAAAAAAcQAAAAAAAAChAAAAAAAC4iEAAAAAAAEBRQAAAAAAAADBAAAAAAAAAM0AAAAAAAAAzQAAAAAAAADNAAAAAAACAQUAAAAAAAABAQAAAAAAAx7ZAAAAAAAAAFEAAAAAAAAA8QAAAAAAAQGBAAAAAAAAAFEAAAAAAAAAQQAAAAAAAADRAAAAAAAAAJEAAAAAAAADwPwAAAAAAAD5AAAAAAAAAVkAAAAAAAABQQAAAAAAAAD5AAAAAAACARkAAAAAAAAA+QAAAAAAAAABAAAAAAAAAPkAAAAAAAOBwQAAAAAAAACRAAAAAAAAAWUAAAAAAAABEQAAAAAAAAABAAAAAAACAREAAAAAAAABjQAAAAAAAAGRAAAAAAACwg0AAAAAAALCDQAAAAAAAAD5AAAAAAAAAREAAAAAAAAAkQAAAAAAAACJAAAAAAAAAHEAAAAAAAAAiQAAAAAAAABhAAAAAAAAAEEAAAAAAAAAqQAAAAAAAAERAAAAAAKAS4UAAAAAAAAAuQAAAAAAAADxAAAAAAAAAQkAAAAAAAEBYQAAAAAAAABhAAAAAAACAQUAAAAAAAAAAQAAAAAAAABxAAAAAAAAAWUAAAAAAAAAIQAAAAAAAQFBAAAAAAAAAO0AAAAAAAAAkQAAAAAAAAPA/AAAAAAAAMkAAAAAAAAAIQAAAAAAAAChAAAAAAABAZkAAAAAAAGB3QAAAAAAAADdAAAAAAAAAIEAAAAAAAAAkQAAAAAAAABBAAAAAAACARkAAAAAAAAAAQAAAAAAAgEZAAAAAAAAAEEAAAAAAAAAIQAAAAAAAAAhAAAAAAAAAIkAAAAAAAEBUQAAAAAAAAD5AAAAAAADgYEAAAAAAAABeQAAAAAAAwHJAAAAAAAAAFEAAAAAAAAAAQAAAAAAAABBAAAAAAAAAPkAAAAAAAAAQQAAAAAAAADRAAAAAAAAAJEAAAAAAAAAAQAAAAAAAAPA/AAAAAAAAFEAAAAAAAABEQAAAAAAAABRAAAAAAADAbEAAAAAAAEBTQAAAAAAAgGtAAAAAAAAAGEAAAAAAAAA+QAAAAAAAgFFAAAAAAAAASUAAAAAAAAA0QAAAAAAAACBAAAAAAABXtEAAAAAAAAAkQAAAAAAAACRAAAAAAAAANEAAAAAAAAAiQAAAAAAAAABAAAAAAAAAIkAAAAAAAAAiQAAAAAAAAEtAAAAAAAAAQUAAAAAAAGBmQAAAAAAAYGZAAAAAAAAAJkAAAAAAAHB4QAAAAAAAcHhAAAAAAACAR0AAAAAAAIBHQAAAAAAAAEZAAAAAAABAZ0AAAAAAAIBVQAAAAAAAABxAAAAAAAAAQUAAAAAAAAAkQAAAAAAAACRAAAAAAAAANUAAAAAAAADwPwAAAAAAAEBAAAAAAACAQUAAAAAAAAA7QAAAAAAAAFlAAAAAAAAA8D8AAAAAAADwPwAAAAAAAD5AAAAAAAAAEEAAAAAAAADwPwAAAAAAAEBAAAAAAAAANEAAAAAAAABNQAAAAAAAIGNAAAAAAAAAJEAAAAAAAAAoQAAAAAAAAElAAAAAAACASUAAAAAAAAAUQAAAAAAAAEFAAAAAAAAAQUAAAAAAAABdQAAAAAAAABBAAAAAAAAAEEAAAAAAAAAkQAAAAAAAAD9AAAAAAAAALkAAAAAAAAAIQAAAAAAAg8NAAAAAAAAACEAAAAAAAAA0QAAAAAAAADRAAAAAAACAUkAAAAAAAABDQAAAAAAAABhAAAAAAAD2sUAAAAAAAAAIQAAAAAAAAFlAAAAAAAAAJEAAAAAAAAA5QAAAAAAAAERAAAAAAAAAJEAAAAAAAMB9QAAAAAAAAABAAAAAAAAASUAAAAAAAABEQAAAAAAAgEBAAAAAAAAAMkAAAAAAAAAyQAAAAAAAADJAAAAAAAAAMkAAAAAAAAAyQAAAAAAAADJAAAAAAAAAMkAAAAAAAAAyQAAAAAAAADJAAAAAAAAAMkAAAAAAAAAyQAAAAAAAADJAAAAAAAAAGEAAAAAAAAAyQAAAAAAAADJAAAAAAAAAMkAAAAAAAAAyQAAAAAAAAABAAAAAAAAAMkAAAAAAAAAyQAAAAAAAQF9AAAAAAAAAAEAAAAAAAABJQAAAAAAAAAhAAAAAAAAAO0AAAAAAAABAQAAAAAAAABhAAAAAAAAAO0AAAAAAAAA7QAAAAAAAAF5AAAAAAAAAIEAAAAAAAIBKQAAAAAAAACRAAAAAAAAANUAAAAAAAMBdQAAAAAAAAABAAAAAAAAALkAAAAAAAMBkQAAAAAAAACBAAAAAAAAAAEAAAAAAAAAAQAAAAAAAAD5AAAAAAAAAPkAAAAAAAAAkQAAAAAAAADBAAAAAAAAAOkAAAAAAAAA2QAAAAAAAgEZAAAAAAAAAXkAAAAAAAABeQAAAAAAAABBAAAAAAACgc0AAAAAAAAAQQAAAAAAAABBAAAAAAAAAEEAAAAAAAAAQQAAAAAAAABRAAAAAAADAckAAAAAAAHBwQAAAAAAAADdAAAAAAAAAGEAAAAAAAAAgQAAAAAAAAChAAAAAAAAAGEAAAAAAAAAgQAAAAAAAAChAAAAAAAAAGEAAAAAAAAAgQAAAAAAAAChAAAAAAAAAKkAAAAAAAMBjQAAAAAAAAABAAAAAAAAAVkAAAAAAAABWQAAAAAAAAEhAAAAAAAAAQUAAAAAAAAAwQAAAAAAAADBAAAAAAAAASEAAAAAAAABIQAAAAAAAAEhAAAAAAAAASEAAAAAAAMBXQAAAAAAAACBAAAAAAABgcUAAAAAAAAA/QAAAAAAAYGRAAAAAAABwcEAAAAAAAAA8QAAAAAAAUHBAAAAAAABQcEAAAAAAAHBwQAAAAAAAAHJAAAAAAABwcEAAAAAAAAAwQAAAAAAAAGhAAAAAAACQc0AAAAAAAIBIQAAAAAAAABBAAAAAAAAAEEAAAAAAAMBjQAAAAAAAADxAAAAAAAAAJEAAAAAAAMBwQAAAAAAAYHFAAAAAAACAR0AAAAAAAAAIQAAAAAAAADlAAAAAAAAARUAAAAAAAIBsQAAAAAAAACRAAAAAAABgbUAAAAAAAAA/QAAAAAAAwGhAAAAAAADAbUAAAAAAAEBVQAAAAAAAAGNAAAAAAAAAZ0AAAAAAAAAsQAAAAAAAAAhAAAAAAADAbUAAAAAAAJBzQAAAAAAAQGdAAAAAAAAAIkAAAAAAAIBEQAAAAAAAgExAAAAAAAAAW0AAAAAAAPByQAAAAAAAACBAAAAAAADAaEAAAAAAAMBbQAAAAAAAADRAAAAAAAAAT0AAAAAAAABOQAAAAAAAABRAAAAAAAAAJEAAAAAAAAAkQAAAAAAAACZAAAAAAAAAKEAAAAAAAAAIQAAAAAAAACxAAAAAAAAgZkAAAAAAAMBTQAAAAAAAACRAAAAAAAAAAEAAAAAAAEBRQAAAAAAAACRAAAAAAAAAPkAAAAAAAADwPwAAAAAAAPA/AAAAAAAA8D8AAAAAAAAkQAAAAAAAABhAAAAAAABAb0AAAAAAAABMQAAAAAAAABxAAAAAAAAAEEAAAAAAAAAQQAAAAAAAAERAAAAAAADAhUAAAAAAAAAUQAAAAAAAwFZAAAAAAAAAAEAAAAAAAAAAQAAAAAAAgFxAAAAAAABAUUAAAAAAAAAIQAAAAAAAACRAAAAAAACAQUAAAAAAAIBIQAAAAAAAADRAAAAAAAAAEEAAAAAAAAAIQAAAAAAAgE9AAAAAAAAAMEAAAAAAAKBzQAAAAAAAAD5AAAAAAAAAWUAAAAAAAAA0QAAAAAAAQFJAAAAAAABAYEAAAAAAABjFQAAAAAAAADVA\",\"dtype\":\"float64\",\"shape\":[1092]}},\"selected\":{\"id\":\"1157\"},\"selection_policy\":{\"id\":\"1156\"}},\"id\":\"1132\",\"type\":\"ColumnDataSource\"},{\"attributes\":{\"axis\":{\"id\":\"1115\"},\"dimension\":1,\"ticker\":null},\"id\":\"1118\",\"type\":\"Grid\"},{\"attributes\":{\"fill_alpha\":{\"value\":0.1},\"fill_color\":{\"value\":\"#1f77b4\"},\"line_alpha\":{\"value\":0.1},\"line_color\":{\"value\":\"#1f77b4\"},\"size\":{\"units\":\"screen\",\"value\":8},\"x\":{\"field\":\"x\"},\"y\":{\"field\":\"y\"}},\"id\":\"1134\",\"type\":\"Circle\"},{\"attributes\":{\"callback\":null,\"tooltips\":[[\"index\",\"$index\"],[\"(x,y)\",\"($x, $y)\"]]},\"id\":\"1137\",\"type\":\"HoverTool\"},{\"attributes\":{},\"id\":\"1103\",\"type\":\"DataRange1d\"},{\"attributes\":{},\"id\":\"1105\",\"type\":\"DataRange1d\"}],\"root_ids\":[\"1102\"]},\"title\":\"Bokeh Application\",\"version\":\"2.0.0\"}};\n",
       "  var render_items = [{\"docid\":\"698eaba1-e1da-482b-9381-10c51203b8f6\",\"root_ids\":[\"1102\"],\"roots\":{\"1102\":\"b791eb07-95fa-4d2c-b273-761b7265d306\"}}];\n",
       "  root.Bokeh.embed.embed_items_notebook(docs_json, render_items);\n",
       "\n",
       "  }\n",
       "  if (root.Bokeh !== undefined) {\n",
       "    embed_document(root);\n",
       "  } else {\n",
       "    var attempts = 0;\n",
       "    var timer = setInterval(function(root) {\n",
       "      if (root.Bokeh !== undefined) {\n",
       "        clearInterval(timer);\n",
       "        embed_document(root);\n",
       "      } else {\n",
       "        attempts++;\n",
       "        if (attempts > 100) {\n",
       "          clearInterval(timer);\n",
       "          console.log(\"Bokeh: ERROR: Unable to run BokehJS code because BokehJS library is missing\");\n",
       "        }\n",
       "      }\n",
       "    }, 10, root)\n",
       "  }\n",
       "})(window);"
      ],
      "application/vnd.bokehjs_exec.v0+json": ""
     },
     "metadata": {
      "application/vnd.bokehjs_exec.v0+json": {
       "id": "1102"
      }
     },
     "output_type": "display_data"
    }
   ],
   "source": [
    "from bokeh.plotting import figure, output_notebook, show\n",
    "from bokeh.models import HoverTool\n",
    "\n",
    "p = figure(plot_width=600, plot_height=400)\n",
    "p.circle(x=resta_sups_wrong.index, y=resta_sups_wrong.values, size=8)\n",
    "\n",
    "hover = HoverTool(tooltips=[(\"index\", \"$index\"), (\"(x,y)\", \"($x, $y)\")])\n",
    "\n",
    "p.add_tools(hover)\n",
    "output_notebook()\n",
    "show(p)"
   ]
  },
  {
   "cell_type": "code",
   "execution_count": 184,
   "metadata": {},
   "outputs": [
    {
     "name": "stdout",
     "output_type": "stream",
     "text": [
      "78                                                                                                                                                                                                                                                                                                                   S/AVDA   COSTANERA ,  NUEVA  ZONA GASTRONOMICA  FRENTE AL BALNEARIO EL BRETE. IDEAL VIVIENDA  FLIAR. MAS EMPRENDIMIENTO  COMERCIAL  APTO RESTAURANTE Y PARRILLA. PLANTA ALTA 3 DORM (1 EN SUITE)  PATIO FRENTE Y FONDO, $  5. 500.000.- SE RECIBE  INMUEBLE A CUENTA. TERRENO 24.14 x 10.78. CUENTA CON BAÑO PARA DISCAPACITADO, Y HABILITACION PARA COMERCIO GASTRONOMICO.\n",
      "12745    CODIGO: 2015-CCP193 ubicado en: Cuesta Blanca 100 -  Publicado por: TU PROPIEDAD HOY. El precio es de USD 60000 null. Oportunidad Propiedad a terminar, ubicada en Cuesta Blanca Consta de: 2 dormitorios, baño, cocina con lavadero incluido, comedor, living. Garaje con ingreso a la propiedad. Patio. La casa tiene toda la conexión de gas, tomas para la estufa en cocina, living, dos habitaciones y baño. Conexión instalada de luz y agua con sus medidores (mínimo $90 luz y agua $200) Conexión de caños al pozo para la sangría La zona no tiene gas natural  Superficie cubierta 120 mts2 Superficie terreno 3.000 mts2 VALOR:U$S60.000.- . Publicado a través de Mapaprop\n",
      "35151                               OPORTUNIDAD!!! VENTA DOS AMBIENTES FRENTE A PLAZA ESPAÑA VENTA DEPARTAMENTO DE DPOS AMBIENTES FRENTE A LA PLAZA ESPAÑA EL MISMO CUENTA CON UN AMPLIO LIVING COMEDOR CON BALCON PASANTE A UN CONTRAFRENTRE ABIERTO UBICADO EN UN SEPTIMO PISO CUENTA CON UN DORMITORIOS CON AMPLIO VENTANAL Y PLACARES DE GENEROSAS DIMENSIONES Y MUY LUMINOSO BAÑO COMPLETO CON VANITORY Y BAÑERA CON MAMPARA AMPLIO LIVING COMEDOR CON VENTANALES DE PARED A PARED PASANTE , MUY LUMINOSO . PISOS DE CERÁMICO Sandra Laura Lara Marcos Jeremías Castello Reg. 3479 Santa Fe 1678 primer piso Of. A - 7600 Mar del Plata Tel: (0223) 494-2707 Cel:(0223) 155- 180331 Email: \n",
      "38498                                                                                                                                                                                                                                                                                                 TIGRE PROPIEDADES VENDE CASA SOBRE EL RÍO CARAPACHAY ALTURA 453 DELTA DEL TIGRE. A 20 MINUTOS DEL CENTRO EN LANCHA..SOBRE UNA LOTE DE 5800m2 CASA DE MATERIAL EN DOS PLANTAS , EL TERRENO ESTÁ MUY RELLENADO , CUENTA CON ESTACADA NUEVA DE HORMIGÓN Y MUELLE HECHO A NUEVO ..LOS PRIMEROS 100 METROS ESTÁN PARQUIZADOS Y CUENTA CON QUINCHO A REFACCIONAR Y PARRILLA.DETALLES DE PINTURA \n",
      "46086                                                                                                                                                                                                                                                                                                                                                          Ph de 3 ambientes al fondo - 66,10 mts2 cubiertos, 7,95 mts2 semicubiertos y 26,11 mts2 descubiertos (total 100 mts2 aprox) living - cocina comedor - baño completo - patio interno - 2 dormitorios - calefacción por tiro balanceado - patio - lavadero cubierto separado - terraza con parrilla - estado original. APTO CREDITO\n",
      "28485                                                                                                                                                                                                                                                    COMODIDADES: Hermoso departamento, Balcn corrido al Contra Frente en Piso 6. Muy funcional y luminoso, amplio Living-comedor, 2 dormitorios con PLACARES, cocina independiente desayunador y bao completos. Cochera propia e integrada.Servicios individuales.  Superficie aprox. CUBIERTA 75 m.  Cerca del Hospital Italiano PARA CONSULTAS Y VISITAS COMUNICARSE AL /156166074 .Publicado por CONGRESO Inmobiliaria  a traves INMOMAP\n",
      "Name: description, dtype: object\n"
     ]
    }
   ],
   "source": [
    "# Para leer mejor los datos:\n",
    "pd.options.display.max_colwidth = 1000\n",
    "\n",
    "# [0,154,465,502, 608,371,837,897,890,1090,814]\n",
    "watching = [0,154,465,502, 608,371]\n",
    "print(data.loc[mask_size_surfaces].iloc[watching].description)"
   ]
  },
  {
   "cell_type": "code",
   "execution_count": 185,
   "metadata": {},
   "outputs": [
    {
     "data": {
      "text/html": [
       "<div>\n",
       "<style scoped>\n",
       "    .dataframe tbody tr th:only-of-type {\n",
       "        vertical-align: middle;\n",
       "    }\n",
       "\n",
       "    .dataframe tbody tr th {\n",
       "        vertical-align: top;\n",
       "    }\n",
       "\n",
       "    .dataframe thead th {\n",
       "        text-align: right;\n",
       "    }\n",
       "</style>\n",
       "<table border=\"1\" class=\"dataframe\">\n",
       "  <thead>\n",
       "    <tr style=\"text-align: right;\">\n",
       "      <th></th>\n",
       "      <th>property_type</th>\n",
       "      <th>place_name</th>\n",
       "      <th>place_with_parent_names</th>\n",
       "      <th>state_name</th>\n",
       "      <th>price</th>\n",
       "      <th>currency</th>\n",
       "      <th>price_aprox_local_currency</th>\n",
       "      <th>price_aprox_usd</th>\n",
       "      <th>surface_total_in_m2</th>\n",
       "      <th>surface_covered_in_m2</th>\n",
       "      <th>price_usd_per_m2</th>\n",
       "      <th>price_per_m2</th>\n",
       "      <th>rooms</th>\n",
       "      <th>description</th>\n",
       "      <th>title</th>\n",
       "      <th>price_USD</th>\n",
       "      <th>superficie_TOTAL</th>\n",
       "      <th>superficie_CUBIERTA</th>\n",
       "    </tr>\n",
       "  </thead>\n",
       "  <tbody>\n",
       "    <tr>\n",
       "      <th>78</th>\n",
       "      <td>house</td>\n",
       "      <td>Posadas</td>\n",
       "      <td>|Argentina|Misiones|Posadas|</td>\n",
       "      <td>Misiones</td>\n",
       "      <td>5500000.0</td>\n",
       "      <td>ARS</td>\n",
       "      <td>5442626.35</td>\n",
       "      <td>308460.22</td>\n",
       "      <td>261.0</td>\n",
       "      <td>18615.0</td>\n",
       "      <td>1181.839923</td>\n",
       "      <td>295.460650</td>\n",
       "      <td>5.0</td>\n",
       "      <td>S/AVDA   COSTANERA ,  NUEVA  ZONA GA...</td>\n",
       "      <td>Oportunidad! Casa zona Bahía el Brete</td>\n",
       "      <td>308460.0</td>\n",
       "      <td>NaN</td>\n",
       "      <td>NaN</td>\n",
       "    </tr>\n",
       "    <tr>\n",
       "      <th>12745</th>\n",
       "      <td>house</td>\n",
       "      <td>Punilla</td>\n",
       "      <td>|Argentina|Córdoba|Punilla|</td>\n",
       "      <td>Córdoba</td>\n",
       "      <td>60000.0</td>\n",
       "      <td>USD</td>\n",
       "      <td>1058670.00</td>\n",
       "      <td>60000.00</td>\n",
       "      <td>120.0</td>\n",
       "      <td>3000.0</td>\n",
       "      <td>500.000000</td>\n",
       "      <td>20.000000</td>\n",
       "      <td>NaN</td>\n",
       "      <td>CODIGO: 2015-CCP193 ubicado en: Cues...</td>\n",
       "      <td>CCP193-Oportunidad! Propiedad ubica...</td>\n",
       "      <td>60000.0</td>\n",
       "      <td>NaN</td>\n",
       "      <td>NaN</td>\n",
       "    </tr>\n",
       "    <tr>\n",
       "      <th>35151</th>\n",
       "      <td>apartment</td>\n",
       "      <td>Mar del Plata</td>\n",
       "      <td>|Argentina|Buenos Aires Costa Atlánt...</td>\n",
       "      <td>Buenos Aires Costa Atlántica</td>\n",
       "      <td>74000.0</td>\n",
       "      <td>USD</td>\n",
       "      <td>1305693.00</td>\n",
       "      <td>74000.00</td>\n",
       "      <td>52.0</td>\n",
       "      <td>49000.0</td>\n",
       "      <td>1423.076923</td>\n",
       "      <td>1.510204</td>\n",
       "      <td>2.0</td>\n",
       "      <td>OPORTUNIDAD!!! VENTA DOS AMBIENTES F...</td>\n",
       "      <td>oportunidad frente al  mar!!!!</td>\n",
       "      <td>74000.0</td>\n",
       "      <td>NaN</td>\n",
       "      <td>NaN</td>\n",
       "    </tr>\n",
       "    <tr>\n",
       "      <th>38498</th>\n",
       "      <td>house</td>\n",
       "      <td>Tigre</td>\n",
       "      <td>|Argentina|Bs.As. G.B.A. Zona Norte|...</td>\n",
       "      <td>Bs.As. G.B.A. Zona Norte</td>\n",
       "      <td>97000.0</td>\n",
       "      <td>USD</td>\n",
       "      <td>1711516.50</td>\n",
       "      <td>97000.00</td>\n",
       "      <td>70.0</td>\n",
       "      <td>5800.0</td>\n",
       "      <td>1385.714286</td>\n",
       "      <td>16.724138</td>\n",
       "      <td>4.0</td>\n",
       "      <td>TIGRE PROPIEDADES VENDE CASA SOBRE E...</td>\n",
       "      <td>Casa Rio Carapachay Delta del Tigre</td>\n",
       "      <td>97000.0</td>\n",
       "      <td>NaN</td>\n",
       "      <td>NaN</td>\n",
       "    </tr>\n",
       "    <tr>\n",
       "      <th>46086</th>\n",
       "      <td>PH</td>\n",
       "      <td>Mar del Plata</td>\n",
       "      <td>|Argentina|Buenos Aires Costa Atlánt...</td>\n",
       "      <td>Buenos Aires Costa Atlántica</td>\n",
       "      <td>100000.0</td>\n",
       "      <td>USD</td>\n",
       "      <td>1764450.00</td>\n",
       "      <td>100000.00</td>\n",
       "      <td>100.0</td>\n",
       "      <td>6610.0</td>\n",
       "      <td>1000.000000</td>\n",
       "      <td>15.128593</td>\n",
       "      <td>3.0</td>\n",
       "      <td>Ph de 3 ambientes al fondo - 66,10 m...</td>\n",
       "      <td>Saavedra 3500</td>\n",
       "      <td>100000.0</td>\n",
       "      <td>NaN</td>\n",
       "      <td>NaN</td>\n",
       "    </tr>\n",
       "    <tr>\n",
       "      <th>28485</th>\n",
       "      <td>apartment</td>\n",
       "      <td>Almagro</td>\n",
       "      <td>|Argentina|Capital Federal|Almagro|</td>\n",
       "      <td>Capital Federal</td>\n",
       "      <td>190000.0</td>\n",
       "      <td>USD</td>\n",
       "      <td>3352455.00</td>\n",
       "      <td>190000.00</td>\n",
       "      <td>75.0</td>\n",
       "      <td>3673.0</td>\n",
       "      <td>2533.333333</td>\n",
       "      <td>51.728832</td>\n",
       "      <td>3.0</td>\n",
       "      <td>COMODIDADES: Hermoso departamento, B...</td>\n",
       "      <td>Venta 3 Ambientes c/ cochera.U Av. D...</td>\n",
       "      <td>190000.0</td>\n",
       "      <td>NaN</td>\n",
       "      <td>NaN</td>\n",
       "    </tr>\n",
       "  </tbody>\n",
       "</table>\n",
       "</div>"
      ],
      "text/plain": [
       "      property_type     place_name                  place_with_parent_names  \\\n",
       "78            house        Posadas             |Argentina|Misiones|Posadas|   \n",
       "12745         house        Punilla              |Argentina|Córdoba|Punilla|   \n",
       "35151     apartment  Mar del Plata  |Argentina|Buenos Aires Costa Atlánt...   \n",
       "38498         house          Tigre  |Argentina|Bs.As. G.B.A. Zona Norte|...   \n",
       "46086            PH  Mar del Plata  |Argentina|Buenos Aires Costa Atlánt...   \n",
       "28485     apartment        Almagro      |Argentina|Capital Federal|Almagro|   \n",
       "\n",
       "                         state_name      price currency  \\\n",
       "78                         Misiones  5500000.0      ARS   \n",
       "12745                       Córdoba    60000.0      USD   \n",
       "35151  Buenos Aires Costa Atlántica    74000.0      USD   \n",
       "38498      Bs.As. G.B.A. Zona Norte    97000.0      USD   \n",
       "46086  Buenos Aires Costa Atlántica   100000.0      USD   \n",
       "28485               Capital Federal   190000.0      USD   \n",
       "\n",
       "       price_aprox_local_currency  price_aprox_usd  surface_total_in_m2  \\\n",
       "78                     5442626.35        308460.22                261.0   \n",
       "12745                  1058670.00         60000.00                120.0   \n",
       "35151                  1305693.00         74000.00                 52.0   \n",
       "38498                  1711516.50         97000.00                 70.0   \n",
       "46086                  1764450.00        100000.00                100.0   \n",
       "28485                  3352455.00        190000.00                 75.0   \n",
       "\n",
       "       surface_covered_in_m2  price_usd_per_m2  price_per_m2  rooms  \\\n",
       "78                   18615.0       1181.839923    295.460650    5.0   \n",
       "12745                 3000.0        500.000000     20.000000    NaN   \n",
       "35151                49000.0       1423.076923      1.510204    2.0   \n",
       "38498                 5800.0       1385.714286     16.724138    4.0   \n",
       "46086                 6610.0       1000.000000     15.128593    3.0   \n",
       "28485                 3673.0       2533.333333     51.728832    3.0   \n",
       "\n",
       "                                   description  \\\n",
       "78     S/AVDA   COSTANERA ,  NUEVA  ZONA GA...   \n",
       "12745  CODIGO: 2015-CCP193 ubicado en: Cues...   \n",
       "35151  OPORTUNIDAD!!! VENTA DOS AMBIENTES F...   \n",
       "38498  TIGRE PROPIEDADES VENDE CASA SOBRE E...   \n",
       "46086  Ph de 3 ambientes al fondo - 66,10 m...   \n",
       "28485  COMODIDADES: Hermoso departamento, B...   \n",
       "\n",
       "                                         title  price_USD  superficie_TOTAL  \\\n",
       "78       Oportunidad! Casa zona Bahía el Brete   308460.0               NaN   \n",
       "12745   CCP193-Oportunidad! Propiedad ubica...    60000.0               NaN   \n",
       "35151           oportunidad frente al  mar!!!!    74000.0               NaN   \n",
       "38498      Casa Rio Carapachay Delta del Tigre    97000.0               NaN   \n",
       "46086                            Saavedra 3500   100000.0               NaN   \n",
       "28485  Venta 3 Ambientes c/ cochera.U Av. D...   190000.0               NaN   \n",
       "\n",
       "       superficie_CUBIERTA  \n",
       "78                     NaN  \n",
       "12745                  NaN  \n",
       "35151                  NaN  \n",
       "38498                  NaN  \n",
       "46086                  NaN  \n",
       "28485                  NaN  "
      ]
     },
     "execution_count": 185,
     "metadata": {},
     "output_type": "execute_result"
    }
   ],
   "source": [
    "# Vuelvoa configurar el valor default:\n",
    "pd.options.display.max_colwidth = 40\n",
    "data.loc[mask_size_surfaces].iloc[watching]"
   ]
  },
  {
   "cell_type": "code",
   "execution_count": null,
   "metadata": {},
   "outputs": [],
   "source": []
  },
  {
   "cell_type": "code",
   "execution_count": 186,
   "metadata": {},
   "outputs": [],
   "source": [
    "# Voy a cambiar de nombre las columnas \n",
    "#df.rename(columns={'old_name_1': 'new_name_1', 'old_name_2': 'new_name_2'}, inplace=True)"
   ]
  },
  {
   "cell_type": "code",
   "execution_count": null,
   "metadata": {},
   "outputs": [],
   "source": []
  },
  {
   "cell_type": "code",
   "execution_count": null,
   "metadata": {},
   "outputs": [],
   "source": []
  },
  {
   "cell_type": "code",
   "execution_count": null,
   "metadata": {},
   "outputs": [],
   "source": []
  },
  {
   "cell_type": "markdown",
   "metadata": {},
   "source": [
    "## Análisis de \"Precio por Superficie\" en USD/m2\n",
    "\n",
    "Vamos a ver qué relación hay entre las columas de precio, superficies y precios por superfice."
   ]
  },
  {
   "cell_type": "code",
   "execution_count": 187,
   "metadata": {},
   "outputs": [
    {
     "data": {
      "text/html": [
       "<div>\n",
       "<style scoped>\n",
       "    .dataframe tbody tr th:only-of-type {\n",
       "        vertical-align: middle;\n",
       "    }\n",
       "\n",
       "    .dataframe tbody tr th {\n",
       "        vertical-align: top;\n",
       "    }\n",
       "\n",
       "    .dataframe thead th {\n",
       "        text-align: right;\n",
       "    }\n",
       "</style>\n",
       "<table border=\"1\" class=\"dataframe\">\n",
       "  <thead>\n",
       "    <tr style=\"text-align: right;\">\n",
       "      <th></th>\n",
       "      <th>property_type</th>\n",
       "      <th>place_name</th>\n",
       "      <th>place_with_parent_names</th>\n",
       "      <th>state_name</th>\n",
       "      <th>price</th>\n",
       "      <th>currency</th>\n",
       "      <th>price_aprox_local_currency</th>\n",
       "      <th>price_aprox_usd</th>\n",
       "      <th>surface_total_in_m2</th>\n",
       "      <th>surface_covered_in_m2</th>\n",
       "      <th>price_usd_per_m2</th>\n",
       "      <th>price_per_m2</th>\n",
       "      <th>rooms</th>\n",
       "      <th>description</th>\n",
       "      <th>title</th>\n",
       "      <th>price_USD</th>\n",
       "      <th>superficie_TOTAL</th>\n",
       "      <th>superficie_CUBIERTA</th>\n",
       "    </tr>\n",
       "  </thead>\n",
       "  <tbody>\n",
       "    <tr>\n",
       "      <th>0</th>\n",
       "      <td>PH</td>\n",
       "      <td>Mataderos</td>\n",
       "      <td>|Argentina|Capital Federal|Mataderos|</td>\n",
       "      <td>Capital Federal</td>\n",
       "      <td>62000.0</td>\n",
       "      <td>USD</td>\n",
       "      <td>1093959.0</td>\n",
       "      <td>62000.0</td>\n",
       "      <td>55.0</td>\n",
       "      <td>40.0</td>\n",
       "      <td>1127.272727</td>\n",
       "      <td>1550.0</td>\n",
       "      <td>NaN</td>\n",
       "      <td>2 AMBIENTES TIPO CASA PLANTA BAJA PO...</td>\n",
       "      <td>2 AMB TIPO CASA SIN EXPENSAS EN PB</td>\n",
       "      <td>62000.0</td>\n",
       "      <td>55.0</td>\n",
       "      <td>40.0</td>\n",
       "    </tr>\n",
       "  </tbody>\n",
       "</table>\n",
       "</div>"
      ],
      "text/plain": [
       "  property_type place_name                place_with_parent_names  \\\n",
       "0            PH  Mataderos  |Argentina|Capital Federal|Mataderos|   \n",
       "\n",
       "        state_name    price currency  price_aprox_local_currency  \\\n",
       "0  Capital Federal  62000.0      USD                   1093959.0   \n",
       "\n",
       "   price_aprox_usd  surface_total_in_m2  surface_covered_in_m2  \\\n",
       "0          62000.0                 55.0                   40.0   \n",
       "\n",
       "   price_usd_per_m2  price_per_m2  rooms  \\\n",
       "0       1127.272727        1550.0    NaN   \n",
       "\n",
       "                               description  \\\n",
       "0  2 AMBIENTES TIPO CASA PLANTA BAJA PO...   \n",
       "\n",
       "                                title  price_USD  superficie_TOTAL  \\\n",
       "0  2 AMB TIPO CASA SIN EXPENSAS EN PB    62000.0              55.0   \n",
       "\n",
       "   superficie_CUBIERTA  \n",
       "0                 40.0  "
      ]
     },
     "execution_count": 187,
     "metadata": {},
     "output_type": "execute_result"
    }
   ],
   "source": [
    "data.head(1)"
   ]
  },
  {
   "cell_type": "markdown",
   "metadata": {},
   "source": [
    "Pareciera que:\n",
    "- \"price_usd_per_m2\" es \"price\" / \"surface_total_in_m2\"\n",
    "- \"price_per_m2\" es \"price\" / \"surface_covered_in_m2\"\n",
    "\n",
    "Vamos a verificarlo."
   ]
  },
  {
   "cell_type": "code",
   "execution_count": 188,
   "metadata": {},
   "outputs": [
    {
     "name": "stdout",
     "output_type": "stream",
     "text": [
      "Datos: 66345\n",
      "Datos: 84793\n"
     ]
    }
   ],
   "source": [
    "# precios del m2 estimados:\n",
    "serie_price_usd_per_m2_estimada = (data[\"price\"] / data[\"surface_total_in_m2\"]).round(2)\n",
    "serie_price_per_m2_estimada = (data[\"price\"] / data[\"surface_covered_in_m2\"]).round(2)\n",
    "\n",
    "print('Datos: '+str(serie_price_usd_per_m2_estimada.notnull().sum()))\n",
    "print('Datos: '+str(serie_price_per_m2_estimada.notnull().sum()))"
   ]
  },
  {
   "cell_type": "code",
   "execution_count": 189,
   "metadata": {},
   "outputs": [],
   "source": [
    "mask_usd = data[\"currency\"] == 'USD'\n",
    "\n",
    "#Redefino mi serie en base a la moneda:\n",
    "serie_price_usd_per_m2_estimada.loc[mask_usd] = (data.loc[mask_usd,\"price\"] / data.loc[mask_usd,\"surface_total_in_m2\"]).round(2)\n",
    "serie_price_usd_per_m2_estimada.loc[np.logical_not(mask_usd)] = (data.loc[np.logical_not(mask_usd),\"price\"] / data.loc[np.logical_not(mask_usd),\"surface_total_in_m2\"]/17.8305).round(2)"
   ]
  },
  {
   "cell_type": "code",
   "execution_count": 190,
   "metadata": {},
   "outputs": [
    {
     "data": {
      "text/plain": [
       "1.0000168248199743"
      ]
     },
     "execution_count": 190,
     "metadata": {},
     "output_type": "execute_result"
    }
   ],
   "source": [
    "# Calculo la relación para la serie:\n",
    "dif_price_usd_per_m2_estimada = (serie_price_usd_per_m2_estimada / data[\"price_usd_per_m2\"].round(2))\n",
    "dif_price_usd_per_m2_estimada.max()"
   ]
  },
  {
   "cell_type": "code",
   "execution_count": 191,
   "metadata": {},
   "outputs": [
    {
     "data": {
      "text/plain": [
       "<matplotlib.collections.PathCollection at 0x146831c4ac8>"
      ]
     },
     "execution_count": 191,
     "metadata": {},
     "output_type": "execute_result"
    },
    {
     "data": {
      "image/png": "[encoded data removed]",
      "text/plain": [
       "<Figure size 432x288 with 1 Axes>"
      ]
     },
     "metadata": {
      "needs_background": "light"
     },
     "output_type": "display_data"
    }
   ],
   "source": [
    "# Hago el gráfico de la primera serie:\n",
    "fig = plt.figure()\n",
    "# creo los axes\n",
    "ax = plt.axes()\n",
    "# dibujo en axes:\n",
    "ax.scatter(dif_price_usd_per_m2_estimada.index, dif_price_usd_per_m2_estimada.values, marker = 'o', color = \"green\", label='serie sin', alpha = 0.4)"
   ]
  },
  {
   "cell_type": "code",
   "execution_count": 192,
   "metadata": {},
   "outputs": [
    {
     "data": {
      "text/plain": [
       "1.0"
      ]
     },
     "execution_count": 192,
     "metadata": {},
     "output_type": "execute_result"
    }
   ],
   "source": [
    "# Calculo la relación para la otra serie:\n",
    "dif_price_per_m2_estimada = serie_price_per_m2_estimada / data[\"price_per_m2\"].round(2)\n",
    "dif_price_per_m2_estimada.min()"
   ]
  },
  {
   "cell_type": "code",
   "execution_count": 193,
   "metadata": {},
   "outputs": [
    {
     "data": {
      "text/plain": [
       "<matplotlib.collections.PathCollection at 0x1468b88f508>"
      ]
     },
     "execution_count": 193,
     "metadata": {},
     "output_type": "execute_result"
    },
    {
     "data": {
      "image/png": "[encoded data removed]",
      "text/plain": [
       "<Figure size 432x288 with 1 Axes>"
      ]
     },
     "metadata": {
      "needs_background": "light"
     },
     "output_type": "display_data"
    }
   ],
   "source": [
    "# Hago el gráfico de la segunda serie:\n",
    "fig = plt.figure()\n",
    "# creo los axes\n",
    "ax = plt.axes()\n",
    "# dibujo en axes:\n",
    "ax.scatter(dif_price_per_m2_estimada.index, dif_price_per_m2_estimada.values, marker = 'o', color = \"green\", label='serie sin', alpha = 0.4)"
   ]
  },
  {
   "cell_type": "markdown",
   "metadata": {},
   "source": [
    "Entonces:\n",
    "- Para el caso de \"price_per_m2\": se divide la columna \"\"price\", sin importar las unidades, con la columna \"surface_covered_in_m2\".\n",
    "- Para el caso de \"price_usd_per_m2\": se divide la columna \"\"price\", corregido por currency, con la columna \"surface_total_in_m2\"."
   ]
  },
  {
   "cell_type": "markdown",
   "metadata": {},
   "source": [
    "Vamos a generar una nueva columna con los precios en dolares dividido la superficie total y los precios en dolares dividido la superficie cubierta. A diferencia de las originales, estas sí serán representativas: todas en dolares y teniendo en cuenta el tipo de superficie correcto, usando las nuevas columnas de datos."
   ]
  },
  {
   "cell_type": "code",
   "execution_count": 194,
   "metadata": {},
   "outputs": [],
   "source": [
    "data['precio_por_superficie_TOTAL'] = data['price_USD']/data['superficie_TOTAL']\n",
    "data['precio_por_superficie_CUBIERTA'] = data['price_USD']/data['superficie_CUBIERTA']"
   ]
  },
  {
   "cell_type": "markdown",
   "metadata": {},
   "source": [
    "Vemos con cuantos nulls y tamaño quedó nuestro DF"
   ]
  },
  {
   "cell_type": "code",
   "execution_count": 206,
   "metadata": {},
   "outputs": [
    {
     "name": "stdout",
     "output_type": "stream",
     "text": [
      "property_type                     0.000000\n",
      "place_name                        0.000201\n",
      "place_with_parent_names           0.000000\n",
      "state_name                        0.000000\n",
      "price                             0.149004\n",
      "currency                          0.149004\n",
      "price_aprox_local_currency        0.149004\n",
      "price_aprox_usd                   0.149004\n",
      "surface_total_in_m2               0.331141\n",
      "surface_covered_in_m2             0.161868\n",
      "price_usd_per_m2                  0.423553\n",
      "price_per_m2                      0.260507\n",
      "rooms                             0.603614\n",
      "description                       0.000017\n",
      "title                             0.000000\n",
      "price_USD                         0.149004\n",
      "superficie_TOTAL                  0.340665\n",
      "superficie_CUBIERTA               0.171392\n",
      "precio_por_superficie_TOTAL       0.429806\n",
      "precio_por_superficie_CUBIERTA    0.268914\n",
      "dtype: float64\n",
      "114661\n"
     ]
    }
   ],
   "source": [
    "print(data.isnull().sum()/data.shape[0])\n",
    "print(data.shape[0])"
   ]
  },
  {
   "cell_type": "markdown",
   "metadata": {},
   "source": [
    "Veamos si hay registros con superficies definidas pero no con datos de precios y viceversa."
   ]
  },
  {
   "cell_type": "code",
   "execution_count": 204,
   "metadata": {},
   "outputs": [
    {
     "name": "stdout",
     "output_type": "stream",
     "text": [
      "Datos con precios pero sin superficie total: 32197\n",
      "Datos con precios pero sin superficie cubierta: 13749\n",
      "Datos sin precios pero con superficie total: 10221\n",
      "Datos sin precios pero sin superficie cubierta: 11182\n",
      "Datos SIN precios: 17085\n"
     ]
    }
   ],
   "source": [
    "mask_prices = data.price_USD.isnull()\n",
    "mask_surface_total = data.superficie_TOTAL.isnull()\n",
    "mask_surface_cubierta = data.superficie_CUBIERTA.isnull()\n",
    "\n",
    "print(\"Datos con precios pero sin superficie total: \" + str(np.logical_and(np.logical_not(mask_prices),mask_surface_total).sum()))\n",
    "print(\"Datos con precios pero sin superficie cubierta: \" + str(np.logical_and(np.logical_not(mask_prices),mask_surface_cubierta).sum()))\n",
    "print(\"Datos sin precios pero con superficie total: \" + str(np.logical_and(np.logical_not(mask_surface_total),mask_prices).sum()))\n",
    "print(\"Datos sin precios pero sin superficie cubierta: \" + str(np.logical_and(np.logical_not(mask_surface_cubierta),mask_prices).sum()))\n",
    "print(\"Datos SIN precios: \" + str(mask_prices.sum()))"
   ]
  },
  {
   "cell_type": "code",
   "execution_count": null,
   "metadata": {},
   "outputs": [],
   "source": []
  },
  {
   "cell_type": "markdown",
   "metadata": {},
   "source": [
    "Elimino registros que NO tienen precio."
   ]
  },
  {
   "cell_type": "code",
   "execution_count": 228,
   "metadata": {},
   "outputs": [
    {
     "name": "stdout",
     "output_type": "stream",
     "text": [
      "Cantidad de elementos a eliminar:17085\n"
     ]
    },
    {
     "data": {
      "text/plain": [
       "Int64Index([     5,     20,     41,     62,     67,     76,     83,     84,\n",
       "                85,    100,\n",
       "            ...\n",
       "            121126, 121127, 121129, 121142, 121207, 121210, 121211, 121212,\n",
       "            121213, 121214],\n",
       "           dtype='int64', length=17085)"
      ]
     },
     "execution_count": 228,
     "metadata": {},
     "output_type": "execute_result"
    }
   ],
   "source": [
    "# Busco los índices:\n",
    "mask_NaNs_prices = np.logical_and(np.logical_and(data.price.isnull(),data.currency.isnull()),np.logical_and(data.price_aprox_local_currency.isnull(),data.price_aprox_usd.isnull()))\n",
    "print('Cantidad de elementos a eliminar:' + str(mask_NaNs_prices.sum()))\n",
    "inds_prices = data.loc[mask_NaNs_prices].index\n",
    "inds_prices"
   ]
  },
  {
   "cell_type": "code",
   "execution_count": 223,
   "metadata": {},
   "outputs": [
    {
     "name": "stdout",
     "output_type": "stream",
     "text": [
      "114661\n",
      "97576\n"
     ]
    }
   ],
   "source": [
    "data_clean = data.drop(index = inds_prices)\n",
    "                           \n",
    "print(data.shape[0])\n",
    "print(data_clean.shape[0])"
   ]
  },
  {
   "cell_type": "markdown",
   "metadata": {},
   "source": [
    "Elimino registros que NO tienen NINGÚN dato de superficies (puede tener total o cubierta o los dos)."
   ]
  },
  {
   "cell_type": "code",
   "execution_count": 236,
   "metadata": {},
   "outputs": [
    {
     "name": "stdout",
     "output_type": "stream",
     "text": [
      "Cantidad de elementos a eliminar:8372\n"
     ]
    },
    {
     "data": {
      "text/plain": [
       "Int64Index([     1,      3,      9,     11,     65,     70,     71,     72,\n",
       "                78,     88,\n",
       "            ...\n",
       "            120979, 121055, 121062, 121069, 121070, 121079, 121101, 121133,\n",
       "            121134, 121144],\n",
       "           dtype='int64', length=8372)"
      ]
     },
     "execution_count": 236,
     "metadata": {},
     "output_type": "execute_result"
    }
   ],
   "source": [
    "mask_NaNs_surfaces = np.logical_and(data_clean.superficie_TOTAL.isnull(),data_clean.superficie_CUBIERTA.isnull())\n",
    "print('Cantidad de elementos a eliminar:' + str(mask_NaNs_surfaces.sum()))\n",
    "inds_surfaces = data_clean.loc[mask_NaNs_surfaces].index\n",
    "inds_surfaces"
   ]
  },
  {
   "cell_type": "code",
   "execution_count": 237,
   "metadata": {},
   "outputs": [
    {
     "name": "stdout",
     "output_type": "stream",
     "text": [
      "Antes de la limpieza: 97576\n",
      "Después de la limpieza: 89204\n"
     ]
    }
   ],
   "source": [
    "print(\"Antes de la limpieza: \" + str(data_clean.shape[0]))\n",
    "\n",
    "data_clean.drop(index = inds_surfaces, inplace = True)\n",
    "                           \n",
    "print(\"Después de la limpieza: \" + str(data_clean.shape[0]))"
   ]
  },
  {
   "cell_type": "code",
   "execution_count": 238,
   "metadata": {},
   "outputs": [
    {
     "name": "stdout",
     "output_type": "stream",
     "text": [
      "property_type                     0.000000\n",
      "place_name                        0.000201\n",
      "place_with_parent_names           0.000000\n",
      "state_name                        0.000000\n",
      "price                             0.149004\n",
      "currency                          0.149004\n",
      "price_aprox_local_currency        0.149004\n",
      "price_aprox_usd                   0.149004\n",
      "surface_total_in_m2               0.331141\n",
      "surface_covered_in_m2             0.161868\n",
      "price_usd_per_m2                  0.423553\n",
      "price_per_m2                      0.260507\n",
      "rooms                             0.603614\n",
      "description                       0.000017\n",
      "title                             0.000000\n",
      "price_USD                         0.149004\n",
      "superficie_TOTAL                  0.340665\n",
      "superficie_CUBIERTA               0.171392\n",
      "precio_por_superficie_TOTAL       0.429806\n",
      "precio_por_superficie_CUBIERTA    0.268914\n",
      "dtype: float64\n",
      "114661\n"
     ]
    }
   ],
   "source": [
    "print(data.isnull().sum()/data.shape[0])\n",
    "print(data.shape[0])"
   ]
  },
  {
   "cell_type": "code",
   "execution_count": 244,
   "metadata": {},
   "outputs": [
    {
     "data": {
      "text/plain": [
       "Capital Federal                 27410\n",
       "Bs.As. G.B.A. Zona Norte        22267\n",
       "Bs.As. G.B.A. Zona Sur          10009\n",
       "Buenos Aires Costa Atlántica     7762\n",
       "Córdoba                          6714\n",
       "Bs.As. G.B.A. Zona Oeste         6103\n",
       "Santa Fe                         4960\n",
       "Buenos Aires Interior            1498\n",
       "Corrientes                        430\n",
       "Mendoza                           423\n",
       "Río Negro                         319\n",
       "Neuquén                           262\n",
       "Misiones                          252\n",
       "Tucumán                           174\n",
       "San Luis                          164\n",
       "Chubut                            141\n",
       "Entre Ríos                         99\n",
       "Salta                              86\n",
       "Tierra Del Fuego                   28\n",
       "Chaco                              28\n",
       "Catamarca                          22\n",
       "La Pampa                           18\n",
       "Santa Cruz                         12\n",
       "Jujuy                              10\n",
       "Formosa                             4\n",
       "San Juan                            4\n",
       "Santiago Del Estero                 3\n",
       "La Rioja                            2\n",
       "Name: state_name, dtype: int64"
      ]
     },
     "execution_count": 244,
     "metadata": {},
     "output_type": "execute_result"
    }
   ],
   "source": [
    "data_clean.state_name.value_counts()"
   ]
  },
  {
   "cell_type": "markdown",
   "metadata": {},
   "source": [
    "## Veo si puedo sacar algo de description\n",
    "\n",
    "Podemos ver si el precio de la descripción coincide con el precio de \"price\".\n",
    "Por ejemplo: registro con id 74682:"
   ]
  },
  {
   "cell_type": "code",
   "execution_count": 197,
   "metadata": {},
   "outputs": [
    {
     "data": {
      "text/plain": [
       "property_type                                                   apartment\n",
       "place_name                                                       Belgrano\n",
       "place_with_parent_names              |Argentina|Capital Federal|Belgrano|\n",
       "state_name                                                Capital Federal\n",
       "price                                                              198000\n",
       "currency                                                              USD\n",
       "price_aprox_local_currency                                    3.49361e+06\n",
       "price_aprox_usd                                                    198000\n",
       "surface_total_in_m2                                                    52\n",
       "surface_covered_in_m2                                                  45\n",
       "price_usd_per_m2                                                  3807.69\n",
       "price_per_m2                                                         4400\n",
       "rooms                                                                 NaN\n",
       "description                       BELGRANO - DEPARTAMENTO EN VENTA DE ...\n",
       "title                             BELGRANO - DEPARTAMENTO EN VENTA DE ...\n",
       "price_USD                                                          198000\n",
       "superficie_TOTAL                                                       52\n",
       "superficie_CUBIERTA                                                    45\n",
       "precio_por_superficie_TOTAL                                       3807.69\n",
       "precio_por_superficie_CUBIERTA                                       4400\n",
       "Name: 77885, dtype: object"
      ]
     },
     "execution_count": 197,
     "metadata": {},
     "output_type": "execute_result"
    }
   ],
   "source": [
    "data.iloc[74682]"
   ]
  },
  {
   "cell_type": "code",
   "execution_count": 198,
   "metadata": {},
   "outputs": [
    {
     "data": {
      "text/html": [
       "<div>\n",
       "<style scoped>\n",
       "    .dataframe tbody tr th:only-of-type {\n",
       "        vertical-align: middle;\n",
       "    }\n",
       "\n",
       "    .dataframe tbody tr th {\n",
       "        vertical-align: top;\n",
       "    }\n",
       "\n",
       "    .dataframe thead th {\n",
       "        text-align: right;\n",
       "    }\n",
       "</style>\n",
       "<table border=\"1\" class=\"dataframe\">\n",
       "  <thead>\n",
       "    <tr style=\"text-align: right;\">\n",
       "      <th></th>\n",
       "      <th>property_type</th>\n",
       "      <th>place_name</th>\n",
       "      <th>place_with_parent_names</th>\n",
       "      <th>state_name</th>\n",
       "      <th>price</th>\n",
       "      <th>currency</th>\n",
       "      <th>price_aprox_local_currency</th>\n",
       "      <th>price_aprox_usd</th>\n",
       "      <th>surface_total_in_m2</th>\n",
       "      <th>surface_covered_in_m2</th>\n",
       "      <th>price_usd_per_m2</th>\n",
       "      <th>price_per_m2</th>\n",
       "      <th>rooms</th>\n",
       "      <th>description</th>\n",
       "      <th>title</th>\n",
       "      <th>price_USD</th>\n",
       "      <th>superficie_TOTAL</th>\n",
       "      <th>superficie_CUBIERTA</th>\n",
       "      <th>precio_por_superficie_TOTAL</th>\n",
       "      <th>precio_por_superficie_CUBIERTA</th>\n",
       "    </tr>\n",
       "  </thead>\n",
       "  <tbody>\n",
       "    <tr>\n",
       "      <th>74682</th>\n",
       "      <td>store</td>\n",
       "      <td>Temperley</td>\n",
       "      <td>|Argentina|Bs.As. G.B.A. Zona Sur|Lo...</td>\n",
       "      <td>Bs.As. G.B.A. Zona Sur</td>\n",
       "      <td>550000.0</td>\n",
       "      <td>USD</td>\n",
       "      <td>9704475.0</td>\n",
       "      <td>550000.0</td>\n",
       "      <td>370.0</td>\n",
       "      <td>490.0</td>\n",
       "      <td>1486.486486</td>\n",
       "      <td>1122.44898</td>\n",
       "      <td>NaN</td>\n",
       "      <td>Excelente local y Vivienda al fondo....</td>\n",
       "      <td>Local con Vivienda</td>\n",
       "      <td>550000.0</td>\n",
       "      <td>NaN</td>\n",
       "      <td>NaN</td>\n",
       "      <td>NaN</td>\n",
       "      <td>NaN</td>\n",
       "    </tr>\n",
       "  </tbody>\n",
       "</table>\n",
       "</div>"
      ],
      "text/plain": [
       "      property_type place_name                  place_with_parent_names  \\\n",
       "74682         store  Temperley  |Argentina|Bs.As. G.B.A. Zona Sur|Lo...   \n",
       "\n",
       "                   state_name     price currency  price_aprox_local_currency  \\\n",
       "74682  Bs.As. G.B.A. Zona Sur  550000.0      USD                   9704475.0   \n",
       "\n",
       "       price_aprox_usd  surface_total_in_m2  surface_covered_in_m2  \\\n",
       "74682         550000.0                370.0                  490.0   \n",
       "\n",
       "       price_usd_per_m2  price_per_m2  rooms  \\\n",
       "74682       1486.486486    1122.44898    NaN   \n",
       "\n",
       "                                   description               title  price_USD  \\\n",
       "74682  Excelente local y Vivienda al fondo....  Local con Vivienda   550000.0   \n",
       "\n",
       "       superficie_TOTAL  superficie_CUBIERTA  precio_por_superficie_TOTAL  \\\n",
       "74682               NaN                  NaN                          NaN   \n",
       "\n",
       "       precio_por_superficie_CUBIERTA  \n",
       "74682                             NaN  "
      ]
     },
     "execution_count": 198,
     "metadata": {},
     "output_type": "execute_result"
    }
   ],
   "source": [
    "mask_rare = np.logical_and(data.place_name == 'Temperley', data.surface_total_in_m2 == 370)\n",
    "data.loc[mask_rare]"
   ]
  },
  {
   "cell_type": "code",
   "execution_count": 199,
   "metadata": {},
   "outputs": [
    {
     "name": "stdout",
     "output_type": "stream",
     "text": [
      "74682    Excelente local y Vivienda al fondo. Local de 350m² con retiro de frente con deck de madera, acceso vidriado, recepción, amplio salón con barra, cocina con acceso de servicio y comunicación al salón, baño para discapacitados, amplio segundo salon c/barra, vip y acceso a patio trasero. PA: Antebaño mixto con bachas, 2 baños (Damas y Caballeros), duchas y depósito tipo altillo. Posee localización aprobada para FIESTAS INFANTILES, RESTAURANT, CAFETERIA, DECORACION, DISEÑO Y ROPA. Paredes con espejos y barras con piletas. Vivienda: (140m²) Acceso por pasillo, patio, living comedor c/piso porcelanato, AA y estufa de TB, cocina c/m/b/s/mesada y barra desayunadora, toilet de recepción. PA: Hall distribuidor c/placard, 2 dormitorios c/vestidor y piso flotante, uno en suite c/baño completo. 2ºPiso: Muy amplia terraza c/lavadero tipo quincho y sala de maquinas.También en Alquiler el Local solo en $40.000.-Tambien en venta con local lindero. U$D 670.000.-Para consultas telefónicas tenga este ...\n",
      "Name: description, dtype: object\n"
     ]
    }
   ],
   "source": [
    "pd.options.display.max_colwidth = 1000\n",
    "print(data.loc[mask_rare].description)\n",
    "pd.options.display.max_colwidth = 40"
   ]
  },
  {
   "cell_type": "code",
   "execution_count": null,
   "metadata": {},
   "outputs": [],
   "source": []
  },
  {
   "cell_type": "code",
   "execution_count": null,
   "metadata": {},
   "outputs": [],
   "source": []
  },
  {
   "cell_type": "code",
   "execution_count": null,
   "metadata": {},
   "outputs": [],
   "source": []
  },
  {
   "cell_type": "code",
   "execution_count": null,
   "metadata": {},
   "outputs": [],
   "source": []
  },
  {
   "cell_type": "code",
   "execution_count": null,
   "metadata": {},
   "outputs": [],
   "source": []
  },
  {
   "cell_type": "code",
   "execution_count": null,
   "metadata": {},
   "outputs": [],
   "source": []
  },
  {
   "cell_type": "code",
   "execution_count": 200,
   "metadata": {},
   "outputs": [
    {
     "ename": "NameError",
     "evalue": "name 'data_ratings' is not defined",
     "output_type": "error",
     "traceback": [
      "\u001b[1;31m---------------------------------------------------------------------------\u001b[0m",
      "\u001b[1;31mNameError\u001b[0m                                 Traceback (most recent call last)",
      "\u001b[1;32m<ipython-input-200-005144feeeef>\u001b[0m in \u001b[0;36m<module>\u001b[1;34m\u001b[0m\n\u001b[1;32m----> 1\u001b[1;33m \u001b[0mdata_ratings_nodup\u001b[0m \u001b[1;33m=\u001b[0m \u001b[0mdata_ratings\u001b[0m\u001b[1;33m.\u001b[0m\u001b[0mdrop_duplicates\u001b[0m\u001b[1;33m(\u001b[0m\u001b[0msubset\u001b[0m \u001b[1;33m=\u001b[0m \u001b[1;33m[\u001b[0m\u001b[1;34m\"userId\"\u001b[0m\u001b[1;33m,\u001b[0m \u001b[1;34m\"movieId\"\u001b[0m\u001b[1;33m]\u001b[0m\u001b[1;33m,\u001b[0m \u001b[0mkeep\u001b[0m \u001b[1;33m=\u001b[0m \u001b[1;34m\"first\"\u001b[0m\u001b[1;33m)\u001b[0m\u001b[1;33m\u001b[0m\u001b[1;33m\u001b[0m\u001b[0m\n\u001b[0m\u001b[0;32m      2\u001b[0m \u001b[1;33m\u001b[0m\u001b[0m\n\u001b[0;32m      3\u001b[0m \u001b[1;31m#6.b\u001b[0m\u001b[1;33m\u001b[0m\u001b[1;33m\u001b[0m\u001b[1;33m\u001b[0m\u001b[0m\n\u001b[0;32m      4\u001b[0m \u001b[0mmovie_votes_count\u001b[0m \u001b[1;33m=\u001b[0m \u001b[0mdata_ratings_nodup\u001b[0m\u001b[1;33m.\u001b[0m\u001b[0mgroupby\u001b[0m\u001b[1;33m(\u001b[0m\u001b[1;34m\"movieId\"\u001b[0m\u001b[1;33m)\u001b[0m\u001b[1;33m[\u001b[0m\u001b[1;34m\"userId\"\u001b[0m\u001b[1;33m]\u001b[0m\u001b[1;33m.\u001b[0m\u001b[0mcount\u001b[0m\u001b[1;33m(\u001b[0m\u001b[1;33m)\u001b[0m\u001b[1;33m\u001b[0m\u001b[1;33m\u001b[0m\u001b[0m\n\u001b[0;32m      5\u001b[0m \u001b[1;33m\u001b[0m\u001b[0m\n",
      "\u001b[1;31mNameError\u001b[0m: name 'data_ratings' is not defined"
     ]
    }
   ],
   "source": [
    "data_ratings_nodup = data_ratings.drop_duplicates(subset = [\"userId\", \"movieId\"], keep = \"first\")\n",
    "\n",
    "#6.b\n",
    "movie_votes_count = data_ratings_nodup.groupby(\"movieId\")[\"userId\"].count()\n",
    "\n",
    "#6.c\n",
    "q1 = movie_votes_count.quantile(0.25)\n",
    "print(q1)\n",
    "q2 = movie_votes_count.quantile(0.5)\n",
    "print(q2)\n",
    "q3 = movie_votes_count.quantile(0.75)\n",
    "print(q3)\n",
    "\n",
    "\n",
    "iqr = (q3 - q1) * 1.5\n",
    "\n",
    "up_threshold = q3 + iqr\n",
    "low_threshold = q1 - iqr\n",
    "\n",
    "print(up_threshold)\n",
    "print(low_threshold)\n",
    "\n",
    "#6.d\n",
    "outlier_mask_up = movie_votes_count > up_threshold\n",
    "outlier_mask_down = movie_votes_count < low_threshold\n",
    "outlier_mask = np.logical_or(outlier_mask_up, outlier_mask_down)\n",
    "not_outliers = np.logical_not(outlier_mask)\n",
    "\n",
    "outliers = movie_votes_count[outlier_mask]"
   ]
  }
 ],
 "metadata": {
  "kernelspec": {
   "display_name": "Python 3",
   "language": "python",
   "name": "python3"
  },
  "language_info": {
   "codemirror_mode": {
    "name": "ipython",
    "version": 3
   },
   "file_extension": ".py",
   "mimetype": "text/x-python",
   "name": "python",
   "nbconvert_exporter": "python",
   "pygments_lexer": "ipython3",
   "version": "3.7.9"
  }
 },
 "nbformat": 4,
 "nbformat_minor": 4
}
