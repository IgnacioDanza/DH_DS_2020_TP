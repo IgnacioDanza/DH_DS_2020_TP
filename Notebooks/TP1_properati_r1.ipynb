{
 "cells": [
  {
   "cell_type": "code",
   "execution_count": null,
   "metadata": {},
   "outputs": [],
   "source": []
  },
  {
   "cell_type": "markdown",
   "metadata": {},
   "source": [
    "Importamos las herramientas con que vamos a trabajar"
   ]
  },
  {
   "cell_type": "code",
   "execution_count": 1,
   "metadata": {},
   "outputs": [],
   "source": [
    "import numpy as np \n",
    "import pandas as pd\n",
    "import re\n",
    "import seaborn as sns\n",
    "import matplotlib.pyplot as plt\n",
    "import chardet"
   ]
  },
  {
   "cell_type": "markdown",
   "metadata": {},
   "source": [
    "Vamos a relevar la codificación que tiene el archivo"
   ]
  },
  {
   "cell_type": "code",
   "execution_count": 2,
   "metadata": {},
   "outputs": [],
   "source": [
    "def get_encoding_type(csv_path):\n",
    "    rawdata = open(csv_path, 'rb').read()\n",
    "    result = chardet.detect(rawdata)\n",
    "    return result.get('encoding')\n"
   ]
  },
  {
   "cell_type": "code",
   "execution_count": 3,
   "metadata": {},
   "outputs": [
    {
     "name": "stdout",
     "output_type": "stream",
     "text": [
      "(121220, 26)\n"
     ]
    },
    {
     "data": {
      "text/plain": [
       "Unnamed: 0                      int64\n",
       "operation                      object\n",
       "property_type                  object\n",
       "place_name                     object\n",
       "place_with_parent_names        object\n",
       "country_name                   object\n",
       "state_name                     object\n",
       "geonames_id                   float64\n",
       "lat-lon                        object\n",
       "lat                           float64\n",
       "lon                           float64\n",
       "price                         float64\n",
       "currency                       object\n",
       "price_aprox_local_currency    float64\n",
       "price_aprox_usd               float64\n",
       "surface_total_in_m2           float64\n",
       "surface_covered_in_m2         float64\n",
       "price_usd_per_m2              float64\n",
       "price_per_m2                  float64\n",
       "floor                         float64\n",
       "rooms                         float64\n",
       "expenses                      float64\n",
       "properati_url                  object\n",
       "description                    object\n",
       "title                          object\n",
       "image_thumbnail                object\n",
       "dtype: object"
      ]
     },
     "execution_count": 3,
     "metadata": {},
     "output_type": "execute_result"
    }
   ],
   "source": [
    "#data_location = \"C:/Users/Administrador.000/Documents/DH/Contenidook/ds_blend_students_2020/Properati/properati.csv\"\n",
    "data_location = \"../data/properati.csv\"\n",
    "data_orig = pd.read_csv(data_location, sep = \",\",encoding='utf_8')\n",
    "print(data_orig.shape)\n",
    "data_orig.dtypes"
   ]
  },
  {
   "cell_type": "markdown",
   "metadata": {},
   "source": [
    "## Evalúo registros duplicados\n",
    "\n",
    "Veamos si existen registros duplicados en el `DataFrame` data considerando sólo las columnas **\"property_type\"**, **\"place_name\"**, **\"price\"**, **\"currency\"**, **\"surface_total_in_m2\"**, **\"surface_covered_in_m2\"**, marcando como no duplicado la primera ocurrencia de un registro.\n",
    "\n",
    "NOTA: Se desprecia la columna **\"description\"**, siendo que aún se encuentran duplicados al tener en cuenta dicha olumna."
   ]
  },
  {
   "cell_type": "code",
   "execution_count": 4,
   "metadata": {},
   "outputs": [
    {
     "name": "stdout",
     "output_type": "stream",
     "text": [
      "Cantidad de registros duplicados: 22432\n",
      "Cantidad de registros duplicados considerando\" description\": 6555\n"
     ]
    },
    {
     "data": {
      "text/html": [
       "<div>\n",
       "<style scoped>\n",
       "    .dataframe tbody tr th:only-of-type {\n",
       "        vertical-align: middle;\n",
       "    }\n",
       "\n",
       "    .dataframe tbody tr th {\n",
       "        vertical-align: top;\n",
       "    }\n",
       "\n",
       "    .dataframe thead th {\n",
       "        text-align: right;\n",
       "    }\n",
       "</style>\n",
       "<table border=\"1\" class=\"dataframe\">\n",
       "  <thead>\n",
       "    <tr style=\"text-align: right;\">\n",
       "      <th></th>\n",
       "      <th>Unnamed: 0</th>\n",
       "      <th>operation</th>\n",
       "      <th>property_type</th>\n",
       "      <th>place_name</th>\n",
       "      <th>place_with_parent_names</th>\n",
       "      <th>country_name</th>\n",
       "      <th>state_name</th>\n",
       "      <th>geonames_id</th>\n",
       "      <th>lat-lon</th>\n",
       "      <th>lat</th>\n",
       "      <th>...</th>\n",
       "      <th>surface_covered_in_m2</th>\n",
       "      <th>price_usd_per_m2</th>\n",
       "      <th>price_per_m2</th>\n",
       "      <th>floor</th>\n",
       "      <th>rooms</th>\n",
       "      <th>expenses</th>\n",
       "      <th>properati_url</th>\n",
       "      <th>description</th>\n",
       "      <th>title</th>\n",
       "      <th>image_thumbnail</th>\n",
       "    </tr>\n",
       "  </thead>\n",
       "  <tbody>\n",
       "    <tr>\n",
       "      <th>84</th>\n",
       "      <td>84</td>\n",
       "      <td>sell</td>\n",
       "      <td>apartment</td>\n",
       "      <td>Rosario</td>\n",
       "      <td>|Argentina|Santa Fe|Rosario|</td>\n",
       "      <td>Argentina</td>\n",
       "      <td>Santa Fe</td>\n",
       "      <td>3838574.0</td>\n",
       "      <td>-32.9327656,-60.6533854</td>\n",
       "      <td>-32.932766</td>\n",
       "      <td>...</td>\n",
       "      <td>55.0</td>\n",
       "      <td>NaN</td>\n",
       "      <td>NaN</td>\n",
       "      <td>NaN</td>\n",
       "      <td>2.0</td>\n",
       "      <td>NaN</td>\n",
       "      <td>http://www.properati.com.ar/15bz0_venta_depart...</td>\n",
       "      <td>Departamento en PB con cocina comedor separado...</td>\n",
       "      <td>2 Dormitorios. Güemes al 2400</td>\n",
       "      <td>https://thumbs4.properati.com/3/p47wDv3RcA2Ppe...</td>\n",
       "    </tr>\n",
       "    <tr>\n",
       "      <th>101</th>\n",
       "      <td>101</td>\n",
       "      <td>sell</td>\n",
       "      <td>apartment</td>\n",
       "      <td>Rosario</td>\n",
       "      <td>|Argentina|Santa Fe|Rosario|</td>\n",
       "      <td>Argentina</td>\n",
       "      <td>Santa Fe</td>\n",
       "      <td>3838574.0</td>\n",
       "      <td>-32.9359588621,-60.6691426017</td>\n",
       "      <td>-32.935959</td>\n",
       "      <td>...</td>\n",
       "      <td>NaN</td>\n",
       "      <td>NaN</td>\n",
       "      <td>NaN</td>\n",
       "      <td>NaN</td>\n",
       "      <td>NaN</td>\n",
       "      <td>NaN</td>\n",
       "      <td>http://www.properati.com.ar/15d1n_venta_depart...</td>\n",
       "      <td>Tucuman 3476Edificio PB y 4 pisos por ascensor...</td>\n",
       "      <td>Rosario - Tucuman 3400 - Venta Dptos 1 Dormito...</td>\n",
       "      <td>https://thumbs4.properati.com/1/2fJFWvaIJhJiM2...</td>\n",
       "    </tr>\n",
       "    <tr>\n",
       "      <th>102</th>\n",
       "      <td>102</td>\n",
       "      <td>sell</td>\n",
       "      <td>apartment</td>\n",
       "      <td>Rosario</td>\n",
       "      <td>|Argentina|Santa Fe|Rosario|</td>\n",
       "      <td>Argentina</td>\n",
       "      <td>Santa Fe</td>\n",
       "      <td>3838574.0</td>\n",
       "      <td>-32.9359588621,-60.6691426017</td>\n",
       "      <td>-32.935959</td>\n",
       "      <td>...</td>\n",
       "      <td>NaN</td>\n",
       "      <td>NaN</td>\n",
       "      <td>NaN</td>\n",
       "      <td>NaN</td>\n",
       "      <td>NaN</td>\n",
       "      <td>NaN</td>\n",
       "      <td>http://www.properati.com.ar/15d1o_venta_depart...</td>\n",
       "      <td>Tucuman 3476Edificio PB y 4 pisos por ascensor...</td>\n",
       "      <td>Rosario - Tucuman 3400 - Venta Dptos 2 Dormito...</td>\n",
       "      <td>https://thumbs4.properati.com/3/Ugx8LRGzX9jj-U...</td>\n",
       "    </tr>\n",
       "  </tbody>\n",
       "</table>\n",
       "<p>3 rows × 26 columns</p>\n",
       "</div>"
      ],
      "text/plain": [
       "     Unnamed: 0 operation property_type place_name  \\\n",
       "84           84      sell     apartment    Rosario   \n",
       "101         101      sell     apartment    Rosario   \n",
       "102         102      sell     apartment    Rosario   \n",
       "\n",
       "          place_with_parent_names country_name state_name  geonames_id  \\\n",
       "84   |Argentina|Santa Fe|Rosario|    Argentina   Santa Fe    3838574.0   \n",
       "101  |Argentina|Santa Fe|Rosario|    Argentina   Santa Fe    3838574.0   \n",
       "102  |Argentina|Santa Fe|Rosario|    Argentina   Santa Fe    3838574.0   \n",
       "\n",
       "                           lat-lon        lat  ...  surface_covered_in_m2  \\\n",
       "84         -32.9327656,-60.6533854 -32.932766  ...                   55.0   \n",
       "101  -32.9359588621,-60.6691426017 -32.935959  ...                    NaN   \n",
       "102  -32.9359588621,-60.6691426017 -32.935959  ...                    NaN   \n",
       "\n",
       "     price_usd_per_m2 price_per_m2  floor  rooms  expenses  \\\n",
       "84                NaN          NaN    NaN    2.0       NaN   \n",
       "101               NaN          NaN    NaN    NaN       NaN   \n",
       "102               NaN          NaN    NaN    NaN       NaN   \n",
       "\n",
       "                                         properati_url  \\\n",
       "84   http://www.properati.com.ar/15bz0_venta_depart...   \n",
       "101  http://www.properati.com.ar/15d1n_venta_depart...   \n",
       "102  http://www.properati.com.ar/15d1o_venta_depart...   \n",
       "\n",
       "                                           description  \\\n",
       "84   Departamento en PB con cocina comedor separado...   \n",
       "101  Tucuman 3476Edificio PB y 4 pisos por ascensor...   \n",
       "102  Tucuman 3476Edificio PB y 4 pisos por ascensor...   \n",
       "\n",
       "                                                 title  \\\n",
       "84                       2 Dormitorios. Güemes al 2400   \n",
       "101  Rosario - Tucuman 3400 - Venta Dptos 1 Dormito...   \n",
       "102  Rosario - Tucuman 3400 - Venta Dptos 2 Dormito...   \n",
       "\n",
       "                                       image_thumbnail  \n",
       "84   https://thumbs4.properati.com/3/p47wDv3RcA2Ppe...  \n",
       "101  https://thumbs4.properati.com/1/2fJFWvaIJhJiM2...  \n",
       "102  https://thumbs4.properati.com/3/Ugx8LRGzX9jj-U...  \n",
       "\n",
       "[3 rows x 26 columns]"
      ]
     },
     "execution_count": 4,
     "metadata": {},
     "output_type": "execute_result"
    }
   ],
   "source": [
    "# subset que utilizaré para eliminar registros duplicados\n",
    "subset = [\"property_type\",\"place_name\",\"price\",\"currency\",\"surface_total_in_m2\",\"surface_covered_in_m2\"]\n",
    "mask_duplicated = data_orig.duplicated(subset, keep = 'first')\n",
    "\n",
    "# subset considerando \"description\":\n",
    "subset = [\"property_type\",\"place_name\",\"price\",\"currency\",\"surface_total_in_m2\",\"surface_covered_in_m2\",\"description\"]\n",
    "mask_duplicated_with_description = data_orig.duplicated(subset, keep = 'first')\n",
    "\n",
    "\n",
    "print('Cantidad de registros duplicados: '+str(mask_duplicated.sum()))\n",
    "print('Cantidad de registros duplicados considerando\" description\": '+str(mask_duplicated_with_description.sum()))\n",
    "\n",
    "duplicated_records = data_orig.loc[mask_duplicated]\n",
    "duplicated_records.head(3).sort_values(by = 'place_name')"
   ]
  },
  {
   "cell_type": "markdown",
   "metadata": {},
   "source": [
    "**OMITO LA ELIMINACIÓN DE REGISTROS \"DUPLICADOS\"**\n",
    "\n",
    "Esto lo hablé con Fabían y acordamos que no es prudente eliminarlos, dado que es difícil encontrar un criterio que garantice la existencia de los duplicados.\n",
    "Lo veremos más adelante en los gráficos."
   ]
  },
  {
   "cell_type": "code",
   "execution_count": 5,
   "metadata": {},
   "outputs": [
    {
     "name": "stdout",
     "output_type": "stream",
     "text": [
      "(121220, 26)\n",
      "(121220, 26)\n"
     ]
    }
   ],
   "source": [
    "# Omito la eliminación de \"supuestos duplicados\":\n",
    "#data_nodup = data_orig.drop_duplicates(subset, keep = \"first\")\n",
    "\n",
    "data_nodup = data_orig\n",
    "\n",
    "print(data_orig.shape)\n",
    "print(data_nodup.shape)\n",
    "\n",
    "# Vemos que no quedan registros duplicados para el subset definido \n",
    "#dup_mask = data_nodup.duplicated(subset, keep = \"first\")\n",
    "#any(dup_mask)"
   ]
  },
  {
   "cell_type": "markdown",
   "metadata": {},
   "source": [
    "## Análisis de la información - Desestimación de datos\n",
    "\n",
    "Veamos la cantidad de nulos que hay en mi `DataFrame` original"
   ]
  },
  {
   "cell_type": "code",
   "execution_count": 6,
   "metadata": {},
   "outputs": [
    {
     "data": {
      "text/plain": [
       "Unnamed: 0                    0.000000\n",
       "operation                     0.000000\n",
       "property_type                 0.000000\n",
       "place_name                    0.000190\n",
       "place_with_parent_names       0.000000\n",
       "country_name                  0.000000\n",
       "state_name                    0.000000\n",
       "geonames_id                   0.154405\n",
       "lat-lon                       0.425260\n",
       "lat                           0.425260\n",
       "lon                           0.425260\n",
       "price                         0.168372\n",
       "currency                      0.168380\n",
       "price_aprox_local_currency    0.168372\n",
       "price_aprox_usd               0.168372\n",
       "surface_total_in_m2           0.324435\n",
       "surface_covered_in_m2         0.164222\n",
       "price_usd_per_m2              0.433947\n",
       "price_per_m2                  0.276869\n",
       "floor                         0.934837\n",
       "rooms                         0.609058\n",
       "expenses                      0.882346\n",
       "properati_url                 0.000000\n",
       "description                   0.000016\n",
       "title                         0.000000\n",
       "image_thumbnail               0.025672\n",
       "dtype: float64"
      ]
     },
     "execution_count": 6,
     "metadata": {},
     "output_type": "execute_result"
    }
   ],
   "source": [
    "data_orig.isnull().sum()/data_orig.shape[0]"
   ]
  },
  {
   "cell_type": "code",
   "execution_count": 7,
   "metadata": {},
   "outputs": [
    {
     "name": "stdout",
     "output_type": "stream",
     "text": [
      "(121220, 26)\n"
     ]
    },
    {
     "data": {
      "text/html": [
       "<div>\n",
       "<style scoped>\n",
       "    .dataframe tbody tr th:only-of-type {\n",
       "        vertical-align: middle;\n",
       "    }\n",
       "\n",
       "    .dataframe tbody tr th {\n",
       "        vertical-align: top;\n",
       "    }\n",
       "\n",
       "    .dataframe thead th {\n",
       "        text-align: right;\n",
       "    }\n",
       "</style>\n",
       "<table border=\"1\" class=\"dataframe\">\n",
       "  <thead>\n",
       "    <tr style=\"text-align: right;\">\n",
       "      <th></th>\n",
       "      <th>Unnamed: 0</th>\n",
       "      <th>operation</th>\n",
       "      <th>property_type</th>\n",
       "      <th>place_name</th>\n",
       "      <th>place_with_parent_names</th>\n",
       "      <th>country_name</th>\n",
       "      <th>state_name</th>\n",
       "      <th>geonames_id</th>\n",
       "      <th>lat-lon</th>\n",
       "      <th>lat</th>\n",
       "      <th>...</th>\n",
       "      <th>surface_covered_in_m2</th>\n",
       "      <th>price_usd_per_m2</th>\n",
       "      <th>price_per_m2</th>\n",
       "      <th>floor</th>\n",
       "      <th>rooms</th>\n",
       "      <th>expenses</th>\n",
       "      <th>properati_url</th>\n",
       "      <th>description</th>\n",
       "      <th>title</th>\n",
       "      <th>image_thumbnail</th>\n",
       "    </tr>\n",
       "  </thead>\n",
       "  <tbody>\n",
       "    <tr>\n",
       "      <th>0</th>\n",
       "      <td>0</td>\n",
       "      <td>sell</td>\n",
       "      <td>PH</td>\n",
       "      <td>Mataderos</td>\n",
       "      <td>|Argentina|Capital Federal|Mataderos|</td>\n",
       "      <td>Argentina</td>\n",
       "      <td>Capital Federal</td>\n",
       "      <td>3430787.0</td>\n",
       "      <td>-34.6618237,-58.5088387</td>\n",
       "      <td>-34.661824</td>\n",
       "      <td>...</td>\n",
       "      <td>40.0</td>\n",
       "      <td>1127.272727</td>\n",
       "      <td>1550.000000</td>\n",
       "      <td>NaN</td>\n",
       "      <td>NaN</td>\n",
       "      <td>NaN</td>\n",
       "      <td>http://www.properati.com.ar/15bo8_venta_ph_mat...</td>\n",
       "      <td>2 AMBIENTES TIPO CASA PLANTA BAJA POR PASILLO,...</td>\n",
       "      <td>2 AMB TIPO CASA SIN EXPENSAS EN PB</td>\n",
       "      <td>https://thumbs4.properati.com/8/BluUYiHJLhgIIK...</td>\n",
       "    </tr>\n",
       "    <tr>\n",
       "      <th>1</th>\n",
       "      <td>1</td>\n",
       "      <td>sell</td>\n",
       "      <td>apartment</td>\n",
       "      <td>La Plata</td>\n",
       "      <td>|Argentina|Bs.As. G.B.A. Zona Sur|La Plata|</td>\n",
       "      <td>Argentina</td>\n",
       "      <td>Bs.As. G.B.A. Zona Sur</td>\n",
       "      <td>3432039.0</td>\n",
       "      <td>-34.9038831,-57.9643295</td>\n",
       "      <td>-34.903883</td>\n",
       "      <td>...</td>\n",
       "      <td>NaN</td>\n",
       "      <td>NaN</td>\n",
       "      <td>NaN</td>\n",
       "      <td>NaN</td>\n",
       "      <td>NaN</td>\n",
       "      <td>NaN</td>\n",
       "      <td>http://www.properati.com.ar/15bob_venta_depart...</td>\n",
       "      <td>Venta de departamento en décimo piso al frente...</td>\n",
       "      <td>VENTA Depto 2 dorm. a estrenar 7 e/ 36 y 37   ...</td>\n",
       "      <td>https://thumbs4.properati.com/7/ikpVBu2ztHA7jv...</td>\n",
       "    </tr>\n",
       "    <tr>\n",
       "      <th>2</th>\n",
       "      <td>2</td>\n",
       "      <td>sell</td>\n",
       "      <td>apartment</td>\n",
       "      <td>Mataderos</td>\n",
       "      <td>|Argentina|Capital Federal|Mataderos|</td>\n",
       "      <td>Argentina</td>\n",
       "      <td>Capital Federal</td>\n",
       "      <td>3430787.0</td>\n",
       "      <td>-34.6522615,-58.5229825</td>\n",
       "      <td>-34.652262</td>\n",
       "      <td>...</td>\n",
       "      <td>55.0</td>\n",
       "      <td>1309.090909</td>\n",
       "      <td>1309.090909</td>\n",
       "      <td>NaN</td>\n",
       "      <td>NaN</td>\n",
       "      <td>NaN</td>\n",
       "      <td>http://www.properati.com.ar/15bod_venta_depart...</td>\n",
       "      <td>2 AMBIENTES 3ER PISO LATERAL LIVING COMEDOR AM...</td>\n",
       "      <td>2 AMB 3ER PISO CON ASCENSOR APTO CREDITO</td>\n",
       "      <td>https://thumbs4.properati.com/5/SXKr34F_IwG3W_...</td>\n",
       "    </tr>\n",
       "  </tbody>\n",
       "</table>\n",
       "<p>3 rows × 26 columns</p>\n",
       "</div>"
      ],
      "text/plain": [
       "   Unnamed: 0 operation property_type place_name  \\\n",
       "0           0      sell            PH  Mataderos   \n",
       "1           1      sell     apartment   La Plata   \n",
       "2           2      sell     apartment  Mataderos   \n",
       "\n",
       "                       place_with_parent_names country_name  \\\n",
       "0        |Argentina|Capital Federal|Mataderos|    Argentina   \n",
       "1  |Argentina|Bs.As. G.B.A. Zona Sur|La Plata|    Argentina   \n",
       "2        |Argentina|Capital Federal|Mataderos|    Argentina   \n",
       "\n",
       "               state_name  geonames_id                  lat-lon        lat  \\\n",
       "0         Capital Federal    3430787.0  -34.6618237,-58.5088387 -34.661824   \n",
       "1  Bs.As. G.B.A. Zona Sur    3432039.0  -34.9038831,-57.9643295 -34.903883   \n",
       "2         Capital Federal    3430787.0  -34.6522615,-58.5229825 -34.652262   \n",
       "\n",
       "   ...  surface_covered_in_m2  price_usd_per_m2 price_per_m2  floor  rooms  \\\n",
       "0  ...                   40.0       1127.272727  1550.000000    NaN    NaN   \n",
       "1  ...                    NaN               NaN          NaN    NaN    NaN   \n",
       "2  ...                   55.0       1309.090909  1309.090909    NaN    NaN   \n",
       "\n",
       "   expenses                                      properati_url  \\\n",
       "0       NaN  http://www.properati.com.ar/15bo8_venta_ph_mat...   \n",
       "1       NaN  http://www.properati.com.ar/15bob_venta_depart...   \n",
       "2       NaN  http://www.properati.com.ar/15bod_venta_depart...   \n",
       "\n",
       "                                         description  \\\n",
       "0  2 AMBIENTES TIPO CASA PLANTA BAJA POR PASILLO,...   \n",
       "1  Venta de departamento en décimo piso al frente...   \n",
       "2  2 AMBIENTES 3ER PISO LATERAL LIVING COMEDOR AM...   \n",
       "\n",
       "                                               title  \\\n",
       "0                 2 AMB TIPO CASA SIN EXPENSAS EN PB   \n",
       "1  VENTA Depto 2 dorm. a estrenar 7 e/ 36 y 37   ...   \n",
       "2           2 AMB 3ER PISO CON ASCENSOR APTO CREDITO   \n",
       "\n",
       "                                     image_thumbnail  \n",
       "0  https://thumbs4.properati.com/8/BluUYiHJLhgIIK...  \n",
       "1  https://thumbs4.properati.com/7/ikpVBu2ztHA7jv...  \n",
       "2  https://thumbs4.properati.com/5/SXKr34F_IwG3W_...  \n",
       "\n",
       "[3 rows x 26 columns]"
      ]
     },
     "execution_count": 7,
     "metadata": {},
     "output_type": "execute_result"
    }
   ],
   "source": [
    "print(data_nodup.shape)\n",
    "data_nodup.head(3)"
   ]
  },
  {
   "cell_type": "markdown",
   "metadata": {},
   "source": [
    "## Análisis para eliminar registros \n",
    "\n",
    "Veamos los registros que no que no tienen moneda en AR o US$"
   ]
  },
  {
   "cell_type": "code",
   "execution_count": 8,
   "metadata": {},
   "outputs": [
    {
     "data": {
      "text/plain": [
       "USD    87587\n",
       "ARS    13219\n",
       "PEN        2\n",
       "UYU        1\n",
       "Name: currency, dtype: int64"
      ]
     },
     "execution_count": 8,
     "metadata": {},
     "output_type": "execute_result"
    }
   ],
   "source": [
    "data_nodup.currency.value_counts()"
   ]
  },
  {
   "cell_type": "markdown",
   "metadata": {},
   "source": [
    "Veo qué pasa con **PEN**.\n",
    "Se dropea?"
   ]
  },
  {
   "cell_type": "code",
   "execution_count": 9,
   "metadata": {},
   "outputs": [
    {
     "name": "stdout",
     "output_type": "stream",
     "text": [
      "Precios de PEN:\n",
      "50387    380000.0\n",
      "50388    950000.0\n",
      "Name: price, dtype: float64\n"
     ]
    },
    {
     "data": {
      "text/html": [
       "<div>\n",
       "<style scoped>\n",
       "    .dataframe tbody tr th:only-of-type {\n",
       "        vertical-align: middle;\n",
       "    }\n",
       "\n",
       "    .dataframe tbody tr th {\n",
       "        vertical-align: top;\n",
       "    }\n",
       "\n",
       "    .dataframe thead th {\n",
       "        text-align: right;\n",
       "    }\n",
       "</style>\n",
       "<table border=\"1\" class=\"dataframe\">\n",
       "  <thead>\n",
       "    <tr style=\"text-align: right;\">\n",
       "      <th></th>\n",
       "      <th>Unnamed: 0</th>\n",
       "      <th>operation</th>\n",
       "      <th>property_type</th>\n",
       "      <th>place_name</th>\n",
       "      <th>place_with_parent_names</th>\n",
       "      <th>country_name</th>\n",
       "      <th>state_name</th>\n",
       "      <th>geonames_id</th>\n",
       "      <th>lat-lon</th>\n",
       "      <th>lat</th>\n",
       "      <th>...</th>\n",
       "      <th>surface_covered_in_m2</th>\n",
       "      <th>price_usd_per_m2</th>\n",
       "      <th>price_per_m2</th>\n",
       "      <th>floor</th>\n",
       "      <th>rooms</th>\n",
       "      <th>expenses</th>\n",
       "      <th>properati_url</th>\n",
       "      <th>description</th>\n",
       "      <th>title</th>\n",
       "      <th>image_thumbnail</th>\n",
       "    </tr>\n",
       "  </thead>\n",
       "  <tbody>\n",
       "    <tr>\n",
       "      <th>50387</th>\n",
       "      <td>50387</td>\n",
       "      <td>sell</td>\n",
       "      <td>apartment</td>\n",
       "      <td>Capital Federal</td>\n",
       "      <td>|Argentina|Capital Federal|</td>\n",
       "      <td>Argentina</td>\n",
       "      <td>Capital Federal</td>\n",
       "      <td>3433955.0</td>\n",
       "      <td>NaN</td>\n",
       "      <td>NaN</td>\n",
       "      <td>...</td>\n",
       "      <td>NaN</td>\n",
       "      <td>NaN</td>\n",
       "      <td>NaN</td>\n",
       "      <td>NaN</td>\n",
       "      <td>NaN</td>\n",
       "      <td>NaN</td>\n",
       "      <td>http://www.properati.com.ar/19e8z_venta_depart...</td>\n",
       "      <td>Ref.: 55:PREVENTA ::: OPORTUNIDAD ::: Dúplex a...</td>\n",
       "      <td>DUPLEX A LA VENTA | Liniers 1200 | Tandil</td>\n",
       "      <td>https://thumbs4.properati.com/9/N_Qr_5X_vOq--b...</td>\n",
       "    </tr>\n",
       "    <tr>\n",
       "      <th>50388</th>\n",
       "      <td>50388</td>\n",
       "      <td>sell</td>\n",
       "      <td>apartment</td>\n",
       "      <td>Capital Federal</td>\n",
       "      <td>|Argentina|Capital Federal|</td>\n",
       "      <td>Argentina</td>\n",
       "      <td>Capital Federal</td>\n",
       "      <td>3433955.0</td>\n",
       "      <td>NaN</td>\n",
       "      <td>NaN</td>\n",
       "      <td>...</td>\n",
       "      <td>NaN</td>\n",
       "      <td>NaN</td>\n",
       "      <td>NaN</td>\n",
       "      <td>NaN</td>\n",
       "      <td>NaN</td>\n",
       "      <td>NaN</td>\n",
       "      <td>http://www.properati.com.ar/19e90_venta_depart...</td>\n",
       "      <td>Ref.: 56Duplex en venta de 1 dormitorio con ap...</td>\n",
       "      <td>DUPLEX A LA VENTA | Liniers 1200 | Tandil</td>\n",
       "      <td>https://thumbs4.properati.com/8/_cBXAyr_9pDySg...</td>\n",
       "    </tr>\n",
       "  </tbody>\n",
       "</table>\n",
       "<p>2 rows × 26 columns</p>\n",
       "</div>"
      ],
      "text/plain": [
       "       Unnamed: 0 operation property_type       place_name  \\\n",
       "50387       50387      sell     apartment  Capital Federal   \n",
       "50388       50388      sell     apartment  Capital Federal   \n",
       "\n",
       "           place_with_parent_names country_name       state_name  geonames_id  \\\n",
       "50387  |Argentina|Capital Federal|    Argentina  Capital Federal    3433955.0   \n",
       "50388  |Argentina|Capital Federal|    Argentina  Capital Federal    3433955.0   \n",
       "\n",
       "      lat-lon  lat  ...  surface_covered_in_m2  price_usd_per_m2 price_per_m2  \\\n",
       "50387     NaN  NaN  ...                    NaN               NaN          NaN   \n",
       "50388     NaN  NaN  ...                    NaN               NaN          NaN   \n",
       "\n",
       "       floor  rooms  expenses  \\\n",
       "50387    NaN    NaN       NaN   \n",
       "50388    NaN    NaN       NaN   \n",
       "\n",
       "                                           properati_url  \\\n",
       "50387  http://www.properati.com.ar/19e8z_venta_depart...   \n",
       "50388  http://www.properati.com.ar/19e90_venta_depart...   \n",
       "\n",
       "                                             description  \\\n",
       "50387  Ref.: 55:PREVENTA ::: OPORTUNIDAD ::: Dúplex a...   \n",
       "50388  Ref.: 56Duplex en venta de 1 dormitorio con ap...   \n",
       "\n",
       "                                           title  \\\n",
       "50387  DUPLEX A LA VENTA | Liniers 1200 | Tandil   \n",
       "50388  DUPLEX A LA VENTA | Liniers 1200 | Tandil   \n",
       "\n",
       "                                         image_thumbnail  \n",
       "50387  https://thumbs4.properati.com/9/N_Qr_5X_vOq--b...  \n",
       "50388  https://thumbs4.properati.com/8/_cBXAyr_9pDySg...  \n",
       "\n",
       "[2 rows x 26 columns]"
      ]
     },
     "execution_count": 9,
     "metadata": {},
     "output_type": "execute_result"
    }
   ],
   "source": [
    "mask_PEN = data_nodup.currency == 'PEN'\n",
    "print('Precios de PEN:\\n'+str(data_nodup.loc[mask_PEN].price))\n",
    "data_nodup.loc[mask_PEN]"
   ]
  },
  {
   "cell_type": "markdown",
   "metadata": {},
   "source": [
    "Veo qué pasa con **UYU**.\n",
    "Se dropea?"
   ]
  },
  {
   "cell_type": "code",
   "execution_count": 10,
   "metadata": {},
   "outputs": [
    {
     "name": "stdout",
     "output_type": "stream",
     "text": [
      "Precios de UYU:\n",
      "107390    650000000.0\n",
      "Name: price, dtype: float64\n"
     ]
    },
    {
     "data": {
      "text/html": [
       "<div>\n",
       "<style scoped>\n",
       "    .dataframe tbody tr th:only-of-type {\n",
       "        vertical-align: middle;\n",
       "    }\n",
       "\n",
       "    .dataframe tbody tr th {\n",
       "        vertical-align: top;\n",
       "    }\n",
       "\n",
       "    .dataframe thead th {\n",
       "        text-align: right;\n",
       "    }\n",
       "</style>\n",
       "<table border=\"1\" class=\"dataframe\">\n",
       "  <thead>\n",
       "    <tr style=\"text-align: right;\">\n",
       "      <th></th>\n",
       "      <th>Unnamed: 0</th>\n",
       "      <th>operation</th>\n",
       "      <th>property_type</th>\n",
       "      <th>place_name</th>\n",
       "      <th>place_with_parent_names</th>\n",
       "      <th>country_name</th>\n",
       "      <th>state_name</th>\n",
       "      <th>geonames_id</th>\n",
       "      <th>lat-lon</th>\n",
       "      <th>lat</th>\n",
       "      <th>...</th>\n",
       "      <th>surface_covered_in_m2</th>\n",
       "      <th>price_usd_per_m2</th>\n",
       "      <th>price_per_m2</th>\n",
       "      <th>floor</th>\n",
       "      <th>rooms</th>\n",
       "      <th>expenses</th>\n",
       "      <th>properati_url</th>\n",
       "      <th>description</th>\n",
       "      <th>title</th>\n",
       "      <th>image_thumbnail</th>\n",
       "    </tr>\n",
       "  </thead>\n",
       "  <tbody>\n",
       "    <tr>\n",
       "      <th>107390</th>\n",
       "      <td>107390</td>\n",
       "      <td>sell</td>\n",
       "      <td>house</td>\n",
       "      <td>San Roque</td>\n",
       "      <td>|Argentina|Mendoza|San Roque|</td>\n",
       "      <td>Argentina</td>\n",
       "      <td>Mendoza</td>\n",
       "      <td>3836586.0</td>\n",
       "      <td>NaN</td>\n",
       "      <td>NaN</td>\n",
       "      <td>...</td>\n",
       "      <td>NaN</td>\n",
       "      <td>NaN</td>\n",
       "      <td>NaN</td>\n",
       "      <td>NaN</td>\n",
       "      <td>NaN</td>\n",
       "      <td>NaN</td>\n",
       "      <td>http://www.properati.com.ar/1by0s_venta_casa_s...</td>\n",
       "      <td>Casa con Calefacción central, Mendoza, San Roq...</td>\n",
       "      <td>Casa - San Vicente</td>\n",
       "      <td>https://thumbs4.properati.com/2/pA0RbuDKRK6GgV...</td>\n",
       "    </tr>\n",
       "  </tbody>\n",
       "</table>\n",
       "<p>1 rows × 26 columns</p>\n",
       "</div>"
      ],
      "text/plain": [
       "        Unnamed: 0 operation property_type place_name  \\\n",
       "107390      107390      sell         house  San Roque   \n",
       "\n",
       "              place_with_parent_names country_name state_name  geonames_id  \\\n",
       "107390  |Argentina|Mendoza|San Roque|    Argentina    Mendoza    3836586.0   \n",
       "\n",
       "       lat-lon  lat  ...  surface_covered_in_m2  price_usd_per_m2  \\\n",
       "107390     NaN  NaN  ...                    NaN               NaN   \n",
       "\n",
       "       price_per_m2  floor  rooms  expenses  \\\n",
       "107390          NaN    NaN    NaN       NaN   \n",
       "\n",
       "                                            properati_url  \\\n",
       "107390  http://www.properati.com.ar/1by0s_venta_casa_s...   \n",
       "\n",
       "                                              description               title  \\\n",
       "107390  Casa con Calefacción central, Mendoza, San Roq...  Casa - San Vicente   \n",
       "\n",
       "                                          image_thumbnail  \n",
       "107390  https://thumbs4.properati.com/2/pA0RbuDKRK6GgV...  \n",
       "\n",
       "[1 rows x 26 columns]"
      ]
     },
     "execution_count": 10,
     "metadata": {},
     "output_type": "execute_result"
    }
   ],
   "source": [
    "mask_UYU = data_nodup.currency == 'UYU'\n",
    "print('Precios de UYU:\\n'+str(data_nodup.loc[mask_UYU].price))\n",
    "data_nodup.loc[mask_UYU]"
   ]
  },
  {
   "cell_type": "markdown",
   "metadata": {},
   "source": [
    "Elimino los registros que no tienen moneda en AR o US$"
   ]
  },
  {
   "cell_type": "code",
   "execution_count": 11,
   "metadata": {},
   "outputs": [
    {
     "name": "stdout",
     "output_type": "stream",
     "text": [
      "Cantidad de elementos a eliminar:  3\n"
     ]
    },
    {
     "data": {
      "text/plain": [
       "Int64Index([50387, 50388, 107390], dtype='int64')"
      ]
     },
     "execution_count": 11,
     "metadata": {},
     "output_type": "execute_result"
    }
   ],
   "source": [
    "mask_AR_US = np.logical_or(data_nodup.currency == 'UYU', data_nodup.currency == 'PEN') \n",
    "print('Cantidad de elementos a eliminar: ', str(mask_AR_US.sum()))\n",
    "\n",
    "# Identifico los índices que voy a eliminar\n",
    "inds = data_nodup.loc[mask_AR_US].index\n",
    "inds"
   ]
  },
  {
   "cell_type": "code",
   "execution_count": 12,
   "metadata": {},
   "outputs": [
    {
     "name": "stdout",
     "output_type": "stream",
     "text": [
      "Filas en Registros limpios: 121217\n",
      "Filas en Registros anterior: 121220\n"
     ]
    },
    {
     "data": {
      "text/html": [
       "<div>\n",
       "<style scoped>\n",
       "    .dataframe tbody tr th:only-of-type {\n",
       "        vertical-align: middle;\n",
       "    }\n",
       "\n",
       "    .dataframe tbody tr th {\n",
       "        vertical-align: top;\n",
       "    }\n",
       "\n",
       "    .dataframe thead th {\n",
       "        text-align: right;\n",
       "    }\n",
       "</style>\n",
       "<table border=\"1\" class=\"dataframe\">\n",
       "  <thead>\n",
       "    <tr style=\"text-align: right;\">\n",
       "      <th></th>\n",
       "      <th>Unnamed: 0</th>\n",
       "      <th>operation</th>\n",
       "      <th>property_type</th>\n",
       "      <th>place_name</th>\n",
       "      <th>place_with_parent_names</th>\n",
       "      <th>country_name</th>\n",
       "      <th>state_name</th>\n",
       "      <th>geonames_id</th>\n",
       "      <th>lat-lon</th>\n",
       "      <th>lat</th>\n",
       "      <th>...</th>\n",
       "      <th>surface_covered_in_m2</th>\n",
       "      <th>price_usd_per_m2</th>\n",
       "      <th>price_per_m2</th>\n",
       "      <th>floor</th>\n",
       "      <th>rooms</th>\n",
       "      <th>expenses</th>\n",
       "      <th>properati_url</th>\n",
       "      <th>description</th>\n",
       "      <th>title</th>\n",
       "      <th>image_thumbnail</th>\n",
       "    </tr>\n",
       "  </thead>\n",
       "  <tbody>\n",
       "    <tr>\n",
       "      <th>0</th>\n",
       "      <td>0</td>\n",
       "      <td>sell</td>\n",
       "      <td>PH</td>\n",
       "      <td>Mataderos</td>\n",
       "      <td>|Argentina|Capital Federal|Mataderos|</td>\n",
       "      <td>Argentina</td>\n",
       "      <td>Capital Federal</td>\n",
       "      <td>3430787.0</td>\n",
       "      <td>-34.6618237,-58.5088387</td>\n",
       "      <td>-34.661824</td>\n",
       "      <td>...</td>\n",
       "      <td>40.0</td>\n",
       "      <td>1127.272727</td>\n",
       "      <td>1550.000000</td>\n",
       "      <td>NaN</td>\n",
       "      <td>NaN</td>\n",
       "      <td>NaN</td>\n",
       "      <td>http://www.properati.com.ar/15bo8_venta_ph_mat...</td>\n",
       "      <td>2 AMBIENTES TIPO CASA PLANTA BAJA POR PASILLO,...</td>\n",
       "      <td>2 AMB TIPO CASA SIN EXPENSAS EN PB</td>\n",
       "      <td>https://thumbs4.properati.com/8/BluUYiHJLhgIIK...</td>\n",
       "    </tr>\n",
       "    <tr>\n",
       "      <th>1</th>\n",
       "      <td>1</td>\n",
       "      <td>sell</td>\n",
       "      <td>apartment</td>\n",
       "      <td>La Plata</td>\n",
       "      <td>|Argentina|Bs.As. G.B.A. Zona Sur|La Plata|</td>\n",
       "      <td>Argentina</td>\n",
       "      <td>Bs.As. G.B.A. Zona Sur</td>\n",
       "      <td>3432039.0</td>\n",
       "      <td>-34.9038831,-57.9643295</td>\n",
       "      <td>-34.903883</td>\n",
       "      <td>...</td>\n",
       "      <td>NaN</td>\n",
       "      <td>NaN</td>\n",
       "      <td>NaN</td>\n",
       "      <td>NaN</td>\n",
       "      <td>NaN</td>\n",
       "      <td>NaN</td>\n",
       "      <td>http://www.properati.com.ar/15bob_venta_depart...</td>\n",
       "      <td>Venta de departamento en décimo piso al frente...</td>\n",
       "      <td>VENTA Depto 2 dorm. a estrenar 7 e/ 36 y 37   ...</td>\n",
       "      <td>https://thumbs4.properati.com/7/ikpVBu2ztHA7jv...</td>\n",
       "    </tr>\n",
       "    <tr>\n",
       "      <th>2</th>\n",
       "      <td>2</td>\n",
       "      <td>sell</td>\n",
       "      <td>apartment</td>\n",
       "      <td>Mataderos</td>\n",
       "      <td>|Argentina|Capital Federal|Mataderos|</td>\n",
       "      <td>Argentina</td>\n",
       "      <td>Capital Federal</td>\n",
       "      <td>3430787.0</td>\n",
       "      <td>-34.6522615,-58.5229825</td>\n",
       "      <td>-34.652262</td>\n",
       "      <td>...</td>\n",
       "      <td>55.0</td>\n",
       "      <td>1309.090909</td>\n",
       "      <td>1309.090909</td>\n",
       "      <td>NaN</td>\n",
       "      <td>NaN</td>\n",
       "      <td>NaN</td>\n",
       "      <td>http://www.properati.com.ar/15bod_venta_depart...</td>\n",
       "      <td>2 AMBIENTES 3ER PISO LATERAL LIVING COMEDOR AM...</td>\n",
       "      <td>2 AMB 3ER PISO CON ASCENSOR APTO CREDITO</td>\n",
       "      <td>https://thumbs4.properati.com/5/SXKr34F_IwG3W_...</td>\n",
       "    </tr>\n",
       "    <tr>\n",
       "      <th>3</th>\n",
       "      <td>3</td>\n",
       "      <td>sell</td>\n",
       "      <td>PH</td>\n",
       "      <td>Liniers</td>\n",
       "      <td>|Argentina|Capital Federal|Liniers|</td>\n",
       "      <td>Argentina</td>\n",
       "      <td>Capital Federal</td>\n",
       "      <td>3431333.0</td>\n",
       "      <td>-34.6477969,-58.5164244</td>\n",
       "      <td>-34.647797</td>\n",
       "      <td>...</td>\n",
       "      <td>NaN</td>\n",
       "      <td>NaN</td>\n",
       "      <td>NaN</td>\n",
       "      <td>NaN</td>\n",
       "      <td>NaN</td>\n",
       "      <td>NaN</td>\n",
       "      <td>http://www.properati.com.ar/15boh_venta_ph_lin...</td>\n",
       "      <td>PH 3 ambientes con patio. Hay 3 deptos en lote...</td>\n",
       "      <td>PH 3 amb. cfte. reciclado</td>\n",
       "      <td>https://thumbs4.properati.com/3/DgIfX-85Mog5SP...</td>\n",
       "    </tr>\n",
       "    <tr>\n",
       "      <th>4</th>\n",
       "      <td>4</td>\n",
       "      <td>sell</td>\n",
       "      <td>apartment</td>\n",
       "      <td>Centro</td>\n",
       "      <td>|Argentina|Buenos Aires Costa Atlántica|Mar de...</td>\n",
       "      <td>Argentina</td>\n",
       "      <td>Buenos Aires Costa Atlántica</td>\n",
       "      <td>3435548.0</td>\n",
       "      <td>-38.0026256,-57.5494468</td>\n",
       "      <td>-38.002626</td>\n",
       "      <td>...</td>\n",
       "      <td>35.0</td>\n",
       "      <td>1828.571429</td>\n",
       "      <td>1828.571429</td>\n",
       "      <td>NaN</td>\n",
       "      <td>NaN</td>\n",
       "      <td>NaN</td>\n",
       "      <td>http://www.properati.com.ar/15bok_venta_depart...</td>\n",
       "      <td>DEPARTAMENTO CON FANTÁSTICA ILUMINACIÓN NATURA...</td>\n",
       "      <td>DEPTO 2 AMB AL CONTRAFRENTE ZONA CENTRO/PLAZA ...</td>\n",
       "      <td>https://thumbs4.properati.com/5/xrRqlNcSI_vs-f...</td>\n",
       "    </tr>\n",
       "  </tbody>\n",
       "</table>\n",
       "<p>5 rows × 26 columns</p>\n",
       "</div>"
      ],
      "text/plain": [
       "   Unnamed: 0 operation property_type place_name  \\\n",
       "0           0      sell            PH  Mataderos   \n",
       "1           1      sell     apartment   La Plata   \n",
       "2           2      sell     apartment  Mataderos   \n",
       "3           3      sell            PH    Liniers   \n",
       "4           4      sell     apartment     Centro   \n",
       "\n",
       "                             place_with_parent_names country_name  \\\n",
       "0              |Argentina|Capital Federal|Mataderos|    Argentina   \n",
       "1        |Argentina|Bs.As. G.B.A. Zona Sur|La Plata|    Argentina   \n",
       "2              |Argentina|Capital Federal|Mataderos|    Argentina   \n",
       "3                |Argentina|Capital Federal|Liniers|    Argentina   \n",
       "4  |Argentina|Buenos Aires Costa Atlántica|Mar de...    Argentina   \n",
       "\n",
       "                     state_name  geonames_id                  lat-lon  \\\n",
       "0               Capital Federal    3430787.0  -34.6618237,-58.5088387   \n",
       "1        Bs.As. G.B.A. Zona Sur    3432039.0  -34.9038831,-57.9643295   \n",
       "2               Capital Federal    3430787.0  -34.6522615,-58.5229825   \n",
       "3               Capital Federal    3431333.0  -34.6477969,-58.5164244   \n",
       "4  Buenos Aires Costa Atlántica    3435548.0  -38.0026256,-57.5494468   \n",
       "\n",
       "         lat  ...  surface_covered_in_m2  price_usd_per_m2 price_per_m2  \\\n",
       "0 -34.661824  ...                   40.0       1127.272727  1550.000000   \n",
       "1 -34.903883  ...                    NaN               NaN          NaN   \n",
       "2 -34.652262  ...                   55.0       1309.090909  1309.090909   \n",
       "3 -34.647797  ...                    NaN               NaN          NaN   \n",
       "4 -38.002626  ...                   35.0       1828.571429  1828.571429   \n",
       "\n",
       "   floor  rooms  expenses                                      properati_url  \\\n",
       "0    NaN    NaN       NaN  http://www.properati.com.ar/15bo8_venta_ph_mat...   \n",
       "1    NaN    NaN       NaN  http://www.properati.com.ar/15bob_venta_depart...   \n",
       "2    NaN    NaN       NaN  http://www.properati.com.ar/15bod_venta_depart...   \n",
       "3    NaN    NaN       NaN  http://www.properati.com.ar/15boh_venta_ph_lin...   \n",
       "4    NaN    NaN       NaN  http://www.properati.com.ar/15bok_venta_depart...   \n",
       "\n",
       "                                         description  \\\n",
       "0  2 AMBIENTES TIPO CASA PLANTA BAJA POR PASILLO,...   \n",
       "1  Venta de departamento en décimo piso al frente...   \n",
       "2  2 AMBIENTES 3ER PISO LATERAL LIVING COMEDOR AM...   \n",
       "3  PH 3 ambientes con patio. Hay 3 deptos en lote...   \n",
       "4  DEPARTAMENTO CON FANTÁSTICA ILUMINACIÓN NATURA...   \n",
       "\n",
       "                                               title  \\\n",
       "0                 2 AMB TIPO CASA SIN EXPENSAS EN PB   \n",
       "1  VENTA Depto 2 dorm. a estrenar 7 e/ 36 y 37   ...   \n",
       "2           2 AMB 3ER PISO CON ASCENSOR APTO CREDITO   \n",
       "3                       PH 3 amb. cfte. reciclado      \n",
       "4  DEPTO 2 AMB AL CONTRAFRENTE ZONA CENTRO/PLAZA ...   \n",
       "\n",
       "                                     image_thumbnail  \n",
       "0  https://thumbs4.properati.com/8/BluUYiHJLhgIIK...  \n",
       "1  https://thumbs4.properati.com/7/ikpVBu2ztHA7jv...  \n",
       "2  https://thumbs4.properati.com/5/SXKr34F_IwG3W_...  \n",
       "3  https://thumbs4.properati.com/3/DgIfX-85Mog5SP...  \n",
       "4  https://thumbs4.properati.com/5/xrRqlNcSI_vs-f...  \n",
       "\n",
       "[5 rows x 26 columns]"
      ]
     },
     "execution_count": 12,
     "metadata": {},
     "output_type": "execute_result"
    }
   ],
   "source": [
    "data_nodup_dropped = data_nodup.drop(index = inds)\n",
    "print(\"Filas en Registros limpios: \"+str(data_nodup_dropped.shape[0]))\n",
    "print(\"Filas en Registros anterior: \"+str(data_nodup.shape[0]))\n",
    "data_nodup_dropped.head()"
   ]
  },
  {
   "cell_type": "markdown",
   "metadata": {},
   "source": [
    "Armo un `DataFrama` **data** quedándome con las columnas de interés."
   ]
  },
  {
   "cell_type": "code",
   "execution_count": 13,
   "metadata": {},
   "outputs": [
    {
     "name": "stdout",
     "output_type": "stream",
     "text": [
      "(121217, 15)\n"
     ]
    },
    {
     "data": {
      "text/html": [
       "<div>\n",
       "<style scoped>\n",
       "    .dataframe tbody tr th:only-of-type {\n",
       "        vertical-align: middle;\n",
       "    }\n",
       "\n",
       "    .dataframe tbody tr th {\n",
       "        vertical-align: top;\n",
       "    }\n",
       "\n",
       "    .dataframe thead th {\n",
       "        text-align: right;\n",
       "    }\n",
       "</style>\n",
       "<table border=\"1\" class=\"dataframe\">\n",
       "  <thead>\n",
       "    <tr style=\"text-align: right;\">\n",
       "      <th></th>\n",
       "      <th>property_type</th>\n",
       "      <th>place_name</th>\n",
       "      <th>place_with_parent_names</th>\n",
       "      <th>state_name</th>\n",
       "      <th>price</th>\n",
       "      <th>currency</th>\n",
       "      <th>price_aprox_local_currency</th>\n",
       "      <th>price_aprox_usd</th>\n",
       "      <th>surface_total_in_m2</th>\n",
       "      <th>surface_covered_in_m2</th>\n",
       "      <th>price_usd_per_m2</th>\n",
       "      <th>price_per_m2</th>\n",
       "      <th>rooms</th>\n",
       "      <th>description</th>\n",
       "      <th>title</th>\n",
       "    </tr>\n",
       "  </thead>\n",
       "  <tbody>\n",
       "    <tr>\n",
       "      <th>72282</th>\n",
       "      <td>PH</td>\n",
       "      <td>Flores</td>\n",
       "      <td>|Argentina|Capital Federal|Flores|</td>\n",
       "      <td>Capital Federal</td>\n",
       "      <td>259000.0</td>\n",
       "      <td>USD</td>\n",
       "      <td>4569925.5</td>\n",
       "      <td>259000.0</td>\n",
       "      <td>NaN</td>\n",
       "      <td>NaN</td>\n",
       "      <td>NaN</td>\n",
       "      <td>NaN</td>\n",
       "      <td>NaN</td>\n",
       "      <td>EXCELENTE PROPIEDAD TIPO CASA CON ENTRADA INDE...</td>\n",
       "      <td>PH - Flores</td>\n",
       "    </tr>\n",
       "    <tr>\n",
       "      <th>24787</th>\n",
       "      <td>apartment</td>\n",
       "      <td>Tigre</td>\n",
       "      <td>|Argentina|Bs.As. G.B.A. Zona Norte|Tigre|</td>\n",
       "      <td>Bs.As. G.B.A. Zona Norte</td>\n",
       "      <td>180000.0</td>\n",
       "      <td>USD</td>\n",
       "      <td>3176010.0</td>\n",
       "      <td>180000.0</td>\n",
       "      <td>NaN</td>\n",
       "      <td>72.0</td>\n",
       "      <td>NaN</td>\n",
       "      <td>2500.000000</td>\n",
       "      <td>NaN</td>\n",
       "      <td>EXCLUSIVIDAD!!! DEPTO IMPECABLE CON HERMOSAS V...</td>\n",
       "      <td>Departamento con Dependencias, Bs.As. G.B.A. Z...</td>\n",
       "    </tr>\n",
       "    <tr>\n",
       "      <th>16111</th>\n",
       "      <td>apartment</td>\n",
       "      <td>Rosario</td>\n",
       "      <td>|Argentina|Santa Fe|Rosario|</td>\n",
       "      <td>Santa Fe</td>\n",
       "      <td>80000.0</td>\n",
       "      <td>USD</td>\n",
       "      <td>1411560.0</td>\n",
       "      <td>80000.0</td>\n",
       "      <td>31.0</td>\n",
       "      <td>26.0</td>\n",
       "      <td>2580.645161</td>\n",
       "      <td>3076.923077</td>\n",
       "      <td>NaN</td>\n",
       "      <td>Ubicado en la esquina de Pueyrredón y San Juan...</td>\n",
       "      <td>Dto. Mono ambiente - Esdudio  Pueyrredón 1100</td>\n",
       "    </tr>\n",
       "  </tbody>\n",
       "</table>\n",
       "</div>"
      ],
      "text/plain": [
       "      property_type place_name                     place_with_parent_names  \\\n",
       "72282            PH     Flores          |Argentina|Capital Federal|Flores|   \n",
       "24787     apartment      Tigre  |Argentina|Bs.As. G.B.A. Zona Norte|Tigre|   \n",
       "16111     apartment    Rosario                |Argentina|Santa Fe|Rosario|   \n",
       "\n",
       "                     state_name     price currency  \\\n",
       "72282           Capital Federal  259000.0      USD   \n",
       "24787  Bs.As. G.B.A. Zona Norte  180000.0      USD   \n",
       "16111                  Santa Fe   80000.0      USD   \n",
       "\n",
       "       price_aprox_local_currency  price_aprox_usd  surface_total_in_m2  \\\n",
       "72282                   4569925.5         259000.0                  NaN   \n",
       "24787                   3176010.0         180000.0                  NaN   \n",
       "16111                   1411560.0          80000.0                 31.0   \n",
       "\n",
       "       surface_covered_in_m2  price_usd_per_m2  price_per_m2  rooms  \\\n",
       "72282                    NaN               NaN           NaN    NaN   \n",
       "24787                   72.0               NaN   2500.000000    NaN   \n",
       "16111                   26.0       2580.645161   3076.923077    NaN   \n",
       "\n",
       "                                             description  \\\n",
       "72282  EXCELENTE PROPIEDAD TIPO CASA CON ENTRADA INDE...   \n",
       "24787  EXCLUSIVIDAD!!! DEPTO IMPECABLE CON HERMOSAS V...   \n",
       "16111  Ubicado en la esquina de Pueyrredón y San Juan...   \n",
       "\n",
       "                                                   title  \n",
       "72282                                        PH - Flores  \n",
       "24787  Departamento con Dependencias, Bs.As. G.B.A. Z...  \n",
       "16111      Dto. Mono ambiente - Esdudio  Pueyrredón 1100  "
      ]
     },
     "execution_count": 13,
     "metadata": {},
     "output_type": "execute_result"
    }
   ],
   "source": [
    "subset = ['Unnamed: 0','operation','country_name','geonames_id','lat-lon','lat','lon','floor','expenses','properati_url','image_thumbnail']\n",
    "\n",
    "data = data_nodup_dropped.drop(subset, axis = 1)\n",
    "print(data.shape)\n",
    "data.sample(3)"
   ]
  },
  {
   "cell_type": "markdown",
   "metadata": {},
   "source": [
    "## Análisis de precios\n",
    "\n",
    "Veamos cuestiones referido a los precios en AR o US$.\n",
    "\n",
    "Lo primero para analizar es la tasa de conversión entre pesos y dólares, la cual viene dada por el factor de conversión 17.6445, no importa si el precio se define en $AR o USD. Con este argumento podrían eliminar algunos datos."
   ]
  },
  {
   "cell_type": "code",
   "execution_count": 14,
   "metadata": {},
   "outputs": [
    {
     "data": {
      "text/plain": [
       "17.6445    100806\n",
       "dtype: int64"
      ]
     },
     "execution_count": 14,
     "metadata": {},
     "output_type": "execute_result"
    }
   ],
   "source": [
    "# tasa de conversión\n",
    "serie_price_aprox_local_currency = data.price_aprox_local_currency\n",
    "serie_price_aprox_usd = data.price_aprox_usd\n",
    "\n",
    "tasa_conversion = (serie_price_aprox_local_currency/serie_price_aprox_usd).round(4)\n",
    "tasa_conversion.value_counts()"
   ]
  },
  {
   "cell_type": "code",
   "execution_count": 15,
   "metadata": {},
   "outputs": [
    {
     "name": "stdout",
     "output_type": "stream",
     "text": [
      "Cantidad de inconsistencias:  1\n"
     ]
    },
    {
     "data": {
      "text/html": [
       "<div>\n",
       "<style scoped>\n",
       "    .dataframe tbody tr th:only-of-type {\n",
       "        vertical-align: middle;\n",
       "    }\n",
       "\n",
       "    .dataframe tbody tr th {\n",
       "        vertical-align: top;\n",
       "    }\n",
       "\n",
       "    .dataframe thead th {\n",
       "        text-align: right;\n",
       "    }\n",
       "</style>\n",
       "<table border=\"1\" class=\"dataframe\">\n",
       "  <thead>\n",
       "    <tr style=\"text-align: right;\">\n",
       "      <th></th>\n",
       "      <th>property_type</th>\n",
       "      <th>place_name</th>\n",
       "      <th>place_with_parent_names</th>\n",
       "      <th>state_name</th>\n",
       "      <th>price</th>\n",
       "      <th>currency</th>\n",
       "      <th>price_aprox_local_currency</th>\n",
       "      <th>price_aprox_usd</th>\n",
       "      <th>surface_total_in_m2</th>\n",
       "      <th>surface_covered_in_m2</th>\n",
       "      <th>price_usd_per_m2</th>\n",
       "      <th>price_per_m2</th>\n",
       "      <th>rooms</th>\n",
       "      <th>description</th>\n",
       "      <th>title</th>\n",
       "    </tr>\n",
       "  </thead>\n",
       "  <tbody>\n",
       "    <tr>\n",
       "      <th>9761</th>\n",
       "      <td>house</td>\n",
       "      <td>Córdoba</td>\n",
       "      <td>|Argentina|Córdoba|</td>\n",
       "      <td>Córdoba</td>\n",
       "      <td>0.0</td>\n",
       "      <td>NaN</td>\n",
       "      <td>0.0</td>\n",
       "      <td>0.0</td>\n",
       "      <td>NaN</td>\n",
       "      <td>NaN</td>\n",
       "      <td>NaN</td>\n",
       "      <td>NaN</td>\n",
       "      <td>3.0</td>\n",
       "      <td>Casa en Venta de 2 dorm. en Armenia</td>\n",
       "      <td>SE VENDE CASA EN EL BARRIO EL LIMONAR</td>\n",
       "    </tr>\n",
       "  </tbody>\n",
       "</table>\n",
       "</div>"
      ],
      "text/plain": [
       "     property_type place_name place_with_parent_names state_name  price  \\\n",
       "9761         house    Córdoba     |Argentina|Córdoba|    Córdoba    0.0   \n",
       "\n",
       "     currency  price_aprox_local_currency  price_aprox_usd  \\\n",
       "9761      NaN                         0.0              0.0   \n",
       "\n",
       "      surface_total_in_m2  surface_covered_in_m2  price_usd_per_m2  \\\n",
       "9761                  NaN                    NaN               NaN   \n",
       "\n",
       "      price_per_m2  rooms                          description  \\\n",
       "9761           NaN    3.0  Casa en Venta de 2 dorm. en Armenia   \n",
       "\n",
       "                                      title  \n",
       "9761  SE VENDE CASA EN EL BARRIO EL LIMONAR  "
      ]
     },
     "execution_count": 15,
     "metadata": {},
     "output_type": "execute_result"
    }
   ],
   "source": [
    "# Me fijo inconsistencia en los precios en AR y US$\n",
    "mask_prices = data.price_aprox_usd >= data.price_aprox_local_currency\n",
    "print(\"Cantidad de inconsistencias: \", mask_prices.sum())\n",
    "data.loc[mask_prices]"
   ]
  },
  {
   "cell_type": "code",
   "execution_count": 16,
   "metadata": {},
   "outputs": [
    {
     "name": "stdout",
     "output_type": "stream",
     "text": [
      "9761    SE VENDE CASA EN EL BARRIO EL LIMONAR\n",
      "Name: title, dtype: object\n",
      "9761    Casa en Venta de 2 dorm. en Armenia\n",
      "Name: description, dtype: object\n"
     ]
    }
   ],
   "source": [
    "#Veo si hay algún dato rescatable\n",
    "print(data.loc[mask_prices].title)\n",
    "print(data.loc[mask_prices].description)"
   ]
  },
  {
   "cell_type": "markdown",
   "metadata": {},
   "source": [
    "Dado que este registro tiene los datos de interés en **NaN** y no se puede extraer información de otros registros, decido eliminarlo."
   ]
  },
  {
   "cell_type": "code",
   "execution_count": 17,
   "metadata": {},
   "outputs": [
    {
     "data": {
      "text/plain": [
       "(121216, 15)"
      ]
     },
     "execution_count": 17,
     "metadata": {},
     "output_type": "execute_result"
    }
   ],
   "source": [
    "ind_prices = data.loc[mask_prices].index\n",
    "\n",
    "# Elimino el registro\n",
    "data = data.drop(index = ind_prices)\n",
    "data.shape"
   ]
  },
  {
   "cell_type": "markdown",
   "metadata": {},
   "source": [
    "Veo si **NO** tiene definido el precio pero **SÍ** el precio/m2.\n",
    "\n",
    "Vemos que **NO** se da el caso."
   ]
  },
  {
   "cell_type": "code",
   "execution_count": 18,
   "metadata": {},
   "outputs": [
    {
     "data": {
      "text/plain": [
       "0"
      ]
     },
     "execution_count": 18,
     "metadata": {},
     "output_type": "execute_result"
    }
   ],
   "source": [
    "mask_prices = np.logical_and(data.price.isnull(), data.price_usd_per_m2.notnull())\n",
    "mask_prices.sum()"
   ]
  },
  {
   "cell_type": "code",
   "execution_count": 19,
   "metadata": {},
   "outputs": [
    {
     "data": {
      "text/html": [
       "<div>\n",
       "<style scoped>\n",
       "    .dataframe tbody tr th:only-of-type {\n",
       "        vertical-align: middle;\n",
       "    }\n",
       "\n",
       "    .dataframe tbody tr th {\n",
       "        vertical-align: top;\n",
       "    }\n",
       "\n",
       "    .dataframe thead th {\n",
       "        text-align: right;\n",
       "    }\n",
       "</style>\n",
       "<table border=\"1\" class=\"dataframe\">\n",
       "  <thead>\n",
       "    <tr style=\"text-align: right;\">\n",
       "      <th></th>\n",
       "      <th>property_type</th>\n",
       "      <th>place_name</th>\n",
       "      <th>place_with_parent_names</th>\n",
       "      <th>state_name</th>\n",
       "      <th>price</th>\n",
       "      <th>currency</th>\n",
       "      <th>price_aprox_local_currency</th>\n",
       "      <th>price_aprox_usd</th>\n",
       "      <th>surface_total_in_m2</th>\n",
       "      <th>surface_covered_in_m2</th>\n",
       "      <th>price_usd_per_m2</th>\n",
       "      <th>price_per_m2</th>\n",
       "      <th>rooms</th>\n",
       "      <th>description</th>\n",
       "      <th>title</th>\n",
       "    </tr>\n",
       "  </thead>\n",
       "  <tbody>\n",
       "    <tr>\n",
       "      <th>0</th>\n",
       "      <td>PH</td>\n",
       "      <td>Mataderos</td>\n",
       "      <td>|Argentina|Capital Federal|Mataderos|</td>\n",
       "      <td>Capital Federal</td>\n",
       "      <td>62000.0</td>\n",
       "      <td>USD</td>\n",
       "      <td>1093959.0</td>\n",
       "      <td>62000.0</td>\n",
       "      <td>55.0</td>\n",
       "      <td>40.0</td>\n",
       "      <td>1127.272727</td>\n",
       "      <td>1550.0</td>\n",
       "      <td>NaN</td>\n",
       "      <td>2 AMBIENTES TIPO CASA PLANTA BAJA POR PASILLO,...</td>\n",
       "      <td>2 AMB TIPO CASA SIN EXPENSAS EN PB</td>\n",
       "    </tr>\n",
       "    <tr>\n",
       "      <th>1</th>\n",
       "      <td>apartment</td>\n",
       "      <td>La Plata</td>\n",
       "      <td>|Argentina|Bs.As. G.B.A. Zona Sur|La Plata|</td>\n",
       "      <td>Bs.As. G.B.A. Zona Sur</td>\n",
       "      <td>150000.0</td>\n",
       "      <td>USD</td>\n",
       "      <td>2646675.0</td>\n",
       "      <td>150000.0</td>\n",
       "      <td>NaN</td>\n",
       "      <td>NaN</td>\n",
       "      <td>NaN</td>\n",
       "      <td>NaN</td>\n",
       "      <td>NaN</td>\n",
       "      <td>Venta de departamento en décimo piso al frente...</td>\n",
       "      <td>VENTA Depto 2 dorm. a estrenar 7 e/ 36 y 37   ...</td>\n",
       "    </tr>\n",
       "  </tbody>\n",
       "</table>\n",
       "</div>"
      ],
      "text/plain": [
       "  property_type place_name                      place_with_parent_names  \\\n",
       "0            PH  Mataderos        |Argentina|Capital Federal|Mataderos|   \n",
       "1     apartment   La Plata  |Argentina|Bs.As. G.B.A. Zona Sur|La Plata|   \n",
       "\n",
       "               state_name     price currency  price_aprox_local_currency  \\\n",
       "0         Capital Federal   62000.0      USD                   1093959.0   \n",
       "1  Bs.As. G.B.A. Zona Sur  150000.0      USD                   2646675.0   \n",
       "\n",
       "   price_aprox_usd  surface_total_in_m2  surface_covered_in_m2  \\\n",
       "0          62000.0                 55.0                   40.0   \n",
       "1         150000.0                  NaN                    NaN   \n",
       "\n",
       "   price_usd_per_m2  price_per_m2  rooms  \\\n",
       "0       1127.272727        1550.0    NaN   \n",
       "1               NaN           NaN    NaN   \n",
       "\n",
       "                                         description  \\\n",
       "0  2 AMBIENTES TIPO CASA PLANTA BAJA POR PASILLO,...   \n",
       "1  Venta de departamento en décimo piso al frente...   \n",
       "\n",
       "                                               title  \n",
       "0                 2 AMB TIPO CASA SIN EXPENSAS EN PB  \n",
       "1  VENTA Depto 2 dorm. a estrenar 7 e/ 36 y 37   ...  "
      ]
     },
     "execution_count": 19,
     "metadata": {},
     "output_type": "execute_result"
    }
   ],
   "source": [
    "data.head(2)"
   ]
  },
  {
   "cell_type": "code",
   "execution_count": 20,
   "metadata": {},
   "outputs": [
    {
     "name": "stdout",
     "output_type": "stream",
     "text": [
      "87587\n",
      "87587\n"
     ]
    }
   ],
   "source": [
    "# Evalúo para USD\n",
    "mask_usd = data.currency == 'USD'\n",
    "print(mask_usd.sum())\n",
    "mask_prices_usd = data.loc[mask_usd].price.round(2) == data.loc[mask_usd].price_aprox_usd.round(2)\n",
    "print(mask_prices_usd.sum())"
   ]
  },
  {
   "cell_type": "markdown",
   "metadata": {},
   "source": [
    "Vemos que coincide la columna **price** con **price_aprox_usd** cuando **currency** es USD.\n",
    "\n",
    "Veamos qué sucede cuando **price** es ARS:"
   ]
  },
  {
   "cell_type": "code",
   "execution_count": 21,
   "metadata": {},
   "outputs": [
    {
     "name": "stdout",
     "output_type": "stream",
     "text": [
      "13219\n",
      "0\n"
     ]
    },
    {
     "data": {
      "text/html": [
       "<div>\n",
       "<style scoped>\n",
       "    .dataframe tbody tr th:only-of-type {\n",
       "        vertical-align: middle;\n",
       "    }\n",
       "\n",
       "    .dataframe tbody tr th {\n",
       "        vertical-align: top;\n",
       "    }\n",
       "\n",
       "    .dataframe thead th {\n",
       "        text-align: right;\n",
       "    }\n",
       "</style>\n",
       "<table border=\"1\" class=\"dataframe\">\n",
       "  <thead>\n",
       "    <tr style=\"text-align: right;\">\n",
       "      <th></th>\n",
       "      <th>property_type</th>\n",
       "      <th>place_name</th>\n",
       "      <th>place_with_parent_names</th>\n",
       "      <th>state_name</th>\n",
       "      <th>price</th>\n",
       "      <th>currency</th>\n",
       "      <th>price_aprox_local_currency</th>\n",
       "      <th>price_aprox_usd</th>\n",
       "      <th>surface_total_in_m2</th>\n",
       "      <th>surface_covered_in_m2</th>\n",
       "      <th>price_usd_per_m2</th>\n",
       "      <th>price_per_m2</th>\n",
       "      <th>rooms</th>\n",
       "      <th>description</th>\n",
       "      <th>title</th>\n",
       "    </tr>\n",
       "  </thead>\n",
       "  <tbody>\n",
       "    <tr>\n",
       "      <th>9</th>\n",
       "      <td>house</td>\n",
       "      <td>Rosario</td>\n",
       "      <td>|Argentina|Santa Fe|Rosario|</td>\n",
       "      <td>Santa Fe</td>\n",
       "      <td>460000.0</td>\n",
       "      <td>ARS</td>\n",
       "      <td>455201.45</td>\n",
       "      <td>25798.49</td>\n",
       "      <td>NaN</td>\n",
       "      <td>NaN</td>\n",
       "      <td>NaN</td>\n",
       "      <td>NaN</td>\n",
       "      <td>NaN</td>\n",
       "      <td>MEDNOZA AL 7600A UNA CUADRA DE CALLE MENDOZAWH...</td>\n",
       "      <td>WHITE 7637 - 2 DORMITORIOS CON PATIO</td>\n",
       "    </tr>\n",
       "    <tr>\n",
       "      <th>32</th>\n",
       "      <td>apartment</td>\n",
       "      <td>Córdoba</td>\n",
       "      <td>|Argentina|Córdoba|Córdoba|</td>\n",
       "      <td>Córdoba</td>\n",
       "      <td>550000.0</td>\n",
       "      <td>ARS</td>\n",
       "      <td>544262.59</td>\n",
       "      <td>30846.02</td>\n",
       "      <td>50.0</td>\n",
       "      <td>50.0</td>\n",
       "      <td>616.920400</td>\n",
       "      <td>11000.000000</td>\n",
       "      <td>3.0</td>\n",
       "      <td>EN VENTA, departamento ubicado en barrio Pueyr...</td>\n",
       "      <td>Departamento apto crédito! Barrio Pueyrredon</td>\n",
       "    </tr>\n",
       "    <tr>\n",
       "      <th>37</th>\n",
       "      <td>house</td>\n",
       "      <td>Malagueño</td>\n",
       "      <td>|Argentina|Córdoba|Malagueño|</td>\n",
       "      <td>Córdoba</td>\n",
       "      <td>1250000.0</td>\n",
       "      <td>ARS</td>\n",
       "      <td>1236960.43</td>\n",
       "      <td>70104.59</td>\n",
       "      <td>75.0</td>\n",
       "      <td>75.0</td>\n",
       "      <td>934.727867</td>\n",
       "      <td>16666.666667</td>\n",
       "      <td>NaN</td>\n",
       "      <td>Nuevos ingreso:-VENTA-Villa San Nicolas.Presen...</td>\n",
       "      <td>Casa Venta Villa San Nicolas</td>\n",
       "    </tr>\n",
       "    <tr>\n",
       "      <th>78</th>\n",
       "      <td>house</td>\n",
       "      <td>Posadas</td>\n",
       "      <td>|Argentina|Misiones|Posadas|</td>\n",
       "      <td>Misiones</td>\n",
       "      <td>5500000.0</td>\n",
       "      <td>ARS</td>\n",
       "      <td>5442626.35</td>\n",
       "      <td>308460.22</td>\n",
       "      <td>261.0</td>\n",
       "      <td>18615.0</td>\n",
       "      <td>1181.839923</td>\n",
       "      <td>295.460650</td>\n",
       "      <td>5.0</td>\n",
       "      <td>S/AVDA   COSTANERA ,  NUEVA  ZONA GASTRONOMICA...</td>\n",
       "      <td>Oportunidad! Casa zona Bahía el Brete</td>\n",
       "    </tr>\n",
       "    <tr>\n",
       "      <th>97</th>\n",
       "      <td>apartment</td>\n",
       "      <td>San Telmo</td>\n",
       "      <td>|Argentina|Capital Federal|San Telmo|</td>\n",
       "      <td>Capital Federal</td>\n",
       "      <td>1423800.0</td>\n",
       "      <td>ARS</td>\n",
       "      <td>1408947.37</td>\n",
       "      <td>79851.93</td>\n",
       "      <td>NaN</td>\n",
       "      <td>NaN</td>\n",
       "      <td>NaN</td>\n",
       "      <td>NaN</td>\n",
       "      <td>1.0</td>\n",
       "      <td>Torre de 15 pisos con amenities ubicados en el...</td>\n",
       "      <td>VIVÍ CERCA DE TODO Av. 9 de Julio</td>\n",
       "    </tr>\n",
       "  </tbody>\n",
       "</table>\n",
       "</div>"
      ],
      "text/plain": [
       "   property_type place_name                place_with_parent_names  \\\n",
       "9          house    Rosario           |Argentina|Santa Fe|Rosario|   \n",
       "32     apartment    Córdoba            |Argentina|Córdoba|Córdoba|   \n",
       "37         house  Malagueño          |Argentina|Córdoba|Malagueño|   \n",
       "78         house    Posadas           |Argentina|Misiones|Posadas|   \n",
       "97     apartment  San Telmo  |Argentina|Capital Federal|San Telmo|   \n",
       "\n",
       "         state_name      price currency  price_aprox_local_currency  \\\n",
       "9          Santa Fe   460000.0      ARS                   455201.45   \n",
       "32          Córdoba   550000.0      ARS                   544262.59   \n",
       "37          Córdoba  1250000.0      ARS                  1236960.43   \n",
       "78         Misiones  5500000.0      ARS                  5442626.35   \n",
       "97  Capital Federal  1423800.0      ARS                  1408947.37   \n",
       "\n",
       "    price_aprox_usd  surface_total_in_m2  surface_covered_in_m2  \\\n",
       "9          25798.49                  NaN                    NaN   \n",
       "32         30846.02                 50.0                   50.0   \n",
       "37         70104.59                 75.0                   75.0   \n",
       "78        308460.22                261.0                18615.0   \n",
       "97         79851.93                  NaN                    NaN   \n",
       "\n",
       "    price_usd_per_m2  price_per_m2  rooms  \\\n",
       "9                NaN           NaN    NaN   \n",
       "32        616.920400  11000.000000    3.0   \n",
       "37        934.727867  16666.666667    NaN   \n",
       "78       1181.839923    295.460650    5.0   \n",
       "97               NaN           NaN    1.0   \n",
       "\n",
       "                                          description  \\\n",
       "9   MEDNOZA AL 7600A UNA CUADRA DE CALLE MENDOZAWH...   \n",
       "32  EN VENTA, departamento ubicado en barrio Pueyr...   \n",
       "37  Nuevos ingreso:-VENTA-Villa San Nicolas.Presen...   \n",
       "78  S/AVDA   COSTANERA ,  NUEVA  ZONA GASTRONOMICA...   \n",
       "97  Torre de 15 pisos con amenities ubicados en el...   \n",
       "\n",
       "                                           title  \n",
       "9     WHITE 7637 - 2 DORMITORIOS CON PATIO        \n",
       "32  Departamento apto crédito! Barrio Pueyrredon  \n",
       "37                  Casa Venta Villa San Nicolas  \n",
       "78         Oportunidad! Casa zona Bahía el Brete  \n",
       "97             VIVÍ CERCA DE TODO Av. 9 de Julio  "
      ]
     },
     "execution_count": 21,
     "metadata": {},
     "output_type": "execute_result"
    }
   ],
   "source": [
    "# Evalúo para ARS\n",
    "mask_ars = data.currency == 'ARS'\n",
    "print(mask_ars.sum())\n",
    "mask_prices_ars = data.loc[mask_ars].price.round(2) == data.loc[mask_ars].price_aprox_local_currency.round(2)\n",
    "print(mask_prices_ars.sum())\n",
    "data.loc[mask_ars].head()"
   ]
  },
  {
   "cell_type": "markdown",
   "metadata": {},
   "source": [
    "Cómo vemos que **price** en ARS no cinciden, veamos si tienen relación con **price_aprox_usd**:"
   ]
  },
  {
   "cell_type": "code",
   "execution_count": 22,
   "metadata": {},
   "outputs": [
    {
     "data": {
      "text/plain": [
       "17.8305    12857\n",
       "17.1430      290\n",
       "17.6340       54\n",
       "17.7980        6\n",
       "17.2040        4\n",
       "17.5025        3\n",
       "17.4040        2\n",
       "17.4265        1\n",
       "17.4670        1\n",
       "17.4050        1\n",
       "dtype: int64"
      ]
     },
     "execution_count": 22,
     "metadata": {},
     "output_type": "execute_result"
    }
   ],
   "source": [
    "# tasa de conversión\n",
    "serie_price_ARS = data[mask_ars].price\n",
    "serie_price_aprox_usd = data[mask_ars].price_aprox_usd\n",
    "\n",
    "tasa_conversion = (serie_price_ARS/serie_price_aprox_usd).round(4)\n",
    "tasa_conversion.value_counts()"
   ]
  },
  {
   "cell_type": "markdown",
   "metadata": {},
   "source": [
    "Como vemos que predomina la tasa de cambio de 17.8305 entre el **price** en ARS y el **price_aprox_usd**, vamos a utilizar esta tasa para redefinir los precios en US$.\n",
    "\n",
    "Vamos a definir una nueva columna **\"price_USD\"** y va a contener:\n",
    "- Los valores de price cuando currency sea USD\n",
    "- Los valores de price modificados por la tasa de cambio de 17.8305 cuando currency sea ARS"
   ]
  },
  {
   "cell_type": "code",
   "execution_count": 23,
   "metadata": {},
   "outputs": [
    {
     "name": "stdout",
     "output_type": "stream",
     "text": [
      "Cantidad de nulls en columna price_USD:  20410\n",
      "Cantidad de nulls en columna price:  20410\n"
     ]
    }
   ],
   "source": [
    "data.loc[mask_usd,\"price_USD\"] = (data.loc[mask_usd,\"price\"]).round(0)\n",
    "data.loc[mask_ars,\"price_USD\"] = (data.loc[mask_ars,\"price\"]/17.8305).round(0)\n",
    "\n",
    "print(\"Cantidad de nulls en columna price_USD: \",data[\"price_USD\"].isnull().sum())\n",
    "print(\"Cantidad de nulls en columna price: \",data[\"price_USD\"].isnull().sum())"
   ]
  },
  {
   "cell_type": "markdown",
   "metadata": {},
   "source": [
    "A partir de aquí sabemos que podemos eliminar las columnas **price**, **currency**, **price_aprox_local_currency**, **price_aprox_usd**, pero vamos a dejarlo para después porque podemos llegar a necesitarlas en el análisis de las superficies y precio/superficie."
   ]
  },
  {
   "cell_type": "markdown",
   "metadata": {},
   "source": [
    "## Análisis de Superficies\n",
    "\n",
    "Veamos cuestiones relacionadas a los campos \"surface_total_in_m2\" y \"surface_covered_in_m2\".\n",
    "VAmos a tratar de limpiar, emprolijar y reconstruir estos campos."
   ]
  },
  {
   "cell_type": "code",
   "execution_count": 24,
   "metadata": {},
   "outputs": [
    {
     "data": {
      "text/plain": [
       "property_type                 0.000000\n",
       "place_name                    0.000190\n",
       "place_with_parent_names       0.000000\n",
       "state_name                    0.000000\n",
       "price                         0.168377\n",
       "currency                      0.168377\n",
       "price_aprox_local_currency    0.168377\n",
       "price_aprox_usd               0.168377\n",
       "surface_total_in_m2           0.324413\n",
       "surface_covered_in_m2         0.164194\n",
       "price_usd_per_m2              0.433928\n",
       "price_per_m2                  0.276845\n",
       "rooms                         0.609053\n",
       "description                   0.000016\n",
       "title                         0.000000\n",
       "price_USD                     0.168377\n",
       "dtype: float64"
      ]
     },
     "execution_count": 24,
     "metadata": {},
     "output_type": "execute_result"
    }
   ],
   "source": [
    "data.isnull().sum()/data.shape[0]"
   ]
  },
  {
   "cell_type": "code",
   "execution_count": 25,
   "metadata": {},
   "outputs": [
    {
     "name": "stdout",
     "output_type": "stream",
     "text": [
      "Cantidad de registros coherentes: 73248\n"
     ]
    },
    {
     "data": {
      "text/html": [
       "<div>\n",
       "<style scoped>\n",
       "    .dataframe tbody tr th:only-of-type {\n",
       "        vertical-align: middle;\n",
       "    }\n",
       "\n",
       "    .dataframe tbody tr th {\n",
       "        vertical-align: top;\n",
       "    }\n",
       "\n",
       "    .dataframe thead th {\n",
       "        text-align: right;\n",
       "    }\n",
       "</style>\n",
       "<table border=\"1\" class=\"dataframe\">\n",
       "  <thead>\n",
       "    <tr style=\"text-align: right;\">\n",
       "      <th></th>\n",
       "      <th>property_type</th>\n",
       "      <th>place_name</th>\n",
       "      <th>place_with_parent_names</th>\n",
       "      <th>state_name</th>\n",
       "      <th>price</th>\n",
       "      <th>currency</th>\n",
       "      <th>price_aprox_local_currency</th>\n",
       "      <th>price_aprox_usd</th>\n",
       "      <th>surface_total_in_m2</th>\n",
       "      <th>surface_covered_in_m2</th>\n",
       "      <th>price_usd_per_m2</th>\n",
       "      <th>price_per_m2</th>\n",
       "      <th>rooms</th>\n",
       "      <th>description</th>\n",
       "      <th>title</th>\n",
       "      <th>price_USD</th>\n",
       "    </tr>\n",
       "  </thead>\n",
       "  <tbody>\n",
       "    <tr>\n",
       "      <th>0</th>\n",
       "      <td>PH</td>\n",
       "      <td>Mataderos</td>\n",
       "      <td>|Argentina|Capital Federal|Mataderos|</td>\n",
       "      <td>Capital Federal</td>\n",
       "      <td>62000.0</td>\n",
       "      <td>USD</td>\n",
       "      <td>1093959.0</td>\n",
       "      <td>62000.0</td>\n",
       "      <td>55.0</td>\n",
       "      <td>40.0</td>\n",
       "      <td>1127.272727</td>\n",
       "      <td>1550.000000</td>\n",
       "      <td>NaN</td>\n",
       "      <td>2 AMBIENTES TIPO CASA PLANTA BAJA POR PASILLO,...</td>\n",
       "      <td>2 AMB TIPO CASA SIN EXPENSAS EN PB</td>\n",
       "      <td>62000.0</td>\n",
       "    </tr>\n",
       "    <tr>\n",
       "      <th>2</th>\n",
       "      <td>apartment</td>\n",
       "      <td>Mataderos</td>\n",
       "      <td>|Argentina|Capital Federal|Mataderos|</td>\n",
       "      <td>Capital Federal</td>\n",
       "      <td>72000.0</td>\n",
       "      <td>USD</td>\n",
       "      <td>1270404.0</td>\n",
       "      <td>72000.0</td>\n",
       "      <td>55.0</td>\n",
       "      <td>55.0</td>\n",
       "      <td>1309.090909</td>\n",
       "      <td>1309.090909</td>\n",
       "      <td>NaN</td>\n",
       "      <td>2 AMBIENTES 3ER PISO LATERAL LIVING COMEDOR AM...</td>\n",
       "      <td>2 AMB 3ER PISO CON ASCENSOR APTO CREDITO</td>\n",
       "      <td>72000.0</td>\n",
       "    </tr>\n",
       "  </tbody>\n",
       "</table>\n",
       "</div>"
      ],
      "text/plain": [
       "  property_type place_name                place_with_parent_names  \\\n",
       "0            PH  Mataderos  |Argentina|Capital Federal|Mataderos|   \n",
       "2     apartment  Mataderos  |Argentina|Capital Federal|Mataderos|   \n",
       "\n",
       "        state_name    price currency  price_aprox_local_currency  \\\n",
       "0  Capital Federal  62000.0      USD                   1093959.0   \n",
       "2  Capital Federal  72000.0      USD                   1270404.0   \n",
       "\n",
       "   price_aprox_usd  surface_total_in_m2  surface_covered_in_m2  \\\n",
       "0          62000.0                 55.0                   40.0   \n",
       "2          72000.0                 55.0                   55.0   \n",
       "\n",
       "   price_usd_per_m2  price_per_m2  rooms  \\\n",
       "0       1127.272727   1550.000000    NaN   \n",
       "2       1309.090909   1309.090909    NaN   \n",
       "\n",
       "                                         description  \\\n",
       "0  2 AMBIENTES TIPO CASA PLANTA BAJA POR PASILLO,...   \n",
       "2  2 AMBIENTES 3ER PISO LATERAL LIVING COMEDOR AM...   \n",
       "\n",
       "                                      title  price_USD  \n",
       "0        2 AMB TIPO CASA SIN EXPENSAS EN PB    62000.0  \n",
       "2  2 AMB 3ER PISO CON ASCENSOR APTO CREDITO    72000.0  "
      ]
     },
     "execution_count": 25,
     "metadata": {},
     "output_type": "execute_result"
    }
   ],
   "source": [
    "# Acá me aseguro que ninguno de los dos campos tengan nulls:\n",
    "mask_size_right_surfaces = data.surface_total_in_m2 >= data.surface_covered_in_m2\n",
    "print('Cantidad de registros coherentes: ' + str(mask_size_right_surfaces.sum()))\n",
    "data.loc[mask_size_right_surfaces].head(2)"
   ]
  },
  {
   "cell_type": "code",
   "execution_count": 26,
   "metadata": {},
   "outputs": [
    {
     "data": {
      "text/html": [
       "<div>\n",
       "<style scoped>\n",
       "    .dataframe tbody tr th:only-of-type {\n",
       "        vertical-align: middle;\n",
       "    }\n",
       "\n",
       "    .dataframe tbody tr th {\n",
       "        vertical-align: top;\n",
       "    }\n",
       "\n",
       "    .dataframe thead th {\n",
       "        text-align: right;\n",
       "    }\n",
       "</style>\n",
       "<table border=\"1\" class=\"dataframe\">\n",
       "  <thead>\n",
       "    <tr style=\"text-align: right;\">\n",
       "      <th></th>\n",
       "      <th>property_type</th>\n",
       "      <th>place_name</th>\n",
       "      <th>place_with_parent_names</th>\n",
       "      <th>state_name</th>\n",
       "      <th>price</th>\n",
       "      <th>currency</th>\n",
       "      <th>price_aprox_local_currency</th>\n",
       "      <th>price_aprox_usd</th>\n",
       "      <th>surface_total_in_m2</th>\n",
       "      <th>surface_covered_in_m2</th>\n",
       "      <th>price_usd_per_m2</th>\n",
       "      <th>price_per_m2</th>\n",
       "      <th>rooms</th>\n",
       "      <th>description</th>\n",
       "      <th>title</th>\n",
       "      <th>price_USD</th>\n",
       "      <th>superficie_TOTAL</th>\n",
       "      <th>superficie_CUBIERTA</th>\n",
       "    </tr>\n",
       "  </thead>\n",
       "  <tbody>\n",
       "    <tr>\n",
       "      <th>0</th>\n",
       "      <td>PH</td>\n",
       "      <td>Mataderos</td>\n",
       "      <td>|Argentina|Capital Federal|Mataderos|</td>\n",
       "      <td>Capital Federal</td>\n",
       "      <td>62000.0</td>\n",
       "      <td>USD</td>\n",
       "      <td>1093959.0</td>\n",
       "      <td>62000.0</td>\n",
       "      <td>55.0</td>\n",
       "      <td>40.0</td>\n",
       "      <td>1127.272727</td>\n",
       "      <td>1550.0</td>\n",
       "      <td>NaN</td>\n",
       "      <td>2 AMBIENTES TIPO CASA PLANTA BAJA POR PASILLO,...</td>\n",
       "      <td>2 AMB TIPO CASA SIN EXPENSAS EN PB</td>\n",
       "      <td>62000.0</td>\n",
       "      <td>55.0</td>\n",
       "      <td>40.0</td>\n",
       "    </tr>\n",
       "  </tbody>\n",
       "</table>\n",
       "</div>"
      ],
      "text/plain": [
       "  property_type place_name                place_with_parent_names  \\\n",
       "0            PH  Mataderos  |Argentina|Capital Federal|Mataderos|   \n",
       "\n",
       "        state_name    price currency  price_aprox_local_currency  \\\n",
       "0  Capital Federal  62000.0      USD                   1093959.0   \n",
       "\n",
       "   price_aprox_usd  surface_total_in_m2  surface_covered_in_m2  \\\n",
       "0          62000.0                 55.0                   40.0   \n",
       "\n",
       "   price_usd_per_m2  price_per_m2  rooms  \\\n",
       "0       1127.272727        1550.0    NaN   \n",
       "\n",
       "                                         description  \\\n",
       "0  2 AMBIENTES TIPO CASA PLANTA BAJA POR PASILLO,...   \n",
       "\n",
       "                                title  price_USD  superficie_TOTAL  \\\n",
       "0  2 AMB TIPO CASA SIN EXPENSAS EN PB    62000.0              55.0   \n",
       "\n",
       "   superficie_CUBIERTA  \n",
       "0                 40.0  "
      ]
     },
     "execution_count": 26,
     "metadata": {},
     "output_type": "execute_result"
    }
   ],
   "source": [
    "# Agrego los datos verificados en nuevas columnas:\n",
    "data.loc[mask_size_right_surfaces,'superficie_TOTAL'] = data.loc[mask_size_right_surfaces,'surface_total_in_m2']\n",
    "data.loc[mask_size_right_surfaces,'superficie_CUBIERTA'] = data.loc[mask_size_right_surfaces,'surface_covered_in_m2']\n",
    "data.head(1)"
   ]
  },
  {
   "cell_type": "code",
   "execution_count": 27,
   "metadata": {},
   "outputs": [
    {
     "name": "stdout",
     "output_type": "stream",
     "text": [
      "MEAN de la diferencia de superficies: 113.18\n",
      "STD de la diferencia de superficies: 1653.62\n"
     ]
    }
   ],
   "source": [
    "# Vamos a calcular la media y desvío estándar de la diferencia entre ambas sups:\n",
    "resta_sups_right = (data.loc[mask_size_right_surfaces].surface_total_in_m2 - data.loc[mask_size_right_surfaces].surface_covered_in_m2)\n",
    "mean_surfaces_right = resta_sups_right.mean().round(2)\n",
    "stdv_surfaces_right = resta_sups_right.std().round(2)\n",
    "\n",
    "print('MEAN de la diferencia de superficies: '+str(mean_surfaces_right))\n",
    "print('STD de la diferencia de superficies: '+str(stdv_surfaces_right))"
   ]
  },
  {
   "cell_type": "code",
   "execution_count": 28,
   "metadata": {},
   "outputs": [],
   "source": [
    "#from bokeh.plotting import figure, output_notebook, show\n",
    "#from bokeh.models import HoverTool\n",
    "\n",
    "#p = figure(plot_width=600, plot_height=400)\n",
    "#p.circle(x=resta_sups_right.index, y=resta_sups_right.values, size=8)\n",
    "\n",
    "#hover = HoverTool(tooltips=[(\"index\", \"$index\"), (\"(x,y)\", \"($x, $y)\")])\n",
    "\n",
    "#p.add_tools(hover)\n",
    "#output_notebook()\n",
    "#show(p)"
   ]
  },
  {
   "cell_type": "code",
   "execution_count": 29,
   "metadata": {},
   "outputs": [],
   "source": [
    "#data.loc[mask_size_right_surfaces].iloc[5975]"
   ]
  },
  {
   "cell_type": "markdown",
   "metadata": {},
   "source": [
    "Veamos cuando solo tenemos una de las dos superficies definidas:"
   ]
  },
  {
   "cell_type": "code",
   "execution_count": 30,
   "metadata": {},
   "outputs": [],
   "source": [
    "mask_surface_total_in_m2_nulls = data.surface_total_in_m2.isnull()\n",
    "mask_surface_covered_in_m2_nulls = data.surface_covered_in_m2.isnull()"
   ]
  },
  {
   "cell_type": "code",
   "execution_count": 31,
   "metadata": {},
   "outputs": [
    {
     "name": "stdout",
     "output_type": "stream",
     "text": [
      "Cantidad de casos: 7538\n"
     ]
    },
    {
     "data": {
      "text/html": [
       "<div>\n",
       "<style scoped>\n",
       "    .dataframe tbody tr th:only-of-type {\n",
       "        vertical-align: middle;\n",
       "    }\n",
       "\n",
       "    .dataframe tbody tr th {\n",
       "        vertical-align: top;\n",
       "    }\n",
       "\n",
       "    .dataframe thead th {\n",
       "        text-align: right;\n",
       "    }\n",
       "</style>\n",
       "<table border=\"1\" class=\"dataframe\">\n",
       "  <thead>\n",
       "    <tr style=\"text-align: right;\">\n",
       "      <th></th>\n",
       "      <th>property_type</th>\n",
       "      <th>place_name</th>\n",
       "      <th>place_with_parent_names</th>\n",
       "      <th>state_name</th>\n",
       "      <th>price</th>\n",
       "      <th>currency</th>\n",
       "      <th>price_aprox_local_currency</th>\n",
       "      <th>price_aprox_usd</th>\n",
       "      <th>surface_total_in_m2</th>\n",
       "      <th>surface_covered_in_m2</th>\n",
       "      <th>price_usd_per_m2</th>\n",
       "      <th>price_per_m2</th>\n",
       "      <th>rooms</th>\n",
       "      <th>description</th>\n",
       "      <th>title</th>\n",
       "      <th>price_USD</th>\n",
       "      <th>superficie_TOTAL</th>\n",
       "      <th>superficie_CUBIERTA</th>\n",
       "    </tr>\n",
       "  </thead>\n",
       "  <tbody>\n",
       "    <tr>\n",
       "      <th>5</th>\n",
       "      <td>house</td>\n",
       "      <td>Gualeguaychú</td>\n",
       "      <td>|Argentina|Entre Ríos|Gualeguaychú|</td>\n",
       "      <td>Entre Ríos</td>\n",
       "      <td>NaN</td>\n",
       "      <td>NaN</td>\n",
       "      <td>NaN</td>\n",
       "      <td>NaN</td>\n",
       "      <td>53.0</td>\n",
       "      <td>NaN</td>\n",
       "      <td>NaN</td>\n",
       "      <td>NaN</td>\n",
       "      <td>NaN</td>\n",
       "      <td>Casa en el perímetro del barrio 338, ubicada e...</td>\n",
       "      <td>Casa Barrio 338. Sobre calle 3 de caballería, ...</td>\n",
       "      <td>NaN</td>\n",
       "      <td>53.0</td>\n",
       "      <td>NaN</td>\n",
       "    </tr>\n",
       "  </tbody>\n",
       "</table>\n",
       "</div>"
      ],
      "text/plain": [
       "  property_type    place_name              place_with_parent_names  \\\n",
       "5         house  Gualeguaychú  |Argentina|Entre Ríos|Gualeguaychú|   \n",
       "\n",
       "   state_name  price currency  price_aprox_local_currency  price_aprox_usd  \\\n",
       "5  Entre Ríos    NaN      NaN                         NaN              NaN   \n",
       "\n",
       "   surface_total_in_m2  surface_covered_in_m2  price_usd_per_m2  price_per_m2  \\\n",
       "5                 53.0                    NaN               NaN           NaN   \n",
       "\n",
       "   rooms                                        description  \\\n",
       "5    NaN  Casa en el perímetro del barrio 338, ubicada e...   \n",
       "\n",
       "                                               title  price_USD  \\\n",
       "5  Casa Barrio 338. Sobre calle 3 de caballería, ...        NaN   \n",
       "\n",
       "   superficie_TOTAL  superficie_CUBIERTA  \n",
       "5              53.0                  NaN  "
      ]
     },
     "execution_count": 31,
     "metadata": {},
     "output_type": "execute_result"
    }
   ],
   "source": [
    "# Tengo TOTAL pero no tengo CUBIERTA\n",
    "mask_surface_total = np.logical_and(np.logical_not(mask_surface_total_in_m2_nulls),mask_surface_covered_in_m2_nulls)\n",
    "print('Cantidad de casos: ' + str(mask_surface_total.sum()))\n",
    "data.loc[mask_surface_total,'superficie_TOTAL'] = data.loc[mask_surface_total,'surface_total_in_m2']\n",
    "data.loc[mask_surface_total].head(1)"
   ]
  },
  {
   "cell_type": "code",
   "execution_count": 32,
   "metadata": {},
   "outputs": [
    {
     "name": "stdout",
     "output_type": "stream",
     "text": [
      "Cantidad de casos: 26959\n"
     ]
    },
    {
     "data": {
      "text/html": [
       "<div>\n",
       "<style scoped>\n",
       "    .dataframe tbody tr th:only-of-type {\n",
       "        vertical-align: middle;\n",
       "    }\n",
       "\n",
       "    .dataframe tbody tr th {\n",
       "        vertical-align: top;\n",
       "    }\n",
       "\n",
       "    .dataframe thead th {\n",
       "        text-align: right;\n",
       "    }\n",
       "</style>\n",
       "<table border=\"1\" class=\"dataframe\">\n",
       "  <thead>\n",
       "    <tr style=\"text-align: right;\">\n",
       "      <th></th>\n",
       "      <th>property_type</th>\n",
       "      <th>place_name</th>\n",
       "      <th>place_with_parent_names</th>\n",
       "      <th>state_name</th>\n",
       "      <th>price</th>\n",
       "      <th>currency</th>\n",
       "      <th>price_aprox_local_currency</th>\n",
       "      <th>price_aprox_usd</th>\n",
       "      <th>surface_total_in_m2</th>\n",
       "      <th>surface_covered_in_m2</th>\n",
       "      <th>price_usd_per_m2</th>\n",
       "      <th>price_per_m2</th>\n",
       "      <th>rooms</th>\n",
       "      <th>description</th>\n",
       "      <th>title</th>\n",
       "      <th>price_USD</th>\n",
       "      <th>superficie_TOTAL</th>\n",
       "      <th>superficie_CUBIERTA</th>\n",
       "    </tr>\n",
       "  </thead>\n",
       "  <tbody>\n",
       "    <tr>\n",
       "      <th>68</th>\n",
       "      <td>apartment</td>\n",
       "      <td>Mar del Plata</td>\n",
       "      <td>|Argentina|Buenos Aires Costa Atlántica|Mar de...</td>\n",
       "      <td>Buenos Aires Costa Atlántica</td>\n",
       "      <td>235000.0</td>\n",
       "      <td>USD</td>\n",
       "      <td>4146457.5</td>\n",
       "      <td>235000.0</td>\n",
       "      <td>NaN</td>\n",
       "      <td>72.0</td>\n",
       "      <td>NaN</td>\n",
       "      <td>3263.888889</td>\n",
       "      <td>2.0</td>\n",
       "      <td>Cocina integrada con barra ,  horno y anafe .T...</td>\n",
       "      <td>EXCELENTE DEPARTAMENTO CON VISTA AL MAR Y AL GOLF</td>\n",
       "      <td>235000.0</td>\n",
       "      <td>NaN</td>\n",
       "      <td>72.0</td>\n",
       "    </tr>\n",
       "  </tbody>\n",
       "</table>\n",
       "</div>"
      ],
      "text/plain": [
       "   property_type     place_name  \\\n",
       "68     apartment  Mar del Plata   \n",
       "\n",
       "                              place_with_parent_names  \\\n",
       "68  |Argentina|Buenos Aires Costa Atlántica|Mar de...   \n",
       "\n",
       "                      state_name     price currency  \\\n",
       "68  Buenos Aires Costa Atlántica  235000.0      USD   \n",
       "\n",
       "    price_aprox_local_currency  price_aprox_usd  surface_total_in_m2  \\\n",
       "68                   4146457.5         235000.0                  NaN   \n",
       "\n",
       "    surface_covered_in_m2  price_usd_per_m2  price_per_m2  rooms  \\\n",
       "68                   72.0               NaN   3263.888889    2.0   \n",
       "\n",
       "                                          description  \\\n",
       "68  Cocina integrada con barra ,  horno y anafe .T...   \n",
       "\n",
       "                                                title  price_USD  \\\n",
       "68  EXCELENTE DEPARTAMENTO CON VISTA AL MAR Y AL GOLF   235000.0   \n",
       "\n",
       "    superficie_TOTAL  superficie_CUBIERTA  \n",
       "68               NaN                 72.0  "
      ]
     },
     "execution_count": 32,
     "metadata": {},
     "output_type": "execute_result"
    }
   ],
   "source": [
    "# Tengo CUBIERTA pero no tengo TOTAL\n",
    "mask_surface_covered = np.logical_and(mask_surface_total_in_m2_nulls,np.logical_not(mask_surface_covered_in_m2_nulls))\n",
    "print('Cantidad de casos: ' + str(mask_surface_covered.sum()))\n",
    "data.loc[mask_surface_covered,'superficie_CUBIERTA'] = data.loc[mask_surface_covered,'surface_covered_in_m2']\n",
    "data.loc[mask_surface_covered].head(1)"
   ]
  },
  {
   "cell_type": "code",
   "execution_count": null,
   "metadata": {},
   "outputs": [],
   "source": []
  },
  {
   "cell_type": "code",
   "execution_count": null,
   "metadata": {},
   "outputs": [],
   "source": []
  },
  {
   "cell_type": "markdown",
   "metadata": {},
   "source": [
    "## Veamos qué pasa con los casos donde la sup cubierta es mayor que sup total:"
   ]
  },
  {
   "cell_type": "code",
   "execution_count": 33,
   "metadata": {},
   "outputs": [
    {
     "name": "stdout",
     "output_type": "stream",
     "text": [
      "Cantidad de inconsistencias en superficie: 1106\n"
     ]
    },
    {
     "data": {
      "text/html": [
       "<div>\n",
       "<style scoped>\n",
       "    .dataframe tbody tr th:only-of-type {\n",
       "        vertical-align: middle;\n",
       "    }\n",
       "\n",
       "    .dataframe tbody tr th {\n",
       "        vertical-align: top;\n",
       "    }\n",
       "\n",
       "    .dataframe thead th {\n",
       "        text-align: right;\n",
       "    }\n",
       "</style>\n",
       "<table border=\"1\" class=\"dataframe\">\n",
       "  <thead>\n",
       "    <tr style=\"text-align: right;\">\n",
       "      <th></th>\n",
       "      <th>property_type</th>\n",
       "      <th>place_name</th>\n",
       "      <th>place_with_parent_names</th>\n",
       "      <th>state_name</th>\n",
       "      <th>price</th>\n",
       "      <th>currency</th>\n",
       "      <th>price_aprox_local_currency</th>\n",
       "      <th>price_aprox_usd</th>\n",
       "      <th>surface_total_in_m2</th>\n",
       "      <th>surface_covered_in_m2</th>\n",
       "      <th>price_usd_per_m2</th>\n",
       "      <th>price_per_m2</th>\n",
       "      <th>rooms</th>\n",
       "      <th>description</th>\n",
       "      <th>title</th>\n",
       "      <th>price_USD</th>\n",
       "      <th>superficie_TOTAL</th>\n",
       "      <th>superficie_CUBIERTA</th>\n",
       "    </tr>\n",
       "  </thead>\n",
       "  <tbody>\n",
       "    <tr>\n",
       "      <th>78</th>\n",
       "      <td>house</td>\n",
       "      <td>Posadas</td>\n",
       "      <td>|Argentina|Misiones|Posadas|</td>\n",
       "      <td>Misiones</td>\n",
       "      <td>5500000.0</td>\n",
       "      <td>ARS</td>\n",
       "      <td>5442626.35</td>\n",
       "      <td>308460.22</td>\n",
       "      <td>261.0</td>\n",
       "      <td>18615.0</td>\n",
       "      <td>1181.839923</td>\n",
       "      <td>295.460650</td>\n",
       "      <td>5.0</td>\n",
       "      <td>S/AVDA   COSTANERA ,  NUEVA  ZONA GASTRONOMICA...</td>\n",
       "      <td>Oportunidad! Casa zona Bahía el Brete</td>\n",
       "      <td>308460.0</td>\n",
       "      <td>NaN</td>\n",
       "      <td>NaN</td>\n",
       "    </tr>\n",
       "    <tr>\n",
       "      <th>177</th>\n",
       "      <td>apartment</td>\n",
       "      <td>Villa Carlos Paz</td>\n",
       "      <td>|Argentina|Córdoba|Villa Carlos Paz|</td>\n",
       "      <td>Córdoba</td>\n",
       "      <td>470000.0</td>\n",
       "      <td>USD</td>\n",
       "      <td>8292915.00</td>\n",
       "      <td>470000.00</td>\n",
       "      <td>420.0</td>\n",
       "      <td>450.0</td>\n",
       "      <td>1119.047619</td>\n",
       "      <td>1044.444444</td>\n",
       "      <td>9.0</td>\n",
       "      <td>CASA PRINCIPAL QUE CONSTA DE 3 DORM,.AMPLIOS,2...</td>\n",
       "      <td>SE VENDE VIVIENDA+LOCALES COMERCIALES+DPTOS</td>\n",
       "      <td>470000.0</td>\n",
       "      <td>NaN</td>\n",
       "      <td>NaN</td>\n",
       "    </tr>\n",
       "  </tbody>\n",
       "</table>\n",
       "</div>"
      ],
      "text/plain": [
       "    property_type        place_name               place_with_parent_names  \\\n",
       "78          house           Posadas          |Argentina|Misiones|Posadas|   \n",
       "177     apartment  Villa Carlos Paz  |Argentina|Córdoba|Villa Carlos Paz|   \n",
       "\n",
       "    state_name      price currency  price_aprox_local_currency  \\\n",
       "78    Misiones  5500000.0      ARS                  5442626.35   \n",
       "177    Córdoba   470000.0      USD                  8292915.00   \n",
       "\n",
       "     price_aprox_usd  surface_total_in_m2  surface_covered_in_m2  \\\n",
       "78         308460.22                261.0                18615.0   \n",
       "177        470000.00                420.0                  450.0   \n",
       "\n",
       "     price_usd_per_m2  price_per_m2  rooms  \\\n",
       "78        1181.839923    295.460650    5.0   \n",
       "177       1119.047619   1044.444444    9.0   \n",
       "\n",
       "                                           description  \\\n",
       "78   S/AVDA   COSTANERA ,  NUEVA  ZONA GASTRONOMICA...   \n",
       "177  CASA PRINCIPAL QUE CONSTA DE 3 DORM,.AMPLIOS,2...   \n",
       "\n",
       "                                           title  price_USD  superficie_TOTAL  \\\n",
       "78         Oportunidad! Casa zona Bahía el Brete   308460.0               NaN   \n",
       "177  SE VENDE VIVIENDA+LOCALES COMERCIALES+DPTOS   470000.0               NaN   \n",
       "\n",
       "     superficie_CUBIERTA  \n",
       "78                   NaN  \n",
       "177                  NaN  "
      ]
     },
     "execution_count": 33,
     "metadata": {},
     "output_type": "execute_result"
    }
   ],
   "source": [
    "mask_size_surfaces = data.surface_total_in_m2 < data.surface_covered_in_m2\n",
    "print('Cantidad de inconsistencias en superficie: ' + str(mask_size_surfaces.sum()))\n",
    "data.loc[mask_size_surfaces].head(2)"
   ]
  },
  {
   "cell_type": "code",
   "execution_count": 34,
   "metadata": {},
   "outputs": [
    {
     "name": "stdout",
     "output_type": "stream",
     "text": [
      "MEAN de la diferencia de superficies: 318.33\n",
      "STD de la diferencia de superficies: 2463.4\n"
     ]
    }
   ],
   "source": [
    "# Vamos a calcular la media y desvío estándar de la diferencia entre ambas sups:\n",
    "resta_sups_wrong = (data.loc[mask_size_surfaces].surface_covered_in_m2 - data.loc[mask_size_surfaces].surface_total_in_m2)\n",
    "mean_surfaces_wrong = resta_sups_wrong.mean().round(2)\n",
    "stdv_surfaces_wrong = resta_sups_wrong.std().round(2)\n",
    "\n",
    "print('MEAN de la diferencia de superficies: '+str(mean_surfaces_wrong))\n",
    "print('STD de la diferencia de superficies: '+str(stdv_surfaces_wrong))"
   ]
  },
  {
   "cell_type": "code",
   "execution_count": 35,
   "metadata": {},
   "outputs": [
    {
     "data": {
      "text/plain": [
       "1106"
      ]
     },
     "execution_count": 35,
     "metadata": {},
     "output_type": "execute_result"
    }
   ],
   "source": [
    "resta_sups_wrong.shape[0]"
   ]
  },
  {
   "cell_type": "code",
   "execution_count": 36,
   "metadata": {},
   "outputs": [
    {
     "data": {
      "text/plain": [
       "1106"
      ]
     },
     "execution_count": 36,
     "metadata": {},
     "output_type": "execute_result"
    }
   ],
   "source": [
    "mask_resta_sups_wrong_acceptable = resta_sups_wrong < mean_surfaces_right\n",
    "mask_resta_sups_wrong_acceptable.shape[0]"
   ]
  },
  {
   "cell_type": "markdown",
   "metadata": {},
   "source": [
    "Como la mayoría de la diferencia de estas superficies está por debajo de la media de las que asumo que están bien, entonces invierto los valores y los cargo en las nuevas columnas."
   ]
  },
  {
   "cell_type": "code",
   "execution_count": 37,
   "metadata": {},
   "outputs": [
    {
     "data": {
      "text/html": [
       "<div>\n",
       "<style scoped>\n",
       "    .dataframe tbody tr th:only-of-type {\n",
       "        vertical-align: middle;\n",
       "    }\n",
       "\n",
       "    .dataframe tbody tr th {\n",
       "        vertical-align: top;\n",
       "    }\n",
       "\n",
       "    .dataframe thead th {\n",
       "        text-align: right;\n",
       "    }\n",
       "</style>\n",
       "<table border=\"1\" class=\"dataframe\">\n",
       "  <thead>\n",
       "    <tr style=\"text-align: right;\">\n",
       "      <th></th>\n",
       "      <th>property_type</th>\n",
       "      <th>place_name</th>\n",
       "      <th>place_with_parent_names</th>\n",
       "      <th>state_name</th>\n",
       "      <th>price</th>\n",
       "      <th>currency</th>\n",
       "      <th>price_aprox_local_currency</th>\n",
       "      <th>price_aprox_usd</th>\n",
       "      <th>surface_total_in_m2</th>\n",
       "      <th>surface_covered_in_m2</th>\n",
       "      <th>price_usd_per_m2</th>\n",
       "      <th>price_per_m2</th>\n",
       "      <th>rooms</th>\n",
       "      <th>description</th>\n",
       "      <th>title</th>\n",
       "      <th>price_USD</th>\n",
       "      <th>superficie_TOTAL</th>\n",
       "      <th>superficie_CUBIERTA</th>\n",
       "    </tr>\n",
       "  </thead>\n",
       "  <tbody>\n",
       "    <tr>\n",
       "      <th>177</th>\n",
       "      <td>apartment</td>\n",
       "      <td>Villa Carlos Paz</td>\n",
       "      <td>|Argentina|Córdoba|Villa Carlos Paz|</td>\n",
       "      <td>Córdoba</td>\n",
       "      <td>470000.0</td>\n",
       "      <td>USD</td>\n",
       "      <td>8292915.0</td>\n",
       "      <td>470000.0</td>\n",
       "      <td>420.0</td>\n",
       "      <td>450.0</td>\n",
       "      <td>1119.047619</td>\n",
       "      <td>1044.444444</td>\n",
       "      <td>9.0</td>\n",
       "      <td>CASA PRINCIPAL QUE CONSTA DE 3 DORM,.AMPLIOS,2...</td>\n",
       "      <td>SE VENDE VIVIENDA+LOCALES COMERCIALES+DPTOS</td>\n",
       "      <td>470000.0</td>\n",
       "      <td>NaN</td>\n",
       "      <td>NaN</td>\n",
       "    </tr>\n",
       "  </tbody>\n",
       "</table>\n",
       "</div>"
      ],
      "text/plain": [
       "    property_type        place_name               place_with_parent_names  \\\n",
       "177     apartment  Villa Carlos Paz  |Argentina|Córdoba|Villa Carlos Paz|   \n",
       "\n",
       "    state_name     price currency  price_aprox_local_currency  \\\n",
       "177    Córdoba  470000.0      USD                   8292915.0   \n",
       "\n",
       "     price_aprox_usd  surface_total_in_m2  surface_covered_in_m2  \\\n",
       "177         470000.0                420.0                  450.0   \n",
       "\n",
       "     price_usd_per_m2  price_per_m2  rooms  \\\n",
       "177       1119.047619   1044.444444    9.0   \n",
       "\n",
       "                                           description  \\\n",
       "177  CASA PRINCIPAL QUE CONSTA DE 3 DORM,.AMPLIOS,2...   \n",
       "\n",
       "                                           title  price_USD  superficie_TOTAL  \\\n",
       "177  SE VENDE VIVIENDA+LOCALES COMERCIALES+DPTOS   470000.0               NaN   \n",
       "\n",
       "     superficie_CUBIERTA  \n",
       "177                  NaN  "
      ]
     },
     "execution_count": 37,
     "metadata": {},
     "output_type": "execute_result"
    }
   ],
   "source": [
    "# NO ME FUNCIONA!!!\n",
    "# me quedan en NaN las nuevas columnas\n",
    "\n",
    "# Agrego los datos verificados en nuevas columnas:\n",
    "#data.loc[mask_size_surfaces,'superficie_TOTAL'].loc[mask_resta_sups_wrong_acceptable] = data.loc[mask_size_surfaces,'surface_covered_in_m2'].loc[mask_resta_sups_wrong_acceptable]\n",
    "#data.loc[mask_size_surfaces.loc[mask_resta_sups_wrong_acceptable],'superficie_CUBIERTA'] = data.loc[mask_size_surfaces,'surface_total_in_m2']\n",
    "data.loc[mask_size_surfaces].loc[mask_resta_sups_wrong_acceptable].head(1)\n",
    "#mask_size_surfaces"
   ]
  },
  {
   "cell_type": "markdown",
   "metadata": {},
   "source": [
    "Vemos que la media y std son bastante mayores a los valores consistentes. \n",
    "\n",
    "Vamos a hacer algunos gráficos para identificar visualmente qué indices de mi `Serie` **diferencia_surface** tiene diferencias entre superficie \"grandes\"."
   ]
  },
  {
   "cell_type": "code",
   "execution_count": 38,
   "metadata": {},
   "outputs": [
    {
     "data": {
      "text/plain": [
       "<matplotlib.collections.PathCollection at 0x1dc1ce4d608>"
      ]
     },
     "execution_count": 38,
     "metadata": {},
     "output_type": "execute_result"
    },
    {
     "data": {
      "image/png": "[encoded data removed]",
      "text/plain": [
       "<Figure size 432x288 with 1 Axes>"
      ]
     },
     "metadata": {
      "needs_background": "light"
     },
     "output_type": "display_data"
    }
   ],
   "source": [
    "import seaborn as sns\n",
    "import matplotlib.pyplot as plt\n",
    "fig = plt.figure()\n",
    "# creo los axes\n",
    "ax = plt.axes()\n",
    "# dibujo en axes:\n",
    "ax.scatter(resta_sups_wrong.index, resta_sups_wrong.values, marker = 'o', color = \"green\", label='serie sin', alpha = 0.4)\n"
   ]
  },
  {
   "cell_type": "code",
   "execution_count": 39,
   "metadata": {},
   "outputs": [
    {
     "data": {
      "text/html": [
       "\n",
       "    <div class=\"bk-root\">\n",
       "        <a href=\"https://bokeh.org\" target=\"_blank\" class=\"bk-logo bk-logo-small bk-logo-notebook\"></a>\n",
       "        <span id=\"1038\">Loading BokehJS ...</span>\n",
       "    </div>"
      ]
     },
     "metadata": {},
     "output_type": "display_data"
    },
    {
     "data": {
      "application/javascript": [
       "\n",
       "(function(root) {\n",
       "  function now() {\n",
       "    return new Date();\n",
       "  }\n",
       "\n",
       "  var force = true;\n",
       "\n",
       "  if (typeof root._bokeh_onload_callbacks === \"undefined\" || force === true) {\n",
       "    root._bokeh_onload_callbacks = [];\n",
       "    root._bokeh_is_loading = undefined;\n",
       "  }\n",
       "\n",
       "  var JS_MIME_TYPE = 'application/javascript';\n",
       "  var HTML_MIME_TYPE = 'text/html';\n",
       "  var EXEC_MIME_TYPE = 'application/vnd.bokehjs_exec.v0+json';\n",
       "  var CLASS_NAME = 'output_bokeh rendered_html';\n",
       "\n",
       "  /**\n",
       "   * Render data to the DOM node\n",
       "   */\n",
       "  function render(props, node) {\n",
       "    var script = document.createElement(\"script\");\n",
       "    node.appendChild(script);\n",
       "  }\n",
       "\n",
       "  /**\n",
       "   * Handle when an output is cleared or removed\n",
       "   */\n",
       "  function handleClearOutput(event, handle) {\n",
       "    var cell = handle.cell;\n",
       "\n",
       "    var id = cell.output_area._bokeh_element_id;\n",
       "    var server_id = cell.output_area._bokeh_server_id;\n",
       "    // Clean up Bokeh references\n",
       "    if (id != null && id in Bokeh.index) {\n",
       "      Bokeh.index[id].model.document.clear();\n",
       "      delete Bokeh.index[id];\n",
       "    }\n",
       "\n",
       "    if (server_id !== undefined) {\n",
       "      // Clean up Bokeh references\n",
       "      var cmd = \"from bokeh.io.state import curstate; print(curstate().uuid_to_server['\" + server_id + \"'].get_sessions()[0].document.roots[0]._id)\";\n",
       "      cell.notebook.kernel.execute(cmd, {\n",
       "        iopub: {\n",
       "          output: function(msg) {\n",
       "            var id = msg.content.text.trim();\n",
       "            if (id in Bokeh.index) {\n",
       "              Bokeh.index[id].model.document.clear();\n",
       "              delete Bokeh.index[id];\n",
       "            }\n",
       "          }\n",
       "        }\n",
       "      });\n",
       "      // Destroy server and session\n",
       "      var cmd = \"import bokeh.io.notebook as ion; ion.destroy_server('\" + server_id + \"')\";\n",
       "      cell.notebook.kernel.execute(cmd);\n",
       "    }\n",
       "  }\n",
       "\n",
       "  /**\n",
       "   * Handle when a new output is added\n",
       "   */\n",
       "  function handleAddOutput(event, handle) {\n",
       "    var output_area = handle.output_area;\n",
       "    var output = handle.output;\n",
       "\n",
       "    // limit handleAddOutput to display_data with EXEC_MIME_TYPE content only\n",
       "    if ((output.output_type != \"display_data\") || (!output.data.hasOwnProperty(EXEC_MIME_TYPE))) {\n",
       "      return\n",
       "    }\n",
       "\n",
       "    var toinsert = output_area.element.find(\".\" + CLASS_NAME.split(' ')[0]);\n",
       "\n",
       "    if (output.metadata[EXEC_MIME_TYPE][\"id\"] !== undefined) {\n",
       "      toinsert[toinsert.length - 1].firstChild.textContent = output.data[JS_MIME_TYPE];\n",
       "      // store reference to embed id on output_area\n",
       "      output_area._bokeh_element_id = output.metadata[EXEC_MIME_TYPE][\"id\"];\n",
       "    }\n",
       "    if (output.metadata[EXEC_MIME_TYPE][\"server_id\"] !== undefined) {\n",
       "      var bk_div = document.createElement(\"div\");\n",
       "      bk_div.innerHTML = output.data[HTML_MIME_TYPE];\n",
       "      var script_attrs = bk_div.children[0].attributes;\n",
       "      for (var i = 0; i < script_attrs.length; i++) {\n",
       "        toinsert[toinsert.length - 1].firstChild.setAttribute(script_attrs[i].name, script_attrs[i].value);\n",
       "        toinsert[toinsert.length - 1].firstChild.textContent = bk_div.children[0].textContent\n",
       "      }\n",
       "      // store reference to server id on output_area\n",
       "      output_area._bokeh_server_id = output.metadata[EXEC_MIME_TYPE][\"server_id\"];\n",
       "    }\n",
       "  }\n",
       "\n",
       "  function register_renderer(events, OutputArea) {\n",
       "\n",
       "    function append_mime(data, metadata, element) {\n",
       "      // create a DOM node to render to\n",
       "      var toinsert = this.create_output_subarea(\n",
       "        metadata,\n",
       "        CLASS_NAME,\n",
       "        EXEC_MIME_TYPE\n",
       "      );\n",
       "      this.keyboard_manager.register_events(toinsert);\n",
       "      // Render to node\n",
       "      var props = {data: data, metadata: metadata[EXEC_MIME_TYPE]};\n",
       "      render(props, toinsert[toinsert.length - 1]);\n",
       "      element.append(toinsert);\n",
       "      return toinsert\n",
       "    }\n",
       "\n",
       "    /* Handle when an output is cleared or removed */\n",
       "    events.on('clear_output.CodeCell', handleClearOutput);\n",
       "    events.on('delete.Cell', handleClearOutput);\n",
       "\n",
       "    /* Handle when a new output is added */\n",
       "    events.on('output_added.OutputArea', handleAddOutput);\n",
       "\n",
       "    /**\n",
       "     * Register the mime type and append_mime function with output_area\n",
       "     */\n",
       "    OutputArea.prototype.register_mime_type(EXEC_MIME_TYPE, append_mime, {\n",
       "      /* Is output safe? */\n",
       "      safe: true,\n",
       "      /* Index of renderer in `output_area.display_order` */\n",
       "      index: 0\n",
       "    });\n",
       "  }\n",
       "\n",
       "  // register the mime type if in Jupyter Notebook environment and previously unregistered\n",
       "  if (root.Jupyter !== undefined) {\n",
       "    var events = require('base/js/events');\n",
       "    var OutputArea = require('notebook/js/outputarea').OutputArea;\n",
       "\n",
       "    if (OutputArea.prototype.mime_types().indexOf(EXEC_MIME_TYPE) == -1) {\n",
       "      register_renderer(events, OutputArea);\n",
       "    }\n",
       "  }\n",
       "\n",
       "  \n",
       "  if (typeof (root._bokeh_timeout) === \"undefined\" || force === true) {\n",
       "    root._bokeh_timeout = Date.now() + 5000;\n",
       "    root._bokeh_failed_load = false;\n",
       "  }\n",
       "\n",
       "  var NB_LOAD_WARNING = {'data': {'text/html':\n",
       "     \"<div style='background-color: #fdd'>\\n\"+\n",
       "     \"<p>\\n\"+\n",
       "     \"BokehJS does not appear to have successfully loaded. If loading BokehJS from CDN, this \\n\"+\n",
       "     \"may be due to a slow or bad network connection. Possible fixes:\\n\"+\n",
       "     \"</p>\\n\"+\n",
       "     \"<ul>\\n\"+\n",
       "     \"<li>re-rerun `output_notebook()` to attempt to load from CDN again, or</li>\\n\"+\n",
       "     \"<li>use INLINE resources instead, as so:</li>\\n\"+\n",
       "     \"</ul>\\n\"+\n",
       "     \"<code>\\n\"+\n",
       "     \"from bokeh.resources import INLINE\\n\"+\n",
       "     \"output_notebook(resources=INLINE)\\n\"+\n",
       "     \"</code>\\n\"+\n",
       "     \"</div>\"}};\n",
       "\n",
       "  function display_loaded() {\n",
       "    var el = document.getElementById(\"1038\");\n",
       "    if (el != null) {\n",
       "      el.textContent = \"BokehJS is loading...\";\n",
       "    }\n",
       "    if (root.Bokeh !== undefined) {\n",
       "      if (el != null) {\n",
       "        el.textContent = \"BokehJS \" + root.Bokeh.version + \" successfully loaded.\";\n",
       "      }\n",
       "    } else if (Date.now() < root._bokeh_timeout) {\n",
       "      setTimeout(display_loaded, 100)\n",
       "    }\n",
       "  }\n",
       "\n",
       "\n",
       "  function run_callbacks() {\n",
       "    try {\n",
       "      root._bokeh_onload_callbacks.forEach(function(callback) {\n",
       "        if (callback != null)\n",
       "          callback();\n",
       "      });\n",
       "    } finally {\n",
       "      delete root._bokeh_onload_callbacks\n",
       "    }\n",
       "    console.debug(\"Bokeh: all callbacks have finished\");\n",
       "  }\n",
       "\n",
       "  function load_libs(css_urls, js_urls, callback) {\n",
       "    if (css_urls == null) css_urls = [];\n",
       "    if (js_urls == null) js_urls = [];\n",
       "\n",
       "    root._bokeh_onload_callbacks.push(callback);\n",
       "    if (root._bokeh_is_loading > 0) {\n",
       "      console.debug(\"Bokeh: BokehJS is being loaded, scheduling callback at\", now());\n",
       "      return null;\n",
       "    }\n",
       "    if (js_urls == null || js_urls.length === 0) {\n",
       "      run_callbacks();\n",
       "      return null;\n",
       "    }\n",
       "    console.debug(\"Bokeh: BokehJS not loaded, scheduling load and callback at\", now());\n",
       "    root._bokeh_is_loading = css_urls.length + js_urls.length;\n",
       "\n",
       "    function on_load() {\n",
       "      root._bokeh_is_loading--;\n",
       "      if (root._bokeh_is_loading === 0) {\n",
       "        console.debug(\"Bokeh: all BokehJS libraries/stylesheets loaded\");\n",
       "        run_callbacks()\n",
       "      }\n",
       "    }\n",
       "\n",
       "    function on_error() {\n",
       "      console.error(\"failed to load \" + url);\n",
       "    }\n",
       "\n",
       "    for (var i = 0; i < css_urls.length; i++) {\n",
       "      var url = css_urls[i];\n",
       "      const element = document.createElement(\"link\");\n",
       "      element.onload = on_load;\n",
       "      element.onerror = on_error;\n",
       "      element.rel = \"stylesheet\";\n",
       "      element.type = \"text/css\";\n",
       "      element.href = url;\n",
       "      console.debug(\"Bokeh: injecting link tag for BokehJS stylesheet: \", url);\n",
       "      document.body.appendChild(element);\n",
       "    }\n",
       "\n",
       "    for (var i = 0; i < js_urls.length; i++) {\n",
       "      var url = js_urls[i];\n",
       "      var element = document.createElement('script');\n",
       "      element.onload = on_load;\n",
       "      element.onerror = on_error;\n",
       "      element.async = false;\n",
       "      element.src = url;\n",
       "      \n",
       "      console.debug(\"Bokeh: injecting script tag for BokehJS library: \", url);\n",
       "      document.head.appendChild(element);\n",
       "    }\n",
       "  };var element = document.getElementById(\"1038\");\n",
       "  if (element == null) {\n",
       "    console.error(\"Bokeh: ERROR: autoload.js configured with elementid '1038' but no matching script tag was found. \")\n",
       "    return false;\n",
       "  }\n",
       "\n",
       "  function inject_raw_css(css) {\n",
       "    const element = document.createElement(\"style\");\n",
       "    element.appendChild(document.createTextNode(css));\n",
       "    document.body.appendChild(element);\n",
       "  }\n",
       "\n",
       "  \n",
       "  var js_urls = [\"https://cdn.bokeh.org/bokeh/release/bokeh-2.0.0.min.js\", \"https://cdn.bokeh.org/bokeh/release/bokeh-widgets-2.0.0.min.js\", \"https://cdn.bokeh.org/bokeh/release/bokeh-tables-2.0.0.min.js\", \"https://cdn.bokeh.org/bokeh/release/bokeh-gl-2.0.0.min.js\"];\n",
       "  var css_urls = [];\n",
       "  \n",
       "\n",
       "  var inline_js = [\n",
       "    function(Bokeh) {\n",
       "      Bokeh.set_log_level(\"info\");\n",
       "    },\n",
       "    function(Bokeh) {\n",
       "    \n",
       "    \n",
       "    }\n",
       "  ];\n",
       "\n",
       "  function run_inline_js() {\n",
       "    \n",
       "    if (root.Bokeh !== undefined || force === true) {\n",
       "      \n",
       "    for (var i = 0; i < inline_js.length; i++) {\n",
       "      inline_js[i].call(root, root.Bokeh);\n",
       "    }\n",
       "    if (force === true) {\n",
       "        display_loaded();\n",
       "      }} else if (Date.now() < root._bokeh_timeout) {\n",
       "      setTimeout(run_inline_js, 100);\n",
       "    } else if (!root._bokeh_failed_load) {\n",
       "      console.log(\"Bokeh: BokehJS failed to load within specified timeout.\");\n",
       "      root._bokeh_failed_load = true;\n",
       "    } else if (force !== true) {\n",
       "      var cell = $(document.getElementById(\"1038\")).parents('.cell').data().cell;\n",
       "      cell.output_area.append_execute_result(NB_LOAD_WARNING)\n",
       "    }\n",
       "\n",
       "  }\n",
       "\n",
       "  if (root._bokeh_is_loading === 0) {\n",
       "    console.debug(\"Bokeh: BokehJS loaded, going straight to plotting\");\n",
       "    run_inline_js();\n",
       "  } else {\n",
       "    load_libs(css_urls, js_urls, function() {\n",
       "      console.debug(\"Bokeh: BokehJS plotting callback run at\", now());\n",
       "      run_inline_js();\n",
       "    });\n",
       "  }\n",
       "}(window));"
      ],
      "application/vnd.bokehjs_load.v0+json": "\n(function(root) {\n  function now() {\n    return new Date();\n  }\n\n  var force = true;\n\n  if (typeof root._bokeh_onload_callbacks === \"undefined\" || force === true) {\n    root._bokeh_onload_callbacks = [];\n    root._bokeh_is_loading = undefined;\n  }\n\n  \n\n  \n  if (typeof (root._bokeh_timeout) === \"undefined\" || force === true) {\n    root._bokeh_timeout = Date.now() + 5000;\n    root._bokeh_failed_load = false;\n  }\n\n  var NB_LOAD_WARNING = {'data': {'text/html':\n     \"<div style='background-color: #fdd'>\\n\"+\n     \"<p>\\n\"+\n     \"BokehJS does not appear to have successfully loaded. If loading BokehJS from CDN, this \\n\"+\n     \"may be due to a slow or bad network connection. Possible fixes:\\n\"+\n     \"</p>\\n\"+\n     \"<ul>\\n\"+\n     \"<li>re-rerun `output_notebook()` to attempt to load from CDN again, or</li>\\n\"+\n     \"<li>use INLINE resources instead, as so:</li>\\n\"+\n     \"</ul>\\n\"+\n     \"<code>\\n\"+\n     \"from bokeh.resources import INLINE\\n\"+\n     \"output_notebook(resources=INLINE)\\n\"+\n     \"</code>\\n\"+\n     \"</div>\"}};\n\n  function display_loaded() {\n    var el = document.getElementById(\"1038\");\n    if (el != null) {\n      el.textContent = \"BokehJS is loading...\";\n    }\n    if (root.Bokeh !== undefined) {\n      if (el != null) {\n        el.textContent = \"BokehJS \" + root.Bokeh.version + \" successfully loaded.\";\n      }\n    } else if (Date.now() < root._bokeh_timeout) {\n      setTimeout(display_loaded, 100)\n    }\n  }\n\n\n  function run_callbacks() {\n    try {\n      root._bokeh_onload_callbacks.forEach(function(callback) {\n        if (callback != null)\n          callback();\n      });\n    } finally {\n      delete root._bokeh_onload_callbacks\n    }\n    console.debug(\"Bokeh: all callbacks have finished\");\n  }\n\n  function load_libs(css_urls, js_urls, callback) {\n    if (css_urls == null) css_urls = [];\n    if (js_urls == null) js_urls = [];\n\n    root._bokeh_onload_callbacks.push(callback);\n    if (root._bokeh_is_loading > 0) {\n      console.debug(\"Bokeh: BokehJS is being loaded, scheduling callback at\", now());\n      return null;\n    }\n    if (js_urls == null || js_urls.length === 0) {\n      run_callbacks();\n      return null;\n    }\n    console.debug(\"Bokeh: BokehJS not loaded, scheduling load and callback at\", now());\n    root._bokeh_is_loading = css_urls.length + js_urls.length;\n\n    function on_load() {\n      root._bokeh_is_loading--;\n      if (root._bokeh_is_loading === 0) {\n        console.debug(\"Bokeh: all BokehJS libraries/stylesheets loaded\");\n        run_callbacks()\n      }\n    }\n\n    function on_error() {\n      console.error(\"failed to load \" + url);\n    }\n\n    for (var i = 0; i < css_urls.length; i++) {\n      var url = css_urls[i];\n      const element = document.createElement(\"link\");\n      element.onload = on_load;\n      element.onerror = on_error;\n      element.rel = \"stylesheet\";\n      element.type = \"text/css\";\n      element.href = url;\n      console.debug(\"Bokeh: injecting link tag for BokehJS stylesheet: \", url);\n      document.body.appendChild(element);\n    }\n\n    for (var i = 0; i < js_urls.length; i++) {\n      var url = js_urls[i];\n      var element = document.createElement('script');\n      element.onload = on_load;\n      element.onerror = on_error;\n      element.async = false;\n      element.src = url;\n      \n      console.debug(\"Bokeh: injecting script tag for BokehJS library: \", url);\n      document.head.appendChild(element);\n    }\n  };var element = document.getElementById(\"1038\");\n  if (element == null) {\n    console.error(\"Bokeh: ERROR: autoload.js configured with elementid '1038' but no matching script tag was found. \")\n    return false;\n  }\n\n  function inject_raw_css(css) {\n    const element = document.createElement(\"style\");\n    element.appendChild(document.createTextNode(css));\n    document.body.appendChild(element);\n  }\n\n  \n  var js_urls = [\"https://cdn.bokeh.org/bokeh/release/bokeh-2.0.0.min.js\", \"https://cdn.bokeh.org/bokeh/release/bokeh-widgets-2.0.0.min.js\", \"https://cdn.bokeh.org/bokeh/release/bokeh-tables-2.0.0.min.js\", \"https://cdn.bokeh.org/bokeh/release/bokeh-gl-2.0.0.min.js\"];\n  var css_urls = [];\n  \n\n  var inline_js = [\n    function(Bokeh) {\n      Bokeh.set_log_level(\"info\");\n    },\n    function(Bokeh) {\n    \n    \n    }\n  ];\n\n  function run_inline_js() {\n    \n    if (root.Bokeh !== undefined || force === true) {\n      \n    for (var i = 0; i < inline_js.length; i++) {\n      inline_js[i].call(root, root.Bokeh);\n    }\n    if (force === true) {\n        display_loaded();\n      }} else if (Date.now() < root._bokeh_timeout) {\n      setTimeout(run_inline_js, 100);\n    } else if (!root._bokeh_failed_load) {\n      console.log(\"Bokeh: BokehJS failed to load within specified timeout.\");\n      root._bokeh_failed_load = true;\n    } else if (force !== true) {\n      var cell = $(document.getElementById(\"1038\")).parents('.cell').data().cell;\n      cell.output_area.append_execute_result(NB_LOAD_WARNING)\n    }\n\n  }\n\n  if (root._bokeh_is_loading === 0) {\n    console.debug(\"Bokeh: BokehJS loaded, going straight to plotting\");\n    run_inline_js();\n  } else {\n    load_libs(css_urls, js_urls, function() {\n      console.debug(\"Bokeh: BokehJS plotting callback run at\", now());\n      run_inline_js();\n    });\n  }\n}(window));"
     },
     "metadata": {},
     "output_type": "display_data"
    },
    {
     "data": {
      "text/html": [
       "\n",
       "\n",
       "\n",
       "\n",
       "\n",
       "\n",
       "  <div class=\"bk-root\" id=\"9f30d1e1-5bbf-4a3e-811f-217440c37281\" data-root-id=\"1001\"></div>\n"
      ]
     },
     "metadata": {},
     "output_type": "display_data"
    },
    {
     "data": {
      "application/javascript": [
       "(function(root) {\n",
       "  function embed_document(root) {\n",
       "    \n",
       "  var docs_json = {\"3238d7cb-1810-4591-a9c5-e85e42502747\":{\"roots\":{\"references\":[{\"attributes\":{\"below\":[{\"id\":\"1010\"}],\"center\":[{\"id\":\"1013\"},{\"id\":\"1017\"}],\"left\":[{\"id\":\"1014\"}],\"plot_height\":400,\"renderers\":[{\"id\":\"1034\"}],\"title\":{\"id\":\"1040\"},\"toolbar\":{\"id\":\"1024\"},\"x_range\":{\"id\":\"1002\"},\"x_scale\":{\"id\":\"1006\"},\"y_range\":{\"id\":\"1004\"},\"y_scale\":{\"id\":\"1008\"}},\"id\":\"1001\",\"subtype\":\"Figure\",\"type\":\"Plot\"},{\"attributes\":{\"data\":{\"x\":[78,177,316,317,455,668,918,1397,1598,1690,1696,1703,1802,1804,1811,1868,2443,2487,2529,2584,2876,2884,2942,3487,3491,3499,3719,3822,3838,3860,3876,3884,3889,3906,3909,3947,3952,3959,3973,4048,4068,4115,4121,4182,4183,4189,4282,4363,4526,4833,5089,5098,5303,5401,5531,5610,6008,6016,6030,6083,6264,6272,6312,6536,6650,6724,6773,6870,6874,6875,6891,6903,6907,6911,6918,6920,6922,6941,6949,6958,6960,6970,6979,6983,6984,6996,6999,7016,7017,7022,7026,7250,7445,7452,7562,7645,7719,7851,7883,7907,8193,8352,8643,8717,8725,8727,8729,8730,8734,8741,8872,8924,8935,8945,9130,9153,9173,9350,9372,9446,9661,9857,9866,9877,10167,10179,10208,10287,10300,10304,10419,10605,10706,10753,10756,10824,10895,10971,11096,11319,11342,11348,11367,11422,11444,11583,11686,11751,11767,11772,11782,11784,12083,12429,12559,12563,12625,12745,12877,12893,12934,13144,13170,13455,13524,13551,13597,13601,13603,13610,13618,13621,13699,13800,13801,13812,13814,13823,13844,13867,13945,14237,14296,14316,14547,14690,14769,14770,14779,14974,15276,15294,15335,15360,15369,15393,15542,15677,15813,15874,15941,15959,16132,16158,16170,16206,16369,16551,16578,16640,16653,16900,16925,16962,17025,17379,17397,17628,17636,17680,17681,17696,17712,17735,17761,17790,18271,18366,18388,18395,18408,18409,18647,18717,18724,18729,18778,18865,19148,19173,19183,19253,19311,19807,20208,20235,20236,20244,20250,20285,20420,20423,20424,20439,20531,20765,20928,21138,21195,21211,21259,21263,21266,21273,21274,21277,21278,21309,21313,21322,21325,21328,21345,21372,21377,21381,21421,21531,21654,21672,22106,22125,22146,22312,22321,22338,22400,22420,22453,22562,22924,22929,22992,23254,23288,23728,23737,23738,23740,23747,23755,23759,23760,23762,23765,23769,23777,23778,23807,23815,23823,23829,23900,23953,24041,24176,24237,24252,24438,24580,24589,24609,24635,24762,24769,24779,24871,24894,24980,24990,25051,25101,25139,25217,25415,25465,25761,25985,26247,26352,26511,26521,26554,26646,26697,26737,26858,26872,26916,26956,27040,27448,27449,27460,27483,27522,27529,27530,27667,27835,27836,27837,28215,28233,28234,28282,28369,28370,28372,28373,28374,28456,28457,28458,28459,28482,28485,28697,28702,28868,28869,29070,29088,29241,29250,29261,29266,29267,29290,29292,29347,29438,29521,29609,29610,29631,30154,30635,30668,30739,30758,30885,30925,30972,30992,31069,31520,31744,31807,31944,31989,32020,32021,32194,32236,32439,32488,32526,32830,32842,32874,32947,33086,33108,33143,33144,33146,33150,33151,33157,33160,33163,33169,33266,33273,33388,33389,33496,33548,33573,33690,33888,34036,34039,34046,34047,34048,34049,34051,34056,34073,34074,34075,34082,34083,34085,34089,34099,34100,34107,34108,34110,34111,34229,34307,34455,34582,34648,34649,34663,34809,34940,35151,35156,35476,35477,35478,35480,35481,35628,35778,35874,35889,35966,35967,35991,36264,36270,36283,36383,36492,36576,36602,36803,36888,36959,36961,37073,37077,37083,37309,37351,37354,37368,37369,37398,37615,37676,37798,37866,37955,38135,38448,38498,38589,38611,38792,38829,38835,38917,39221,39236,39259,39892,40127,40147,40172,40185,40239,40315,40446,40453,40454,40456,40457,40467,40472,40726,40741,40773,40789,41445,41589,41731,41761,41790,41820,41824,41825,41858,41864,41932,41933,41934,41935,41937,41939,41942,41943,41944,41945,41947,41960,41962,41963,41974,41976,41977,41980,41982,42341,42608,42753,42754,42800,42844,42848,42949,43111,43119,43127,43131,43139,43182,43221,43287,43323,43356,43372,43524,43685,43891,43929,44241,44275,44614,44748,44752,44754,44773,44778,44792,44934,45013,45034,45178,45450,45499,45505,45686,45695,45748,45764,45765,45774,45844,45864,45865,46042,46086,46148,46149,46150,46266,46473,46571,46715,46808,46919,46989,47377,47478,47494,47541,47832,47957,47962,48128,48486,48492,48531,48536,48967,49159,49199,49236,49609,49852,50316,50460,50500,50575,50713,50715,50724,50829,51154,51183,51199,51201,51205,51329,51337,51785,51825,51906,52260,52291,52530,52534,52544,52550,52552,52618,52708,52779,52780,52972,53325,53336,53342,53824,53833,53922,53929,54562,54572,54576,54587,54699,54789,54897,54963,54966,54987,55023,55249,55477,55479,55482,55483,55497,55508,55517,55519,55523,55636,55725,56349,56350,56364,56395,56919,56986,57090,57384,57505,57650,57917,58464,58471,58598,58618,58674,59014,59108,59110,59111,59182,59241,59245,59248,59608,59757,59758,59769,59774,59801,59815,59823,59917,60092,60283,60466,60779,60793,61698,61740,61895,62198,62209,62229,62230,62231,62235,62256,62259,62271,62276,62284,62721,62722,62948,63171,63414,63453,63610,63700,63736,63758,63857,64183,64222,64815,64870,65225,65706,65715,66249,66256,66762,66807,66820,67110,67464,67466,67485,67487,67500,67590,67778,68065,68187,68304,68754,68758,68773,68808,69033,69260,69282,69384,69589,69688,69812,70255,70614,70692,70731,71655,71915,71920,71986,72106,72809,72836,72979,73171,73304,73657,73668,73763,73779,73905,74251,74342,74396,74682,75051,76447,76892,77369,77380,77427,77448,77541,77836,78050,78472,78487,78554,78610,79777,80502,80695,80821,81007,81255,81569,82375,82408,82413,82725,83158,83680,83772,83789,83809,83926,84077,84162,84165,84356,84416,84426,84504,84517,84868,85279,86124,86132,86383,86764,87903,88231,88282,88955,90883,91512,91619,91913,92148,92187,92239,92284,92408,92646,92661,93571,94486,94560,94655,95143,95174,95190,95199,95306,95349,95456,95749,95796,96238,96246,97175,97278,97419,97425,97746,98091,99072,99191,99480,99587,99745,100253,100815,100865,100898,101354,101412,101420,101505,102179,102188,102197,102217,102228,102239,102248,102260,102273,102288,102297,102314,102319,102325,102335,102349,102368,102377,102388,102692,103204,103248,103931,104326,104377,104390,104412,104464,104488,104499,104515,104709,104719,104765,105080,105326,105328,105331,105698,105782,105788,105798,105801,105886,106100,106111,106849,106850,106938,106944,106948,106949,106950,106953,106954,106955,106963,106964,106972,106979,106986,106992,106996,106998,107001,107005,107010,107016,107022,107028,107034,107055,107057,107059,107088,107091,107095,107099,107102,107107,107110,107115,107118,107133,107137,107149,107162,107173,107178,107183,107188,107192,107196,107197,107202,107225,107233,107236,107269,107270,107311,107316,107328,107333,107345,107350,107383,107401,107416,107422,107428,107431,107450,107489,107493,107497,107513,107519,107537,107626,107686,107691,107700,107761,107766,107770,107777,107793,107794,107798,107803,108142,108143,108162,108733,109495,109496,109497,109563,110112,110113,110180,110492,110616,110633,111266,111368,111510,111514,112802,112803,112852,113310,113388,113400,113593,113829,113882,113886,114080,114237,114241,114296,116260,116280,116283,116883,117192,117211,117533,118327,119563,119565,119778,119784,119787,119830,119846,120124,120168,120181,120202,120302,121055],\"y\":{\"__ndarray__\":\"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\",\"dtype\":\"float64\",\"shape\":[1106]}},\"selected\":{\"id\":\"1045\"},\"selection_policy\":{\"id\":\"1046\"}},\"id\":\"1031\",\"type\":\"ColumnDataSource\"},{\"attributes\":{\"bottom_units\":\"screen\",\"fill_alpha\":0.5,\"fill_color\":\"lightgrey\",\"left_units\":\"screen\",\"level\":\"overlay\",\"line_alpha\":1.0,\"line_color\":\"black\",\"line_dash\":[4,4],\"line_width\":2,\"render_mode\":\"css\",\"right_units\":\"screen\",\"top_units\":\"screen\"},\"id\":\"1047\",\"type\":\"BoxAnnotation\"},{\"attributes\":{\"callback\":null,\"tooltips\":[[\"index\",\"$index\"],[\"(x,y)\",\"($x, $y)\"]]},\"id\":\"1036\",\"type\":\"HoverTool\"},{\"attributes\":{},\"id\":\"1045\",\"type\":\"Selection\"},{\"attributes\":{\"axis\":{\"id\":\"1010\"},\"ticker\":null},\"id\":\"1013\",\"type\":\"Grid\"},{\"attributes\":{},\"id\":\"1046\",\"type\":\"UnionRenderers\"},{\"attributes\":{\"formatter\":{\"id\":\"1042\"},\"ticker\":{\"id\":\"1015\"}},\"id\":\"1014\",\"type\":\"LinearAxis\"},{\"attributes\":{},\"id\":\"1015\",\"type\":\"BasicTicker\"},{\"attributes\":{\"active_drag\":\"auto\",\"active_inspect\":\"auto\",\"active_multi\":null,\"active_scroll\":\"auto\",\"active_tap\":\"auto\",\"tools\":[{\"id\":\"1018\"},{\"id\":\"1019\"},{\"id\":\"1020\"},{\"id\":\"1021\"},{\"id\":\"1022\"},{\"id\":\"1023\"},{\"id\":\"1036\"}]},\"id\":\"1024\",\"type\":\"Toolbar\"},{\"attributes\":{},\"id\":\"1044\",\"type\":\"BasicTickFormatter\"},{\"attributes\":{\"source\":{\"id\":\"1031\"}},\"id\":\"1035\",\"type\":\"CDSView\"},{\"attributes\":{\"axis\":{\"id\":\"1014\"},\"dimension\":1,\"ticker\":null},\"id\":\"1017\",\"type\":\"Grid\"},{\"attributes\":{\"data_source\":{\"id\":\"1031\"},\"glyph\":{\"id\":\"1032\"},\"hover_glyph\":null,\"muted_glyph\":null,\"nonselection_glyph\":{\"id\":\"1033\"},\"selection_glyph\":null,\"view\":{\"id\":\"1035\"}},\"id\":\"1034\",\"type\":\"GlyphRenderer\"},{\"attributes\":{\"fill_color\":{\"value\":\"#1f77b4\"},\"line_color\":{\"value\":\"#1f77b4\"},\"size\":{\"units\":\"screen\",\"value\":8},\"x\":{\"field\":\"x\"},\"y\":{\"field\":\"y\"}},\"id\":\"1032\",\"type\":\"Circle\"},{\"attributes\":{},\"id\":\"1002\",\"type\":\"DataRange1d\"},{\"attributes\":{},\"id\":\"1018\",\"type\":\"PanTool\"},{\"attributes\":{},\"id\":\"1008\",\"type\":\"LinearScale\"},{\"attributes\":{},\"id\":\"1019\",\"type\":\"WheelZoomTool\"},{\"attributes\":{\"overlay\":{\"id\":\"1047\"}},\"id\":\"1020\",\"type\":\"BoxZoomTool\"},{\"attributes\":{\"formatter\":{\"id\":\"1044\"},\"ticker\":{\"id\":\"1011\"}},\"id\":\"1010\",\"type\":\"LinearAxis\"},{\"attributes\":{},\"id\":\"1042\",\"type\":\"BasicTickFormatter\"},{\"attributes\":{},\"id\":\"1021\",\"type\":\"SaveTool\"},{\"attributes\":{\"fill_alpha\":{\"value\":0.1},\"fill_color\":{\"value\":\"#1f77b4\"},\"line_alpha\":{\"value\":0.1},\"line_color\":{\"value\":\"#1f77b4\"},\"size\":{\"units\":\"screen\",\"value\":8},\"x\":{\"field\":\"x\"},\"y\":{\"field\":\"y\"}},\"id\":\"1033\",\"type\":\"Circle\"},{\"attributes\":{},\"id\":\"1006\",\"type\":\"LinearScale\"},{\"attributes\":{\"text\":\"\"},\"id\":\"1040\",\"type\":\"Title\"},{\"attributes\":{},\"id\":\"1023\",\"type\":\"HelpTool\"},{\"attributes\":{},\"id\":\"1004\",\"type\":\"DataRange1d\"},{\"attributes\":{},\"id\":\"1022\",\"type\":\"ResetTool\"},{\"attributes\":{},\"id\":\"1011\",\"type\":\"BasicTicker\"}],\"root_ids\":[\"1001\"]},\"title\":\"Bokeh Application\",\"version\":\"2.0.0\"}};\n",
       "  var render_items = [{\"docid\":\"3238d7cb-1810-4591-a9c5-e85e42502747\",\"root_ids\":[\"1001\"],\"roots\":{\"1001\":\"9f30d1e1-5bbf-4a3e-811f-217440c37281\"}}];\n",
       "  root.Bokeh.embed.embed_items_notebook(docs_json, render_items);\n",
       "\n",
       "  }\n",
       "  if (root.Bokeh !== undefined) {\n",
       "    embed_document(root);\n",
       "  } else {\n",
       "    var attempts = 0;\n",
       "    var timer = setInterval(function(root) {\n",
       "      if (root.Bokeh !== undefined) {\n",
       "        clearInterval(timer);\n",
       "        embed_document(root);\n",
       "      } else {\n",
       "        attempts++;\n",
       "        if (attempts > 100) {\n",
       "          clearInterval(timer);\n",
       "          console.log(\"Bokeh: ERROR: Unable to run BokehJS code because BokehJS library is missing\");\n",
       "        }\n",
       "      }\n",
       "    }, 10, root)\n",
       "  }\n",
       "})(window);"
      ],
      "application/vnd.bokehjs_exec.v0+json": ""
     },
     "metadata": {
      "application/vnd.bokehjs_exec.v0+json": {
       "id": "1001"
      }
     },
     "output_type": "display_data"
    }
   ],
   "source": [
    "from bokeh.plotting import figure, output_notebook, show\n",
    "from bokeh.models import HoverTool\n",
    "\n",
    "p = figure(plot_width=600, plot_height=400)\n",
    "p.circle(x=resta_sups_wrong.index, y=resta_sups_wrong.values, size=8)\n",
    "\n",
    "hover = HoverTool(tooltips=[(\"index\", \"$index\"), (\"(x,y)\", \"($x, $y)\")])\n",
    "\n",
    "p.add_tools(hover)\n",
    "output_notebook()\n",
    "show(p)"
   ]
  },
  {
   "cell_type": "code",
   "execution_count": 40,
   "metadata": {},
   "outputs": [
    {
     "name": "stdout",
     "output_type": "stream",
     "text": [
      "78                                                                                                                                                                                                                                                                                                                                                                                                                                                                                                                                                                                                                                                                   S/AVDA   COSTANERA ,  NUEVA  ZONA GASTRONOMICA  FRENTE AL BALNEARIO EL BRETE. IDEAL VIVIENDA  FLIAR. MAS EMPRENDIMIENTO  COMERCIAL  APTO RESTAURANTE Y PARRILLA. PLANTA ALTA 3 DORM (1 EN SUITE)  PATIO FRENTE Y FONDO, $  5. 500.000.- SE RECIBE  INMUEBLE A CUENTA. TERRENO 24.14 x 10.78. CUENTA CON BAÑO PARA DISCAPACITADO, Y HABILITACION PARA COMERCIO GASTRONOMICO.\n",
      "12559                                                                                                                                                                                                                                                                                                                                                                                                                                                                                                                      UBICACION:Excelente ubicaciÃ³n en zona residencial de Vicente Lopez. A solo 3 cuadras de la EstaciÃ³n del FFCC Mitre y a 4 de Av. Del Libertador.PROPIEDAD:Casa solida de estilo racionalista de 301 mts construidos sobre un lote de 271 mts. Desarrollada sobre una barranca. Amplio living-comedor, muy luminoso. Cocina. Lavadero separado. Desde el living-comedor se puede salir a un lindisimo deck con parrilla. 4 dormitorios con dependencia, el cuarto principal es en suite.Espacio para guardar un auto.\n",
      "34455                                                                                                                                                                                                                                                       Construido sobre la primer linea de Playa, En la zona sur de Villa Gesell, a pocos metros del mar, Hermoso complejo de Departamentos Y dependencia de Alta Gama.Son 16 unidades, de 2 ambientes y 8 de 3 ambientes, mas Monoambientes.Todos cuentan con parrilla individual y terrazas propias con vista al mar.Los dptos cuentan con espacios interiores  de amplias dimensiones y doble modulo vidriado al mar , cocina completa , desayunador y living.Dormitorios se disponen en la fachada posterior.A las unidades se accede por los ascensores , desde la cochera directamente.SUM- PISCINA - SISTEMA DE CABLE- INTERNET- SEGURIDAD Y RECEPCION.Servicios del complejo: DESAYUNO, SERVICIO DE MUCAMA-SAUNA SECO , HUMEDO , DUCHA ESCOCESA , MASAJES .Consultas: 47-5001 - 47-\n",
      "37354                                                                                                                                                                                                                                                                                                                                                                                                                                                                                                                                          Chalet en muy buen estado. P.B.: Hall de entrada. Amplio Living-comedor c/hogar c/pisos de pinotea. Escritorio. Doble circulaciÃ³n. Toillette. Cocina-comedor diario. Lavadero separado. P.A.: 3 Dormitorios. 2 de ellos c/placard con baÃ±o en semi-suite compartimentado. El principal en suite c/vestidor y balcÃ³n a la calle. Tercer Nivel: Amplio Playroom con baÃ±o.JardÃ­n con pileta. Quincho con parrilla.Garage para un auto cubierto y otro descubierto.CalefacciÃ³n x losa radiante.\n",
      "45505                                                                                                                                                                                                                                                                                                                                                                                                                                                                                                                                         CODIGO: 031 ubicado en: CAPDEVILLA 780 -  Publicado por: BARDI NEGOCIOS INMOBILIARIOS. El precio es de USD 170000 null. CHALET EN DOS PLANTAS. MUY LUMINOSO. PLANTA BAJA, LIVING COMEDOR, COCINA CON MUEBLES SOBRE Y BAJO MESADA, COMEDOR DIARIO, TOILETTE, LAVADERO,   GARAJE CUBIERTO PARA DOS AUTOS. JARDIN, CONSTRUCCION EN EL FONDO VARIOS DESTINOS (QUINCHO/ TALLER/ GARAJE)  PLANTA ALTA, CUATRO DORMITORIOS CON PISOS DE PAQUET, BAÑO COMPLETO, TERRAZA.  . Publicado a través de Mapaprop\n",
      "28456    CODIGO:  ubicado en: Espacio las Cavas -  Publicado por: VELAZQUEZ MANN PROPIEDADES. El precio es de USD 117100 null. Departamento en Venta en el nuevo complejo ESPACIO LAS CAVAS, ubicado en Champagnat y Montes de Oca, a la altura de la entrada de Saint Thomas Country Club. La Unidad es de  2 ambientes, de 46,26 m2, ubicado en PB con jardín de 14,62 m2, con cochera.  Emplazado en una zona de arboledas y quintas. El complejo está compuesto por 40 departamentos sobre un terreno de 6.400 m2. • ESPACIO LAS CAVAS se desarrolla en 4 bloques de dos plantas cada uno. • BLOQUE 1 Y 2 son gemelos, se desarrollan en dos plantas con una superficie total de 650 metros cuadrados cada bloque configurados con dos departamentos de 3 ambientes y dos de dos ambientes por planta. Son en total 16 unidades funcionales entre los dos Bloques • BLOQUE 3 se desarrolla en dos plantas de 1400 metros totales conteniendo 8 departamentos de 2 ambientes y 2 departamentos de 3 ambientes arrojando un total de 10 uni...\n",
      "Name: description, dtype: object\n"
     ]
    }
   ],
   "source": [
    "# Para leer mejor los datos:\n",
    "pd.options.display.max_colwidth = 1000\n",
    "\n",
    "# [0,154,465,502, 608,371,837,897,890,1090,814]\n",
    "watching = [0,154,465,502, 608,371]\n",
    "print(data.loc[mask_size_surfaces].iloc[watching].description)"
   ]
  },
  {
   "cell_type": "code",
   "execution_count": 41,
   "metadata": {},
   "outputs": [
    {
     "data": {
      "text/html": [
       "<div>\n",
       "<style scoped>\n",
       "    .dataframe tbody tr th:only-of-type {\n",
       "        vertical-align: middle;\n",
       "    }\n",
       "\n",
       "    .dataframe tbody tr th {\n",
       "        vertical-align: top;\n",
       "    }\n",
       "\n",
       "    .dataframe thead th {\n",
       "        text-align: right;\n",
       "    }\n",
       "</style>\n",
       "<table border=\"1\" class=\"dataframe\">\n",
       "  <thead>\n",
       "    <tr style=\"text-align: right;\">\n",
       "      <th></th>\n",
       "      <th>property_type</th>\n",
       "      <th>place_name</th>\n",
       "      <th>place_with_parent_names</th>\n",
       "      <th>state_name</th>\n",
       "      <th>price</th>\n",
       "      <th>currency</th>\n",
       "      <th>price_aprox_local_currency</th>\n",
       "      <th>price_aprox_usd</th>\n",
       "      <th>surface_total_in_m2</th>\n",
       "      <th>surface_covered_in_m2</th>\n",
       "      <th>price_usd_per_m2</th>\n",
       "      <th>price_per_m2</th>\n",
       "      <th>rooms</th>\n",
       "      <th>description</th>\n",
       "      <th>title</th>\n",
       "      <th>price_USD</th>\n",
       "      <th>superficie_TOTAL</th>\n",
       "      <th>superficie_CUBIERTA</th>\n",
       "    </tr>\n",
       "  </thead>\n",
       "  <tbody>\n",
       "    <tr>\n",
       "      <th>78</th>\n",
       "      <td>house</td>\n",
       "      <td>Posadas</td>\n",
       "      <td>|Argentina|Misiones|Posadas|</td>\n",
       "      <td>Misiones</td>\n",
       "      <td>5500000.0</td>\n",
       "      <td>ARS</td>\n",
       "      <td>5442626.35</td>\n",
       "      <td>308460.22</td>\n",
       "      <td>261.0</td>\n",
       "      <td>18615.0</td>\n",
       "      <td>1181.839923</td>\n",
       "      <td>295.460650</td>\n",
       "      <td>5.0</td>\n",
       "      <td>S/AVDA   COSTANERA ,  NUEVA  ZONA GA...</td>\n",
       "      <td>Oportunidad! Casa zona Bahía el Brete</td>\n",
       "      <td>308460.0</td>\n",
       "      <td>NaN</td>\n",
       "      <td>NaN</td>\n",
       "    </tr>\n",
       "    <tr>\n",
       "      <th>12559</th>\n",
       "      <td>house</td>\n",
       "      <td>Vicente López</td>\n",
       "      <td>|Argentina|Bs.As. G.B.A. Zona Norte|...</td>\n",
       "      <td>Bs.As. G.B.A. Zona Norte</td>\n",
       "      <td>620000.0</td>\n",
       "      <td>USD</td>\n",
       "      <td>10939590.00</td>\n",
       "      <td>620000.00</td>\n",
       "      <td>270.0</td>\n",
       "      <td>301.0</td>\n",
       "      <td>2296.296296</td>\n",
       "      <td>2059.800664</td>\n",
       "      <td>NaN</td>\n",
       "      <td>UBICACION:Excelente ubicaciÃ³n en zo...</td>\n",
       "      <td>Casa 270m² con Teléfono en Madero, D...</td>\n",
       "      <td>620000.0</td>\n",
       "      <td>NaN</td>\n",
       "      <td>NaN</td>\n",
       "    </tr>\n",
       "    <tr>\n",
       "      <th>34455</th>\n",
       "      <td>apartment</td>\n",
       "      <td>Villa Gesell</td>\n",
       "      <td>|Argentina|Buenos Aires Costa Atlánt...</td>\n",
       "      <td>Buenos Aires Costa Atlántica</td>\n",
       "      <td>130000.0</td>\n",
       "      <td>USD</td>\n",
       "      <td>2293785.00</td>\n",
       "      <td>130000.00</td>\n",
       "      <td>55.0</td>\n",
       "      <td>66.0</td>\n",
       "      <td>2363.636364</td>\n",
       "      <td>1969.696970</td>\n",
       "      <td>2.0</td>\n",
       "      <td>Construido sobre la primer linea de ...</td>\n",
       "      <td>Venta  Dpto Frente al mar  en Comple...</td>\n",
       "      <td>130000.0</td>\n",
       "      <td>NaN</td>\n",
       "      <td>NaN</td>\n",
       "    </tr>\n",
       "    <tr>\n",
       "      <th>37354</th>\n",
       "      <td>house</td>\n",
       "      <td>Martínez</td>\n",
       "      <td>|Argentina|Bs.As. G.B.A. Zona Norte|...</td>\n",
       "      <td>Bs.As. G.B.A. Zona Norte</td>\n",
       "      <td>400000.0</td>\n",
       "      <td>USD</td>\n",
       "      <td>7057800.00</td>\n",
       "      <td>400000.00</td>\n",
       "      <td>226.0</td>\n",
       "      <td>230.0</td>\n",
       "      <td>1769.911504</td>\n",
       "      <td>1739.130435</td>\n",
       "      <td>NaN</td>\n",
       "      <td>Chalet en muy buen estado. P.B.: Hal...</td>\n",
       "      <td>Casa 226m² con 3 Plantas en Edison, ...</td>\n",
       "      <td>400000.0</td>\n",
       "      <td>NaN</td>\n",
       "      <td>NaN</td>\n",
       "    </tr>\n",
       "    <tr>\n",
       "      <th>45505</th>\n",
       "      <td>house</td>\n",
       "      <td>Banfield</td>\n",
       "      <td>|Argentina|Bs.As. G.B.A. Zona Sur|Lo...</td>\n",
       "      <td>Bs.As. G.B.A. Zona Sur</td>\n",
       "      <td>170000.0</td>\n",
       "      <td>USD</td>\n",
       "      <td>2999565.00</td>\n",
       "      <td>170000.00</td>\n",
       "      <td>165.0</td>\n",
       "      <td>223.0</td>\n",
       "      <td>1030.303030</td>\n",
       "      <td>762.331839</td>\n",
       "      <td>NaN</td>\n",
       "      <td>CODIGO: 031 ubicado en: CAPDEVILLA 7...</td>\n",
       "      <td>CHALET EN DOS PLANTAS EN BANFIELD</td>\n",
       "      <td>170000.0</td>\n",
       "      <td>NaN</td>\n",
       "      <td>NaN</td>\n",
       "    </tr>\n",
       "    <tr>\n",
       "      <th>28456</th>\n",
       "      <td>apartment</td>\n",
       "      <td>Canning</td>\n",
       "      <td>|Argentina|Bs.As. G.B.A. Zona Sur|Es...</td>\n",
       "      <td>Bs.As. G.B.A. Zona Sur</td>\n",
       "      <td>117100.0</td>\n",
       "      <td>USD</td>\n",
       "      <td>2066170.95</td>\n",
       "      <td>117100.00</td>\n",
       "      <td>14.0</td>\n",
       "      <td>46.0</td>\n",
       "      <td>8364.285714</td>\n",
       "      <td>2545.652174</td>\n",
       "      <td>NaN</td>\n",
       "      <td>CODIGO:  ubicado en: Espacio las Cav...</td>\n",
       "      <td>Departamento en venta en Espacio Las...</td>\n",
       "      <td>117100.0</td>\n",
       "      <td>NaN</td>\n",
       "      <td>NaN</td>\n",
       "    </tr>\n",
       "  </tbody>\n",
       "</table>\n",
       "</div>"
      ],
      "text/plain": [
       "      property_type     place_name                  place_with_parent_names  \\\n",
       "78            house        Posadas             |Argentina|Misiones|Posadas|   \n",
       "12559         house  Vicente López  |Argentina|Bs.As. G.B.A. Zona Norte|...   \n",
       "34455     apartment   Villa Gesell  |Argentina|Buenos Aires Costa Atlánt...   \n",
       "37354         house       Martínez  |Argentina|Bs.As. G.B.A. Zona Norte|...   \n",
       "45505         house       Banfield  |Argentina|Bs.As. G.B.A. Zona Sur|Lo...   \n",
       "28456     apartment        Canning  |Argentina|Bs.As. G.B.A. Zona Sur|Es...   \n",
       "\n",
       "                         state_name      price currency  \\\n",
       "78                         Misiones  5500000.0      ARS   \n",
       "12559      Bs.As. G.B.A. Zona Norte   620000.0      USD   \n",
       "34455  Buenos Aires Costa Atlántica   130000.0      USD   \n",
       "37354      Bs.As. G.B.A. Zona Norte   400000.0      USD   \n",
       "45505        Bs.As. G.B.A. Zona Sur   170000.0      USD   \n",
       "28456        Bs.As. G.B.A. Zona Sur   117100.0      USD   \n",
       "\n",
       "       price_aprox_local_currency  price_aprox_usd  surface_total_in_m2  \\\n",
       "78                     5442626.35        308460.22                261.0   \n",
       "12559                 10939590.00        620000.00                270.0   \n",
       "34455                  2293785.00        130000.00                 55.0   \n",
       "37354                  7057800.00        400000.00                226.0   \n",
       "45505                  2999565.00        170000.00                165.0   \n",
       "28456                  2066170.95        117100.00                 14.0   \n",
       "\n",
       "       surface_covered_in_m2  price_usd_per_m2  price_per_m2  rooms  \\\n",
       "78                   18615.0       1181.839923    295.460650    5.0   \n",
       "12559                  301.0       2296.296296   2059.800664    NaN   \n",
       "34455                   66.0       2363.636364   1969.696970    2.0   \n",
       "37354                  230.0       1769.911504   1739.130435    NaN   \n",
       "45505                  223.0       1030.303030    762.331839    NaN   \n",
       "28456                   46.0       8364.285714   2545.652174    NaN   \n",
       "\n",
       "                                   description  \\\n",
       "78     S/AVDA   COSTANERA ,  NUEVA  ZONA GA...   \n",
       "12559  UBICACION:Excelente ubicaciÃ³n en zo...   \n",
       "34455  Construido sobre la primer linea de ...   \n",
       "37354  Chalet en muy buen estado. P.B.: Hal...   \n",
       "45505  CODIGO: 031 ubicado en: CAPDEVILLA 7...   \n",
       "28456  CODIGO:  ubicado en: Espacio las Cav...   \n",
       "\n",
       "                                         title  price_USD  superficie_TOTAL  \\\n",
       "78       Oportunidad! Casa zona Bahía el Brete   308460.0               NaN   \n",
       "12559  Casa 270m² con Teléfono en Madero, D...   620000.0               NaN   \n",
       "34455  Venta  Dpto Frente al mar  en Comple...   130000.0               NaN   \n",
       "37354  Casa 226m² con 3 Plantas en Edison, ...   400000.0               NaN   \n",
       "45505        CHALET EN DOS PLANTAS EN BANFIELD   170000.0               NaN   \n",
       "28456  Departamento en venta en Espacio Las...   117100.0               NaN   \n",
       "\n",
       "       superficie_CUBIERTA  \n",
       "78                     NaN  \n",
       "12559                  NaN  \n",
       "34455                  NaN  \n",
       "37354                  NaN  \n",
       "45505                  NaN  \n",
       "28456                  NaN  "
      ]
     },
     "execution_count": 41,
     "metadata": {},
     "output_type": "execute_result"
    }
   ],
   "source": [
    "# Vuelvoa configurar el valor default:\n",
    "pd.options.display.max_colwidth = 40\n",
    "data.loc[mask_size_surfaces].iloc[watching]"
   ]
  },
  {
   "cell_type": "markdown",
   "metadata": {},
   "source": [
    "Vemos que se podría sacar información de `description`, pero queda fuera del alacance de este trabajo."
   ]
  },
  {
   "cell_type": "markdown",
   "metadata": {},
   "source": [
    "## Análisis de \"Precio por Superficie\" en USD/m2\n",
    "\n",
    "Vamos a ver qué relación hay entre las columas de precio, superficies y precios por superfice."
   ]
  },
  {
   "cell_type": "code",
   "execution_count": 42,
   "metadata": {},
   "outputs": [
    {
     "data": {
      "text/html": [
       "<div>\n",
       "<style scoped>\n",
       "    .dataframe tbody tr th:only-of-type {\n",
       "        vertical-align: middle;\n",
       "    }\n",
       "\n",
       "    .dataframe tbody tr th {\n",
       "        vertical-align: top;\n",
       "    }\n",
       "\n",
       "    .dataframe thead th {\n",
       "        text-align: right;\n",
       "    }\n",
       "</style>\n",
       "<table border=\"1\" class=\"dataframe\">\n",
       "  <thead>\n",
       "    <tr style=\"text-align: right;\">\n",
       "      <th></th>\n",
       "      <th>property_type</th>\n",
       "      <th>place_name</th>\n",
       "      <th>place_with_parent_names</th>\n",
       "      <th>state_name</th>\n",
       "      <th>price</th>\n",
       "      <th>currency</th>\n",
       "      <th>price_aprox_local_currency</th>\n",
       "      <th>price_aprox_usd</th>\n",
       "      <th>surface_total_in_m2</th>\n",
       "      <th>surface_covered_in_m2</th>\n",
       "      <th>price_usd_per_m2</th>\n",
       "      <th>price_per_m2</th>\n",
       "      <th>rooms</th>\n",
       "      <th>description</th>\n",
       "      <th>title</th>\n",
       "      <th>price_USD</th>\n",
       "      <th>superficie_TOTAL</th>\n",
       "      <th>superficie_CUBIERTA</th>\n",
       "    </tr>\n",
       "  </thead>\n",
       "  <tbody>\n",
       "    <tr>\n",
       "      <th>0</th>\n",
       "      <td>PH</td>\n",
       "      <td>Mataderos</td>\n",
       "      <td>|Argentina|Capital Federal|Mataderos|</td>\n",
       "      <td>Capital Federal</td>\n",
       "      <td>62000.0</td>\n",
       "      <td>USD</td>\n",
       "      <td>1093959.0</td>\n",
       "      <td>62000.0</td>\n",
       "      <td>55.0</td>\n",
       "      <td>40.0</td>\n",
       "      <td>1127.272727</td>\n",
       "      <td>1550.0</td>\n",
       "      <td>NaN</td>\n",
       "      <td>2 AMBIENTES TIPO CASA PLANTA BAJA PO...</td>\n",
       "      <td>2 AMB TIPO CASA SIN EXPENSAS EN PB</td>\n",
       "      <td>62000.0</td>\n",
       "      <td>55.0</td>\n",
       "      <td>40.0</td>\n",
       "    </tr>\n",
       "  </tbody>\n",
       "</table>\n",
       "</div>"
      ],
      "text/plain": [
       "  property_type place_name                place_with_parent_names  \\\n",
       "0            PH  Mataderos  |Argentina|Capital Federal|Mataderos|   \n",
       "\n",
       "        state_name    price currency  price_aprox_local_currency  \\\n",
       "0  Capital Federal  62000.0      USD                   1093959.0   \n",
       "\n",
       "   price_aprox_usd  surface_total_in_m2  surface_covered_in_m2  \\\n",
       "0          62000.0                 55.0                   40.0   \n",
       "\n",
       "   price_usd_per_m2  price_per_m2  rooms  \\\n",
       "0       1127.272727        1550.0    NaN   \n",
       "\n",
       "                               description  \\\n",
       "0  2 AMBIENTES TIPO CASA PLANTA BAJA PO...   \n",
       "\n",
       "                                title  price_USD  superficie_TOTAL  \\\n",
       "0  2 AMB TIPO CASA SIN EXPENSAS EN PB    62000.0              55.0   \n",
       "\n",
       "   superficie_CUBIERTA  \n",
       "0                 40.0  "
      ]
     },
     "execution_count": 42,
     "metadata": {},
     "output_type": "execute_result"
    }
   ],
   "source": [
    "data.head(1)"
   ]
  },
  {
   "cell_type": "markdown",
   "metadata": {},
   "source": [
    "Pareciera que:\n",
    "- \"price_usd_per_m2\" es \"price\" / \"surface_total_in_m2\"\n",
    "- \"price_per_m2\" es \"price\" / \"surface_covered_in_m2\"\n",
    "\n",
    "Vamos a verificarlo."
   ]
  },
  {
   "cell_type": "code",
   "execution_count": 43,
   "metadata": {},
   "outputs": [
    {
     "name": "stdout",
     "output_type": "stream",
     "text": [
      "Datos: 68866\n",
      "Datos: 87660\n"
     ]
    }
   ],
   "source": [
    "# precios del m2 estimados:\n",
    "serie_price_usd_per_m2_estimada = (data[\"price\"] / data[\"surface_total_in_m2\"]).round(2)\n",
    "serie_price_per_m2_estimada = (data[\"price\"] / data[\"surface_covered_in_m2\"]).round(2)\n",
    "\n",
    "print('Datos: '+str(serie_price_usd_per_m2_estimada.notnull().sum()))\n",
    "print('Datos: '+str(serie_price_per_m2_estimada.notnull().sum()))"
   ]
  },
  {
   "cell_type": "code",
   "execution_count": 44,
   "metadata": {},
   "outputs": [],
   "source": [
    "mask_usd = data[\"currency\"] == 'USD'\n",
    "\n",
    "#Redefino mi serie en base a la moneda:\n",
    "serie_price_usd_per_m2_estimada.loc[mask_usd] = (data.loc[mask_usd,\"price\"] / data.loc[mask_usd,\"surface_total_in_m2\"]).round(2)\n",
    "serie_price_usd_per_m2_estimada.loc[np.logical_not(mask_usd)] = (data.loc[np.logical_not(mask_usd),\"price\"] / data.loc[np.logical_not(mask_usd),\"surface_total_in_m2\"]/17.8305).round(2)"
   ]
  },
  {
   "cell_type": "code",
   "execution_count": 45,
   "metadata": {},
   "outputs": [
    {
     "data": {
      "text/plain": [
       "1.0000168248199743"
      ]
     },
     "execution_count": 45,
     "metadata": {},
     "output_type": "execute_result"
    }
   ],
   "source": [
    "# Calculo la relación para la serie:\n",
    "dif_price_usd_per_m2_estimada = (serie_price_usd_per_m2_estimada / data[\"price_usd_per_m2\"].round(2))\n",
    "dif_price_usd_per_m2_estimada.max()"
   ]
  },
  {
   "cell_type": "code",
   "execution_count": 46,
   "metadata": {},
   "outputs": [
    {
     "data": {
      "text/plain": [
       "<matplotlib.collections.PathCollection at 0x1dc2715ad08>"
      ]
     },
     "execution_count": 46,
     "metadata": {},
     "output_type": "execute_result"
    },
    {
     "data": {
      "image/png": "[encoded data removed]",
      "text/plain": [
       "<Figure size 432x288 with 1 Axes>"
      ]
     },
     "metadata": {
      "needs_background": "light"
     },
     "output_type": "display_data"
    }
   ],
   "source": [
    "# Hago el gráfico de la primera serie:\n",
    "fig = plt.figure()\n",
    "# creo los axes\n",
    "ax = plt.axes()\n",
    "# dibujo en axes:\n",
    "ax.scatter(dif_price_usd_per_m2_estimada.index, dif_price_usd_per_m2_estimada.values, marker = 'o', color = \"green\", label='serie sin', alpha = 0.4)"
   ]
  },
  {
   "cell_type": "code",
   "execution_count": 47,
   "metadata": {},
   "outputs": [
    {
     "data": {
      "text/plain": [
       "1.0"
      ]
     },
     "execution_count": 47,
     "metadata": {},
     "output_type": "execute_result"
    }
   ],
   "source": [
    "# Calculo la relación para la otra serie:\n",
    "dif_price_per_m2_estimada = serie_price_per_m2_estimada / data[\"price_per_m2\"].round(2)\n",
    "dif_price_per_m2_estimada.min()"
   ]
  },
  {
   "cell_type": "code",
   "execution_count": 48,
   "metadata": {},
   "outputs": [
    {
     "data": {
      "text/plain": [
       "<matplotlib.collections.PathCollection at 0x1dc273c0c48>"
      ]
     },
     "execution_count": 48,
     "metadata": {},
     "output_type": "execute_result"
    },
    {
     "data": {
      "image/png": "[encoded data removed]",
      "text/plain": [
       "<Figure size 432x288 with 1 Axes>"
      ]
     },
     "metadata": {
      "needs_background": "light"
     },
     "output_type": "display_data"
    }
   ],
   "source": [
    "# Hago el gráfico de la segunda serie:\n",
    "fig = plt.figure()\n",
    "# creo los axes\n",
    "ax = plt.axes()\n",
    "# dibujo en axes:\n",
    "ax.scatter(dif_price_per_m2_estimada.index, dif_price_per_m2_estimada.values, marker = 'o', color = \"green\", label='serie sin', alpha = 0.4)"
   ]
  },
  {
   "cell_type": "markdown",
   "metadata": {},
   "source": [
    "Entonces:\n",
    "- Para el caso de \"price_per_m2\": se divide la columna \"\"price\", sin importar las unidades, con la columna \"surface_covered_in_m2\".\n",
    "- Para el caso de \"price_usd_per_m2\": se divide la columna \"\"price\", corregido por currency, con la columna \"surface_total_in_m2\"."
   ]
  },
  {
   "cell_type": "markdown",
   "metadata": {},
   "source": [
    "Vamos a generar una nueva columna con los precios en dolares dividido la superficie total y los precios en dolares dividido la superficie cubierta. A diferencia de las originales, estas sí serán representativas: todas en dolares y teniendo en cuenta el tipo de superficie correcto, usando las nuevas columnas de datos."
   ]
  },
  {
   "cell_type": "code",
   "execution_count": 49,
   "metadata": {},
   "outputs": [],
   "source": [
    "data['precio_por_superficie_TOTAL'] = data['price_USD']/data['superficie_TOTAL']\n",
    "data['precio_por_superficie_CUBIERTA'] = data['price_USD']/data['superficie_CUBIERTA']"
   ]
  },
  {
   "cell_type": "markdown",
   "metadata": {},
   "source": [
    "Vemos con cuantos nulls y tamaño quedó nuestro DF"
   ]
  },
  {
   "cell_type": "code",
   "execution_count": 50,
   "metadata": {},
   "outputs": [
    {
     "name": "stdout",
     "output_type": "stream",
     "text": [
      "property_type                     0.000000\n",
      "place_name                        0.000190\n",
      "place_with_parent_names           0.000000\n",
      "state_name                        0.000000\n",
      "price                             0.168377\n",
      "currency                          0.168377\n",
      "price_aprox_local_currency        0.168377\n",
      "price_aprox_usd                   0.168377\n",
      "surface_total_in_m2               0.324413\n",
      "surface_covered_in_m2             0.164194\n",
      "price_usd_per_m2                  0.433928\n",
      "price_per_m2                      0.276845\n",
      "rooms                             0.609053\n",
      "description                       0.000016\n",
      "title                             0.000000\n",
      "price_USD                         0.168377\n",
      "superficie_TOTAL                  0.333537\n",
      "superficie_CUBIERTA               0.173319\n",
      "precio_por_superficie_TOTAL       0.439934\n",
      "precio_por_superficie_CUBIERTA    0.284888\n",
      "dtype: float64\n",
      "121216\n"
     ]
    }
   ],
   "source": [
    "print(data.isnull().sum()/data.shape[0])\n",
    "print(data.shape[0])"
   ]
  },
  {
   "cell_type": "markdown",
   "metadata": {},
   "source": [
    "Veamos si hay registros con superficies definidas pero no con datos de precios y viceversa."
   ]
  },
  {
   "cell_type": "code",
   "execution_count": 51,
   "metadata": {},
   "outputs": [
    {
     "name": "stdout",
     "output_type": "stream",
     "text": [
      "Datos con precios pero sin superficie total: 32917\n",
      "Datos con precios pero sin superficie cubierta: 14123\n",
      "Datos sin precios pero con superficie total: 12897\n",
      "Datos sin precios pero con superficie cubierta: 13524\n",
      "Datos SIN precios: 20410\n"
     ]
    }
   ],
   "source": [
    "mask_prices = data.price_USD.isnull()\n",
    "mask_surface_total = data.superficie_TOTAL.isnull()\n",
    "mask_surface_cubierta = data.superficie_CUBIERTA.isnull()\n",
    "\n",
    "print(\"Datos con precios pero sin superficie total: \" + str(np.logical_and(np.logical_not(mask_prices),mask_surface_total).sum()))\n",
    "print(\"Datos con precios pero sin superficie cubierta: \" + str(np.logical_and(np.logical_not(mask_prices),mask_surface_cubierta).sum()))\n",
    "print(\"Datos sin precios pero con superficie total: \" + str(np.logical_and(np.logical_not(mask_surface_total),mask_prices).sum()))\n",
    "print(\"Datos sin precios pero con superficie cubierta: \" + str(np.logical_and(np.logical_not(mask_surface_cubierta),mask_prices).sum()))\n",
    "print(\"Datos SIN precios: \" + str(mask_prices.sum()))"
   ]
  },
  {
   "cell_type": "code",
   "execution_count": null,
   "metadata": {},
   "outputs": [],
   "source": []
  },
  {
   "cell_type": "markdown",
   "metadata": {},
   "source": [
    "Elimino registros que NO tienen precio."
   ]
  },
  {
   "cell_type": "code",
   "execution_count": 52,
   "metadata": {},
   "outputs": [
    {
     "name": "stdout",
     "output_type": "stream",
     "text": [
      "Cantidad de elementos a eliminar:20410\n"
     ]
    },
    {
     "data": {
      "text/plain": [
       "Int64Index([     5,     20,     41,     62,     67,     76,     83,     84,\n",
       "                85,    100,\n",
       "            ...\n",
       "            121127, 121129, 121142, 121207, 121208, 121210, 121211, 121212,\n",
       "            121213, 121214],\n",
       "           dtype='int64', length=20410)"
      ]
     },
     "execution_count": 52,
     "metadata": {},
     "output_type": "execute_result"
    }
   ],
   "source": [
    "# Busco los índices:\n",
    "mask_NaN_prices = np.logical_and(np.logical_and(data.price.isnull(),data.currency.isnull()),np.logical_and(data.price_aprox_local_currency.isnull(),data.price_aprox_usd.isnull()))\n",
    "print('Cantidad de elementos a eliminar:' + str(mask_NaN_prices.sum()))\n",
    "inds_prices = data.loc[mask_NaN_prices].index\n",
    "inds_prices"
   ]
  },
  {
   "cell_type": "code",
   "execution_count": 53,
   "metadata": {},
   "outputs": [
    {
     "name": "stdout",
     "output_type": "stream",
     "text": [
      "121216\n",
      "100806\n"
     ]
    }
   ],
   "source": [
    "data_clean_prices = data.drop(index = inds_prices)\n",
    "                           \n",
    "print(data.shape[0])\n",
    "print(data_clean_prices.shape[0])"
   ]
  },
  {
   "cell_type": "markdown",
   "metadata": {},
   "source": [
    "Elimino registros que NO tienen NINGÚN dato de superficies: o son NaN o 0.0 o sus combinaciones, ambas al mismo tiempo.\n",
    "Puedo tener dato definido en la total, o en la cubierta o en los dos."
   ]
  },
  {
   "cell_type": "code",
   "execution_count": 54,
   "metadata": {},
   "outputs": [
    {
     "name": "stdout",
     "output_type": "stream",
     "text": [
      "Cantidad de elementos a eliminar:8858\n"
     ]
    },
    {
     "data": {
      "text/plain": [
       "Int64Index([     1,      3,      9,     11,     65,     70,     71,     72,\n",
       "                78,     88,\n",
       "            ...\n",
       "            120979, 121055, 121062, 121069, 121070, 121079, 121101, 121133,\n",
       "            121134, 121144],\n",
       "           dtype='int64', length=8858)"
      ]
     },
     "execution_count": 54,
     "metadata": {},
     "output_type": "execute_result"
    }
   ],
   "source": [
    "mask_NaN_ceros_surfaces = np.logical_and(np.logical_or(data_clean_prices.superficie_TOTAL.isnull(), data_clean_prices.superficie_TOTAL == 0), np.logical_or(data_clean_prices.superficie_CUBIERTA.isnull(), data_clean_prices.superficie_CUBIERTA == 0))\n",
    "                                \n",
    "print('Cantidad de elementos a eliminar:' + str(mask_NaN_ceros_surfaces.sum()))\n",
    "inds_surfaces = data_clean_prices.loc[mask_NaN_ceros_surfaces].index\n",
    "inds_surfaces"
   ]
  },
  {
   "cell_type": "code",
   "execution_count": 55,
   "metadata": {},
   "outputs": [
    {
     "name": "stdout",
     "output_type": "stream",
     "text": [
      "Antes de la limpieza: 100806\n",
      "Después de la limpieza: 91948\n"
     ]
    }
   ],
   "source": [
    "print(\"Antes de la limpieza: \" + str(data_clean_prices.shape[0]))\n",
    "\n",
    "data_clean_prices_sups = data_clean_prices.drop(index = inds_surfaces)\n",
    "                           \n",
    "print(\"Después de la limpieza: \" + str(data_clean_prices_sups.shape[0]))"
   ]
  },
  {
   "cell_type": "code",
   "execution_count": 56,
   "metadata": {},
   "outputs": [
    {
     "name": "stdout",
     "output_type": "stream",
     "text": [
      "property_type                     0.000000\n",
      "place_name                        0.000250\n",
      "place_with_parent_names           0.000000\n",
      "state_name                        0.000000\n",
      "price                             0.000000\n",
      "currency                          0.000000\n",
      "price_aprox_local_currency        0.000000\n",
      "price_aprox_usd                   0.000000\n",
      "surface_total_in_m2               0.264367\n",
      "surface_covered_in_m2             0.057261\n",
      "price_usd_per_m2                  0.264367\n",
      "price_per_m2                      0.057282\n",
      "rooms                             0.594303\n",
      "description                       0.000011\n",
      "title                             0.000000\n",
      "price_USD                         0.000000\n",
      "superficie_TOTAL                  0.264367\n",
      "superficie_CUBIERTA               0.057261\n",
      "precio_por_superficie_TOTAL       0.264367\n",
      "precio_por_superficie_CUBIERTA    0.057261\n",
      "dtype: float64\n",
      "91948\n"
     ]
    }
   ],
   "source": [
    "print(data_clean_prices_sups.isnull().sum()/data_clean_prices_sups.shape[0])\n",
    "print(data_clean_prices_sups.shape[0])"
   ]
  },
  {
   "cell_type": "code",
   "execution_count": 57,
   "metadata": {},
   "outputs": [
    {
     "data": {
      "text/html": [
       "<div>\n",
       "<style scoped>\n",
       "    .dataframe tbody tr th:only-of-type {\n",
       "        vertical-align: middle;\n",
       "    }\n",
       "\n",
       "    .dataframe tbody tr th {\n",
       "        vertical-align: top;\n",
       "    }\n",
       "\n",
       "    .dataframe thead th {\n",
       "        text-align: right;\n",
       "    }\n",
       "</style>\n",
       "<table border=\"1\" class=\"dataframe\">\n",
       "  <thead>\n",
       "    <tr style=\"text-align: right;\">\n",
       "      <th></th>\n",
       "      <th>property_type</th>\n",
       "      <th>place_name</th>\n",
       "      <th>place_with_parent_names</th>\n",
       "      <th>state_name</th>\n",
       "      <th>price</th>\n",
       "      <th>currency</th>\n",
       "      <th>price_aprox_local_currency</th>\n",
       "      <th>price_aprox_usd</th>\n",
       "      <th>surface_total_in_m2</th>\n",
       "      <th>surface_covered_in_m2</th>\n",
       "      <th>price_usd_per_m2</th>\n",
       "      <th>price_per_m2</th>\n",
       "      <th>rooms</th>\n",
       "      <th>description</th>\n",
       "      <th>title</th>\n",
       "      <th>price_USD</th>\n",
       "      <th>superficie_TOTAL</th>\n",
       "      <th>superficie_CUBIERTA</th>\n",
       "      <th>precio_por_superficie_TOTAL</th>\n",
       "      <th>precio_por_superficie_CUBIERTA</th>\n",
       "    </tr>\n",
       "  </thead>\n",
       "  <tbody>\n",
       "  </tbody>\n",
       "</table>\n",
       "</div>"
      ],
      "text/plain": [
       "Empty DataFrame\n",
       "Columns: [property_type, place_name, place_with_parent_names, state_name, price, currency, price_aprox_local_currency, price_aprox_usd, surface_total_in_m2, surface_covered_in_m2, price_usd_per_m2, price_per_m2, rooms, description, title, price_USD, superficie_TOTAL, superficie_CUBIERTA, precio_por_superficie_TOTAL, precio_por_superficie_CUBIERTA]\n",
       "Index: []"
      ]
     },
     "execution_count": 57,
     "metadata": {},
     "output_type": "execute_result"
    }
   ],
   "source": [
    "mask = data_clean_prices_sups.precio_por_superficie_TOTAL == 0\n",
    "mask.sum()\n",
    "data_clean_prices_sups.loc[mask]"
   ]
  },
  {
   "cell_type": "markdown",
   "metadata": {},
   "source": [
    "## Imputación de superficies faltantes\n",
    "\n",
    "Luego de la eliminar los registros que no cuentan con ningún dato de precios ni de superficies entre sus columnas principales -recordemos que NO se relevan dichos datos de las columnas `description` ni de `title`-, nos quedamos con algunos registros que tienen definido el precio y alguna de las dos superficies.\n",
    "\n",
    "Del análisis vemos que tenemos muchos más datos faltantes en la columna `superficie_TOTAL` que en la `superficie_CUBIERTA`.\n",
    "\n",
    "Vamos a utilizar el dato de una de las columnas para rellenar el dato de superficie faltante.\n",
    "Esta decisión conlleva a una distorón de datos que veremos a continuación."
   ]
  },
  {
   "cell_type": "code",
   "execution_count": 58,
   "metadata": {},
   "outputs": [],
   "source": [
    "# configuro para poder copiar sin warnings\n",
    "pd.set_option('mode.chained_assignment', None)"
   ]
  },
  {
   "cell_type": "code",
   "execution_count": 59,
   "metadata": {},
   "outputs": [],
   "source": [
    "data_clean = data_clean_prices_sups.copy()"
   ]
  },
  {
   "cell_type": "code",
   "execution_count": 60,
   "metadata": {},
   "outputs": [],
   "source": [
    "# si es null o cero lo imputo con el valor de la superficie CUBIERTA\n",
    "mask_sup_total_nulls = np.logical_or(data_clean_prices_sups.superficie_TOTAL.isnull(), data_clean_prices_sups.superficie_TOTAL == 0)\n",
    "\n",
    "# Imputo el dato:\n",
    "data_clean.superficie_TOTAL.loc[mask_sup_total_nulls] = data_clean_prices_sups.superficie_CUBIERTA.loc[mask_sup_total_nulls]"
   ]
  },
  {
   "cell_type": "code",
   "execution_count": 61,
   "metadata": {},
   "outputs": [],
   "source": [
    "# si es null o cero lo imputo con el valor de la superficie TOTAL\n",
    "mask_sup_cubierta_nulls = np.logical_or(data_clean_prices_sups.superficie_CUBIERTA.isnull(), data_clean_prices_sups.superficie_CUBIERTA == 0)\n",
    "\n",
    "# Imputo el dato:\n",
    "data_clean.superficie_CUBIERTA.loc[mask_sup_cubierta_nulls] = data_clean_prices_sups.superficie_TOTAL.loc[mask_sup_cubierta_nulls]"
   ]
  },
  {
   "cell_type": "code",
   "execution_count": 62,
   "metadata": {},
   "outputs": [],
   "source": [
    "# reseteo configuración para poder copiar sin warnings\n",
    "pd.reset_option('mode.chained_assignment')"
   ]
  },
  {
   "cell_type": "code",
   "execution_count": 63,
   "metadata": {},
   "outputs": [
    {
     "name": "stdout",
     "output_type": "stream",
     "text": [
      "Superfie TOTAL antes vs después de la imputación:\n",
      "count     67640.00\n",
      "mean        224.10\n",
      "std        1771.81\n",
      "min          10.00\n",
      "25%          50.00\n",
      "50%          82.00\n",
      "75%         200.00\n",
      "max      200000.00\n",
      "Name: superficie_TOTAL, dtype: float64\n",
      "\n",
      "\n",
      "count     91948.00\n",
      "mean        201.77\n",
      "std        1650.18\n",
      "min           1.00\n",
      "25%          49.00\n",
      "50%          80.00\n",
      "75%         185.00\n",
      "max      200000.00\n",
      "Name: superficie_TOTAL, dtype: float64\n"
     ]
    }
   ],
   "source": [
    "print(\"Superfie TOTAL antes vs después de la imputación:\")\n",
    "print(str(data_clean_prices_sups.superficie_TOTAL.describe().round(2)) + '\\n\\n\\n' + str(data_clean.superficie_TOTAL.describe().round(2)))"
   ]
  },
  {
   "cell_type": "code",
   "execution_count": 64,
   "metadata": {},
   "outputs": [
    {
     "name": "stdout",
     "output_type": "stream",
     "text": [
      "Superfie CUBIERTA antes vs después de la imputación:\n",
      "count     86683.00\n",
      "mean        125.82\n",
      "std         705.43\n",
      "min           0.00\n",
      "25%          45.00\n",
      "50%          73.00\n",
      "75%         150.00\n",
      "max      187000.00\n",
      "Name: superficie_CUBIERTA, dtype: float64\n",
      "\n",
      "\n",
      "count     91948.00\n",
      "mean        131.96\n",
      "std         971.82\n",
      "min           1.00\n",
      "25%          45.00\n",
      "50%          72.00\n",
      "75%         150.00\n",
      "max      200000.00\n",
      "Name: superficie_CUBIERTA, dtype: float64\n"
     ]
    }
   ],
   "source": [
    "print(\"Superfie CUBIERTA antes vs después de la imputación:\")\n",
    "print(str(data_clean_prices_sups.superficie_CUBIERTA.describe().round(2)) + '\\n\\n\\n' + str(data_clean.superficie_CUBIERTA.describe().round(2)))"
   ]
  },
  {
   "cell_type": "code",
   "execution_count": 150,
   "metadata": {},
   "outputs": [
    {
     "name": "stdout",
     "output_type": "stream",
     "text": [
      "property_type                     0.000000\n",
      "place_name                        0.000131\n",
      "place_with_parent_names           0.000000\n",
      "state_name                        0.000000\n",
      "price                             0.000000\n",
      "currency                          0.000000\n",
      "price_aprox_local_currency        0.000000\n",
      "price_aprox_usd                   0.000000\n",
      "surface_total_in_m2               0.266909\n",
      "surface_covered_in_m2             0.057840\n",
      "price_usd_per_m2                  0.266909\n",
      "price_per_m2                      0.057853\n",
      "rooms                             0.586669\n",
      "description                       0.000013\n",
      "title                             0.000000\n",
      "price_USD                         0.000000\n",
      "superficie_TOTAL                  0.000000\n",
      "superficie_CUBIERTA               0.000000\n",
      "precio_por_superficie_TOTAL       0.266909\n",
      "precio_por_superficie_CUBIERTA    0.057840\n",
      "Cochera                           0.000000\n",
      "Dism_Valor                        0.000000\n",
      "A_reciclar                        0.000000\n",
      "A_estrenar                        0.000000\n",
      "Agr_Valor                         0.000000\n",
      "dtype: float64\n",
      "76573\n"
     ]
    }
   ],
   "source": [
    "print(data_clean.isnull().sum()/data_clean.shape[0])\n",
    "print(data_clean.shape[0])"
   ]
  },
  {
   "cell_type": "markdown",
   "metadata": {},
   "source": [
    "Naturalmente, con esta imputación, la media de la `superficie_TOTAL` sube y para la `superficie_CUBIERTA` baja.\n",
    "\n",
    "Lo mismo sucede con los desvíos.\n",
    "\n",
    "En el caso de `superficie_CUBIERTA` se modifica el **max** valor pero luego se tomará alguna decisión analizando los outliers."
   ]
  },
  {
   "cell_type": "markdown",
   "metadata": {},
   "source": [
    "**Termino de completar los datos de precio por superfice.**"
   ]
  },
  {
   "cell_type": "code",
   "execution_count": 151,
   "metadata": {},
   "outputs": [
    {
     "data": {
      "text/plain": [
       "property_type                     0.000000\n",
       "place_name                        0.000131\n",
       "place_with_parent_names           0.000000\n",
       "state_name                        0.000000\n",
       "price                             0.000000\n",
       "currency                          0.000000\n",
       "price_aprox_local_currency        0.000000\n",
       "price_aprox_usd                   0.000000\n",
       "surface_total_in_m2               0.266909\n",
       "surface_covered_in_m2             0.057840\n",
       "price_usd_per_m2                  0.266909\n",
       "price_per_m2                      0.057853\n",
       "rooms                             0.586669\n",
       "description                       0.000013\n",
       "title                             0.000000\n",
       "price_USD                         0.000000\n",
       "superficie_TOTAL                  0.000000\n",
       "superficie_CUBIERTA               0.000000\n",
       "precio_por_superficie_TOTAL       0.266909\n",
       "precio_por_superficie_CUBIERTA    0.057840\n",
       "Cochera                           0.000000\n",
       "Dism_Valor                        0.000000\n",
       "A_reciclar                        0.000000\n",
       "A_estrenar                        0.000000\n",
       "Agr_Valor                         0.000000\n",
       "dtype: float64"
      ]
     },
     "execution_count": 151,
     "metadata": {},
     "output_type": "execute_result"
    }
   ],
   "source": [
    "data_clean.isnull().sum()/data_clean.shape[0]"
   ]
  },
  {
   "cell_type": "code",
   "execution_count": 152,
   "metadata": {},
   "outputs": [],
   "source": [
    "# configuro para poder copiar sin warnings\n",
    "pd.set_option('mode.chained_assignment', None)"
   ]
  },
  {
   "cell_type": "code",
   "execution_count": 153,
   "metadata": {},
   "outputs": [],
   "source": [
    "data_clean.precio_por_superficie_TOTAL = data_clean.price_USD/data_clean.superficie_TOTAL\n",
    "data_clean.precio_por_superficie_CUBIERTA = data_clean.price_USD/data_clean.superficie_CUBIERTA"
   ]
  },
  {
   "cell_type": "code",
   "execution_count": 154,
   "metadata": {},
   "outputs": [],
   "source": [
    "# configuro para poder copiar sin warnings\n",
    "pd.reset_option('mode.chained_assignment')"
   ]
  },
  {
   "cell_type": "code",
   "execution_count": 155,
   "metadata": {},
   "outputs": [
    {
     "data": {
      "text/plain": [
       "property_type                     0.0\n",
       "place_name                        0.0\n",
       "state_name                        0.0\n",
       "description                       0.0\n",
       "title                             0.0\n",
       "price_USD                         0.0\n",
       "superficie_TOTAL                  0.0\n",
       "superficie_CUBIERTA               0.0\n",
       "precio_por_superficie_TOTAL       0.0\n",
       "precio_por_superficie_CUBIERTA    0.0\n",
       "Cochera                           0.0\n",
       "Dism_Valor                        0.0\n",
       "A_reciclar                        0.0\n",
       "A_estrenar                        0.0\n",
       "Agr_Valor                         0.0\n",
       "dtype: float64"
      ]
     },
     "execution_count": 155,
     "metadata": {},
     "output_type": "execute_result"
    }
   ],
   "source": [
    "data_caba.isnull().sum()/data_caba.shape[0]"
   ]
  },
  {
   "cell_type": "markdown",
   "metadata": {},
   "source": [
    "## Análisis de outliers"
   ]
  },
  {
   "cell_type": "markdown",
   "metadata": {},
   "source": [
    "Vemoas ver la distribución de Precios en dólares. Cada 1 en X son 10Millones de dólares\n"
   ]
  },
  {
   "cell_type": "code",
   "execution_count": 156,
   "metadata": {},
   "outputs": [],
   "source": [
    "import matplotlib as mpl\n",
    "import matplotlib.pyplot as plt\n",
    "import seaborn as sns"
   ]
  },
  {
   "cell_type": "code",
   "execution_count": 157,
   "metadata": {},
   "outputs": [
    {
     "data": {
      "image/png": "[encoded data removed]",
      "text/plain": [
       "<Figure size 432x288 with 1 Axes>"
      ]
     },
     "metadata": {},
     "output_type": "display_data"
    }
   ],
   "source": [
    "with sns.axes_style('white'):\n",
    "    with sns.color_palette(\"Set2\"):\n",
    "        g=sns.boxplot(x=\"price_USD\", y=\"property_type\", data=data_clean)"
   ]
  },
  {
   "cell_type": "markdown",
   "metadata": {},
   "source": [
    "Sacándole el valos de 46M se lee mejor el gráfico"
   ]
  },
  {
   "cell_type": "code",
   "execution_count": 158,
   "metadata": {},
   "outputs": [
    {
     "data": {
      "image/png": "[encoded data removed]",
      "text/plain": [
       "<Figure size 432x288 with 1 Axes>"
      ]
     },
     "metadata": {},
     "output_type": "display_data"
    }
   ],
   "source": [
    "menos20Millones_mask=data_clean['price_USD']<20000000\n",
    "menos20Millones=data_clean.loc[menos20Millones_mask,:]\n",
    "with sns.axes_style('white'):\n",
    "    with sns.color_palette(\"Set2\"):\n",
    "        g=sns.boxplot(x=\"price_USD\", y=\"property_type\", data=menos20Millones)"
   ]
  },
  {
   "cell_type": "code",
   "execution_count": 159,
   "metadata": {},
   "outputs": [],
   "source": [
    "def detect_outlier(data):\n",
    "    # find q1 and q3 values\n",
    "    q1, q3 = np.percentile(sorted(data), [25, 75])\n",
    " \n",
    "    # compute IRQ\n",
    "    iqr = q3 - q1\n",
    " \n",
    "    # find lower and upper bounds\n",
    "    lower_bound = q1 - (1.5 * iqr)\n",
    "    upper_bound = q3 + (1.5 * iqr)\n",
    " \n",
    "    outliers = [x for x in data if x <= lower_bound or x >= upper_bound]\n",
    " \n",
    "    return (lower_bound,upper_bound)"
   ]
  },
  {
   "cell_type": "markdown",
   "metadata": {},
   "source": [
    "**Analicemos los Outliers del precio**"
   ]
  },
  {
   "cell_type": "code",
   "execution_count": 160,
   "metadata": {},
   "outputs": [
    {
     "data": {
      "text/plain": [
       "(-112000.0, 416000.0)"
      ]
     },
     "execution_count": 160,
     "metadata": {},
     "output_type": "execute_result"
    }
   ],
   "source": [
    "lower_bound,upper_bound=detect_outlier(data_clean['price_USD'])\n",
    "lower_bound, upper_bound"
   ]
  },
  {
   "cell_type": "markdown",
   "metadata": {},
   "source": [
    "Veamos cuántos datos quedan por encima del límite: "
   ]
  },
  {
   "cell_type": "code",
   "execution_count": 161,
   "metadata": {},
   "outputs": [],
   "source": [
    "upper_bound_mask = data_clean['price_USD']>=upper_bound\n",
    "mayor_upper_bound = data_clean.loc[upper_bound_mask,:].shape"
   ]
  },
  {
   "cell_type": "code",
   "execution_count": 162,
   "metadata": {},
   "outputs": [
    {
     "data": {
      "text/plain": [
       "(2949, 25)"
      ]
     },
     "execution_count": 162,
     "metadata": {},
     "output_type": "execute_result"
    }
   ],
   "source": [
    "mayor_upper_bound"
   ]
  },
  {
   "cell_type": "markdown",
   "metadata": {},
   "source": [
    "El límite inferior no tiene sentido ya que no hay valores negativos. Por lo tanto, definimos un valor de USD10.000 ya que no nos van a interesar las propiedades por valores menores a esta línea de corte."
   ]
  },
  {
   "cell_type": "code",
   "execution_count": 163,
   "metadata": {},
   "outputs": [],
   "source": [
    "menor10k_mask=data_clean['price_USD']<10000\n",
    "menor_menor10k=data_clean.loc[menor10k_mask,:].shape"
   ]
  },
  {
   "cell_type": "code",
   "execution_count": 164,
   "metadata": {},
   "outputs": [
    {
     "data": {
      "text/plain": [
       "(0, 25)"
      ]
     },
     "execution_count": 164,
     "metadata": {},
     "output_type": "execute_result"
    }
   ],
   "source": [
    "menor_menor10k"
   ]
  },
  {
   "cell_type": "markdown",
   "metadata": {},
   "source": [
    "**Analiamos ahora la superficie TOTAL**\n"
   ]
  },
  {
   "cell_type": "code",
   "execution_count": 165,
   "metadata": {},
   "outputs": [
    {
     "data": {
      "image/png": "[encoded data removed]",
      "text/plain": [
       "<Figure size 432x288 with 1 Axes>"
      ]
     },
     "metadata": {},
     "output_type": "display_data"
    }
   ],
   "source": [
    "with sns.axes_style('white'):\n",
    "    with sns.color_palette(\"Set2\"):\n",
    "        g=sns.boxplot(x=\"superficie_TOTAL\", y=\"property_type\", data=data_clean)"
   ]
  },
  {
   "cell_type": "code",
   "execution_count": 166,
   "metadata": {},
   "outputs": [
    {
     "data": {
      "text/plain": [
       "(-77.5, 254.5)"
      ]
     },
     "execution_count": 166,
     "metadata": {},
     "output_type": "execute_result"
    }
   ],
   "source": [
    "#me fijo los Outliers de la superficie\n",
    "detect_outlier(data_clean['superficie_TOTAL'])"
   ]
  },
  {
   "cell_type": "code",
   "execution_count": 167,
   "metadata": {},
   "outputs": [],
   "source": [
    "lower_bound_sup,upper_bound_sup=detect_outlier(data_clean['superficie_TOTAL'])"
   ]
  },
  {
   "cell_type": "code",
   "execution_count": 168,
   "metadata": {},
   "outputs": [],
   "source": [
    "#Analizo límite superior, tiene sentido son pocos registros\n",
    "upper_bound_sup_mask=data_clean['superficie_TOTAL']>=upper_bound_sup\n",
    "mayor_upper_bound_sup=data_clean.loc[upper_bound_sup_mask,:].shape"
   ]
  },
  {
   "cell_type": "code",
   "execution_count": 169,
   "metadata": {},
   "outputs": [
    {
     "data": {
      "text/plain": [
       "(4324, 25)"
      ]
     },
     "execution_count": 169,
     "metadata": {},
     "output_type": "execute_result"
    }
   ],
   "source": [
    "mayor_upper_bound_sup"
   ]
  },
  {
   "cell_type": "code",
   "execution_count": 170,
   "metadata": {},
   "outputs": [
    {
     "data": {
      "text/plain": [
       "88803      21.0\n",
       "83534      21.0\n",
       "92459      21.0\n",
       "116040     21.0\n",
       "11214      21.0\n",
       "          ...  \n",
       "26157     388.0\n",
       "34285     388.0\n",
       "23843     388.0\n",
       "12751     388.0\n",
       "47835     388.0\n",
       "Name: superficie_TOTAL, Length: 76573, dtype: float64"
      ]
     },
     "execution_count": 170,
     "metadata": {},
     "output_type": "execute_result"
    }
   ],
   "source": [
    "data_clean.superficie_TOTAL.sort_values()"
   ]
  },
  {
   "cell_type": "markdown",
   "metadata": {},
   "source": [
    "N exiten superficies negativas, pero tenemos superficies de 1 m2. Veamos cuántos registros hay con superficies menores a 20 m2."
   ]
  },
  {
   "cell_type": "code",
   "execution_count": 171,
   "metadata": {},
   "outputs": [],
   "source": [
    "lower_bound_sup_mask=data_clean['superficie_TOTAL']<20\n",
    "menor_lower_bound_sup=data_clean.loc[lower_bound_sup_mask,:].shape"
   ]
  },
  {
   "cell_type": "code",
   "execution_count": 172,
   "metadata": {},
   "outputs": [
    {
     "data": {
      "text/plain": [
       "(0, 25)"
      ]
     },
     "execution_count": 172,
     "metadata": {},
     "output_type": "execute_result"
    }
   ],
   "source": [
    "menor_lower_bound_sup"
   ]
  },
  {
   "cell_type": "markdown",
   "metadata": {},
   "source": [
    "Vamos a desestimar los resgistros con superficie total menor a 20 m2."
   ]
  },
  {
   "cell_type": "markdown",
   "metadata": {},
   "source": [
    "**Analiamos ahora la superficie CUBIERTA**\n"
   ]
  },
  {
   "cell_type": "code",
   "execution_count": 173,
   "metadata": {},
   "outputs": [
    {
     "data": {
      "image/png": "[encoded data removed]",
      "text/plain": [
       "<Figure size 432x288 with 1 Axes>"
      ]
     },
     "metadata": {},
     "output_type": "display_data"
    }
   ],
   "source": [
    "with sns.axes_style('white'):\n",
    "    with sns.color_palette(\"Set2\"):\n",
    "        g=sns.boxplot(x=\"superficie_CUBIERTA\", y=\"property_type\", data=data_clean)"
   ]
  },
  {
   "cell_type": "code",
   "execution_count": 174,
   "metadata": {},
   "outputs": [
    {
     "data": {
      "text/plain": [
       "(-55.0, 209.0)"
      ]
     },
     "execution_count": 174,
     "metadata": {},
     "output_type": "execute_result"
    }
   ],
   "source": [
    "#me fijo los Outliers de la superficie\n",
    "detect_outlier(data_clean['superficie_CUBIERTA'])"
   ]
  },
  {
   "cell_type": "code",
   "execution_count": 175,
   "metadata": {},
   "outputs": [],
   "source": [
    "lower_bound_sup_cubierta,upper_bound_sup_cubierta = detect_outlier(data_clean['superficie_CUBIERTA'])"
   ]
  },
  {
   "cell_type": "code",
   "execution_count": 176,
   "metadata": {},
   "outputs": [],
   "source": [
    "#Analizo límite superior, tiene sentido son pocos registros\n",
    "upper_bound_sup_cubierta_mask = data_clean['superficie_CUBIERTA'] >= upper_bound_sup_cubierta\n",
    "mayor_upper_bound_sup_cubierta = data_clean.loc[upper_bound_sup_mask,:].shape"
   ]
  },
  {
   "cell_type": "code",
   "execution_count": 177,
   "metadata": {},
   "outputs": [
    {
     "data": {
      "text/plain": [
       "(4324, 25)"
      ]
     },
     "execution_count": 177,
     "metadata": {},
     "output_type": "execute_result"
    }
   ],
   "source": [
    "mayor_upper_bound_sup"
   ]
  },
  {
   "cell_type": "code",
   "execution_count": 178,
   "metadata": {},
   "outputs": [
    {
     "data": {
      "text/plain": [
       "34856      21.0\n",
       "41318      21.0\n",
       "51085      21.0\n",
       "95967      21.0\n",
       "27543      21.0\n",
       "          ...  \n",
       "115547    307.0\n",
       "117834    307.0\n",
       "22483     307.0\n",
       "13262     307.0\n",
       "64808     307.0\n",
       "Name: superficie_CUBIERTA, Length: 76573, dtype: float64"
      ]
     },
     "execution_count": 178,
     "metadata": {},
     "output_type": "execute_result"
    }
   ],
   "source": [
    "data_clean.superficie_CUBIERTA.sort_values()"
   ]
  },
  {
   "cell_type": "markdown",
   "metadata": {},
   "source": [
    "No exiten superficies negativas, pero tenemos superficies de 1 m2. Veamos cuántos registros hay con superficies menores a 20 m2."
   ]
  },
  {
   "cell_type": "code",
   "execution_count": 179,
   "metadata": {},
   "outputs": [],
   "source": [
    "lower_bound_sup_cubierta_mask = data_clean['superficie_CUBIERTA']<20\n",
    "menor_lower_bound_sup = data_clean.loc[lower_bound_sup_cubierta_mask,:].shape"
   ]
  },
  {
   "cell_type": "code",
   "execution_count": 180,
   "metadata": {},
   "outputs": [
    {
     "data": {
      "text/plain": [
       "(0, 25)"
      ]
     },
     "execution_count": 180,
     "metadata": {},
     "output_type": "execute_result"
    }
   ],
   "source": [
    "menor_lower_bound_sup"
   ]
  },
  {
   "cell_type": "markdown",
   "metadata": {},
   "source": [
    "Vamos a desestimar los resgistros con superficie cubierta menor a 20 m2."
   ]
  },
  {
   "cell_type": "code",
   "execution_count": 181,
   "metadata": {},
   "outputs": [
    {
     "data": {
      "text/plain": [
       "(76573, 25)"
      ]
     },
     "execution_count": 181,
     "metadata": {},
     "output_type": "execute_result"
    }
   ],
   "source": [
    "#Podemos seguir limpiando la data\n",
    "mask1=data_clean['price_USD'] > 10000\n",
    "mask2=data_clean['price_USD'] < upper_bound\n",
    "mask3=data_clean['superficie_TOTAL'] < upper_bound_sup\n",
    "mask4=data_clean['superficie_TOTAL'] > 20\n",
    "mask5=data_clean['superficie_CUBIERTA'] < upper_bound_sup_cubierta\n",
    "mask6=data_clean['superficie_CUBIERTA'] > 20\n",
    "mask_outliers = mask1&mask2&mask3&mask4&mask5&mask6\n",
    "data_clean.shape"
   ]
  },
  {
   "cell_type": "code",
   "execution_count": 182,
   "metadata": {},
   "outputs": [],
   "source": [
    "data_clean=data_clean.loc[mask_outliers,:]"
   ]
  },
  {
   "cell_type": "code",
   "execution_count": 183,
   "metadata": {},
   "outputs": [
    {
     "data": {
      "text/plain": [
       "(68090, 25)"
      ]
     },
     "execution_count": 183,
     "metadata": {},
     "output_type": "execute_result"
    }
   ],
   "source": [
    "data_clean.shape"
   ]
  },
  {
   "cell_type": "code",
   "execution_count": 184,
   "metadata": {},
   "outputs": [
    {
     "data": {
      "image/png": "[encoded data removed]",
      "text/plain": [
       "<Figure size 432x288 with 1 Axes>"
      ]
     },
     "metadata": {},
     "output_type": "display_data"
    }
   ],
   "source": [
    "#Graficamos de nuevo\n",
    "with sns.axes_style('white'):\n",
    "    with sns.color_palette(\"Set2\"):\n",
    "        g=sns.boxplot(x=\"price_USD\", y=\"property_type\", data=data_clean)"
   ]
  },
  {
   "cell_type": "code",
   "execution_count": 185,
   "metadata": {},
   "outputs": [
    {
     "data": {
      "image/png": "[encoded data removed]",
      "text/plain": [
       "<Figure size 432x288 with 1 Axes>"
      ]
     },
     "metadata": {},
     "output_type": "display_data"
    }
   ],
   "source": [
    "with sns.axes_style('white'):\n",
    "    with sns.color_palette(\"Set2\"):\n",
    "        g=sns.boxplot(x=\"superficie_TOTAL\", y=\"property_type\", data=data_clean)"
   ]
  },
  {
   "cell_type": "code",
   "execution_count": 186,
   "metadata": {},
   "outputs": [
    {
     "data": {
      "image/png": "[encoded data removed]",
      "text/plain": [
       "<Figure size 432x288 with 1 Axes>"
      ]
     },
     "metadata": {},
     "output_type": "display_data"
    }
   ],
   "source": [
    "with sns.axes_style('white'):\n",
    "    with sns.color_palette(\"Set2\"):\n",
    "        g=sns.boxplot(x=\"superficie_CUBIERTA\", y=\"property_type\", data=data_clean)"
   ]
  },
  {
   "cell_type": "markdown",
   "metadata": {},
   "source": [
    "### Acá arranca el análisis con **REGEX** para determinar información de `description`\n",
    "\n",
    "Donde se trata de obtener info con los regex."
   ]
  },
  {
   "cell_type": "code",
   "execution_count": 187,
   "metadata": {},
   "outputs": [],
   "source": [
    "#data_clean"
   ]
  },
  {
   "cell_type": "code",
   "execution_count": 188,
   "metadata": {},
   "outputs": [],
   "source": [
    "#paso la columna a mayúscula para no tener tantos patrones\n",
    "uppercase_description= data_clean['description'].apply(lambda x:x if x is np.NaN else x.upper())"
   ]
  },
  {
   "cell_type": "code",
   "execution_count": 189,
   "metadata": {},
   "outputs": [
    {
     "name": "stdout",
     "output_type": "stream",
     "text": [
      "0                                            None\n",
      "2                                            None\n",
      "4                                            None\n",
      "6                                            None\n",
      "7                                            None\n",
      "                           ...                   \n",
      "121206                                       None\n",
      "121209                                       None\n",
      "121217    <re.Match object; span=(555, 563), m...\n",
      "121218                                       None\n",
      "121219                                       None\n",
      "Name: description, Length: 68090, dtype: object\n"
     ]
    }
   ],
   "source": [
    "#Creo un patrón para cochera\n",
    "patron_cochera=\"((COCHERA)S?|(GARAGE)S?|(GGE)|(ESTACIONAMIENTO)|(ENTRADA DE COCHE))\"\n",
    "regex_cochera=re.compile(patron_cochera)\n",
    "resultado_cochera = uppercase_description.apply(lambda x:x if x is np.NaN else regex_cochera.search(x))\n",
    "print(resultado_cochera)"
   ]
  },
  {
   "cell_type": "code",
   "execution_count": 275,
   "metadata": {},
   "outputs": [
    {
     "data": {
      "text/plain": [
       "68090"
      ]
     },
     "execution_count": 275,
     "metadata": {},
     "output_type": "execute_result"
    }
   ],
   "source": [
    "#Creo una nueva columna llamada Cochera con los números encontrados (1 informa/0 no)\n",
    "mask_resultado_cochera_notnull=resultado_cochera.notnull()\n",
    "data_clean.loc[mask_resultado_cochera_notnull,\"Cochera\"]=resultado_cochera[mask_resultado_cochera_notnull].apply(lambda x: 1)\n",
    "data_clean['Cochera'].notnull().sum()"
   ]
  },
  {
   "cell_type": "code",
   "execution_count": 274,
   "metadata": {},
   "outputs": [],
   "source": [
    "#completo los valores nulos para que queden en 0\n",
    "data_clean['Cochera']=data_clean['Cochera'].fillna(0)"
   ]
  },
  {
   "cell_type": "code",
   "execution_count": null,
   "metadata": {},
   "outputs": [],
   "source": []
  },
  {
   "cell_type": "code",
   "execution_count": 192,
   "metadata": {},
   "outputs": [
    {
     "name": "stdout",
     "output_type": "stream",
     "text": [
      "0                                            None\n",
      "2         <re.Match object; span=(21, 28), mat...\n",
      "4         <re.Match object; span=(53, 65), mat...\n",
      "6                                            None\n",
      "7                                            None\n",
      "                           ...                   \n",
      "121206                                       None\n",
      "121209                                       None\n",
      "121217                                       None\n",
      "121218    <re.Match object; span=(9, 21), matc...\n",
      "121219                                       None\n",
      "Name: description, Length: 68090, dtype: object\n"
     ]
    }
   ],
   "source": [
    "#Creo un patrón para escalera o otras cosas que disminuyen valor\n",
    "patron_escalera=\"(POR ESCALERA)|(AL FONDO)|(CONTRAFRENTE)|(LATERAL)\"\n",
    "regex_escalera=re.compile(patron_escalera)\n",
    "resultado_escalera = uppercase_description.apply(lambda x:x if x is np.NaN else regex_escalera.search(x))\n",
    "print(resultado_escalera)"
   ]
  },
  {
   "cell_type": "code",
   "execution_count": 193,
   "metadata": {},
   "outputs": [
    {
     "name": "stderr",
     "output_type": "stream",
     "text": [
      "C:\\Users\\Ariel\\anaconda3\\envs\\dhdsblend\\lib\\site-packages\\ipykernel_launcher.py:4: SettingWithCopyWarning: \n",
      "A value is trying to be set on a copy of a slice from a DataFrame.\n",
      "Try using .loc[row_indexer,col_indexer] = value instead\n",
      "\n",
      "See the caveats in the documentation: https://pandas.pydata.org/pandas-docs/stable/user_guide/indexing.html#returning-a-view-versus-a-copy\n",
      "  after removing the cwd from sys.path.\n"
     ]
    },
    {
     "data": {
      "text/plain": [
       "0         0.0\n",
       "2         1.0\n",
       "4         1.0\n",
       "6         0.0\n",
       "7         0.0\n",
       "         ... \n",
       "121206    0.0\n",
       "121209    0.0\n",
       "121217    0.0\n",
       "121218    1.0\n",
       "121219    0.0\n",
       "Name: Dism_Valor, Length: 68090, dtype: float64"
      ]
     },
     "execution_count": 193,
     "metadata": {},
     "output_type": "execute_result"
    }
   ],
   "source": [
    "#Creo una nueva columna llamada Dism_Valor con los registros encontrados (1 informa/0 no)\n",
    "mask_resultado_escalera_notnull=resultado_escalera.notnull()\n",
    "data_clean.loc[mask_resultado_escalera_notnull,\"Dism_Valor\"]=resultado_escalera[mask_resultado_escalera_notnull].apply(lambda x: 1)\n",
    "data_clean['Dism_Valor']=data_clean['Dism_Valor'].fillna(0)\n",
    "data_clean['Dism_Valor']"
   ]
  },
  {
   "cell_type": "code",
   "execution_count": 194,
   "metadata": {},
   "outputs": [
    {
     "name": "stdout",
     "output_type": "stream",
     "text": [
      "0                                            None\n",
      "2                                            None\n",
      "4                                            None\n",
      "6                                            None\n",
      "7                                            None\n",
      "                           ...                   \n",
      "121206                                       None\n",
      "121209                                       None\n",
      "121217                                       None\n",
      "121218                                       None\n",
      "121219    <re.Match object; span=(216, 226), m...\n",
      "Name: description, Length: 68090, dtype: object\n"
     ]
    }
   ],
   "source": [
    "#Creo un patrón para reciclar\n",
    "patron_reciclar=\"(A RECICLAR)|(RENOVAR)|(REFACCIONAR)\"\n",
    "regex_reciclar=re.compile(patron_reciclar)\n",
    "resultado_reciclar = uppercase_description.apply(lambda x:x if x is np.NaN else regex_reciclar.search(x))\n",
    "print(resultado_reciclar)"
   ]
  },
  {
   "cell_type": "code",
   "execution_count": 195,
   "metadata": {},
   "outputs": [
    {
     "name": "stderr",
     "output_type": "stream",
     "text": [
      "C:\\Users\\Ariel\\anaconda3\\envs\\dhdsblend\\lib\\site-packages\\ipykernel_launcher.py:4: SettingWithCopyWarning: \n",
      "A value is trying to be set on a copy of a slice from a DataFrame.\n",
      "Try using .loc[row_indexer,col_indexer] = value instead\n",
      "\n",
      "See the caveats in the documentation: https://pandas.pydata.org/pandas-docs/stable/user_guide/indexing.html#returning-a-view-versus-a-copy\n",
      "  after removing the cwd from sys.path.\n"
     ]
    },
    {
     "data": {
      "text/plain": [
       "0         0.0\n",
       "2         0.0\n",
       "4         0.0\n",
       "6         0.0\n",
       "7         0.0\n",
       "         ... \n",
       "121206    0.0\n",
       "121209    0.0\n",
       "121217    0.0\n",
       "121218    0.0\n",
       "121219    1.0\n",
       "Name: A_reciclar, Length: 68090, dtype: float64"
      ]
     },
     "execution_count": 195,
     "metadata": {},
     "output_type": "execute_result"
    }
   ],
   "source": [
    "#Creo una nueva columna llamada Reciclar con los registros encontrados (1 informa/0 no)\n",
    "mask_resultado_reciclar_notnull=resultado_reciclar.notnull()\n",
    "data_clean.loc[mask_resultado_reciclar_notnull,\"A_reciclar\"]=resultado_reciclar[mask_resultado_reciclar_notnull].apply(lambda x: 1)\n",
    "data_clean['A_reciclar']=data_clean['A_reciclar'].fillna(0)\n",
    "data_clean['A_reciclar']"
   ]
  },
  {
   "cell_type": "code",
   "execution_count": 196,
   "metadata": {},
   "outputs": [
    {
     "name": "stdout",
     "output_type": "stream",
     "text": [
      "0                                            None\n",
      "2                                            None\n",
      "4                                            None\n",
      "6                                            None\n",
      "7         <re.Match object; span=(23, 33), mat...\n",
      "                           ...                   \n",
      "121206                                       None\n",
      "121209                                       None\n",
      "121217    <re.Match object; span=(38, 48), mat...\n",
      "121218                                       None\n",
      "121219                                       None\n",
      "Name: description, Length: 68090, dtype: object\n"
     ]
    }
   ],
   "source": [
    "#Creo un patrón para saber si es a estrenar\n",
    "patron_estrenar=\"A?\\s?(ESTRENAR)\"\n",
    "regex_estrenar=re.compile(patron_estrenar)\n",
    "resultado_estrenar = uppercase_description.apply(lambda x:x if x is np.NaN else regex_estrenar.search(x))\n",
    "print(resultado_estrenar)"
   ]
  },
  {
   "cell_type": "code",
   "execution_count": 197,
   "metadata": {},
   "outputs": [
    {
     "name": "stderr",
     "output_type": "stream",
     "text": [
      "C:\\Users\\Ariel\\anaconda3\\envs\\dhdsblend\\lib\\site-packages\\ipykernel_launcher.py:4: SettingWithCopyWarning: \n",
      "A value is trying to be set on a copy of a slice from a DataFrame.\n",
      "Try using .loc[row_indexer,col_indexer] = value instead\n",
      "\n",
      "See the caveats in the documentation: https://pandas.pydata.org/pandas-docs/stable/user_guide/indexing.html#returning-a-view-versus-a-copy\n",
      "  after removing the cwd from sys.path.\n"
     ]
    },
    {
     "data": {
      "text/plain": [
       "0         0.0\n",
       "2         0.0\n",
       "4         0.0\n",
       "6         0.0\n",
       "7         1.0\n",
       "         ... \n",
       "121206    0.0\n",
       "121209    0.0\n",
       "121217    1.0\n",
       "121218    0.0\n",
       "121219    0.0\n",
       "Name: A_estrenar, Length: 68090, dtype: float64"
      ]
     },
     "execution_count": 197,
     "metadata": {},
     "output_type": "execute_result"
    }
   ],
   "source": [
    "#Creo una nueva columna llamada A_estrenar con los registros encontrados(1 informa/0 no)\n",
    "mask_resultado_estrenar_notnull=resultado_estrenar.notnull()\n",
    "data_clean.loc[mask_resultado_estrenar_notnull,\"A_estrenar\"]=resultado_estrenar[mask_resultado_estrenar_notnull].apply(lambda x: 1)\n",
    "data_clean['A_estrenar']=data_clean['A_estrenar'].fillna(0)\n",
    "data_clean['A_estrenar']"
   ]
  },
  {
   "cell_type": "code",
   "execution_count": 198,
   "metadata": {},
   "outputs": [
    {
     "name": "stdout",
     "output_type": "stream",
     "text": [
      "0         <re.Match object; span=(69, 74), mat...\n",
      "2                                            None\n",
      "4                                            None\n",
      "6         <re.Match object; span=(155, 160), m...\n",
      "7         <re.Match object; span=(101, 107), m...\n",
      "                           ...                   \n",
      "121206    <re.Match object; span=(173, 178), m...\n",
      "121209                                       None\n",
      "121217    <re.Match object; span=(56, 65), mat...\n",
      "121218    <re.Match object; span=(309, 314), m...\n",
      "121219    <re.Match object; span=(22, 38), mat...\n",
      "Name: description, Length: 68090, dtype: object\n"
     ]
    }
   ],
   "source": [
    "#Creo un patrón para cosas que le agreguen valor\n",
    "patron_valor=\"(AMENITIES)|(PILETA)|(PISCINA)|(SUM)|(GIMNASIO)|(SEGURIDAD)|(SAUNA)|(PLAZA)|(BAÑOS)|(APTO PROFESIONAL)|(TERRAZA)|(PATIO)|(PTIO)\"\n",
    "regex_valor=re.compile(patron_valor)\n",
    "resultado_valor = uppercase_description.apply(lambda x:x if x is np.NaN else regex_valor.search(x))\n",
    "print(resultado_valor)"
   ]
  },
  {
   "cell_type": "code",
   "execution_count": 199,
   "metadata": {},
   "outputs": [
    {
     "name": "stderr",
     "output_type": "stream",
     "text": [
      "C:\\Users\\Ariel\\anaconda3\\envs\\dhdsblend\\lib\\site-packages\\ipykernel_launcher.py:4: SettingWithCopyWarning: \n",
      "A value is trying to be set on a copy of a slice from a DataFrame.\n",
      "Try using .loc[row_indexer,col_indexer] = value instead\n",
      "\n",
      "See the caveats in the documentation: https://pandas.pydata.org/pandas-docs/stable/user_guide/indexing.html#returning-a-view-versus-a-copy\n",
      "  after removing the cwd from sys.path.\n"
     ]
    },
    {
     "data": {
      "text/plain": [
       "0         1.0\n",
       "2         0.0\n",
       "4         0.0\n",
       "6         1.0\n",
       "7         1.0\n",
       "         ... \n",
       "121206    1.0\n",
       "121209    0.0\n",
       "121217    1.0\n",
       "121218    1.0\n",
       "121219    1.0\n",
       "Name: Agr_Valor, Length: 68090, dtype: float64"
      ]
     },
     "execution_count": 199,
     "metadata": {},
     "output_type": "execute_result"
    }
   ],
   "source": [
    "#Creo una nueva columna llamada Agr_Valor con los registros encontrados(1 informa/0 no)\n",
    "mask_resultado_valor_notnull=resultado_valor.notnull()\n",
    "data_clean.loc[mask_resultado_valor_notnull,\"Agr_Valor\"]=resultado_valor[mask_resultado_valor_notnull].apply(lambda x: 1)\n",
    "data_clean['Agr_Valor']=data_clean['Agr_Valor'].fillna(0)\n",
    "data_clean['Agr_Valor']"
   ]
  },
  {
   "cell_type": "code",
   "execution_count": 200,
   "metadata": {},
   "outputs": [
    {
     "data": {
      "text/html": [
       "<div>\n",
       "<style scoped>\n",
       "    .dataframe tbody tr th:only-of-type {\n",
       "        vertical-align: middle;\n",
       "    }\n",
       "\n",
       "    .dataframe tbody tr th {\n",
       "        vertical-align: top;\n",
       "    }\n",
       "\n",
       "    .dataframe thead th {\n",
       "        text-align: right;\n",
       "    }\n",
       "</style>\n",
       "<table border=\"1\" class=\"dataframe\">\n",
       "  <thead>\n",
       "    <tr style=\"text-align: right;\">\n",
       "      <th></th>\n",
       "      <th>property_type</th>\n",
       "      <th>place_name</th>\n",
       "      <th>place_with_parent_names</th>\n",
       "      <th>state_name</th>\n",
       "      <th>price</th>\n",
       "      <th>currency</th>\n",
       "      <th>price_aprox_local_currency</th>\n",
       "      <th>price_aprox_usd</th>\n",
       "      <th>surface_total_in_m2</th>\n",
       "      <th>surface_covered_in_m2</th>\n",
       "      <th>...</th>\n",
       "      <th>price_USD</th>\n",
       "      <th>superficie_TOTAL</th>\n",
       "      <th>superficie_CUBIERTA</th>\n",
       "      <th>precio_por_superficie_TOTAL</th>\n",
       "      <th>precio_por_superficie_CUBIERTA</th>\n",
       "      <th>Cochera</th>\n",
       "      <th>Dism_Valor</th>\n",
       "      <th>A_reciclar</th>\n",
       "      <th>A_estrenar</th>\n",
       "      <th>Agr_Valor</th>\n",
       "    </tr>\n",
       "  </thead>\n",
       "  <tbody>\n",
       "    <tr>\n",
       "      <th>0</th>\n",
       "      <td>PH</td>\n",
       "      <td>Mataderos</td>\n",
       "      <td>|Argentina|Capital Federal|Mataderos|</td>\n",
       "      <td>Capital Federal</td>\n",
       "      <td>62000.0</td>\n",
       "      <td>USD</td>\n",
       "      <td>1093959.0</td>\n",
       "      <td>62000.0</td>\n",
       "      <td>55.0</td>\n",
       "      <td>40.0</td>\n",
       "      <td>...</td>\n",
       "      <td>62000.0</td>\n",
       "      <td>55.0</td>\n",
       "      <td>40.0</td>\n",
       "      <td>1127.272727</td>\n",
       "      <td>1550.000000</td>\n",
       "      <td>0.0</td>\n",
       "      <td>0.0</td>\n",
       "      <td>0.0</td>\n",
       "      <td>0.0</td>\n",
       "      <td>1.0</td>\n",
       "    </tr>\n",
       "    <tr>\n",
       "      <th>2</th>\n",
       "      <td>apartment</td>\n",
       "      <td>Mataderos</td>\n",
       "      <td>|Argentina|Capital Federal|Mataderos|</td>\n",
       "      <td>Capital Federal</td>\n",
       "      <td>72000.0</td>\n",
       "      <td>USD</td>\n",
       "      <td>1270404.0</td>\n",
       "      <td>72000.0</td>\n",
       "      <td>55.0</td>\n",
       "      <td>55.0</td>\n",
       "      <td>...</td>\n",
       "      <td>72000.0</td>\n",
       "      <td>55.0</td>\n",
       "      <td>55.0</td>\n",
       "      <td>1309.090909</td>\n",
       "      <td>1309.090909</td>\n",
       "      <td>0.0</td>\n",
       "      <td>1.0</td>\n",
       "      <td>0.0</td>\n",
       "      <td>0.0</td>\n",
       "      <td>0.0</td>\n",
       "    </tr>\n",
       "    <tr>\n",
       "      <th>4</th>\n",
       "      <td>apartment</td>\n",
       "      <td>Centro</td>\n",
       "      <td>|Argentina|Buenos Aires Costa Atlánt...</td>\n",
       "      <td>Buenos Aires Costa Atlántica</td>\n",
       "      <td>64000.0</td>\n",
       "      <td>USD</td>\n",
       "      <td>1129248.0</td>\n",
       "      <td>64000.0</td>\n",
       "      <td>35.0</td>\n",
       "      <td>35.0</td>\n",
       "      <td>...</td>\n",
       "      <td>64000.0</td>\n",
       "      <td>35.0</td>\n",
       "      <td>35.0</td>\n",
       "      <td>1828.571429</td>\n",
       "      <td>1828.571429</td>\n",
       "      <td>0.0</td>\n",
       "      <td>1.0</td>\n",
       "      <td>0.0</td>\n",
       "      <td>0.0</td>\n",
       "      <td>0.0</td>\n",
       "    </tr>\n",
       "    <tr>\n",
       "      <th>6</th>\n",
       "      <td>PH</td>\n",
       "      <td>Munro</td>\n",
       "      <td>|Argentina|Bs.As. G.B.A. Zona Norte|...</td>\n",
       "      <td>Bs.As. G.B.A. Zona Norte</td>\n",
       "      <td>130000.0</td>\n",
       "      <td>USD</td>\n",
       "      <td>2293785.0</td>\n",
       "      <td>130000.0</td>\n",
       "      <td>106.0</td>\n",
       "      <td>78.0</td>\n",
       "      <td>...</td>\n",
       "      <td>130000.0</td>\n",
       "      <td>106.0</td>\n",
       "      <td>78.0</td>\n",
       "      <td>1226.415094</td>\n",
       "      <td>1666.666667</td>\n",
       "      <td>0.0</td>\n",
       "      <td>0.0</td>\n",
       "      <td>0.0</td>\n",
       "      <td>0.0</td>\n",
       "      <td>1.0</td>\n",
       "    </tr>\n",
       "    <tr>\n",
       "      <th>7</th>\n",
       "      <td>apartment</td>\n",
       "      <td>Belgrano</td>\n",
       "      <td>|Argentina|Capital Federal|Belgrano|</td>\n",
       "      <td>Capital Federal</td>\n",
       "      <td>138000.0</td>\n",
       "      <td>USD</td>\n",
       "      <td>2434941.0</td>\n",
       "      <td>138000.0</td>\n",
       "      <td>45.0</td>\n",
       "      <td>40.0</td>\n",
       "      <td>...</td>\n",
       "      <td>138000.0</td>\n",
       "      <td>45.0</td>\n",
       "      <td>40.0</td>\n",
       "      <td>3066.666667</td>\n",
       "      <td>3450.000000</td>\n",
       "      <td>0.0</td>\n",
       "      <td>0.0</td>\n",
       "      <td>0.0</td>\n",
       "      <td>1.0</td>\n",
       "      <td>1.0</td>\n",
       "    </tr>\n",
       "  </tbody>\n",
       "</table>\n",
       "<p>5 rows × 25 columns</p>\n",
       "</div>"
      ],
      "text/plain": [
       "  property_type place_name                  place_with_parent_names  \\\n",
       "0            PH  Mataderos    |Argentina|Capital Federal|Mataderos|   \n",
       "2     apartment  Mataderos    |Argentina|Capital Federal|Mataderos|   \n",
       "4     apartment     Centro  |Argentina|Buenos Aires Costa Atlánt...   \n",
       "6            PH      Munro  |Argentina|Bs.As. G.B.A. Zona Norte|...   \n",
       "7     apartment   Belgrano     |Argentina|Capital Federal|Belgrano|   \n",
       "\n",
       "                     state_name     price currency  \\\n",
       "0               Capital Federal   62000.0      USD   \n",
       "2               Capital Federal   72000.0      USD   \n",
       "4  Buenos Aires Costa Atlántica   64000.0      USD   \n",
       "6      Bs.As. G.B.A. Zona Norte  130000.0      USD   \n",
       "7               Capital Federal  138000.0      USD   \n",
       "\n",
       "   price_aprox_local_currency  price_aprox_usd  surface_total_in_m2  \\\n",
       "0                   1093959.0          62000.0                 55.0   \n",
       "2                   1270404.0          72000.0                 55.0   \n",
       "4                   1129248.0          64000.0                 35.0   \n",
       "6                   2293785.0         130000.0                106.0   \n",
       "7                   2434941.0         138000.0                 45.0   \n",
       "\n",
       "   surface_covered_in_m2  ...  price_USD  superficie_TOTAL  \\\n",
       "0                   40.0  ...    62000.0              55.0   \n",
       "2                   55.0  ...    72000.0              55.0   \n",
       "4                   35.0  ...    64000.0              35.0   \n",
       "6                   78.0  ...   130000.0             106.0   \n",
       "7                   40.0  ...   138000.0              45.0   \n",
       "\n",
       "   superficie_CUBIERTA precio_por_superficie_TOTAL  \\\n",
       "0                 40.0                 1127.272727   \n",
       "2                 55.0                 1309.090909   \n",
       "4                 35.0                 1828.571429   \n",
       "6                 78.0                 1226.415094   \n",
       "7                 40.0                 3066.666667   \n",
       "\n",
       "  precio_por_superficie_CUBIERTA  Cochera  Dism_Valor  A_reciclar  A_estrenar  \\\n",
       "0                    1550.000000      0.0         0.0         0.0         0.0   \n",
       "2                    1309.090909      0.0         1.0         0.0         0.0   \n",
       "4                    1828.571429      0.0         1.0         0.0         0.0   \n",
       "6                    1666.666667      0.0         0.0         0.0         0.0   \n",
       "7                    3450.000000      0.0         0.0         0.0         1.0   \n",
       "\n",
       "   Agr_Valor  \n",
       "0        1.0  \n",
       "2        0.0  \n",
       "4        0.0  \n",
       "6        1.0  \n",
       "7        1.0  \n",
       "\n",
       "[5 rows x 25 columns]"
      ]
     },
     "execution_count": 200,
     "metadata": {},
     "output_type": "execute_result"
    }
   ],
   "source": [
    "data_clean.head(5)"
   ]
  },
  {
   "cell_type": "code",
   "execution_count": 201,
   "metadata": {},
   "outputs": [],
   "source": [
    "#Puedo describir en general las métricas\n",
    "medidas= data_clean[[\"price_USD\", \"superficie_TOTAL\", \"superficie_CUBIERTA\", \"precio_por_superficie_TOTAL\", \"precio_por_superficie_CUBIERTA\"]].describe().round(2)"
   ]
  },
  {
   "cell_type": "code",
   "execution_count": 202,
   "metadata": {},
   "outputs": [
    {
     "data": {
      "text/html": [
       "<div>\n",
       "<style scoped>\n",
       "    .dataframe tbody tr th:only-of-type {\n",
       "        vertical-align: middle;\n",
       "    }\n",
       "\n",
       "    .dataframe tbody tr th {\n",
       "        vertical-align: top;\n",
       "    }\n",
       "\n",
       "    .dataframe thead th {\n",
       "        text-align: right;\n",
       "    }\n",
       "</style>\n",
       "<table border=\"1\" class=\"dataframe\">\n",
       "  <thead>\n",
       "    <tr style=\"text-align: right;\">\n",
       "      <th></th>\n",
       "      <th>price_USD</th>\n",
       "      <th>superficie_TOTAL</th>\n",
       "      <th>superficie_CUBIERTA</th>\n",
       "      <th>precio_por_superficie_TOTAL</th>\n",
       "      <th>precio_por_superficie_CUBIERTA</th>\n",
       "    </tr>\n",
       "  </thead>\n",
       "  <tbody>\n",
       "    <tr>\n",
       "      <th>count</th>\n",
       "      <td>68090.00</td>\n",
       "      <td>68090.00</td>\n",
       "      <td>68090.00</td>\n",
       "      <td>68090.00</td>\n",
       "      <td>68090.00</td>\n",
       "    </tr>\n",
       "    <tr>\n",
       "      <th>mean</th>\n",
       "      <td>145293.88</td>\n",
       "      <td>81.72</td>\n",
       "      <td>73.28</td>\n",
       "      <td>1980.68</td>\n",
       "      <td>2176.62</td>\n",
       "    </tr>\n",
       "    <tr>\n",
       "      <th>std</th>\n",
       "      <td>81917.33</td>\n",
       "      <td>49.34</td>\n",
       "      <td>42.54</td>\n",
       "      <td>893.14</td>\n",
       "      <td>984.17</td>\n",
       "    </tr>\n",
       "    <tr>\n",
       "      <th>min</th>\n",
       "      <td>10039.00</td>\n",
       "      <td>21.00</td>\n",
       "      <td>21.00</td>\n",
       "      <td>59.74</td>\n",
       "      <td>60.49</td>\n",
       "    </tr>\n",
       "    <tr>\n",
       "      <th>25%</th>\n",
       "      <td>84000.00</td>\n",
       "      <td>45.00</td>\n",
       "      <td>42.00</td>\n",
       "      <td>1402.10</td>\n",
       "      <td>1527.78</td>\n",
       "    </tr>\n",
       "    <tr>\n",
       "      <th>50%</th>\n",
       "      <td>123800.00</td>\n",
       "      <td>65.00</td>\n",
       "      <td>60.00</td>\n",
       "      <td>1882.35</td>\n",
       "      <td>2027.78</td>\n",
       "    </tr>\n",
       "    <tr>\n",
       "      <th>75%</th>\n",
       "      <td>185000.00</td>\n",
       "      <td>103.00</td>\n",
       "      <td>91.00</td>\n",
       "      <td>2437.50</td>\n",
       "      <td>2673.08</td>\n",
       "    </tr>\n",
       "    <tr>\n",
       "      <th>max</th>\n",
       "      <td>415962.00</td>\n",
       "      <td>254.00</td>\n",
       "      <td>208.00</td>\n",
       "      <td>16628.00</td>\n",
       "      <td>16628.00</td>\n",
       "    </tr>\n",
       "  </tbody>\n",
       "</table>\n",
       "</div>"
      ],
      "text/plain": [
       "       price_USD  superficie_TOTAL  superficie_CUBIERTA  \\\n",
       "count   68090.00          68090.00             68090.00   \n",
       "mean   145293.88             81.72                73.28   \n",
       "std     81917.33             49.34                42.54   \n",
       "min     10039.00             21.00                21.00   \n",
       "25%     84000.00             45.00                42.00   \n",
       "50%    123800.00             65.00                60.00   \n",
       "75%    185000.00            103.00                91.00   \n",
       "max    415962.00            254.00               208.00   \n",
       "\n",
       "       precio_por_superficie_TOTAL  precio_por_superficie_CUBIERTA  \n",
       "count                     68090.00                        68090.00  \n",
       "mean                       1980.68                         2176.62  \n",
       "std                         893.14                          984.17  \n",
       "min                          59.74                           60.49  \n",
       "25%                        1402.10                         1527.78  \n",
       "50%                        1882.35                         2027.78  \n",
       "75%                        2437.50                         2673.08  \n",
       "max                       16628.00                        16628.00  "
      ]
     },
     "execution_count": 202,
     "metadata": {},
     "output_type": "execute_result"
    }
   ],
   "source": [
    "medidas"
   ]
  },
  {
   "cell_type": "code",
   "execution_count": 203,
   "metadata": {},
   "outputs": [],
   "source": [
    "#Aplico Group by para ver info resumida\n",
    "data_grouped = data_clean.groupby('state_name')"
   ]
  },
  {
   "cell_type": "code",
   "execution_count": 204,
   "metadata": {},
   "outputs": [
    {
     "data": {
      "text/html": [
       "<div>\n",
       "<style scoped>\n",
       "    .dataframe tbody tr th:only-of-type {\n",
       "        vertical-align: middle;\n",
       "    }\n",
       "\n",
       "    .dataframe tbody tr th {\n",
       "        vertical-align: top;\n",
       "    }\n",
       "\n",
       "    .dataframe thead th {\n",
       "        text-align: right;\n",
       "    }\n",
       "</style>\n",
       "<table border=\"1\" class=\"dataframe\">\n",
       "  <thead>\n",
       "    <tr style=\"text-align: right;\">\n",
       "      <th></th>\n",
       "      <th>count</th>\n",
       "      <th>mean</th>\n",
       "      <th>std</th>\n",
       "      <th>min</th>\n",
       "      <th>25%</th>\n",
       "      <th>50%</th>\n",
       "      <th>75%</th>\n",
       "      <th>max</th>\n",
       "    </tr>\n",
       "    <tr>\n",
       "      <th>state_name</th>\n",
       "      <th></th>\n",
       "      <th></th>\n",
       "      <th></th>\n",
       "      <th></th>\n",
       "      <th></th>\n",
       "      <th></th>\n",
       "      <th></th>\n",
       "      <th></th>\n",
       "    </tr>\n",
       "  </thead>\n",
       "  <tbody>\n",
       "    <tr>\n",
       "      <th>Bs.As. G.B.A. Zona Norte</th>\n",
       "      <td>14016.0</td>\n",
       "      <td>184115.927155</td>\n",
       "      <td>86971.272685</td>\n",
       "      <td>10375.0</td>\n",
       "      <td>119000.00</td>\n",
       "      <td>165000.0</td>\n",
       "      <td>245000.00</td>\n",
       "      <td>415962.0</td>\n",
       "    </tr>\n",
       "    <tr>\n",
       "      <th>Bs.As. G.B.A. Zona Oeste</th>\n",
       "      <td>4750.0</td>\n",
       "      <td>113752.956211</td>\n",
       "      <td>63450.145179</td>\n",
       "      <td>14021.0</td>\n",
       "      <td>70026.25</td>\n",
       "      <td>90000.0</td>\n",
       "      <td>140000.00</td>\n",
       "      <td>410000.0</td>\n",
       "    </tr>\n",
       "    <tr>\n",
       "      <th>Bs.As. G.B.A. Zona Sur</th>\n",
       "      <td>7636.0</td>\n",
       "      <td>138795.937795</td>\n",
       "      <td>75153.660024</td>\n",
       "      <td>10656.0</td>\n",
       "      <td>83000.00</td>\n",
       "      <td>120000.0</td>\n",
       "      <td>170000.00</td>\n",
       "      <td>410300.0</td>\n",
       "    </tr>\n",
       "    <tr>\n",
       "      <th>Buenos Aires Costa Atlántica</th>\n",
       "      <td>6421.0</td>\n",
       "      <td>118350.577169</td>\n",
       "      <td>68701.753239</td>\n",
       "      <td>10375.0</td>\n",
       "      <td>69000.00</td>\n",
       "      <td>95900.0</td>\n",
       "      <td>149000.00</td>\n",
       "      <td>410000.0</td>\n",
       "    </tr>\n",
       "    <tr>\n",
       "      <th>Buenos Aires Interior</th>\n",
       "      <td>963.0</td>\n",
       "      <td>132681.188993</td>\n",
       "      <td>73259.501382</td>\n",
       "      <td>11111.0</td>\n",
       "      <td>78517.00</td>\n",
       "      <td>119998.0</td>\n",
       "      <td>170000.00</td>\n",
       "      <td>415000.0</td>\n",
       "    </tr>\n",
       "    <tr>\n",
       "      <th>Capital Federal</th>\n",
       "      <td>22902.0</td>\n",
       "      <td>159362.340582</td>\n",
       "      <td>82401.123468</td>\n",
       "      <td>10039.0</td>\n",
       "      <td>97000.00</td>\n",
       "      <td>135000.0</td>\n",
       "      <td>200000.00</td>\n",
       "      <td>415808.0</td>\n",
       "    </tr>\n",
       "    <tr>\n",
       "      <th>Catamarca</th>\n",
       "      <td>6.0</td>\n",
       "      <td>208191.000000</td>\n",
       "      <td>126073.536026</td>\n",
       "      <td>98146.0</td>\n",
       "      <td>114000.00</td>\n",
       "      <td>155500.0</td>\n",
       "      <td>301250.00</td>\n",
       "      <td>390000.0</td>\n",
       "    </tr>\n",
       "    <tr>\n",
       "      <th>Chaco</th>\n",
       "      <td>14.0</td>\n",
       "      <td>118138.714286</td>\n",
       "      <td>83110.897489</td>\n",
       "      <td>28042.0</td>\n",
       "      <td>56084.00</td>\n",
       "      <td>87911.5</td>\n",
       "      <td>166680.25</td>\n",
       "      <td>315000.0</td>\n",
       "    </tr>\n",
       "    <tr>\n",
       "      <th>Chubut</th>\n",
       "      <td>98.0</td>\n",
       "      <td>178691.408163</td>\n",
       "      <td>83118.914939</td>\n",
       "      <td>25798.0</td>\n",
       "      <td>120000.00</td>\n",
       "      <td>170000.0</td>\n",
       "      <td>230000.00</td>\n",
       "      <td>400000.0</td>\n",
       "    </tr>\n",
       "    <tr>\n",
       "      <th>Corrientes</th>\n",
       "      <td>349.0</td>\n",
       "      <td>153252.309456</td>\n",
       "      <td>73608.092334</td>\n",
       "      <td>32000.0</td>\n",
       "      <td>100000.00</td>\n",
       "      <td>135000.0</td>\n",
       "      <td>190000.00</td>\n",
       "      <td>400000.0</td>\n",
       "    </tr>\n",
       "    <tr>\n",
       "      <th>Córdoba</th>\n",
       "      <td>5120.0</td>\n",
       "      <td>102144.573828</td>\n",
       "      <td>54654.920566</td>\n",
       "      <td>10768.0</td>\n",
       "      <td>67117.50</td>\n",
       "      <td>87491.0</td>\n",
       "      <td>125510.25</td>\n",
       "      <td>410000.0</td>\n",
       "    </tr>\n",
       "    <tr>\n",
       "      <th>Entre Ríos</th>\n",
       "      <td>72.0</td>\n",
       "      <td>95742.541667</td>\n",
       "      <td>56930.288262</td>\n",
       "      <td>26920.0</td>\n",
       "      <td>51316.50</td>\n",
       "      <td>82723.5</td>\n",
       "      <td>123384.00</td>\n",
       "      <td>350000.0</td>\n",
       "    </tr>\n",
       "    <tr>\n",
       "      <th>Formosa</th>\n",
       "      <td>29.0</td>\n",
       "      <td>63463.758621</td>\n",
       "      <td>31645.098058</td>\n",
       "      <td>49954.0</td>\n",
       "      <td>49954.00</td>\n",
       "      <td>49954.0</td>\n",
       "      <td>58131.00</td>\n",
       "      <td>151267.0</td>\n",
       "    </tr>\n",
       "    <tr>\n",
       "      <th>Jujuy</th>\n",
       "      <td>3.0</td>\n",
       "      <td>61318.333333</td>\n",
       "      <td>19879.022520</td>\n",
       "      <td>47671.0</td>\n",
       "      <td>49914.50</td>\n",
       "      <td>52158.0</td>\n",
       "      <td>68142.00</td>\n",
       "      <td>84126.0</td>\n",
       "    </tr>\n",
       "    <tr>\n",
       "      <th>La Pampa</th>\n",
       "      <td>17.0</td>\n",
       "      <td>117759.000000</td>\n",
       "      <td>73290.525889</td>\n",
       "      <td>39259.0</td>\n",
       "      <td>61692.00</td>\n",
       "      <td>100951.0</td>\n",
       "      <td>145818.00</td>\n",
       "      <td>308460.0</td>\n",
       "    </tr>\n",
       "    <tr>\n",
       "      <th>La Rioja</th>\n",
       "      <td>1.0</td>\n",
       "      <td>49000.000000</td>\n",
       "      <td>NaN</td>\n",
       "      <td>49000.0</td>\n",
       "      <td>49000.00</td>\n",
       "      <td>49000.0</td>\n",
       "      <td>49000.00</td>\n",
       "      <td>49000.0</td>\n",
       "    </tr>\n",
       "    <tr>\n",
       "      <th>Mendoza</th>\n",
       "      <td>314.0</td>\n",
       "      <td>116470.697452</td>\n",
       "      <td>63207.737844</td>\n",
       "      <td>11217.0</td>\n",
       "      <td>78096.25</td>\n",
       "      <td>95250.0</td>\n",
       "      <td>144500.00</td>\n",
       "      <td>410000.0</td>\n",
       "    </tr>\n",
       "    <tr>\n",
       "      <th>Misiones</th>\n",
       "      <td>122.0</td>\n",
       "      <td>95751.000000</td>\n",
       "      <td>52215.159184</td>\n",
       "      <td>30846.0</td>\n",
       "      <td>53279.00</td>\n",
       "      <td>84126.0</td>\n",
       "      <td>114690.75</td>\n",
       "      <td>284866.0</td>\n",
       "    </tr>\n",
       "    <tr>\n",
       "      <th>Neuquén</th>\n",
       "      <td>227.0</td>\n",
       "      <td>129725.806167</td>\n",
       "      <td>56471.859358</td>\n",
       "      <td>29164.0</td>\n",
       "      <td>94947.00</td>\n",
       "      <td>117551.0</td>\n",
       "      <td>149956.00</td>\n",
       "      <td>384398.0</td>\n",
       "    </tr>\n",
       "    <tr>\n",
       "      <th>Río Negro</th>\n",
       "      <td>225.0</td>\n",
       "      <td>151892.497778</td>\n",
       "      <td>93368.769868</td>\n",
       "      <td>19629.0</td>\n",
       "      <td>82000.00</td>\n",
       "      <td>125000.0</td>\n",
       "      <td>195000.00</td>\n",
       "      <td>415000.0</td>\n",
       "    </tr>\n",
       "    <tr>\n",
       "      <th>Salta</th>\n",
       "      <td>55.0</td>\n",
       "      <td>86697.800000</td>\n",
       "      <td>46021.242499</td>\n",
       "      <td>29164.0</td>\n",
       "      <td>53279.00</td>\n",
       "      <td>72909.0</td>\n",
       "      <td>103959.00</td>\n",
       "      <td>250000.0</td>\n",
       "    </tr>\n",
       "    <tr>\n",
       "      <th>San Juan</th>\n",
       "      <td>2.0</td>\n",
       "      <td>60290.000000</td>\n",
       "      <td>49571.013788</td>\n",
       "      <td>25238.0</td>\n",
       "      <td>42764.00</td>\n",
       "      <td>60290.0</td>\n",
       "      <td>77816.00</td>\n",
       "      <td>95342.0</td>\n",
       "    </tr>\n",
       "    <tr>\n",
       "      <th>San Luis</th>\n",
       "      <td>84.0</td>\n",
       "      <td>133594.428571</td>\n",
       "      <td>60508.580419</td>\n",
       "      <td>40000.0</td>\n",
       "      <td>90000.00</td>\n",
       "      <td>122500.0</td>\n",
       "      <td>166250.00</td>\n",
       "      <td>360000.0</td>\n",
       "    </tr>\n",
       "    <tr>\n",
       "      <th>Santa Cruz</th>\n",
       "      <td>5.0</td>\n",
       "      <td>133197.800000</td>\n",
       "      <td>49131.608204</td>\n",
       "      <td>72909.0</td>\n",
       "      <td>100951.00</td>\n",
       "      <td>130000.0</td>\n",
       "      <td>167129.00</td>\n",
       "      <td>195000.0</td>\n",
       "    </tr>\n",
       "    <tr>\n",
       "      <th>Santa Fe</th>\n",
       "      <td>4484.0</td>\n",
       "      <td>94183.547279</td>\n",
       "      <td>58680.527155</td>\n",
       "      <td>10095.0</td>\n",
       "      <td>58888.00</td>\n",
       "      <td>76274.0</td>\n",
       "      <td>107529.50</td>\n",
       "      <td>415000.0</td>\n",
       "    </tr>\n",
       "    <tr>\n",
       "      <th>Santiago Del Estero</th>\n",
       "      <td>1.0</td>\n",
       "      <td>30285.000000</td>\n",
       "      <td>NaN</td>\n",
       "      <td>30285.0</td>\n",
       "      <td>30285.00</td>\n",
       "      <td>30285.0</td>\n",
       "      <td>30285.00</td>\n",
       "      <td>30285.0</td>\n",
       "    </tr>\n",
       "    <tr>\n",
       "      <th>Tierra Del Fuego</th>\n",
       "      <td>19.0</td>\n",
       "      <td>132462.052632</td>\n",
       "      <td>72127.586222</td>\n",
       "      <td>42063.0</td>\n",
       "      <td>86930.00</td>\n",
       "      <td>98427.0</td>\n",
       "      <td>173146.50</td>\n",
       "      <td>280418.0</td>\n",
       "    </tr>\n",
       "    <tr>\n",
       "      <th>Tucumán</th>\n",
       "      <td>155.0</td>\n",
       "      <td>87307.277419</td>\n",
       "      <td>50673.504540</td>\n",
       "      <td>16720.0</td>\n",
       "      <td>53700.00</td>\n",
       "      <td>78517.0</td>\n",
       "      <td>104177.00</td>\n",
       "      <td>317434.0</td>\n",
       "    </tr>\n",
       "  </tbody>\n",
       "</table>\n",
       "</div>"
      ],
      "text/plain": [
       "                                count           mean            std      min  \\\n",
       "state_name                                                                     \n",
       "Bs.As. G.B.A. Zona Norte      14016.0  184115.927155   86971.272685  10375.0   \n",
       "Bs.As. G.B.A. Zona Oeste       4750.0  113752.956211   63450.145179  14021.0   \n",
       "Bs.As. G.B.A. Zona Sur         7636.0  138795.937795   75153.660024  10656.0   \n",
       "Buenos Aires Costa Atlántica   6421.0  118350.577169   68701.753239  10375.0   \n",
       "Buenos Aires Interior           963.0  132681.188993   73259.501382  11111.0   \n",
       "Capital Federal               22902.0  159362.340582   82401.123468  10039.0   \n",
       "Catamarca                         6.0  208191.000000  126073.536026  98146.0   \n",
       "Chaco                            14.0  118138.714286   83110.897489  28042.0   \n",
       "Chubut                           98.0  178691.408163   83118.914939  25798.0   \n",
       "Corrientes                      349.0  153252.309456   73608.092334  32000.0   \n",
       "Córdoba                        5120.0  102144.573828   54654.920566  10768.0   \n",
       "Entre Ríos                       72.0   95742.541667   56930.288262  26920.0   \n",
       "Formosa                          29.0   63463.758621   31645.098058  49954.0   \n",
       "Jujuy                             3.0   61318.333333   19879.022520  47671.0   \n",
       "La Pampa                         17.0  117759.000000   73290.525889  39259.0   \n",
       "La Rioja                          1.0   49000.000000            NaN  49000.0   \n",
       "Mendoza                         314.0  116470.697452   63207.737844  11217.0   \n",
       "Misiones                        122.0   95751.000000   52215.159184  30846.0   \n",
       "Neuquén                         227.0  129725.806167   56471.859358  29164.0   \n",
       "Río Negro                       225.0  151892.497778   93368.769868  19629.0   \n",
       "Salta                            55.0   86697.800000   46021.242499  29164.0   \n",
       "San Juan                          2.0   60290.000000   49571.013788  25238.0   \n",
       "San Luis                         84.0  133594.428571   60508.580419  40000.0   \n",
       "Santa Cruz                        5.0  133197.800000   49131.608204  72909.0   \n",
       "Santa Fe                       4484.0   94183.547279   58680.527155  10095.0   \n",
       "Santiago Del Estero               1.0   30285.000000            NaN  30285.0   \n",
       "Tierra Del Fuego                 19.0  132462.052632   72127.586222  42063.0   \n",
       "Tucumán                         155.0   87307.277419   50673.504540  16720.0   \n",
       "\n",
       "                                    25%       50%        75%       max  \n",
       "state_name                                                              \n",
       "Bs.As. G.B.A. Zona Norte      119000.00  165000.0  245000.00  415962.0  \n",
       "Bs.As. G.B.A. Zona Oeste       70026.25   90000.0  140000.00  410000.0  \n",
       "Bs.As. G.B.A. Zona Sur         83000.00  120000.0  170000.00  410300.0  \n",
       "Buenos Aires Costa Atlántica   69000.00   95900.0  149000.00  410000.0  \n",
       "Buenos Aires Interior          78517.00  119998.0  170000.00  415000.0  \n",
       "Capital Federal                97000.00  135000.0  200000.00  415808.0  \n",
       "Catamarca                     114000.00  155500.0  301250.00  390000.0  \n",
       "Chaco                          56084.00   87911.5  166680.25  315000.0  \n",
       "Chubut                        120000.00  170000.0  230000.00  400000.0  \n",
       "Corrientes                    100000.00  135000.0  190000.00  400000.0  \n",
       "Córdoba                        67117.50   87491.0  125510.25  410000.0  \n",
       "Entre Ríos                     51316.50   82723.5  123384.00  350000.0  \n",
       "Formosa                        49954.00   49954.0   58131.00  151267.0  \n",
       "Jujuy                          49914.50   52158.0   68142.00   84126.0  \n",
       "La Pampa                       61692.00  100951.0  145818.00  308460.0  \n",
       "La Rioja                       49000.00   49000.0   49000.00   49000.0  \n",
       "Mendoza                        78096.25   95250.0  144500.00  410000.0  \n",
       "Misiones                       53279.00   84126.0  114690.75  284866.0  \n",
       "Neuquén                        94947.00  117551.0  149956.00  384398.0  \n",
       "Río Negro                      82000.00  125000.0  195000.00  415000.0  \n",
       "Salta                          53279.00   72909.0  103959.00  250000.0  \n",
       "San Juan                       42764.00   60290.0   77816.00   95342.0  \n",
       "San Luis                       90000.00  122500.0  166250.00  360000.0  \n",
       "Santa Cruz                    100951.00  130000.0  167129.00  195000.0  \n",
       "Santa Fe                       58888.00   76274.0  107529.50  415000.0  \n",
       "Santiago Del Estero            30285.00   30285.0   30285.00   30285.0  \n",
       "Tierra Del Fuego               86930.00   98427.0  173146.50  280418.0  \n",
       "Tucumán                        53700.00   78517.0  104177.00  317434.0  "
      ]
     },
     "execution_count": 204,
     "metadata": {},
     "output_type": "execute_result"
    }
   ],
   "source": [
    "Analisis=data_grouped['price_USD'].describe()\n",
    "Analisis"
   ]
  },
  {
   "cell_type": "code",
   "execution_count": 205,
   "metadata": {},
   "outputs": [
    {
     "data": {
      "text/html": [
       "<div>\n",
       "<style scoped>\n",
       "    .dataframe tbody tr th:only-of-type {\n",
       "        vertical-align: middle;\n",
       "    }\n",
       "\n",
       "    .dataframe tbody tr th {\n",
       "        vertical-align: top;\n",
       "    }\n",
       "\n",
       "    .dataframe thead th {\n",
       "        text-align: right;\n",
       "    }\n",
       "</style>\n",
       "<table border=\"1\" class=\"dataframe\">\n",
       "  <thead>\n",
       "    <tr style=\"text-align: right;\">\n",
       "      <th></th>\n",
       "      <th>count</th>\n",
       "      <th>mean</th>\n",
       "      <th>std</th>\n",
       "      <th>min</th>\n",
       "      <th>25%</th>\n",
       "      <th>50%</th>\n",
       "      <th>75%</th>\n",
       "      <th>max</th>\n",
       "    </tr>\n",
       "    <tr>\n",
       "      <th>state_name</th>\n",
       "      <th></th>\n",
       "      <th></th>\n",
       "      <th></th>\n",
       "      <th></th>\n",
       "      <th></th>\n",
       "      <th></th>\n",
       "      <th></th>\n",
       "      <th></th>\n",
       "    </tr>\n",
       "  </thead>\n",
       "  <tbody>\n",
       "    <tr>\n",
       "      <th>Bs.As. G.B.A. Zona Norte</th>\n",
       "      <td>14016.0</td>\n",
       "      <td>100.763342</td>\n",
       "      <td>54.050173</td>\n",
       "      <td>21.0</td>\n",
       "      <td>58.00</td>\n",
       "      <td>82.0</td>\n",
       "      <td>137.00</td>\n",
       "      <td>254.0</td>\n",
       "    </tr>\n",
       "    <tr>\n",
       "      <th>Bs.As. G.B.A. Zona Oeste</th>\n",
       "      <td>4750.0</td>\n",
       "      <td>86.716842</td>\n",
       "      <td>57.178052</td>\n",
       "      <td>22.0</td>\n",
       "      <td>43.00</td>\n",
       "      <td>64.0</td>\n",
       "      <td>118.00</td>\n",
       "      <td>252.0</td>\n",
       "    </tr>\n",
       "    <tr>\n",
       "      <th>Bs.As. G.B.A. Zona Sur</th>\n",
       "      <td>7636.0</td>\n",
       "      <td>94.556050</td>\n",
       "      <td>52.372465</td>\n",
       "      <td>21.0</td>\n",
       "      <td>50.00</td>\n",
       "      <td>79.0</td>\n",
       "      <td>130.00</td>\n",
       "      <td>254.0</td>\n",
       "    </tr>\n",
       "    <tr>\n",
       "      <th>Buenos Aires Costa Atlántica</th>\n",
       "      <td>6421.0</td>\n",
       "      <td>73.217256</td>\n",
       "      <td>46.828400</td>\n",
       "      <td>21.0</td>\n",
       "      <td>40.00</td>\n",
       "      <td>60.0</td>\n",
       "      <td>87.00</td>\n",
       "      <td>251.0</td>\n",
       "    </tr>\n",
       "    <tr>\n",
       "      <th>Buenos Aires Interior</th>\n",
       "      <td>963.0</td>\n",
       "      <td>96.524403</td>\n",
       "      <td>55.683563</td>\n",
       "      <td>22.0</td>\n",
       "      <td>50.00</td>\n",
       "      <td>80.0</td>\n",
       "      <td>130.00</td>\n",
       "      <td>250.0</td>\n",
       "    </tr>\n",
       "    <tr>\n",
       "      <th>Capital Federal</th>\n",
       "      <td>22902.0</td>\n",
       "      <td>68.161864</td>\n",
       "      <td>38.976470</td>\n",
       "      <td>21.0</td>\n",
       "      <td>40.00</td>\n",
       "      <td>55.0</td>\n",
       "      <td>83.00</td>\n",
       "      <td>254.0</td>\n",
       "    </tr>\n",
       "    <tr>\n",
       "      <th>Catamarca</th>\n",
       "      <td>6.0</td>\n",
       "      <td>167.333333</td>\n",
       "      <td>70.910272</td>\n",
       "      <td>76.0</td>\n",
       "      <td>108.50</td>\n",
       "      <td>204.0</td>\n",
       "      <td>208.00</td>\n",
       "      <td>234.0</td>\n",
       "    </tr>\n",
       "    <tr>\n",
       "      <th>Chaco</th>\n",
       "      <td>14.0</td>\n",
       "      <td>116.500000</td>\n",
       "      <td>55.758752</td>\n",
       "      <td>41.0</td>\n",
       "      <td>64.75</td>\n",
       "      <td>125.5</td>\n",
       "      <td>157.75</td>\n",
       "      <td>200.0</td>\n",
       "    </tr>\n",
       "    <tr>\n",
       "      <th>Chubut</th>\n",
       "      <td>98.0</td>\n",
       "      <td>115.040816</td>\n",
       "      <td>48.874744</td>\n",
       "      <td>28.0</td>\n",
       "      <td>79.25</td>\n",
       "      <td>107.5</td>\n",
       "      <td>150.00</td>\n",
       "      <td>205.0</td>\n",
       "    </tr>\n",
       "    <tr>\n",
       "      <th>Corrientes</th>\n",
       "      <td>349.0</td>\n",
       "      <td>105.638968</td>\n",
       "      <td>49.448816</td>\n",
       "      <td>30.0</td>\n",
       "      <td>65.00</td>\n",
       "      <td>93.0</td>\n",
       "      <td>140.00</td>\n",
       "      <td>254.0</td>\n",
       "    </tr>\n",
       "    <tr>\n",
       "      <th>Córdoba</th>\n",
       "      <td>5120.0</td>\n",
       "      <td>86.293164</td>\n",
       "      <td>48.003803</td>\n",
       "      <td>21.0</td>\n",
       "      <td>50.00</td>\n",
       "      <td>67.0</td>\n",
       "      <td>112.25</td>\n",
       "      <td>253.0</td>\n",
       "    </tr>\n",
       "    <tr>\n",
       "      <th>Entre Ríos</th>\n",
       "      <td>72.0</td>\n",
       "      <td>99.611111</td>\n",
       "      <td>55.401367</td>\n",
       "      <td>24.0</td>\n",
       "      <td>60.00</td>\n",
       "      <td>80.0</td>\n",
       "      <td>122.50</td>\n",
       "      <td>250.0</td>\n",
       "    </tr>\n",
       "    <tr>\n",
       "      <th>Formosa</th>\n",
       "      <td>29.0</td>\n",
       "      <td>42.034483</td>\n",
       "      <td>20.908786</td>\n",
       "      <td>33.0</td>\n",
       "      <td>33.00</td>\n",
       "      <td>33.0</td>\n",
       "      <td>39.00</td>\n",
       "      <td>100.0</td>\n",
       "    </tr>\n",
       "    <tr>\n",
       "      <th>Jujuy</th>\n",
       "      <td>3.0</td>\n",
       "      <td>107.000000</td>\n",
       "      <td>81.221918</td>\n",
       "      <td>50.0</td>\n",
       "      <td>60.50</td>\n",
       "      <td>71.0</td>\n",
       "      <td>135.50</td>\n",
       "      <td>200.0</td>\n",
       "    </tr>\n",
       "    <tr>\n",
       "      <th>La Pampa</th>\n",
       "      <td>17.0</td>\n",
       "      <td>121.000000</td>\n",
       "      <td>73.781773</td>\n",
       "      <td>30.0</td>\n",
       "      <td>65.00</td>\n",
       "      <td>100.0</td>\n",
       "      <td>180.00</td>\n",
       "      <td>250.0</td>\n",
       "    </tr>\n",
       "    <tr>\n",
       "      <th>La Rioja</th>\n",
       "      <td>1.0</td>\n",
       "      <td>90.000000</td>\n",
       "      <td>NaN</td>\n",
       "      <td>90.0</td>\n",
       "      <td>90.00</td>\n",
       "      <td>90.0</td>\n",
       "      <td>90.00</td>\n",
       "      <td>90.0</td>\n",
       "    </tr>\n",
       "    <tr>\n",
       "      <th>Mendoza</th>\n",
       "      <td>314.0</td>\n",
       "      <td>90.789809</td>\n",
       "      <td>47.413420</td>\n",
       "      <td>27.0</td>\n",
       "      <td>57.25</td>\n",
       "      <td>81.0</td>\n",
       "      <td>109.50</td>\n",
       "      <td>252.0</td>\n",
       "    </tr>\n",
       "    <tr>\n",
       "      <th>Misiones</th>\n",
       "      <td>122.0</td>\n",
       "      <td>94.918033</td>\n",
       "      <td>55.047176</td>\n",
       "      <td>26.0</td>\n",
       "      <td>58.50</td>\n",
       "      <td>75.5</td>\n",
       "      <td>114.25</td>\n",
       "      <td>250.0</td>\n",
       "    </tr>\n",
       "    <tr>\n",
       "      <th>Neuquén</th>\n",
       "      <td>227.0</td>\n",
       "      <td>75.193833</td>\n",
       "      <td>37.406253</td>\n",
       "      <td>29.0</td>\n",
       "      <td>48.00</td>\n",
       "      <td>65.0</td>\n",
       "      <td>89.50</td>\n",
       "      <td>226.0</td>\n",
       "    </tr>\n",
       "    <tr>\n",
       "      <th>Río Negro</th>\n",
       "      <td>225.0</td>\n",
       "      <td>87.871111</td>\n",
       "      <td>46.616179</td>\n",
       "      <td>24.0</td>\n",
       "      <td>52.00</td>\n",
       "      <td>77.0</td>\n",
       "      <td>112.00</td>\n",
       "      <td>235.0</td>\n",
       "    </tr>\n",
       "    <tr>\n",
       "      <th>Salta</th>\n",
       "      <td>55.0</td>\n",
       "      <td>79.000000</td>\n",
       "      <td>50.629372</td>\n",
       "      <td>22.0</td>\n",
       "      <td>45.00</td>\n",
       "      <td>64.0</td>\n",
       "      <td>85.00</td>\n",
       "      <td>250.0</td>\n",
       "    </tr>\n",
       "    <tr>\n",
       "      <th>San Juan</th>\n",
       "      <td>2.0</td>\n",
       "      <td>178.000000</td>\n",
       "      <td>101.823376</td>\n",
       "      <td>106.0</td>\n",
       "      <td>142.00</td>\n",
       "      <td>178.0</td>\n",
       "      <td>214.00</td>\n",
       "      <td>250.0</td>\n",
       "    </tr>\n",
       "    <tr>\n",
       "      <th>San Luis</th>\n",
       "      <td>84.0</td>\n",
       "      <td>113.476190</td>\n",
       "      <td>50.480218</td>\n",
       "      <td>43.0</td>\n",
       "      <td>74.50</td>\n",
       "      <td>100.0</td>\n",
       "      <td>146.25</td>\n",
       "      <td>243.0</td>\n",
       "    </tr>\n",
       "    <tr>\n",
       "      <th>Santa Cruz</th>\n",
       "      <td>5.0</td>\n",
       "      <td>170.600000</td>\n",
       "      <td>74.644491</td>\n",
       "      <td>60.0</td>\n",
       "      <td>153.00</td>\n",
       "      <td>160.0</td>\n",
       "      <td>240.00</td>\n",
       "      <td>240.0</td>\n",
       "    </tr>\n",
       "    <tr>\n",
       "      <th>Santa Fe</th>\n",
       "      <td>4484.0</td>\n",
       "      <td>62.611954</td>\n",
       "      <td>38.546919</td>\n",
       "      <td>21.0</td>\n",
       "      <td>38.00</td>\n",
       "      <td>49.0</td>\n",
       "      <td>72.00</td>\n",
       "      <td>254.0</td>\n",
       "    </tr>\n",
       "    <tr>\n",
       "      <th>Santiago Del Estero</th>\n",
       "      <td>1.0</td>\n",
       "      <td>59.000000</td>\n",
       "      <td>NaN</td>\n",
       "      <td>59.0</td>\n",
       "      <td>59.00</td>\n",
       "      <td>59.0</td>\n",
       "      <td>59.00</td>\n",
       "      <td>59.0</td>\n",
       "    </tr>\n",
       "    <tr>\n",
       "      <th>Tierra Del Fuego</th>\n",
       "      <td>19.0</td>\n",
       "      <td>135.789474</td>\n",
       "      <td>76.801750</td>\n",
       "      <td>35.0</td>\n",
       "      <td>70.00</td>\n",
       "      <td>98.0</td>\n",
       "      <td>200.00</td>\n",
       "      <td>240.0</td>\n",
       "    </tr>\n",
       "    <tr>\n",
       "      <th>Tucumán</th>\n",
       "      <td>155.0</td>\n",
       "      <td>99.283871</td>\n",
       "      <td>44.259969</td>\n",
       "      <td>24.0</td>\n",
       "      <td>70.00</td>\n",
       "      <td>90.0</td>\n",
       "      <td>123.50</td>\n",
       "      <td>200.0</td>\n",
       "    </tr>\n",
       "  </tbody>\n",
       "</table>\n",
       "</div>"
      ],
      "text/plain": [
       "                                count        mean         std    min     25%  \\\n",
       "state_name                                                                     \n",
       "Bs.As. G.B.A. Zona Norte      14016.0  100.763342   54.050173   21.0   58.00   \n",
       "Bs.As. G.B.A. Zona Oeste       4750.0   86.716842   57.178052   22.0   43.00   \n",
       "Bs.As. G.B.A. Zona Sur         7636.0   94.556050   52.372465   21.0   50.00   \n",
       "Buenos Aires Costa Atlántica   6421.0   73.217256   46.828400   21.0   40.00   \n",
       "Buenos Aires Interior           963.0   96.524403   55.683563   22.0   50.00   \n",
       "Capital Federal               22902.0   68.161864   38.976470   21.0   40.00   \n",
       "Catamarca                         6.0  167.333333   70.910272   76.0  108.50   \n",
       "Chaco                            14.0  116.500000   55.758752   41.0   64.75   \n",
       "Chubut                           98.0  115.040816   48.874744   28.0   79.25   \n",
       "Corrientes                      349.0  105.638968   49.448816   30.0   65.00   \n",
       "Córdoba                        5120.0   86.293164   48.003803   21.0   50.00   \n",
       "Entre Ríos                       72.0   99.611111   55.401367   24.0   60.00   \n",
       "Formosa                          29.0   42.034483   20.908786   33.0   33.00   \n",
       "Jujuy                             3.0  107.000000   81.221918   50.0   60.50   \n",
       "La Pampa                         17.0  121.000000   73.781773   30.0   65.00   \n",
       "La Rioja                          1.0   90.000000         NaN   90.0   90.00   \n",
       "Mendoza                         314.0   90.789809   47.413420   27.0   57.25   \n",
       "Misiones                        122.0   94.918033   55.047176   26.0   58.50   \n",
       "Neuquén                         227.0   75.193833   37.406253   29.0   48.00   \n",
       "Río Negro                       225.0   87.871111   46.616179   24.0   52.00   \n",
       "Salta                            55.0   79.000000   50.629372   22.0   45.00   \n",
       "San Juan                          2.0  178.000000  101.823376  106.0  142.00   \n",
       "San Luis                         84.0  113.476190   50.480218   43.0   74.50   \n",
       "Santa Cruz                        5.0  170.600000   74.644491   60.0  153.00   \n",
       "Santa Fe                       4484.0   62.611954   38.546919   21.0   38.00   \n",
       "Santiago Del Estero               1.0   59.000000         NaN   59.0   59.00   \n",
       "Tierra Del Fuego                 19.0  135.789474   76.801750   35.0   70.00   \n",
       "Tucumán                         155.0   99.283871   44.259969   24.0   70.00   \n",
       "\n",
       "                                50%     75%    max  \n",
       "state_name                                          \n",
       "Bs.As. G.B.A. Zona Norte       82.0  137.00  254.0  \n",
       "Bs.As. G.B.A. Zona Oeste       64.0  118.00  252.0  \n",
       "Bs.As. G.B.A. Zona Sur         79.0  130.00  254.0  \n",
       "Buenos Aires Costa Atlántica   60.0   87.00  251.0  \n",
       "Buenos Aires Interior          80.0  130.00  250.0  \n",
       "Capital Federal                55.0   83.00  254.0  \n",
       "Catamarca                     204.0  208.00  234.0  \n",
       "Chaco                         125.5  157.75  200.0  \n",
       "Chubut                        107.5  150.00  205.0  \n",
       "Corrientes                     93.0  140.00  254.0  \n",
       "Córdoba                        67.0  112.25  253.0  \n",
       "Entre Ríos                     80.0  122.50  250.0  \n",
       "Formosa                        33.0   39.00  100.0  \n",
       "Jujuy                          71.0  135.50  200.0  \n",
       "La Pampa                      100.0  180.00  250.0  \n",
       "La Rioja                       90.0   90.00   90.0  \n",
       "Mendoza                        81.0  109.50  252.0  \n",
       "Misiones                       75.5  114.25  250.0  \n",
       "Neuquén                        65.0   89.50  226.0  \n",
       "Río Negro                      77.0  112.00  235.0  \n",
       "Salta                          64.0   85.00  250.0  \n",
       "San Juan                      178.0  214.00  250.0  \n",
       "San Luis                      100.0  146.25  243.0  \n",
       "Santa Cruz                    160.0  240.00  240.0  \n",
       "Santa Fe                       49.0   72.00  254.0  \n",
       "Santiago Del Estero            59.0   59.00   59.0  \n",
       "Tierra Del Fuego               98.0  200.00  240.0  \n",
       "Tucumán                        90.0  123.50  200.0  "
      ]
     },
     "execution_count": 205,
     "metadata": {},
     "output_type": "execute_result"
    }
   ],
   "source": [
    "data_grouped['superficie_TOTAL'].describe()"
   ]
  },
  {
   "cell_type": "code",
   "execution_count": 206,
   "metadata": {},
   "outputs": [
    {
     "data": {
      "text/html": [
       "<div>\n",
       "<style scoped>\n",
       "    .dataframe tbody tr th:only-of-type {\n",
       "        vertical-align: middle;\n",
       "    }\n",
       "\n",
       "    .dataframe tbody tr th {\n",
       "        vertical-align: top;\n",
       "    }\n",
       "\n",
       "    .dataframe thead th {\n",
       "        text-align: right;\n",
       "    }\n",
       "</style>\n",
       "<table border=\"1\" class=\"dataframe\">\n",
       "  <thead>\n",
       "    <tr style=\"text-align: right;\">\n",
       "      <th></th>\n",
       "      <th>count</th>\n",
       "      <th>mean</th>\n",
       "      <th>std</th>\n",
       "      <th>min</th>\n",
       "      <th>25%</th>\n",
       "      <th>50%</th>\n",
       "      <th>75%</th>\n",
       "      <th>max</th>\n",
       "    </tr>\n",
       "    <tr>\n",
       "      <th>state_name</th>\n",
       "      <th></th>\n",
       "      <th></th>\n",
       "      <th></th>\n",
       "      <th></th>\n",
       "      <th></th>\n",
       "      <th></th>\n",
       "      <th></th>\n",
       "      <th></th>\n",
       "    </tr>\n",
       "  </thead>\n",
       "  <tbody>\n",
       "    <tr>\n",
       "      <th>Bs.As. G.B.A. Zona Norte</th>\n",
       "      <td>14016.0</td>\n",
       "      <td>88.987657</td>\n",
       "      <td>47.507104</td>\n",
       "      <td>21.0</td>\n",
       "      <td>52.00</td>\n",
       "      <td>73.0</td>\n",
       "      <td>119.0</td>\n",
       "      <td>208.0</td>\n",
       "    </tr>\n",
       "    <tr>\n",
       "      <th>Bs.As. G.B.A. Zona Oeste</th>\n",
       "      <td>4750.0</td>\n",
       "      <td>73.831789</td>\n",
       "      <td>43.279604</td>\n",
       "      <td>21.0</td>\n",
       "      <td>40.00</td>\n",
       "      <td>59.0</td>\n",
       "      <td>98.0</td>\n",
       "      <td>207.0</td>\n",
       "    </tr>\n",
       "    <tr>\n",
       "      <th>Bs.As. G.B.A. Zona Sur</th>\n",
       "      <td>7636.0</td>\n",
       "      <td>87.736904</td>\n",
       "      <td>47.107160</td>\n",
       "      <td>21.0</td>\n",
       "      <td>49.00</td>\n",
       "      <td>74.0</td>\n",
       "      <td>120.0</td>\n",
       "      <td>208.0</td>\n",
       "    </tr>\n",
       "    <tr>\n",
       "      <th>Buenos Aires Costa Atlántica</th>\n",
       "      <td>6421.0</td>\n",
       "      <td>66.632767</td>\n",
       "      <td>37.921024</td>\n",
       "      <td>21.0</td>\n",
       "      <td>40.00</td>\n",
       "      <td>55.0</td>\n",
       "      <td>80.0</td>\n",
       "      <td>208.0</td>\n",
       "    </tr>\n",
       "    <tr>\n",
       "      <th>Buenos Aires Interior</th>\n",
       "      <td>963.0</td>\n",
       "      <td>87.093458</td>\n",
       "      <td>45.381607</td>\n",
       "      <td>22.0</td>\n",
       "      <td>50.00</td>\n",
       "      <td>75.0</td>\n",
       "      <td>114.5</td>\n",
       "      <td>206.0</td>\n",
       "    </tr>\n",
       "    <tr>\n",
       "      <th>Capital Federal</th>\n",
       "      <td>22902.0</td>\n",
       "      <td>60.674570</td>\n",
       "      <td>32.881804</td>\n",
       "      <td>21.0</td>\n",
       "      <td>37.00</td>\n",
       "      <td>50.0</td>\n",
       "      <td>74.0</td>\n",
       "      <td>208.0</td>\n",
       "    </tr>\n",
       "    <tr>\n",
       "      <th>Catamarca</th>\n",
       "      <td>6.0</td>\n",
       "      <td>158.500000</td>\n",
       "      <td>63.899139</td>\n",
       "      <td>76.0</td>\n",
       "      <td>103.75</td>\n",
       "      <td>190.5</td>\n",
       "      <td>206.0</td>\n",
       "      <td>208.0</td>\n",
       "    </tr>\n",
       "    <tr>\n",
       "      <th>Chaco</th>\n",
       "      <td>14.0</td>\n",
       "      <td>109.857143</td>\n",
       "      <td>53.544887</td>\n",
       "      <td>38.0</td>\n",
       "      <td>61.75</td>\n",
       "      <td>108.5</td>\n",
       "      <td>154.0</td>\n",
       "      <td>200.0</td>\n",
       "    </tr>\n",
       "    <tr>\n",
       "      <th>Chubut</th>\n",
       "      <td>98.0</td>\n",
       "      <td>113.306122</td>\n",
       "      <td>48.494958</td>\n",
       "      <td>28.0</td>\n",
       "      <td>79.25</td>\n",
       "      <td>100.0</td>\n",
       "      <td>150.0</td>\n",
       "      <td>200.0</td>\n",
       "    </tr>\n",
       "    <tr>\n",
       "      <th>Corrientes</th>\n",
       "      <td>349.0</td>\n",
       "      <td>100.372493</td>\n",
       "      <td>46.067840</td>\n",
       "      <td>30.0</td>\n",
       "      <td>65.00</td>\n",
       "      <td>90.0</td>\n",
       "      <td>130.0</td>\n",
       "      <td>207.0</td>\n",
       "    </tr>\n",
       "    <tr>\n",
       "      <th>Córdoba</th>\n",
       "      <td>5120.0</td>\n",
       "      <td>80.060352</td>\n",
       "      <td>45.131308</td>\n",
       "      <td>21.0</td>\n",
       "      <td>45.00</td>\n",
       "      <td>61.0</td>\n",
       "      <td>105.0</td>\n",
       "      <td>208.0</td>\n",
       "    </tr>\n",
       "    <tr>\n",
       "      <th>Entre Ríos</th>\n",
       "      <td>72.0</td>\n",
       "      <td>81.486111</td>\n",
       "      <td>36.972389</td>\n",
       "      <td>24.0</td>\n",
       "      <td>53.50</td>\n",
       "      <td>75.0</td>\n",
       "      <td>100.0</td>\n",
       "      <td>200.0</td>\n",
       "    </tr>\n",
       "    <tr>\n",
       "      <th>Formosa</th>\n",
       "      <td>29.0</td>\n",
       "      <td>42.034483</td>\n",
       "      <td>20.908786</td>\n",
       "      <td>33.0</td>\n",
       "      <td>33.00</td>\n",
       "      <td>33.0</td>\n",
       "      <td>39.0</td>\n",
       "      <td>100.0</td>\n",
       "    </tr>\n",
       "    <tr>\n",
       "      <th>Jujuy</th>\n",
       "      <td>3.0</td>\n",
       "      <td>106.333333</td>\n",
       "      <td>81.928831</td>\n",
       "      <td>48.0</td>\n",
       "      <td>59.50</td>\n",
       "      <td>71.0</td>\n",
       "      <td>135.5</td>\n",
       "      <td>200.0</td>\n",
       "    </tr>\n",
       "    <tr>\n",
       "      <th>La Pampa</th>\n",
       "      <td>17.0</td>\n",
       "      <td>109.941176</td>\n",
       "      <td>61.329510</td>\n",
       "      <td>30.0</td>\n",
       "      <td>65.00</td>\n",
       "      <td>100.0</td>\n",
       "      <td>175.0</td>\n",
       "      <td>208.0</td>\n",
       "    </tr>\n",
       "    <tr>\n",
       "      <th>La Rioja</th>\n",
       "      <td>1.0</td>\n",
       "      <td>90.000000</td>\n",
       "      <td>NaN</td>\n",
       "      <td>90.0</td>\n",
       "      <td>90.00</td>\n",
       "      <td>90.0</td>\n",
       "      <td>90.0</td>\n",
       "      <td>90.0</td>\n",
       "    </tr>\n",
       "    <tr>\n",
       "      <th>Mendoza</th>\n",
       "      <td>314.0</td>\n",
       "      <td>87.105096</td>\n",
       "      <td>41.643226</td>\n",
       "      <td>27.0</td>\n",
       "      <td>56.25</td>\n",
       "      <td>80.0</td>\n",
       "      <td>107.0</td>\n",
       "      <td>204.0</td>\n",
       "    </tr>\n",
       "    <tr>\n",
       "      <th>Misiones</th>\n",
       "      <td>122.0</td>\n",
       "      <td>79.426230</td>\n",
       "      <td>34.668183</td>\n",
       "      <td>26.0</td>\n",
       "      <td>54.25</td>\n",
       "      <td>70.0</td>\n",
       "      <td>100.0</td>\n",
       "      <td>200.0</td>\n",
       "    </tr>\n",
       "    <tr>\n",
       "      <th>Neuquén</th>\n",
       "      <td>227.0</td>\n",
       "      <td>67.568282</td>\n",
       "      <td>29.937375</td>\n",
       "      <td>29.0</td>\n",
       "      <td>45.00</td>\n",
       "      <td>59.0</td>\n",
       "      <td>84.0</td>\n",
       "      <td>175.0</td>\n",
       "    </tr>\n",
       "    <tr>\n",
       "      <th>Río Negro</th>\n",
       "      <td>225.0</td>\n",
       "      <td>85.773333</td>\n",
       "      <td>44.860868</td>\n",
       "      <td>24.0</td>\n",
       "      <td>50.00</td>\n",
       "      <td>76.0</td>\n",
       "      <td>106.0</td>\n",
       "      <td>200.0</td>\n",
       "    </tr>\n",
       "    <tr>\n",
       "      <th>Salta</th>\n",
       "      <td>55.0</td>\n",
       "      <td>70.636364</td>\n",
       "      <td>34.946183</td>\n",
       "      <td>22.0</td>\n",
       "      <td>42.00</td>\n",
       "      <td>64.0</td>\n",
       "      <td>82.5</td>\n",
       "      <td>180.0</td>\n",
       "    </tr>\n",
       "    <tr>\n",
       "      <th>San Juan</th>\n",
       "      <td>2.0</td>\n",
       "      <td>98.000000</td>\n",
       "      <td>11.313708</td>\n",
       "      <td>90.0</td>\n",
       "      <td>94.00</td>\n",
       "      <td>98.0</td>\n",
       "      <td>102.0</td>\n",
       "      <td>106.0</td>\n",
       "    </tr>\n",
       "    <tr>\n",
       "      <th>San Luis</th>\n",
       "      <td>84.0</td>\n",
       "      <td>101.333333</td>\n",
       "      <td>39.167337</td>\n",
       "      <td>43.0</td>\n",
       "      <td>70.00</td>\n",
       "      <td>94.5</td>\n",
       "      <td>130.0</td>\n",
       "      <td>200.0</td>\n",
       "    </tr>\n",
       "    <tr>\n",
       "      <th>Santa Cruz</th>\n",
       "      <td>5.0</td>\n",
       "      <td>144.600000</td>\n",
       "      <td>51.388715</td>\n",
       "      <td>60.0</td>\n",
       "      <td>150.00</td>\n",
       "      <td>153.0</td>\n",
       "      <td>160.0</td>\n",
       "      <td>200.0</td>\n",
       "    </tr>\n",
       "    <tr>\n",
       "      <th>Santa Fe</th>\n",
       "      <td>4484.0</td>\n",
       "      <td>56.421499</td>\n",
       "      <td>33.067386</td>\n",
       "      <td>21.0</td>\n",
       "      <td>35.00</td>\n",
       "      <td>45.0</td>\n",
       "      <td>67.0</td>\n",
       "      <td>207.0</td>\n",
       "    </tr>\n",
       "    <tr>\n",
       "      <th>Santiago Del Estero</th>\n",
       "      <td>1.0</td>\n",
       "      <td>47.000000</td>\n",
       "      <td>NaN</td>\n",
       "      <td>47.0</td>\n",
       "      <td>47.00</td>\n",
       "      <td>47.0</td>\n",
       "      <td>47.0</td>\n",
       "      <td>47.0</td>\n",
       "    </tr>\n",
       "    <tr>\n",
       "      <th>Tierra Del Fuego</th>\n",
       "      <td>19.0</td>\n",
       "      <td>81.947368</td>\n",
       "      <td>42.815461</td>\n",
       "      <td>35.0</td>\n",
       "      <td>56.50</td>\n",
       "      <td>70.0</td>\n",
       "      <td>90.5</td>\n",
       "      <td>184.0</td>\n",
       "    </tr>\n",
       "    <tr>\n",
       "      <th>Tucumán</th>\n",
       "      <td>155.0</td>\n",
       "      <td>81.458065</td>\n",
       "      <td>38.255335</td>\n",
       "      <td>24.0</td>\n",
       "      <td>54.50</td>\n",
       "      <td>73.0</td>\n",
       "      <td>97.5</td>\n",
       "      <td>200.0</td>\n",
       "    </tr>\n",
       "  </tbody>\n",
       "</table>\n",
       "</div>"
      ],
      "text/plain": [
       "                                count        mean        std   min     25%  \\\n",
       "state_name                                                                   \n",
       "Bs.As. G.B.A. Zona Norte      14016.0   88.987657  47.507104  21.0   52.00   \n",
       "Bs.As. G.B.A. Zona Oeste       4750.0   73.831789  43.279604  21.0   40.00   \n",
       "Bs.As. G.B.A. Zona Sur         7636.0   87.736904  47.107160  21.0   49.00   \n",
       "Buenos Aires Costa Atlántica   6421.0   66.632767  37.921024  21.0   40.00   \n",
       "Buenos Aires Interior           963.0   87.093458  45.381607  22.0   50.00   \n",
       "Capital Federal               22902.0   60.674570  32.881804  21.0   37.00   \n",
       "Catamarca                         6.0  158.500000  63.899139  76.0  103.75   \n",
       "Chaco                            14.0  109.857143  53.544887  38.0   61.75   \n",
       "Chubut                           98.0  113.306122  48.494958  28.0   79.25   \n",
       "Corrientes                      349.0  100.372493  46.067840  30.0   65.00   \n",
       "Córdoba                        5120.0   80.060352  45.131308  21.0   45.00   \n",
       "Entre Ríos                       72.0   81.486111  36.972389  24.0   53.50   \n",
       "Formosa                          29.0   42.034483  20.908786  33.0   33.00   \n",
       "Jujuy                             3.0  106.333333  81.928831  48.0   59.50   \n",
       "La Pampa                         17.0  109.941176  61.329510  30.0   65.00   \n",
       "La Rioja                          1.0   90.000000        NaN  90.0   90.00   \n",
       "Mendoza                         314.0   87.105096  41.643226  27.0   56.25   \n",
       "Misiones                        122.0   79.426230  34.668183  26.0   54.25   \n",
       "Neuquén                         227.0   67.568282  29.937375  29.0   45.00   \n",
       "Río Negro                       225.0   85.773333  44.860868  24.0   50.00   \n",
       "Salta                            55.0   70.636364  34.946183  22.0   42.00   \n",
       "San Juan                          2.0   98.000000  11.313708  90.0   94.00   \n",
       "San Luis                         84.0  101.333333  39.167337  43.0   70.00   \n",
       "Santa Cruz                        5.0  144.600000  51.388715  60.0  150.00   \n",
       "Santa Fe                       4484.0   56.421499  33.067386  21.0   35.00   \n",
       "Santiago Del Estero               1.0   47.000000        NaN  47.0   47.00   \n",
       "Tierra Del Fuego                 19.0   81.947368  42.815461  35.0   56.50   \n",
       "Tucumán                         155.0   81.458065  38.255335  24.0   54.50   \n",
       "\n",
       "                                50%    75%    max  \n",
       "state_name                                         \n",
       "Bs.As. G.B.A. Zona Norte       73.0  119.0  208.0  \n",
       "Bs.As. G.B.A. Zona Oeste       59.0   98.0  207.0  \n",
       "Bs.As. G.B.A. Zona Sur         74.0  120.0  208.0  \n",
       "Buenos Aires Costa Atlántica   55.0   80.0  208.0  \n",
       "Buenos Aires Interior          75.0  114.5  206.0  \n",
       "Capital Federal                50.0   74.0  208.0  \n",
       "Catamarca                     190.5  206.0  208.0  \n",
       "Chaco                         108.5  154.0  200.0  \n",
       "Chubut                        100.0  150.0  200.0  \n",
       "Corrientes                     90.0  130.0  207.0  \n",
       "Córdoba                        61.0  105.0  208.0  \n",
       "Entre Ríos                     75.0  100.0  200.0  \n",
       "Formosa                        33.0   39.0  100.0  \n",
       "Jujuy                          71.0  135.5  200.0  \n",
       "La Pampa                      100.0  175.0  208.0  \n",
       "La Rioja                       90.0   90.0   90.0  \n",
       "Mendoza                        80.0  107.0  204.0  \n",
       "Misiones                       70.0  100.0  200.0  \n",
       "Neuquén                        59.0   84.0  175.0  \n",
       "Río Negro                      76.0  106.0  200.0  \n",
       "Salta                          64.0   82.5  180.0  \n",
       "San Juan                       98.0  102.0  106.0  \n",
       "San Luis                       94.5  130.0  200.0  \n",
       "Santa Cruz                    153.0  160.0  200.0  \n",
       "Santa Fe                       45.0   67.0  207.0  \n",
       "Santiago Del Estero            47.0   47.0   47.0  \n",
       "Tierra Del Fuego               70.0   90.5  184.0  \n",
       "Tucumán                        73.0   97.5  200.0  "
      ]
     },
     "execution_count": 206,
     "metadata": {},
     "output_type": "execute_result"
    }
   ],
   "source": [
    "data_grouped['superficie_CUBIERTA'].describe()"
   ]
  },
  {
   "cell_type": "code",
   "execution_count": 207,
   "metadata": {},
   "outputs": [
    {
     "data": {
      "text/plain": [
       "property_type  Cochera\n",
       "PH             0.0        1502.969886\n",
       "               1.0        1515.946792\n",
       "apartment      0.0        2098.601592\n",
       "               1.0        2308.222378\n",
       "house          0.0        1301.207687\n",
       "               1.0        1274.452470\n",
       "store          0.0        2172.604329\n",
       "               1.0        2106.042260\n",
       "Name: precio_por_superficie_TOTAL, dtype: float64"
      ]
     },
     "execution_count": 207,
     "metadata": {},
     "output_type": "execute_result"
    }
   ],
   "source": [
    "#El precio por m2 aumenta si tiene o no cochera?\n",
    "data_grouped=data_clean.groupby([\"property_type\",\"Cochera\"])\n",
    "m2=data_grouped['precio_por_superficie_TOTAL'].mean()\n",
    "m2"
   ]
  },
  {
   "cell_type": "code",
   "execution_count": 216,
   "metadata": {},
   "outputs": [
    {
     "data": {
      "text/plain": [
       "state_name                    Cochera\n",
       "Bs.As. G.B.A. Zona Norte      0.0        1841.770848\n",
       "                              1.0        2185.600991\n",
       "Bs.As. G.B.A. Zona Oeste      0.0        1503.458517\n",
       "                              1.0        1578.506230\n",
       "Bs.As. G.B.A. Zona Sur        0.0        1554.477317\n",
       "                              1.0        1671.608973\n",
       "Buenos Aires Costa Atlántica  0.0        1688.115301\n",
       "                              1.0        1919.622532\n",
       "Buenos Aires Interior         0.0        1624.673509\n",
       "                              1.0        1546.757373\n",
       "Capital Federal               0.0        2409.724749\n",
       "                              1.0        2674.300777\n",
       "Catamarca                     0.0        1690.474612\n",
       "Chaco                         0.0         753.718333\n",
       "                              1.0        1876.471027\n",
       "Chubut                        0.0        1644.657498\n",
       "                              1.0        2072.719635\n",
       "Corrientes                    0.0        1483.395088\n",
       "                              1.0        1611.339929\n",
       "Córdoba                       0.0        1348.820191\n",
       "                              1.0        1209.278903\n",
       "Entre Ríos                    0.0        1167.158598\n",
       "                              1.0        1127.370465\n",
       "Formosa                       0.0        1509.659291\n",
       "Jujuy                         0.0         871.577512\n",
       "La Pampa                      0.0        1026.422112\n",
       "                              1.0        1688.187841\n",
       "La Rioja                      1.0         544.444444\n",
       "Mendoza                       0.0        1549.632968\n",
       "                              1.0        1368.803570\n",
       "Misiones                      0.0        1189.486821\n",
       "                              1.0        1186.474210\n",
       "Neuquén                       0.0        1639.560426\n",
       "                              1.0        2141.746022\n",
       "Río Negro                     0.0        1802.582639\n",
       "                              1.0        2085.652389\n",
       "Salta                         0.0        1207.193666\n",
       "                              1.0        1298.709994\n",
       "San Juan                      0.0         899.452830\n",
       "                              1.0         100.952000\n",
       "San Luis                      0.0        1302.011308\n",
       "                              1.0        1334.688077\n",
       "Santa Cruz                    0.0        1042.029877\n",
       "Santa Fe                      0.0        1595.082942\n",
       "                              1.0        1627.783913\n",
       "Santiago Del Estero           0.0         513.305085\n",
       "Tierra Del Fuego              0.0        1376.632123\n",
       "                              1.0         835.415417\n",
       "Tucumán                       0.0         920.084626\n",
       "                              1.0         851.206649\n",
       "Name: precio_por_superficie_TOTAL, dtype: float64"
      ]
     },
     "execution_count": 216,
     "metadata": {},
     "output_type": "execute_result"
    }
   ],
   "source": [
    "#El precio por m2 aumenta si tiene o no cochera?\n",
    "data_grouped=data_clean.groupby([\"state_name\",\"Cochera\"])\n",
    "m2=data_grouped['precio_por_superficie_TOTAL'].mean()\n",
    "m2"
   ]
  },
  {
   "cell_type": "code",
   "execution_count": 217,
   "metadata": {},
   "outputs": [
    {
     "data": {
      "image/png": "[encoded data removed]",
      "text/plain": [
       "<Figure size 1490x360 with 1 Axes>"
      ]
     },
     "metadata": {},
     "output_type": "display_data"
    }
   ],
   "source": [
    "with sns.axes_style('white'):\n",
    "    with sns.color_palette(\"Set2\"):\n",
    "        g = sns.catplot(x=\"state_name\",y='precio_por_superficie_TOTAL', data=data_clean, aspect=4.0, kind='bar',\n",
    "                    hue='Cochera')\n",
    "       \n",
    "        g.set_ylabels('precio_por_superficie_TOTAL')"
   ]
  },
  {
   "cell_type": "code",
   "execution_count": 218,
   "metadata": {},
   "outputs": [
    {
     "data": {
      "text/plain": [
       "state_name                    A_estrenar\n",
       "Bs.As. G.B.A. Zona Norte      0.0           2008.089785\n",
       "                              1.0           2204.173912\n",
       "Bs.As. G.B.A. Zona Oeste      0.0           1497.331170\n",
       "                              1.0           1811.261542\n",
       "Bs.As. G.B.A. Zona Sur        0.0           1591.013170\n",
       "                              1.0           1811.259162\n",
       "Buenos Aires Costa Atlántica  0.0           1733.933746\n",
       "                              1.0           2097.439048\n",
       "Buenos Aires Interior         0.0           1576.370773\n",
       "                              1.0           1716.054672\n",
       "Capital Federal               0.0           2480.127812\n",
       "                              1.0           2652.522062\n",
       "Catamarca                     0.0           1690.474612\n",
       "Chaco                         0.0           1074.504817\n",
       "Chubut                        0.0           1684.134576\n",
       "                              1.0           1852.120543\n",
       "Corrientes                    0.0           1527.643810\n",
       "                              1.0           1635.749931\n",
       "Córdoba                       0.0           1307.586785\n",
       "                              1.0           1274.279021\n",
       "Entre Ríos                    0.0           1152.186782\n",
       "                              1.0           1144.967381\n",
       "Formosa                       0.0           1509.659291\n",
       "Jujuy                         0.0            871.577512\n",
       "La Pampa                      0.0           1207.061415\n",
       "                              1.0           1326.041667\n",
       "La Rioja                      0.0            544.444444\n",
       "Mendoza                       0.0           1407.319912\n",
       "                              1.0           1651.978588\n",
       "Misiones                      0.0           1168.668969\n",
       "                              1.0           1368.015637\n",
       "Neuquén                       0.0           1909.457351\n",
       "                              1.0           1639.052854\n",
       "Río Negro                     0.0           1901.194323\n",
       "                              1.0           1699.822101\n",
       "Salta                         0.0           1171.570635\n",
       "                              1.0           1726.905904\n",
       "San Juan                      0.0            500.202415\n",
       "San Luis                      0.0           1314.848610\n",
       "Santa Cruz                    0.0           1042.029877\n",
       "Santa Fe                      0.0           1599.311067\n",
       "                              1.0           1725.881134\n",
       "Santiago Del Estero           0.0            513.305085\n",
       "Tierra Del Fuego              0.0           1319.661944\n",
       "Tucumán                       0.0            943.519636\n",
       "                              1.0            600.336837\n",
       "Name: precio_por_superficie_TOTAL, dtype: float64"
      ]
     },
     "execution_count": 218,
     "metadata": {},
     "output_type": "execute_result"
    }
   ],
   "source": [
    "#El precio por m2 aumenta si es a estrenar?\n",
    "data_grouped=data_clean.groupby([\"state_name\",\"A_estrenar\"])\n",
    "estreno=data_grouped['precio_por_superficie_TOTAL'].mean()\n",
    "estreno"
   ]
  },
  {
   "cell_type": "code",
   "execution_count": 219,
   "metadata": {},
   "outputs": [
    {
     "data": {
      "image/png": "[encoded data removed]",
      "text/plain": [
       "<Figure size 1497.25x360 with 1 Axes>"
      ]
     },
     "metadata": {},
     "output_type": "display_data"
    }
   ],
   "source": [
    "with sns.axes_style('white'):\n",
    "    with sns.color_palette(\"Set2\"):\n",
    "        g = sns.catplot(x=\"state_name\",y='precio_por_superficie_TOTAL', data=data_clean, aspect=4.0, kind='bar',\n",
    "                    hue='A_estrenar')\n",
    "       \n",
    "        g.set_ylabels('precio_por_superficie_TOTAL')"
   ]
  },
  {
   "cell_type": "code",
   "execution_count": 220,
   "metadata": {},
   "outputs": [
    {
     "data": {
      "text/plain": [
       "state_name                    A_reciclar\n",
       "Bs.As. G.B.A. Zona Norte      0.0           2039.218016\n",
       "                              1.0           1591.712657\n",
       "Bs.As. G.B.A. Zona Oeste      0.0           1548.870744\n",
       "                              1.0            933.713247\n",
       "Bs.As. G.B.A. Zona Sur        0.0           1620.907337\n",
       "                              1.0           1120.045417\n",
       "Buenos Aires Costa Atlántica  0.0           1785.718667\n",
       "                              1.0           1022.661045\n",
       "Buenos Aires Interior         0.0           1607.766876\n",
       "                              1.0            789.459397\n",
       "Capital Federal               0.0           2511.132536\n",
       "                              1.0           1780.782493\n",
       "Catamarca                     0.0           1690.474612\n",
       "Chaco                         0.0           1074.504817\n",
       "Chubut                        0.0           1693.286131\n",
       "                              1.0           1636.363636\n",
       "Corrientes                    0.0           1553.831845\n",
       "                              1.0           1273.781578\n",
       "Córdoba                       0.0           1309.703110\n",
       "                              1.0            667.310089\n",
       "Entre Ríos                    0.0           1164.572657\n",
       "                              1.0            932.602671\n",
       "Formosa                       0.0           1509.659291\n",
       "Jujuy                         0.0            871.577512\n",
       "La Pampa                      0.0           1251.473499\n",
       "                              1.0            734.428571\n",
       "La Rioja                      0.0            544.444444\n",
       "Mendoza                       0.0           1425.240771\n",
       "Misiones                      0.0           1231.286532\n",
       "                              1.0            481.689008\n",
       "Neuquén                       0.0           1900.224982\n",
       "                              1.0            480.714286\n",
       "Río Negro                     0.0           1898.317123\n",
       "                              1.0            611.024324\n",
       "Salta                         0.0           1232.152665\n",
       "San Juan                      0.0            500.202415\n",
       "San Luis                      0.0           1318.641967\n",
       "                              1.0           1000.000000\n",
       "Santa Cruz                    0.0           1042.029877\n",
       "Santa Fe                      0.0           1616.800592\n",
       "                              1.0            944.262932\n",
       "Santiago Del Estero           0.0            513.305085\n",
       "Tierra Del Fuego              0.0           1319.661944\n",
       "Tucumán                       0.0            911.667259\n",
       "                              1.0            701.043750\n",
       "Name: precio_por_superficie_TOTAL, dtype: float64"
      ]
     },
     "execution_count": 220,
     "metadata": {},
     "output_type": "execute_result"
    }
   ],
   "source": [
    "#El precio por m2 aumenta si es a reciclar?\n",
    "data_grouped=data_clean.groupby([\"state_name\",\"A_reciclar\"])\n",
    "reciclar=data_grouped['precio_por_superficie_TOTAL'].mean()\n",
    "reciclar"
   ]
  },
  {
   "cell_type": "code",
   "execution_count": 221,
   "metadata": {},
   "outputs": [
    {
     "data": {
      "image/png": "[encoded data removed]",
      "text/plain": [
       "<Figure size 1492.62x360 with 1 Axes>"
      ]
     },
     "metadata": {},
     "output_type": "display_data"
    }
   ],
   "source": [
    "with sns.axes_style('white'):\n",
    "    with sns.color_palette(\"Set2\"):\n",
    "        g = sns.catplot(x=\"state_name\",y='precio_por_superficie_TOTAL', data=data_clean, aspect=4.0, kind='bar',\n",
    "                    hue='A_reciclar')\n",
    "       \n",
    "        g.set_ylabels('precio_por_superficie_TOTAL')"
   ]
  },
  {
   "cell_type": "code",
   "execution_count": 222,
   "metadata": {},
   "outputs": [
    {
     "data": {
      "text/plain": [
       "property_type  Agr_Valor\n",
       "PH             0.0          1511.748454\n",
       "               1.0          1504.655796\n",
       "apartment      0.0          2038.857595\n",
       "               1.0          2280.994037\n",
       "house          0.0          1289.226632\n",
       "               1.0          1287.894755\n",
       "store          0.0          2255.294955\n",
       "               1.0          2006.759074\n",
       "Name: precio_por_superficie_TOTAL, dtype: float64"
      ]
     },
     "execution_count": 222,
     "metadata": {},
     "output_type": "execute_result"
    }
   ],
   "source": [
    "##El precio por m2 aumenta si tiene amenities, pileta, seguridad, etc?\n",
    "data_grouped=data_clean.groupby([\"property_type\",\"Agr_Valor\"])\n",
    "agrvalor=data_grouped['precio_por_superficie_TOTAL'].mean()\n",
    "agrvalor"
   ]
  },
  {
   "cell_type": "code",
   "execution_count": 223,
   "metadata": {},
   "outputs": [
    {
     "data": {
      "image/png": "[encoded data removed]",
      "text/plain": [
       "<Figure size 1492x360 with 1 Axes>"
      ]
     },
     "metadata": {},
     "output_type": "display_data"
    }
   ],
   "source": [
    "with sns.axes_style('white'):\n",
    "    with sns.color_palette(\"Set2\"):\n",
    "        g = sns.catplot(x=\"state_name\",y='precio_por_superficie_TOTAL', data=data_clean, aspect=4.0, kind='bar',\n",
    "                    hue='Agr_Valor')\n",
    "       \n",
    "        g.set_ylabels('precio_por_superficie_TOTAL')"
   ]
  },
  {
   "cell_type": "code",
   "execution_count": 224,
   "metadata": {},
   "outputs": [
    {
     "data": {
      "text/plain": [
       "property_type  Dism_Valor\n",
       "PH             0.0           1496.529573\n",
       "               1.0           1535.235534\n",
       "apartment      0.0           2208.825391\n",
       "               1.0           2092.350082\n",
       "house          0.0           1284.210503\n",
       "               1.0           1324.864355\n",
       "store          0.0           2158.365746\n",
       "               1.0           2301.927316\n",
       "Name: precio_por_superficie_TOTAL, dtype: float64"
      ]
     },
     "execution_count": 224,
     "metadata": {},
     "output_type": "execute_result"
    }
   ],
   "source": [
    "#El precio por m2 disminuye si es al contrafrente, por escalera, etc?\n",
    "data_grouped=data_clean.groupby([\"property_type\",\"Dism_Valor\"])\n",
    "dsmvalor=data_grouped['precio_por_superficie_TOTAL'].mean()\n",
    "dsmvalor"
   ]
  },
  {
   "cell_type": "code",
   "execution_count": 225,
   "metadata": {},
   "outputs": [
    {
     "data": {
      "image/png": "[encoded data removed]",
      "text/plain": [
       "<Figure size 1499.25x360 with 1 Axes>"
      ]
     },
     "metadata": {},
     "output_type": "display_data"
    }
   ],
   "source": [
    "with sns.axes_style('white'):\n",
    "    with sns.color_palette(\"Set2\"):\n",
    "        g = sns.catplot(x=\"state_name\",y='precio_por_superficie_TOTAL', data=data_clean, aspect=4.0, kind='bar',\n",
    "                    hue='Dism_Valor')\n",
    "       \n",
    "        g.set_ylabels('precio_por_superficie_TOTAL')"
   ]
  },
  {
   "cell_type": "code",
   "execution_count": null,
   "metadata": {},
   "outputs": [],
   "source": []
  },
  {
   "cell_type": "markdown",
   "metadata": {},
   "source": [
    "### Acá arranca el análisis de Ariel con pivot tables y gráficos.\n"
   ]
  },
  {
   "cell_type": "code",
   "execution_count": 226,
   "metadata": {},
   "outputs": [
    {
     "name": "stdout",
     "output_type": "stream",
     "text": [
      "(68090, 15)\n"
     ]
    },
    {
     "data": {
      "text/html": [
       "<div>\n",
       "<style scoped>\n",
       "    .dataframe tbody tr th:only-of-type {\n",
       "        vertical-align: middle;\n",
       "    }\n",
       "\n",
       "    .dataframe tbody tr th {\n",
       "        vertical-align: top;\n",
       "    }\n",
       "\n",
       "    .dataframe thead th {\n",
       "        text-align: right;\n",
       "    }\n",
       "</style>\n",
       "<table border=\"1\" class=\"dataframe\">\n",
       "  <thead>\n",
       "    <tr style=\"text-align: right;\">\n",
       "      <th></th>\n",
       "      <th>property_type</th>\n",
       "      <th>place_name</th>\n",
       "      <th>state_name</th>\n",
       "      <th>description</th>\n",
       "      <th>title</th>\n",
       "      <th>price_USD</th>\n",
       "      <th>superficie_TOTAL</th>\n",
       "      <th>superficie_CUBIERTA</th>\n",
       "      <th>precio_por_superficie_TOTAL</th>\n",
       "      <th>precio_por_superficie_CUBIERTA</th>\n",
       "      <th>Cochera</th>\n",
       "      <th>Dism_Valor</th>\n",
       "      <th>A_reciclar</th>\n",
       "      <th>A_estrenar</th>\n",
       "      <th>Agr_Valor</th>\n",
       "    </tr>\n",
       "  </thead>\n",
       "  <tbody>\n",
       "    <tr>\n",
       "      <th>27677</th>\n",
       "      <td>apartment</td>\n",
       "      <td>Ezeiza</td>\n",
       "      <td>Bs.As. G.B.A. Zona Sur</td>\n",
       "      <td>CODIGO: B ubicado en: San Juan 500 -...</td>\n",
       "      <td>Departamento en Venta</td>\n",
       "      <td>160000.0</td>\n",
       "      <td>130.0</td>\n",
       "      <td>110.0</td>\n",
       "      <td>1230.769231</td>\n",
       "      <td>1454.545455</td>\n",
       "      <td>0.0</td>\n",
       "      <td>0.0</td>\n",
       "      <td>0.0</td>\n",
       "      <td>0.0</td>\n",
       "      <td>0.0</td>\n",
       "    </tr>\n",
       "    <tr>\n",
       "      <th>89758</th>\n",
       "      <td>apartment</td>\n",
       "      <td>San Telmo</td>\n",
       "      <td>Capital Federal</td>\n",
       "      <td>Bernardo de Irigoyen 1418: Ubicada e...</td>\n",
       "      <td>Departamento - San Telmo</td>\n",
       "      <td>60800.0</td>\n",
       "      <td>38.0</td>\n",
       "      <td>32.0</td>\n",
       "      <td>1600.000000</td>\n",
       "      <td>1900.000000</td>\n",
       "      <td>1.0</td>\n",
       "      <td>1.0</td>\n",
       "      <td>0.0</td>\n",
       "      <td>0.0</td>\n",
       "      <td>1.0</td>\n",
       "    </tr>\n",
       "    <tr>\n",
       "      <th>74619</th>\n",
       "      <td>apartment</td>\n",
       "      <td>Lanús</td>\n",
       "      <td>Bs.As. G.B.A. Zona Sur</td>\n",
       "      <td>TIENE CONTRATO DE ALQ..........abril...</td>\n",
       "      <td>DEPARTAMENTO TRES AMBIENTES</td>\n",
       "      <td>135000.0</td>\n",
       "      <td>70.0</td>\n",
       "      <td>70.0</td>\n",
       "      <td>1928.571429</td>\n",
       "      <td>1928.571429</td>\n",
       "      <td>1.0</td>\n",
       "      <td>0.0</td>\n",
       "      <td>0.0</td>\n",
       "      <td>0.0</td>\n",
       "      <td>0.0</td>\n",
       "    </tr>\n",
       "  </tbody>\n",
       "</table>\n",
       "</div>"
      ],
      "text/plain": [
       "      property_type place_name              state_name  \\\n",
       "27677     apartment     Ezeiza  Bs.As. G.B.A. Zona Sur   \n",
       "89758     apartment  San Telmo         Capital Federal   \n",
       "74619     apartment      Lanús  Bs.As. G.B.A. Zona Sur   \n",
       "\n",
       "                                   description                        title  \\\n",
       "27677  CODIGO: B ubicado en: San Juan 500 -...        Departamento en Venta   \n",
       "89758  Bernardo de Irigoyen 1418: Ubicada e...     Departamento - San Telmo   \n",
       "74619  TIENE CONTRATO DE ALQ..........abril...  DEPARTAMENTO TRES AMBIENTES   \n",
       "\n",
       "       price_USD  superficie_TOTAL  superficie_CUBIERTA  \\\n",
       "27677   160000.0             130.0                110.0   \n",
       "89758    60800.0              38.0                 32.0   \n",
       "74619   135000.0              70.0                 70.0   \n",
       "\n",
       "       precio_por_superficie_TOTAL  precio_por_superficie_CUBIERTA  Cochera  \\\n",
       "27677                  1230.769231                     1454.545455      0.0   \n",
       "89758                  1600.000000                     1900.000000      1.0   \n",
       "74619                  1928.571429                     1928.571429      1.0   \n",
       "\n",
       "       Dism_Valor  A_reciclar  A_estrenar  Agr_Valor  \n",
       "27677         0.0         0.0         0.0        0.0  \n",
       "89758         1.0         0.0         0.0        1.0  \n",
       "74619         0.0         0.0         0.0        0.0  "
      ]
     },
     "execution_count": 226,
     "metadata": {},
     "output_type": "execute_result"
    }
   ],
   "source": [
    "# Limpio algunas columnas que no me interesan:\n",
    "subset = ['place_with_parent_names','price','currency','price_aprox_local_currency','price_aprox_usd','surface_total_in_m2','surface_covered_in_m2','price_usd_per_m2','price_per_m2','rooms']\n",
    "\n",
    "df = data_clean.drop(subset, axis = 1)\n",
    "print(df.shape)\n",
    "df.sample(3)"
   ]
  },
  {
   "cell_type": "code",
   "execution_count": 227,
   "metadata": {},
   "outputs": [
    {
     "name": "stdout",
     "output_type": "stream",
     "text": [
      "Tamaño del registro: 68090\n",
      "Cochera: 28777\n",
      "Dism_Valor: 10927\n",
      "A_reciclar: 993\n",
      "Agr_Valor: 43492\n"
     ]
    }
   ],
   "source": [
    "print(\"Tamaño del registro: \"+str(df.shape[0]))\n",
    "print(\"Cochera: \"+str((df.Cochera==1).sum()))\n",
    "print(\"Dism_Valor: \"+str((df.Dism_Valor==1).sum()))\n",
    "print(\"A_reciclar: \"+str((df.A_reciclar==1).sum()))\n",
    "print(\"Agr_Valor: \"+str((df.Agr_Valor==1).sum()))\n"
   ]
  },
  {
   "cell_type": "markdown",
   "metadata": {},
   "source": [
    "**Vamos a quedarnos con los datos de Capital Federal (CABA)**"
   ]
  },
  {
   "cell_type": "code",
   "execution_count": 228,
   "metadata": {},
   "outputs": [
    {
     "data": {
      "text/plain": [
       "22902"
      ]
     },
     "execution_count": 228,
     "metadata": {},
     "output_type": "execute_result"
    }
   ],
   "source": [
    "mask_caba = df.state_name == \"Capital Federal\"\n",
    "mask_caba.notnull().sum()\n",
    "\n",
    "data_caba = df.loc[mask_caba]\n",
    "data_caba.shape[0]"
   ]
  },
  {
   "cell_type": "code",
   "execution_count": 229,
   "metadata": {},
   "outputs": [
    {
     "name": "stdout",
     "output_type": "stream",
     "text": [
      "Vemos registros de Capital Federal (CABA):\n",
      "Tamaño del registro: 22902\n",
      "Cochera: 7729\n",
      "Dism_Valor: 4481\n",
      "A_reciclar: 380\n",
      "Agr_Valor: 15695\n"
     ]
    }
   ],
   "source": [
    "DF = data_caba\n",
    "print(\"Vemos registros de Capital Federal (CABA):\")\n",
    "print(\"Tamaño del registro: \"+str(DF.shape[0]))\n",
    "print(\"Cochera: \"+str((DF.Cochera==1).sum()))\n",
    "print(\"Dism_Valor: \"+str((DF.Dism_Valor==1).sum()))\n",
    "print(\"A_reciclar: \"+str((DF.A_reciclar==1).sum()))\n",
    "print(\"Agr_Valor: \"+str((DF.Agr_Valor==1).sum()))"
   ]
  },
  {
   "cell_type": "code",
   "execution_count": 230,
   "metadata": {},
   "outputs": [
    {
     "data": {
      "text/plain": [
       "pandas.core.groupby.generic.DataFrameGroupBy"
      ]
     },
     "execution_count": 230,
     "metadata": {},
     "output_type": "execute_result"
    }
   ],
   "source": [
    "data_place_name = data_caba.groupby('place_name')\n",
    "type(data_place_name)"
   ]
  },
  {
   "cell_type": "code",
   "execution_count": 231,
   "metadata": {},
   "outputs": [
    {
     "data": {
      "text/plain": [
       "place_name\n",
       "Belgrano           1913\n",
       "Caballito          1887\n",
       "Palermo            1879\n",
       "Villa Urquiza      1272\n",
       "Flores             1112\n",
       "                   ... \n",
       "Palermo Viejo        28\n",
       "Velez Sarsfield      26\n",
       "Villa Soldati        12\n",
       "Villa Riachuelo       3\n",
       "Catalinas             1\n",
       "Length: 62, dtype: int64"
      ]
     },
     "execution_count": 231,
     "metadata": {},
     "output_type": "execute_result"
    }
   ],
   "source": [
    "data_place_name.size().sort_values(ascending = False)"
   ]
  },
  {
   "cell_type": "code",
   "execution_count": 232,
   "metadata": {},
   "outputs": [
    {
     "data": {
      "text/html": [
       "<div>\n",
       "<style scoped>\n",
       "    .dataframe tbody tr th:only-of-type {\n",
       "        vertical-align: middle;\n",
       "    }\n",
       "\n",
       "    .dataframe tbody tr th {\n",
       "        vertical-align: top;\n",
       "    }\n",
       "\n",
       "    .dataframe thead tr th {\n",
       "        text-align: left;\n",
       "    }\n",
       "\n",
       "    .dataframe thead tr:last-of-type th {\n",
       "        text-align: right;\n",
       "    }\n",
       "</style>\n",
       "<table border=\"1\" class=\"dataframe\">\n",
       "  <thead>\n",
       "    <tr>\n",
       "      <th></th>\n",
       "      <th colspan=\"8\" halign=\"left\">price_USD</th>\n",
       "      <th colspan=\"2\" halign=\"left\">superficie_TOTAL</th>\n",
       "      <th>...</th>\n",
       "      <th colspan=\"2\" halign=\"left\">A_estrenar</th>\n",
       "      <th colspan=\"8\" halign=\"left\">Agr_Valor</th>\n",
       "    </tr>\n",
       "    <tr>\n",
       "      <th></th>\n",
       "      <th>count</th>\n",
       "      <th>mean</th>\n",
       "      <th>std</th>\n",
       "      <th>min</th>\n",
       "      <th>25%</th>\n",
       "      <th>50%</th>\n",
       "      <th>75%</th>\n",
       "      <th>max</th>\n",
       "      <th>count</th>\n",
       "      <th>mean</th>\n",
       "      <th>...</th>\n",
       "      <th>75%</th>\n",
       "      <th>max</th>\n",
       "      <th>count</th>\n",
       "      <th>mean</th>\n",
       "      <th>std</th>\n",
       "      <th>min</th>\n",
       "      <th>25%</th>\n",
       "      <th>50%</th>\n",
       "      <th>75%</th>\n",
       "      <th>max</th>\n",
       "    </tr>\n",
       "    <tr>\n",
       "      <th>place_name</th>\n",
       "      <th></th>\n",
       "      <th></th>\n",
       "      <th></th>\n",
       "      <th></th>\n",
       "      <th></th>\n",
       "      <th></th>\n",
       "      <th></th>\n",
       "      <th></th>\n",
       "      <th></th>\n",
       "      <th></th>\n",
       "      <th></th>\n",
       "      <th></th>\n",
       "      <th></th>\n",
       "      <th></th>\n",
       "      <th></th>\n",
       "      <th></th>\n",
       "      <th></th>\n",
       "      <th></th>\n",
       "      <th></th>\n",
       "      <th></th>\n",
       "      <th></th>\n",
       "    </tr>\n",
       "  </thead>\n",
       "  <tbody>\n",
       "    <tr>\n",
       "      <th>Abasto</th>\n",
       "      <td>93.0</td>\n",
       "      <td>135584.19</td>\n",
       "      <td>71033.63</td>\n",
       "      <td>38000.0</td>\n",
       "      <td>84000.00</td>\n",
       "      <td>130000.0</td>\n",
       "      <td>160000.0</td>\n",
       "      <td>380000.0</td>\n",
       "      <td>93.0</td>\n",
       "      <td>68.62</td>\n",
       "      <td>...</td>\n",
       "      <td>0.0</td>\n",
       "      <td>1.0</td>\n",
       "      <td>93.0</td>\n",
       "      <td>0.66</td>\n",
       "      <td>0.48</td>\n",
       "      <td>0.0</td>\n",
       "      <td>0.00</td>\n",
       "      <td>1.0</td>\n",
       "      <td>1.0</td>\n",
       "      <td>1.0</td>\n",
       "    </tr>\n",
       "    <tr>\n",
       "      <th>Agronomía</th>\n",
       "      <td>33.0</td>\n",
       "      <td>140938.64</td>\n",
       "      <td>47051.24</td>\n",
       "      <td>69595.0</td>\n",
       "      <td>117300.00</td>\n",
       "      <td>130700.0</td>\n",
       "      <td>165000.0</td>\n",
       "      <td>245000.0</td>\n",
       "      <td>33.0</td>\n",
       "      <td>68.73</td>\n",
       "      <td>...</td>\n",
       "      <td>0.0</td>\n",
       "      <td>1.0</td>\n",
       "      <td>33.0</td>\n",
       "      <td>0.76</td>\n",
       "      <td>0.44</td>\n",
       "      <td>0.0</td>\n",
       "      <td>1.00</td>\n",
       "      <td>1.0</td>\n",
       "      <td>1.0</td>\n",
       "      <td>1.0</td>\n",
       "    </tr>\n",
       "    <tr>\n",
       "      <th>Almagro</th>\n",
       "      <td>879.0</td>\n",
       "      <td>141520.72</td>\n",
       "      <td>67608.60</td>\n",
       "      <td>45000.0</td>\n",
       "      <td>86490.00</td>\n",
       "      <td>127000.0</td>\n",
       "      <td>175000.0</td>\n",
       "      <td>400000.0</td>\n",
       "      <td>879.0</td>\n",
       "      <td>67.59</td>\n",
       "      <td>...</td>\n",
       "      <td>0.0</td>\n",
       "      <td>1.0</td>\n",
       "      <td>879.0</td>\n",
       "      <td>0.59</td>\n",
       "      <td>0.49</td>\n",
       "      <td>0.0</td>\n",
       "      <td>0.00</td>\n",
       "      <td>1.0</td>\n",
       "      <td>1.0</td>\n",
       "      <td>1.0</td>\n",
       "    </tr>\n",
       "    <tr>\n",
       "      <th>Balvanera</th>\n",
       "      <td>572.0</td>\n",
       "      <td>128888.84</td>\n",
       "      <td>60517.81</td>\n",
       "      <td>45000.0</td>\n",
       "      <td>84375.00</td>\n",
       "      <td>118650.0</td>\n",
       "      <td>150120.0</td>\n",
       "      <td>400000.0</td>\n",
       "      <td>572.0</td>\n",
       "      <td>71.99</td>\n",
       "      <td>...</td>\n",
       "      <td>0.0</td>\n",
       "      <td>1.0</td>\n",
       "      <td>572.0</td>\n",
       "      <td>0.55</td>\n",
       "      <td>0.50</td>\n",
       "      <td>0.0</td>\n",
       "      <td>0.00</td>\n",
       "      <td>1.0</td>\n",
       "      <td>1.0</td>\n",
       "      <td>1.0</td>\n",
       "    </tr>\n",
       "    <tr>\n",
       "      <th>Barracas</th>\n",
       "      <td>341.0</td>\n",
       "      <td>154286.42</td>\n",
       "      <td>76612.46</td>\n",
       "      <td>43000.0</td>\n",
       "      <td>90000.00</td>\n",
       "      <td>132000.0</td>\n",
       "      <td>192000.0</td>\n",
       "      <td>400000.0</td>\n",
       "      <td>341.0</td>\n",
       "      <td>83.99</td>\n",
       "      <td>...</td>\n",
       "      <td>0.0</td>\n",
       "      <td>1.0</td>\n",
       "      <td>341.0</td>\n",
       "      <td>0.66</td>\n",
       "      <td>0.47</td>\n",
       "      <td>0.0</td>\n",
       "      <td>0.00</td>\n",
       "      <td>1.0</td>\n",
       "      <td>1.0</td>\n",
       "      <td>1.0</td>\n",
       "    </tr>\n",
       "    <tr>\n",
       "      <th>...</th>\n",
       "      <td>...</td>\n",
       "      <td>...</td>\n",
       "      <td>...</td>\n",
       "      <td>...</td>\n",
       "      <td>...</td>\n",
       "      <td>...</td>\n",
       "      <td>...</td>\n",
       "      <td>...</td>\n",
       "      <td>...</td>\n",
       "      <td>...</td>\n",
       "      <td>...</td>\n",
       "      <td>...</td>\n",
       "      <td>...</td>\n",
       "      <td>...</td>\n",
       "      <td>...</td>\n",
       "      <td>...</td>\n",
       "      <td>...</td>\n",
       "      <td>...</td>\n",
       "      <td>...</td>\n",
       "      <td>...</td>\n",
       "      <td>...</td>\n",
       "    </tr>\n",
       "    <tr>\n",
       "      <th>Villa Riachuelo</th>\n",
       "      <td>3.0</td>\n",
       "      <td>145000.00</td>\n",
       "      <td>57662.81</td>\n",
       "      <td>85000.0</td>\n",
       "      <td>117500.00</td>\n",
       "      <td>150000.0</td>\n",
       "      <td>175000.0</td>\n",
       "      <td>200000.0</td>\n",
       "      <td>3.0</td>\n",
       "      <td>110.67</td>\n",
       "      <td>...</td>\n",
       "      <td>0.0</td>\n",
       "      <td>0.0</td>\n",
       "      <td>3.0</td>\n",
       "      <td>1.00</td>\n",
       "      <td>0.00</td>\n",
       "      <td>1.0</td>\n",
       "      <td>1.00</td>\n",
       "      <td>1.0</td>\n",
       "      <td>1.0</td>\n",
       "      <td>1.0</td>\n",
       "    </tr>\n",
       "    <tr>\n",
       "      <th>Villa Santa Rita</th>\n",
       "      <td>42.0</td>\n",
       "      <td>150713.10</td>\n",
       "      <td>89564.94</td>\n",
       "      <td>60000.0</td>\n",
       "      <td>87575.00</td>\n",
       "      <td>124000.0</td>\n",
       "      <td>169500.0</td>\n",
       "      <td>400000.0</td>\n",
       "      <td>42.0</td>\n",
       "      <td>83.33</td>\n",
       "      <td>...</td>\n",
       "      <td>0.0</td>\n",
       "      <td>1.0</td>\n",
       "      <td>42.0</td>\n",
       "      <td>0.71</td>\n",
       "      <td>0.46</td>\n",
       "      <td>0.0</td>\n",
       "      <td>0.00</td>\n",
       "      <td>1.0</td>\n",
       "      <td>1.0</td>\n",
       "      <td>1.0</td>\n",
       "    </tr>\n",
       "    <tr>\n",
       "      <th>Villa Soldati</th>\n",
       "      <td>12.0</td>\n",
       "      <td>82876.92</td>\n",
       "      <td>34134.50</td>\n",
       "      <td>39000.0</td>\n",
       "      <td>65630.75</td>\n",
       "      <td>73000.0</td>\n",
       "      <td>96250.0</td>\n",
       "      <td>160000.0</td>\n",
       "      <td>12.0</td>\n",
       "      <td>86.25</td>\n",
       "      <td>...</td>\n",
       "      <td>0.0</td>\n",
       "      <td>0.0</td>\n",
       "      <td>12.0</td>\n",
       "      <td>0.75</td>\n",
       "      <td>0.45</td>\n",
       "      <td>0.0</td>\n",
       "      <td>0.75</td>\n",
       "      <td>1.0</td>\n",
       "      <td>1.0</td>\n",
       "      <td>1.0</td>\n",
       "    </tr>\n",
       "    <tr>\n",
       "      <th>Villa Urquiza</th>\n",
       "      <td>1272.0</td>\n",
       "      <td>155291.17</td>\n",
       "      <td>70275.47</td>\n",
       "      <td>19405.0</td>\n",
       "      <td>103417.00</td>\n",
       "      <td>134429.0</td>\n",
       "      <td>198250.0</td>\n",
       "      <td>410000.0</td>\n",
       "      <td>1272.0</td>\n",
       "      <td>64.87</td>\n",
       "      <td>...</td>\n",
       "      <td>0.0</td>\n",
       "      <td>1.0</td>\n",
       "      <td>1272.0</td>\n",
       "      <td>0.78</td>\n",
       "      <td>0.41</td>\n",
       "      <td>0.0</td>\n",
       "      <td>1.00</td>\n",
       "      <td>1.0</td>\n",
       "      <td>1.0</td>\n",
       "      <td>1.0</td>\n",
       "    </tr>\n",
       "    <tr>\n",
       "      <th>Villa del Parque</th>\n",
       "      <td>398.0</td>\n",
       "      <td>156299.79</td>\n",
       "      <td>67830.59</td>\n",
       "      <td>59459.0</td>\n",
       "      <td>99000.00</td>\n",
       "      <td>148800.0</td>\n",
       "      <td>189500.0</td>\n",
       "      <td>400000.0</td>\n",
       "      <td>398.0</td>\n",
       "      <td>72.90</td>\n",
       "      <td>...</td>\n",
       "      <td>0.0</td>\n",
       "      <td>1.0</td>\n",
       "      <td>398.0</td>\n",
       "      <td>0.77</td>\n",
       "      <td>0.42</td>\n",
       "      <td>0.0</td>\n",
       "      <td>1.00</td>\n",
       "      <td>1.0</td>\n",
       "      <td>1.0</td>\n",
       "      <td>1.0</td>\n",
       "    </tr>\n",
       "  </tbody>\n",
       "</table>\n",
       "<p>62 rows × 80 columns</p>\n",
       "</div>"
      ],
      "text/plain": [
       "                 price_USD                                                     \\\n",
       "                     count       mean       std      min        25%       50%   \n",
       "place_name                                                                      \n",
       "Abasto                93.0  135584.19  71033.63  38000.0   84000.00  130000.0   \n",
       "Agronomía             33.0  140938.64  47051.24  69595.0  117300.00  130700.0   \n",
       "Almagro              879.0  141520.72  67608.60  45000.0   86490.00  127000.0   \n",
       "Balvanera            572.0  128888.84  60517.81  45000.0   84375.00  118650.0   \n",
       "Barracas             341.0  154286.42  76612.46  43000.0   90000.00  132000.0   \n",
       "...                    ...        ...       ...      ...        ...       ...   \n",
       "Villa Riachuelo        3.0  145000.00  57662.81  85000.0  117500.00  150000.0   \n",
       "Villa Santa Rita      42.0  150713.10  89564.94  60000.0   87575.00  124000.0   \n",
       "Villa Soldati         12.0   82876.92  34134.50  39000.0   65630.75   73000.0   \n",
       "Villa Urquiza       1272.0  155291.17  70275.47  19405.0  103417.00  134429.0   \n",
       "Villa del Parque     398.0  156299.79  67830.59  59459.0   99000.00  148800.0   \n",
       "\n",
       "                                     superficie_TOTAL          ... A_estrenar  \\\n",
       "                       75%       max            count    mean  ...        75%   \n",
       "place_name                                                     ...              \n",
       "Abasto            160000.0  380000.0             93.0   68.62  ...        0.0   \n",
       "Agronomía         165000.0  245000.0             33.0   68.73  ...        0.0   \n",
       "Almagro           175000.0  400000.0            879.0   67.59  ...        0.0   \n",
       "Balvanera         150120.0  400000.0            572.0   71.99  ...        0.0   \n",
       "Barracas          192000.0  400000.0            341.0   83.99  ...        0.0   \n",
       "...                    ...       ...              ...     ...  ...        ...   \n",
       "Villa Riachuelo   175000.0  200000.0              3.0  110.67  ...        0.0   \n",
       "Villa Santa Rita  169500.0  400000.0             42.0   83.33  ...        0.0   \n",
       "Villa Soldati      96250.0  160000.0             12.0   86.25  ...        0.0   \n",
       "Villa Urquiza     198250.0  410000.0           1272.0   64.87  ...        0.0   \n",
       "Villa del Parque  189500.0  400000.0            398.0   72.90  ...        0.0   \n",
       "\n",
       "                      Agr_Valor                                        \n",
       "                  max     count  mean   std  min   25%  50%  75%  max  \n",
       "place_name                                                             \n",
       "Abasto            1.0      93.0  0.66  0.48  0.0  0.00  1.0  1.0  1.0  \n",
       "Agronomía         1.0      33.0  0.76  0.44  0.0  1.00  1.0  1.0  1.0  \n",
       "Almagro           1.0     879.0  0.59  0.49  0.0  0.00  1.0  1.0  1.0  \n",
       "Balvanera         1.0     572.0  0.55  0.50  0.0  0.00  1.0  1.0  1.0  \n",
       "Barracas          1.0     341.0  0.66  0.47  0.0  0.00  1.0  1.0  1.0  \n",
       "...               ...       ...   ...   ...  ...   ...  ...  ...  ...  \n",
       "Villa Riachuelo   0.0       3.0  1.00  0.00  1.0  1.00  1.0  1.0  1.0  \n",
       "Villa Santa Rita  1.0      42.0  0.71  0.46  0.0  0.00  1.0  1.0  1.0  \n",
       "Villa Soldati     0.0      12.0  0.75  0.45  0.0  0.75  1.0  1.0  1.0  \n",
       "Villa Urquiza     1.0    1272.0  0.78  0.41  0.0  1.00  1.0  1.0  1.0  \n",
       "Villa del Parque  1.0     398.0  0.77  0.42  0.0  1.00  1.0  1.0  1.0  \n",
       "\n",
       "[62 rows x 80 columns]"
      ]
     },
     "execution_count": 232,
     "metadata": {},
     "output_type": "execute_result"
    }
   ],
   "source": [
    "data_place_name.describe().round(2)"
   ]
  },
  {
   "cell_type": "code",
   "execution_count": 233,
   "metadata": {},
   "outputs": [
    {
     "data": {
      "text/html": [
       "<div>\n",
       "<style scoped>\n",
       "    .dataframe tbody tr th:only-of-type {\n",
       "        vertical-align: middle;\n",
       "    }\n",
       "\n",
       "    .dataframe tbody tr th {\n",
       "        vertical-align: top;\n",
       "    }\n",
       "\n",
       "    .dataframe thead th {\n",
       "        text-align: right;\n",
       "    }\n",
       "</style>\n",
       "<table border=\"1\" class=\"dataframe\">\n",
       "  <thead>\n",
       "    <tr style=\"text-align: right;\">\n",
       "      <th></th>\n",
       "      <th>property_type</th>\n",
       "      <th>place_name</th>\n",
       "      <th>state_name</th>\n",
       "      <th>description</th>\n",
       "      <th>title</th>\n",
       "      <th>price_USD</th>\n",
       "      <th>superficie_TOTAL</th>\n",
       "      <th>superficie_CUBIERTA</th>\n",
       "      <th>precio_por_superficie_TOTAL</th>\n",
       "      <th>precio_por_superficie_CUBIERTA</th>\n",
       "      <th>Cochera</th>\n",
       "      <th>Dism_Valor</th>\n",
       "      <th>A_reciclar</th>\n",
       "      <th>A_estrenar</th>\n",
       "      <th>Agr_Valor</th>\n",
       "    </tr>\n",
       "  </thead>\n",
       "  <tbody>\n",
       "    <tr>\n",
       "      <th>0</th>\n",
       "      <td>PH</td>\n",
       "      <td>Mataderos</td>\n",
       "      <td>Capital Federal</td>\n",
       "      <td>2 AMBIENTES TIPO CASA PLANTA BAJA PO...</td>\n",
       "      <td>2 AMB TIPO CASA SIN EXPENSAS EN PB</td>\n",
       "      <td>62000.0</td>\n",
       "      <td>55.0</td>\n",
       "      <td>40.0</td>\n",
       "      <td>1127.272727</td>\n",
       "      <td>1550.0</td>\n",
       "      <td>0.0</td>\n",
       "      <td>0.0</td>\n",
       "      <td>0.0</td>\n",
       "      <td>0.0</td>\n",
       "      <td>1.0</td>\n",
       "    </tr>\n",
       "  </tbody>\n",
       "</table>\n",
       "</div>"
      ],
      "text/plain": [
       "  property_type place_name       state_name  \\\n",
       "0            PH  Mataderos  Capital Federal   \n",
       "\n",
       "                               description  \\\n",
       "0  2 AMBIENTES TIPO CASA PLANTA BAJA PO...   \n",
       "\n",
       "                                title  price_USD  superficie_TOTAL  \\\n",
       "0  2 AMB TIPO CASA SIN EXPENSAS EN PB    62000.0              55.0   \n",
       "\n",
       "   superficie_CUBIERTA  precio_por_superficie_TOTAL  \\\n",
       "0                 40.0                  1127.272727   \n",
       "\n",
       "   precio_por_superficie_CUBIERTA  Cochera  Dism_Valor  A_reciclar  \\\n",
       "0                          1550.0      0.0         0.0         0.0   \n",
       "\n",
       "   A_estrenar  Agr_Valor  \n",
       "0         0.0        1.0  "
      ]
     },
     "execution_count": 233,
     "metadata": {},
     "output_type": "execute_result"
    }
   ],
   "source": [
    "data_caba.head(1)"
   ]
  },
  {
   "cell_type": "code",
   "execution_count": 234,
   "metadata": {},
   "outputs": [
    {
     "data": {
      "text/html": [
       "<div>\n",
       "<style scoped>\n",
       "    .dataframe tbody tr th:only-of-type {\n",
       "        vertical-align: middle;\n",
       "    }\n",
       "\n",
       "    .dataframe tbody tr th {\n",
       "        vertical-align: top;\n",
       "    }\n",
       "\n",
       "    .dataframe thead th {\n",
       "        text-align: right;\n",
       "    }\n",
       "</style>\n",
       "<table border=\"1\" class=\"dataframe\">\n",
       "  <thead>\n",
       "    <tr style=\"text-align: right;\">\n",
       "      <th></th>\n",
       "      <th></th>\n",
       "      <th>precio_por_superficie_CUBIERTA</th>\n",
       "      <th>precio_por_superficie_TOTAL</th>\n",
       "      <th>price_USD</th>\n",
       "      <th>superficie_CUBIERTA</th>\n",
       "      <th>superficie_TOTAL</th>\n",
       "    </tr>\n",
       "    <tr>\n",
       "      <th>place_name</th>\n",
       "      <th>property_type</th>\n",
       "      <th></th>\n",
       "      <th></th>\n",
       "      <th></th>\n",
       "      <th></th>\n",
       "      <th></th>\n",
       "    </tr>\n",
       "  </thead>\n",
       "  <tbody>\n",
       "    <tr>\n",
       "      <th rowspan=\"4\" valign=\"top\">Villa del Parque</th>\n",
       "      <th>store</th>\n",
       "      <td>2430.56</td>\n",
       "      <td>1894.74</td>\n",
       "      <td>184000.0</td>\n",
       "      <td>72.0</td>\n",
       "      <td>175.0</td>\n",
       "    </tr>\n",
       "    <tr>\n",
       "      <th>house</th>\n",
       "      <td>2081.40</td>\n",
       "      <td>1719.46</td>\n",
       "      <td>275000.0</td>\n",
       "      <td>150.0</td>\n",
       "      <td>165.0</td>\n",
       "    </tr>\n",
       "    <tr>\n",
       "      <th>apartment</th>\n",
       "      <td>2534.11</td>\n",
       "      <td>2292.50</td>\n",
       "      <td>140000.0</td>\n",
       "      <td>58.0</td>\n",
       "      <td>64.0</td>\n",
       "    </tr>\n",
       "    <tr>\n",
       "      <th>PH</th>\n",
       "      <td>1982.14</td>\n",
       "      <td>1713.03</td>\n",
       "      <td>161000.0</td>\n",
       "      <td>70.0</td>\n",
       "      <td>91.0</td>\n",
       "    </tr>\n",
       "    <tr>\n",
       "      <th>Villa Urquiza</th>\n",
       "      <th>store</th>\n",
       "      <td>1846.15</td>\n",
       "      <td>1725.00</td>\n",
       "      <td>115000.0</td>\n",
       "      <td>65.0</td>\n",
       "      <td>73.0</td>\n",
       "    </tr>\n",
       "    <tr>\n",
       "      <th>...</th>\n",
       "      <th>...</th>\n",
       "      <td>...</td>\n",
       "      <td>...</td>\n",
       "      <td>...</td>\n",
       "      <td>...</td>\n",
       "      <td>...</td>\n",
       "    </tr>\n",
       "    <tr>\n",
       "      <th rowspan=\"2\" valign=\"top\">Agronomía</th>\n",
       "      <th>apartment</th>\n",
       "      <td>2500.00</td>\n",
       "      <td>2261.90</td>\n",
       "      <td>127000.0</td>\n",
       "      <td>47.0</td>\n",
       "      <td>56.0</td>\n",
       "    </tr>\n",
       "    <tr>\n",
       "      <th>PH</th>\n",
       "      <td>1932.32</td>\n",
       "      <td>1875.52</td>\n",
       "      <td>197500.0</td>\n",
       "      <td>90.5</td>\n",
       "      <td>107.0</td>\n",
       "    </tr>\n",
       "    <tr>\n",
       "      <th rowspan=\"3\" valign=\"top\">Abasto</th>\n",
       "      <th>store</th>\n",
       "      <td>2303.03</td>\n",
       "      <td>1909.60</td>\n",
       "      <td>350000.0</td>\n",
       "      <td>141.5</td>\n",
       "      <td>158.0</td>\n",
       "    </tr>\n",
       "    <tr>\n",
       "      <th>apartment</th>\n",
       "      <td>2321.43</td>\n",
       "      <td>2216.22</td>\n",
       "      <td>111500.0</td>\n",
       "      <td>47.0</td>\n",
       "      <td>53.0</td>\n",
       "    </tr>\n",
       "    <tr>\n",
       "      <th>PH</th>\n",
       "      <td>2140.43</td>\n",
       "      <td>1509.23</td>\n",
       "      <td>160000.0</td>\n",
       "      <td>65.5</td>\n",
       "      <td>95.0</td>\n",
       "    </tr>\n",
       "  </tbody>\n",
       "</table>\n",
       "<p>217 rows × 5 columns</p>\n",
       "</div>"
      ],
      "text/plain": [
       "                                precio_por_superficie_CUBIERTA  \\\n",
       "place_name       property_type                                   \n",
       "Villa del Parque store                                 2430.56   \n",
       "                 house                                 2081.40   \n",
       "                 apartment                             2534.11   \n",
       "                 PH                                    1982.14   \n",
       "Villa Urquiza    store                                 1846.15   \n",
       "...                                                        ...   \n",
       "Agronomía        apartment                             2500.00   \n",
       "                 PH                                    1932.32   \n",
       "Abasto           store                                 2303.03   \n",
       "                 apartment                             2321.43   \n",
       "                 PH                                    2140.43   \n",
       "\n",
       "                                precio_por_superficie_TOTAL  price_USD  \\\n",
       "place_name       property_type                                           \n",
       "Villa del Parque store                              1894.74   184000.0   \n",
       "                 house                              1719.46   275000.0   \n",
       "                 apartment                          2292.50   140000.0   \n",
       "                 PH                                 1713.03   161000.0   \n",
       "Villa Urquiza    store                              1725.00   115000.0   \n",
       "...                                                     ...        ...   \n",
       "Agronomía        apartment                          2261.90   127000.0   \n",
       "                 PH                                 1875.52   197500.0   \n",
       "Abasto           store                              1909.60   350000.0   \n",
       "                 apartment                          2216.22   111500.0   \n",
       "                 PH                                 1509.23   160000.0   \n",
       "\n",
       "                                superficie_CUBIERTA  superficie_TOTAL  \n",
       "place_name       property_type                                         \n",
       "Villa del Parque store                         72.0             175.0  \n",
       "                 house                        150.0             165.0  \n",
       "                 apartment                     58.0              64.0  \n",
       "                 PH                            70.0              91.0  \n",
       "Villa Urquiza    store                         65.0              73.0  \n",
       "...                                             ...               ...  \n",
       "Agronomía        apartment                     47.0              56.0  \n",
       "                 PH                            90.5             107.0  \n",
       "Abasto           store                        141.5             158.0  \n",
       "                 apartment                     47.0              53.0  \n",
       "                 PH                            65.5              95.0  \n",
       "\n",
       "[217 rows x 5 columns]"
      ]
     },
     "execution_count": 234,
     "metadata": {},
     "output_type": "execute_result"
    }
   ],
   "source": [
    "ddd = data_caba.pivot_table(['price_USD', 'superficie_TOTAL',\n",
    "       'superficie_CUBIERTA', 'precio_por_superficie_TOTAL', 'precio_por_superficie_CUBIERTA'], index= ['place_name','property_type'], aggfunc=np.median).round(2).sort_values(by=['place_name','property_type'], ascending=False)\n",
    "ddd"
   ]
  },
  {
   "cell_type": "code",
   "execution_count": 235,
   "metadata": {},
   "outputs": [
    {
     "data": {
      "text/html": [
       "<div>\n",
       "<style scoped>\n",
       "    .dataframe tbody tr th:only-of-type {\n",
       "        vertical-align: middle;\n",
       "    }\n",
       "\n",
       "    .dataframe tbody tr th {\n",
       "        vertical-align: top;\n",
       "    }\n",
       "\n",
       "    .dataframe thead th {\n",
       "        text-align: right;\n",
       "    }\n",
       "</style>\n",
       "<table border=\"1\" class=\"dataframe\">\n",
       "  <thead>\n",
       "    <tr style=\"text-align: right;\">\n",
       "      <th></th>\n",
       "      <th>price_USD</th>\n",
       "      <th>superficie_TOTAL</th>\n",
       "      <th>superficie_CUBIERTA</th>\n",
       "      <th>precio_por_superficie_TOTAL</th>\n",
       "      <th>precio_por_superficie_CUBIERTA</th>\n",
       "      <th>Cochera</th>\n",
       "      <th>Dism_Valor</th>\n",
       "      <th>A_reciclar</th>\n",
       "      <th>A_estrenar</th>\n",
       "      <th>Agr_Valor</th>\n",
       "    </tr>\n",
       "  </thead>\n",
       "  <tbody>\n",
       "    <tr>\n",
       "      <th>count</th>\n",
       "      <td>22902.000000</td>\n",
       "      <td>22902.000000</td>\n",
       "      <td>22902.000000</td>\n",
       "      <td>22902.000000</td>\n",
       "      <td>22902.000000</td>\n",
       "      <td>22902.000000</td>\n",
       "      <td>22902.000000</td>\n",
       "      <td>22902.000000</td>\n",
       "      <td>22902.000000</td>\n",
       "      <td>22902.000000</td>\n",
       "    </tr>\n",
       "    <tr>\n",
       "      <th>mean</th>\n",
       "      <td>159362.340582</td>\n",
       "      <td>68.161864</td>\n",
       "      <td>60.674570</td>\n",
       "      <td>2499.014249</td>\n",
       "      <td>2771.901021</td>\n",
       "      <td>0.337481</td>\n",
       "      <td>0.195660</td>\n",
       "      <td>0.016592</td>\n",
       "      <td>0.109554</td>\n",
       "      <td>0.685311</td>\n",
       "    </tr>\n",
       "    <tr>\n",
       "      <th>std</th>\n",
       "      <td>82401.123468</td>\n",
       "      <td>38.976470</td>\n",
       "      <td>32.881804</td>\n",
       "      <td>960.792559</td>\n",
       "      <td>1040.131629</td>\n",
       "      <td>0.472861</td>\n",
       "      <td>0.396716</td>\n",
       "      <td>0.127741</td>\n",
       "      <td>0.312340</td>\n",
       "      <td>0.464402</td>\n",
       "    </tr>\n",
       "    <tr>\n",
       "      <th>min</th>\n",
       "      <td>10039.000000</td>\n",
       "      <td>21.000000</td>\n",
       "      <td>21.000000</td>\n",
       "      <td>65.994949</td>\n",
       "      <td>65.994949</td>\n",
       "      <td>0.000000</td>\n",
       "      <td>0.000000</td>\n",
       "      <td>0.000000</td>\n",
       "      <td>0.000000</td>\n",
       "      <td>0.000000</td>\n",
       "    </tr>\n",
       "    <tr>\n",
       "      <th>25%</th>\n",
       "      <td>97000.000000</td>\n",
       "      <td>40.000000</td>\n",
       "      <td>37.000000</td>\n",
       "      <td>1970.588235</td>\n",
       "      <td>2152.777778</td>\n",
       "      <td>0.000000</td>\n",
       "      <td>0.000000</td>\n",
       "      <td>0.000000</td>\n",
       "      <td>0.000000</td>\n",
       "      <td>0.000000</td>\n",
       "    </tr>\n",
       "    <tr>\n",
       "      <th>50%</th>\n",
       "      <td>135000.000000</td>\n",
       "      <td>55.000000</td>\n",
       "      <td>50.000000</td>\n",
       "      <td>2386.959030</td>\n",
       "      <td>2631.578947</td>\n",
       "      <td>0.000000</td>\n",
       "      <td>0.000000</td>\n",
       "      <td>0.000000</td>\n",
       "      <td>0.000000</td>\n",
       "      <td>1.000000</td>\n",
       "    </tr>\n",
       "    <tr>\n",
       "      <th>75%</th>\n",
       "      <td>200000.000000</td>\n",
       "      <td>83.000000</td>\n",
       "      <td>74.000000</td>\n",
       "      <td>2857.142857</td>\n",
       "      <td>3200.000000</td>\n",
       "      <td>1.000000</td>\n",
       "      <td>0.000000</td>\n",
       "      <td>0.000000</td>\n",
       "      <td>0.000000</td>\n",
       "      <td>1.000000</td>\n",
       "    </tr>\n",
       "    <tr>\n",
       "      <th>max</th>\n",
       "      <td>415808.000000</td>\n",
       "      <td>254.000000</td>\n",
       "      <td>208.000000</td>\n",
       "      <td>16628.000000</td>\n",
       "      <td>16628.000000</td>\n",
       "      <td>1.000000</td>\n",
       "      <td>1.000000</td>\n",
       "      <td>1.000000</td>\n",
       "      <td>1.000000</td>\n",
       "      <td>1.000000</td>\n",
       "    </tr>\n",
       "  </tbody>\n",
       "</table>\n",
       "</div>"
      ],
      "text/plain": [
       "           price_USD  superficie_TOTAL  superficie_CUBIERTA  \\\n",
       "count   22902.000000      22902.000000         22902.000000   \n",
       "mean   159362.340582         68.161864            60.674570   \n",
       "std     82401.123468         38.976470            32.881804   \n",
       "min     10039.000000         21.000000            21.000000   \n",
       "25%     97000.000000         40.000000            37.000000   \n",
       "50%    135000.000000         55.000000            50.000000   \n",
       "75%    200000.000000         83.000000            74.000000   \n",
       "max    415808.000000        254.000000           208.000000   \n",
       "\n",
       "       precio_por_superficie_TOTAL  precio_por_superficie_CUBIERTA  \\\n",
       "count                 22902.000000                    22902.000000   \n",
       "mean                   2499.014249                     2771.901021   \n",
       "std                     960.792559                     1040.131629   \n",
       "min                      65.994949                       65.994949   \n",
       "25%                    1970.588235                     2152.777778   \n",
       "50%                    2386.959030                     2631.578947   \n",
       "75%                    2857.142857                     3200.000000   \n",
       "max                   16628.000000                    16628.000000   \n",
       "\n",
       "            Cochera    Dism_Valor    A_reciclar    A_estrenar     Agr_Valor  \n",
       "count  22902.000000  22902.000000  22902.000000  22902.000000  22902.000000  \n",
       "mean       0.337481      0.195660      0.016592      0.109554      0.685311  \n",
       "std        0.472861      0.396716      0.127741      0.312340      0.464402  \n",
       "min        0.000000      0.000000      0.000000      0.000000      0.000000  \n",
       "25%        0.000000      0.000000      0.000000      0.000000      0.000000  \n",
       "50%        0.000000      0.000000      0.000000      0.000000      1.000000  \n",
       "75%        1.000000      0.000000      0.000000      0.000000      1.000000  \n",
       "max        1.000000      1.000000      1.000000      1.000000      1.000000  "
      ]
     },
     "execution_count": 235,
     "metadata": {},
     "output_type": "execute_result"
    }
   ],
   "source": [
    "data_caba.describe()"
   ]
  },
  {
   "cell_type": "markdown",
   "metadata": {},
   "source": [
    "**Calculo valores medios y desvíos estandar**"
   ]
  },
  {
   "cell_type": "code",
   "execution_count": 252,
   "metadata": {},
   "outputs": [],
   "source": [
    "pd.set_option('mode.chained_assignment', None)"
   ]
  },
  {
   "cell_type": "code",
   "execution_count": 270,
   "metadata": {},
   "outputs": [],
   "source": [
    "data_caba.loc[:,'price_USD_mean'] = data_caba.price_USD.apply(lambda x: x if x is np.NaN else np.mean(x))\n",
    "data_caba.loc[:,'superficie_TOTAL_mean'] = data_caba.superficie_TOTAL.apply(lambda x: x if x is np.NaN else np.mean(x))\n",
    "data_caba.loc[:,'superficie_CUBIERTA_mean'] = data_caba.superficie_CUBIERTA.apply(lambda x: x if x is np.NaN else np.mean(x))\n",
    "data_caba.loc[:,'precio_por_superficie_TOTAL_mean'] = data_caba.price_USD_mean / data_caba.superficie_TOTAL_mean\n",
    "data_caba.loc[:,'precio_por_superficie_CUBIERTA_mean'] = data_caba.price_USD_mean / data_caba.superficie_CUBIERTA_mean"
   ]
  },
  {
   "cell_type": "code",
   "execution_count": 271,
   "metadata": {},
   "outputs": [],
   "source": [
    "data_caba.loc[:,'price_USD_std'] = data_caba.price_USD.apply(lambda x: x if x is np.NaN else np.std(x))\n",
    "data_caba.loc[:,'superficie_TOTAL_std'] = data_caba.superficie_TOTAL.apply(lambda x: x if x is np.NaN else np.std(x))\n",
    "data_caba.loc[:,'superficie_CUBIERTA_std'] = data_caba.superficie_CUBIERTA.apply(lambda x: x if x is np.NaN else np.std(x))\n",
    "data_caba.loc[:,'precio_por_superficie_TOTAL_std'] = data_caba.precio_por_superficie_TOTAL.apply(lambda x: x if x is np.NaN else np.std(x))\n",
    "data_caba.loc[:,'precio_por_superficie_CUBIERTA_std'] = data_caba.precio_por_superficie_CUBIERTA_mean.apply(lambda x: x if x is np.NaN else np.std(x))"
   ]
  },
  {
   "cell_type": "code",
   "execution_count": 276,
   "metadata": {},
   "outputs": [],
   "source": [
    "#data_caba.loc[:,'std_mean_total'] = data.precio_por_superficie_TOTAL_std / data.precio_por_superficie_TOTAL_mean\n",
    "#data_caba.loc[:,'std_mean_cubierta'] = data.precio_por_superficie_CUBIERTA_std / data.precio_por_superficie_CUBIERTA_mean"
   ]
  },
  {
   "cell_type": "code",
   "execution_count": null,
   "metadata": {},
   "outputs": [],
   "source": [
    "pd.reset_option('mode.chained_assignment')"
   ]
  },
  {
   "cell_type": "code",
   "execution_count": null,
   "metadata": {},
   "outputs": [],
   "source": []
  },
  {
   "cell_type": "code",
   "execution_count": 262,
   "metadata": {},
   "outputs": [],
   "source": [
    "mask_barrios = np.logical_or(np.logical_or(data_caba.place_name == 'Belgrano',data_caba.place_name == 'Palermo'),np.logical_or(data_caba.place_name == 'Caballito',data_caba.place_name == 'Mataderos'))\n",
    "data_barrios = data_caba.loc[mask_barrios]"
   ]
  },
  {
   "cell_type": "markdown",
   "metadata": {},
   "source": [
    "*********************************"
   ]
  },
  {
   "cell_type": "code",
   "execution_count": 263,
   "metadata": {},
   "outputs": [],
   "source": [
    "import matplotlib as mpl\n",
    "import matplotlib.pyplot as plt\n",
    "import seaborn as sns"
   ]
  },
  {
   "cell_type": "code",
   "execution_count": 264,
   "metadata": {},
   "outputs": [],
   "source": [
    "#Podemos hacer tantos como querramos\n",
    "#grafico=data_caba.placename[].loc[:,[\"state_name\",'precio_por_superficie_TOTAL','property_type','place_name']]\n",
    "grafico = data_barrios"
   ]
  },
  {
   "cell_type": "code",
   "execution_count": 265,
   "metadata": {},
   "outputs": [
    {
     "data": {
      "image/png": "[encoded data removed]",
      "text/plain": [
       "<Figure size 1521.38x360 with 1 Axes>"
      ]
     },
     "metadata": {},
     "output_type": "display_data"
    }
   ],
   "source": [
    "with sns.axes_style('white'):\n",
    "    with sns.color_palette(\"Set2\"):\n",
    "        g = sns.catplot(x=\"place_name\",y='precio_por_superficie_TOTAL_mean', data=grafico, aspect=4.0, kind='bar',\n",
    "                    hue='property_type')\n",
    "       \n",
    "        g.set_ylabels('precio_por_superficie_TOTAL_mean')"
   ]
  },
  {
   "cell_type": "code",
   "execution_count": 269,
   "metadata": {},
   "outputs": [
    {
     "data": {
      "image/png": "[encoded data removed]",
      "text/plain": [
       "<Figure size 1521.38x360 with 1 Axes>"
      ]
     },
     "metadata": {},
     "output_type": "display_data"
    }
   ],
   "source": [
    "with sns.axes_style('white'):\n",
    "    with sns.color_palette(\"Set2\"):\n",
    "        g = sns.catplot(x=\"place_name\",y='precio_por_superficie_CUBIERTA_mean', data=grafico, aspect=4.0, kind='bar',\n",
    "                    hue='property_type')\n",
    "       \n",
    "        g.set_ylabels('precio_por_superficie_CUBIERTA_mean')"
   ]
  },
  {
   "cell_type": "code",
   "execution_count": null,
   "metadata": {},
   "outputs": [],
   "source": []
  },
  {
   "cell_type": "code",
   "execution_count": null,
   "metadata": {},
   "outputs": [],
   "source": [
    "with sns.axes_style('white'):\n",
    "    with sns.color_palette(\"Set2\"):\n",
    "        g = sns.catplot(x=\"place_name\",y='precio_por_superficie_TOTAL_mean', data=grafico, aspect=4.0, kind='bar',\n",
    "                    hue='property_type')\n",
    "       \n",
    "        g.set_ylabels('precio_por_superficie_CUBIERTA_mean')"
   ]
  },
  {
   "cell_type": "code",
   "execution_count": null,
   "metadata": {},
   "outputs": [],
   "source": []
  },
  {
   "cell_type": "code",
   "execution_count": 277,
   "metadata": {},
   "outputs": [
    {
     "data": {
      "text/html": [
       "<div>\n",
       "<style scoped>\n",
       "    .dataframe tbody tr th:only-of-type {\n",
       "        vertical-align: middle;\n",
       "    }\n",
       "\n",
       "    .dataframe tbody tr th {\n",
       "        vertical-align: top;\n",
       "    }\n",
       "\n",
       "    .dataframe thead th {\n",
       "        text-align: right;\n",
       "    }\n",
       "</style>\n",
       "<table border=\"1\" class=\"dataframe\">\n",
       "  <thead>\n",
       "    <tr style=\"text-align: right;\">\n",
       "      <th></th>\n",
       "      <th>property_type</th>\n",
       "      <th>place_name</th>\n",
       "      <th>state_name</th>\n",
       "      <th>description</th>\n",
       "      <th>title</th>\n",
       "      <th>price_USD</th>\n",
       "      <th>superficie_TOTAL</th>\n",
       "      <th>superficie_CUBIERTA</th>\n",
       "      <th>precio_por_superficie_TOTAL</th>\n",
       "      <th>precio_por_superficie_CUBIERTA</th>\n",
       "      <th>...</th>\n",
       "      <th>price_USD_mean</th>\n",
       "      <th>superficie_TOTAL_mean</th>\n",
       "      <th>superficie_CUBIERTA_mean</th>\n",
       "      <th>precio_por_superficie_TOTAL_mean</th>\n",
       "      <th>precio_por_superficie_CUBIERTA_mean</th>\n",
       "      <th>price_USD_std</th>\n",
       "      <th>superficie_TOTAL_std</th>\n",
       "      <th>superficie_CUBIERTA_std</th>\n",
       "      <th>precio_por_superficie_TOTAL_std</th>\n",
       "      <th>precio_por_superficie_CUBIERTA_std</th>\n",
       "    </tr>\n",
       "  </thead>\n",
       "  <tbody>\n",
       "    <tr>\n",
       "      <th>0</th>\n",
       "      <td>PH</td>\n",
       "      <td>Mataderos</td>\n",
       "      <td>Capital Federal</td>\n",
       "      <td>2 AMBIENTES TIPO CASA PLANTA BAJA PO...</td>\n",
       "      <td>2 AMB TIPO CASA SIN EXPENSAS EN PB</td>\n",
       "      <td>62000.0</td>\n",
       "      <td>55.0</td>\n",
       "      <td>40.0</td>\n",
       "      <td>1127.272727</td>\n",
       "      <td>1550.000000</td>\n",
       "      <td>...</td>\n",
       "      <td>62000.0</td>\n",
       "      <td>55.0</td>\n",
       "      <td>40.0</td>\n",
       "      <td>1127.272727</td>\n",
       "      <td>1550.000000</td>\n",
       "      <td>0.0</td>\n",
       "      <td>0.0</td>\n",
       "      <td>0.0</td>\n",
       "      <td>0.0</td>\n",
       "      <td>0.0</td>\n",
       "    </tr>\n",
       "    <tr>\n",
       "      <th>2</th>\n",
       "      <td>apartment</td>\n",
       "      <td>Mataderos</td>\n",
       "      <td>Capital Federal</td>\n",
       "      <td>2 AMBIENTES 3ER PISO LATERAL LIVING ...</td>\n",
       "      <td>2 AMB 3ER PISO CON ASCENSOR APTO CRE...</td>\n",
       "      <td>72000.0</td>\n",
       "      <td>55.0</td>\n",
       "      <td>55.0</td>\n",
       "      <td>1309.090909</td>\n",
       "      <td>1309.090909</td>\n",
       "      <td>...</td>\n",
       "      <td>72000.0</td>\n",
       "      <td>55.0</td>\n",
       "      <td>55.0</td>\n",
       "      <td>1309.090909</td>\n",
       "      <td>1309.090909</td>\n",
       "      <td>0.0</td>\n",
       "      <td>0.0</td>\n",
       "      <td>0.0</td>\n",
       "      <td>0.0</td>\n",
       "      <td>0.0</td>\n",
       "    </tr>\n",
       "    <tr>\n",
       "      <th>7</th>\n",
       "      <td>apartment</td>\n",
       "      <td>Belgrano</td>\n",
       "      <td>Capital Federal</td>\n",
       "      <td>EXCELENTE MONOAMBIENTE A ESTRENAR AM...</td>\n",
       "      <td>JOSE HERNANDEZ 1400 MONOAMBIENTE  ES...</td>\n",
       "      <td>138000.0</td>\n",
       "      <td>45.0</td>\n",
       "      <td>40.0</td>\n",
       "      <td>3066.666667</td>\n",
       "      <td>3450.000000</td>\n",
       "      <td>...</td>\n",
       "      <td>138000.0</td>\n",
       "      <td>45.0</td>\n",
       "      <td>40.0</td>\n",
       "      <td>3066.666667</td>\n",
       "      <td>3450.000000</td>\n",
       "      <td>0.0</td>\n",
       "      <td>0.0</td>\n",
       "      <td>0.0</td>\n",
       "      <td>0.0</td>\n",
       "      <td>0.0</td>\n",
       "    </tr>\n",
       "  </tbody>\n",
       "</table>\n",
       "<p>3 rows × 25 columns</p>\n",
       "</div>"
      ],
      "text/plain": [
       "  property_type place_name       state_name  \\\n",
       "0            PH  Mataderos  Capital Federal   \n",
       "2     apartment  Mataderos  Capital Federal   \n",
       "7     apartment   Belgrano  Capital Federal   \n",
       "\n",
       "                               description  \\\n",
       "0  2 AMBIENTES TIPO CASA PLANTA BAJA PO...   \n",
       "2  2 AMBIENTES 3ER PISO LATERAL LIVING ...   \n",
       "7  EXCELENTE MONOAMBIENTE A ESTRENAR AM...   \n",
       "\n",
       "                                     title  price_USD  superficie_TOTAL  \\\n",
       "0       2 AMB TIPO CASA SIN EXPENSAS EN PB    62000.0              55.0   \n",
       "2  2 AMB 3ER PISO CON ASCENSOR APTO CRE...    72000.0              55.0   \n",
       "7  JOSE HERNANDEZ 1400 MONOAMBIENTE  ES...   138000.0              45.0   \n",
       "\n",
       "   superficie_CUBIERTA  precio_por_superficie_TOTAL  \\\n",
       "0                 40.0                  1127.272727   \n",
       "2                 55.0                  1309.090909   \n",
       "7                 40.0                  3066.666667   \n",
       "\n",
       "   precio_por_superficie_CUBIERTA  ...  price_USD_mean  superficie_TOTAL_mean  \\\n",
       "0                     1550.000000  ...         62000.0                   55.0   \n",
       "2                     1309.090909  ...         72000.0                   55.0   \n",
       "7                     3450.000000  ...        138000.0                   45.0   \n",
       "\n",
       "   superficie_CUBIERTA_mean  precio_por_superficie_TOTAL_mean  \\\n",
       "0                      40.0                       1127.272727   \n",
       "2                      55.0                       1309.090909   \n",
       "7                      40.0                       3066.666667   \n",
       "\n",
       "   precio_por_superficie_CUBIERTA_mean  price_USD_std  superficie_TOTAL_std  \\\n",
       "0                          1550.000000            0.0                   0.0   \n",
       "2                          1309.090909            0.0                   0.0   \n",
       "7                          3450.000000            0.0                   0.0   \n",
       "\n",
       "   superficie_CUBIERTA_std  precio_por_superficie_TOTAL_std  \\\n",
       "0                      0.0                              0.0   \n",
       "2                      0.0                              0.0   \n",
       "7                      0.0                              0.0   \n",
       "\n",
       "   precio_por_superficie_CUBIERTA_std  \n",
       "0                                 0.0  \n",
       "2                                 0.0  \n",
       "7                                 0.0  \n",
       "\n",
       "[3 rows x 25 columns]"
      ]
     },
     "execution_count": 277,
     "metadata": {},
     "output_type": "execute_result"
    }
   ],
   "source": [
    "data_caba.head(3)"
   ]
  },
  {
   "cell_type": "code",
   "execution_count": null,
   "metadata": {},
   "outputs": [],
   "source": []
  },
  {
   "cell_type": "code",
   "execution_count": null,
   "metadata": {},
   "outputs": [],
   "source": []
  },
  {
   "cell_type": "code",
   "execution_count": 238,
   "metadata": {},
   "outputs": [
    {
     "data": {
      "text/plain": [
       "<AxesSubplot:xlabel='precio_por_superficie_TOTAL'>"
      ]
     },
     "execution_count": 238,
     "metadata": {},
     "output_type": "execute_result"
    },
    {
     "data": {
      "image/png": "[encoded data removed]",
      "text/plain": [
       "<Figure size 432x288 with 1 Axes>"
      ]
     },
     "metadata": {
      "needs_background": "light"
     },
     "output_type": "display_data"
    }
   ],
   "source": [
    "sns.distplot(data_caba.groupby('place_name')['precio_por_superficie_TOTAL'].size())\n",
    "#sns.distplot(data['y']);"
   ]
  }
 ],
 "metadata": {
  "kernelspec": {
   "display_name": "Python 3",
   "language": "python",
   "name": "python3"
  },
  "language_info": {
   "codemirror_mode": {
    "name": "ipython",
    "version": 3
   },
   "file_extension": ".py",
   "mimetype": "text/x-python",
   "name": "python",
   "nbconvert_exporter": "python",
   "pygments_lexer": "ipython3",
   "version": "3.7.9"
  }
 },
 "nbformat": 4,
 "nbformat_minor": 4
}
