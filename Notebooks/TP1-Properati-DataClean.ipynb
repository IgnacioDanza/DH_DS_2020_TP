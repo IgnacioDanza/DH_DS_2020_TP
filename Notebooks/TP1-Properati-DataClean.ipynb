{
 "cells": [
  {
   "cell_type": "markdown",
   "metadata": {},
   "source": [
    "### Imports y Lectura de Data Frame\n",
    "\n",
    "Implementacion de una funcion (get_encoding_type) para definir el encoding usado en el Data Frame.  \n",
    "La funcion fue invocada una única vez para obtener el resultado dado que demora bastante en procesar.   \n",
    "El resultante es 'utf-8' por lo cual se procedió a definirlo explicitamente en el read_csv.  \n",
    "\n",
    "Posterior revision de los datos obtenidos, tipos y shape.\n"
   ]
  },
  {
   "cell_type": "code",
   "execution_count": 1,
   "metadata": {},
   "outputs": [],
   "source": [
    "import pandas as pd\n",
    "import numpy as np\n",
    "import re\n",
    "import chardet"
   ]
  },
  {
   "cell_type": "code",
   "execution_count": 2,
   "metadata": {},
   "outputs": [],
   "source": [
    "def get_encoding_type(csv_path):\n",
    "    rawdata = open(csv_path, 'rb').read()\n",
    "    result = chardet.detect(rawdata)\n",
    "    return result.get('encoding')"
   ]
  },
  {
   "cell_type": "code",
   "execution_count": 3,
   "metadata": {},
   "outputs": [],
   "source": [
    "data_location = \"../Data/properati.csv\""
   ]
  },
  {
   "cell_type": "code",
   "execution_count": 5,
   "metadata": {},
   "outputs": [
    {
     "data": {
      "text/plain": [
       "'utf-8'"
      ]
     },
     "execution_count": 5,
     "metadata": {},
     "output_type": "execute_result"
    }
   ],
   "source": [
    "# Encoding comentado por tratarse de excesivos registros. Resultado obtenido de la funcion es 'utf-8'\n",
    "# file_encoding = get_encoding_type(data_location)\n",
    "# file_encoding"
   ]
  },
  {
   "cell_type": "code",
   "execution_count": 68,
   "metadata": {},
   "outputs": [
    {
     "data": {
      "text/html": [
       "<div>\n",
       "<style scoped>\n",
       "    .dataframe tbody tr th:only-of-type {\n",
       "        vertical-align: middle;\n",
       "    }\n",
       "\n",
       "    .dataframe tbody tr th {\n",
       "        vertical-align: top;\n",
       "    }\n",
       "\n",
       "    .dataframe thead th {\n",
       "        text-align: right;\n",
       "    }\n",
       "</style>\n",
       "<table border=\"1\" class=\"dataframe\">\n",
       "  <thead>\n",
       "    <tr style=\"text-align: right;\">\n",
       "      <th></th>\n",
       "      <th>Unnamed: 0</th>\n",
       "      <th>operation</th>\n",
       "      <th>property_type</th>\n",
       "      <th>place_name</th>\n",
       "      <th>place_with_parent_names</th>\n",
       "      <th>country_name</th>\n",
       "      <th>state_name</th>\n",
       "      <th>geonames_id</th>\n",
       "      <th>lat-lon</th>\n",
       "      <th>lat</th>\n",
       "      <th>...</th>\n",
       "      <th>surface_covered_in_m2</th>\n",
       "      <th>price_usd_per_m2</th>\n",
       "      <th>price_per_m2</th>\n",
       "      <th>floor</th>\n",
       "      <th>rooms</th>\n",
       "      <th>expenses</th>\n",
       "      <th>properati_url</th>\n",
       "      <th>description</th>\n",
       "      <th>title</th>\n",
       "      <th>image_thumbnail</th>\n",
       "    </tr>\n",
       "  </thead>\n",
       "  <tbody>\n",
       "    <tr>\n",
       "      <th>0</th>\n",
       "      <td>0</td>\n",
       "      <td>sell</td>\n",
       "      <td>PH</td>\n",
       "      <td>Mataderos</td>\n",
       "      <td>|Argentina|Capital Federal|Mataderos|</td>\n",
       "      <td>Argentina</td>\n",
       "      <td>Capital Federal</td>\n",
       "      <td>3430787.0</td>\n",
       "      <td>-34.6618237,-58.5088387</td>\n",
       "      <td>-34.661824</td>\n",
       "      <td>...</td>\n",
       "      <td>40.0</td>\n",
       "      <td>1127.272727</td>\n",
       "      <td>1550.000000</td>\n",
       "      <td>NaN</td>\n",
       "      <td>NaN</td>\n",
       "      <td>NaN</td>\n",
       "      <td>http://www.properati.com.ar/15bo8_venta_ph_mat...</td>\n",
       "      <td>2 AMBIENTES TIPO CASA PLANTA BAJA POR PASILLO,...</td>\n",
       "      <td>2 AMB TIPO CASA SIN EXPENSAS EN PB</td>\n",
       "      <td>https://thumbs4.properati.com/8/BluUYiHJLhgIIK...</td>\n",
       "    </tr>\n",
       "    <tr>\n",
       "      <th>1</th>\n",
       "      <td>1</td>\n",
       "      <td>sell</td>\n",
       "      <td>apartment</td>\n",
       "      <td>La Plata</td>\n",
       "      <td>|Argentina|Bs.As. G.B.A. Zona Sur|La Plata|</td>\n",
       "      <td>Argentina</td>\n",
       "      <td>Bs.As. G.B.A. Zona Sur</td>\n",
       "      <td>3432039.0</td>\n",
       "      <td>-34.9038831,-57.9643295</td>\n",
       "      <td>-34.903883</td>\n",
       "      <td>...</td>\n",
       "      <td>NaN</td>\n",
       "      <td>NaN</td>\n",
       "      <td>NaN</td>\n",
       "      <td>NaN</td>\n",
       "      <td>NaN</td>\n",
       "      <td>NaN</td>\n",
       "      <td>http://www.properati.com.ar/15bob_venta_depart...</td>\n",
       "      <td>Venta de departamento en décimo piso al frente...</td>\n",
       "      <td>VENTA Depto 2 dorm. a estrenar 7 e/ 36 y 37   ...</td>\n",
       "      <td>https://thumbs4.properati.com/7/ikpVBu2ztHA7jv...</td>\n",
       "    </tr>\n",
       "    <tr>\n",
       "      <th>2</th>\n",
       "      <td>2</td>\n",
       "      <td>sell</td>\n",
       "      <td>apartment</td>\n",
       "      <td>Mataderos</td>\n",
       "      <td>|Argentina|Capital Federal|Mataderos|</td>\n",
       "      <td>Argentina</td>\n",
       "      <td>Capital Federal</td>\n",
       "      <td>3430787.0</td>\n",
       "      <td>-34.6522615,-58.5229825</td>\n",
       "      <td>-34.652262</td>\n",
       "      <td>...</td>\n",
       "      <td>55.0</td>\n",
       "      <td>1309.090909</td>\n",
       "      <td>1309.090909</td>\n",
       "      <td>NaN</td>\n",
       "      <td>NaN</td>\n",
       "      <td>NaN</td>\n",
       "      <td>http://www.properati.com.ar/15bod_venta_depart...</td>\n",
       "      <td>2 AMBIENTES 3ER PISO LATERAL LIVING COMEDOR AM...</td>\n",
       "      <td>2 AMB 3ER PISO CON ASCENSOR APTO CREDITO</td>\n",
       "      <td>https://thumbs4.properati.com/5/SXKr34F_IwG3W_...</td>\n",
       "    </tr>\n",
       "  </tbody>\n",
       "</table>\n",
       "<p>3 rows × 26 columns</p>\n",
       "</div>"
      ],
      "text/plain": [
       "   Unnamed: 0 operation property_type place_name  \\\n",
       "0           0      sell            PH  Mataderos   \n",
       "1           1      sell     apartment   La Plata   \n",
       "2           2      sell     apartment  Mataderos   \n",
       "\n",
       "                       place_with_parent_names country_name  \\\n",
       "0        |Argentina|Capital Federal|Mataderos|    Argentina   \n",
       "1  |Argentina|Bs.As. G.B.A. Zona Sur|La Plata|    Argentina   \n",
       "2        |Argentina|Capital Federal|Mataderos|    Argentina   \n",
       "\n",
       "               state_name  geonames_id                  lat-lon        lat  \\\n",
       "0         Capital Federal    3430787.0  -34.6618237,-58.5088387 -34.661824   \n",
       "1  Bs.As. G.B.A. Zona Sur    3432039.0  -34.9038831,-57.9643295 -34.903883   \n",
       "2         Capital Federal    3430787.0  -34.6522615,-58.5229825 -34.652262   \n",
       "\n",
       "   ...  surface_covered_in_m2  price_usd_per_m2 price_per_m2  floor  rooms  \\\n",
       "0  ...                   40.0       1127.272727  1550.000000    NaN    NaN   \n",
       "1  ...                    NaN               NaN          NaN    NaN    NaN   \n",
       "2  ...                   55.0       1309.090909  1309.090909    NaN    NaN   \n",
       "\n",
       "   expenses                                      properati_url  \\\n",
       "0       NaN  http://www.properati.com.ar/15bo8_venta_ph_mat...   \n",
       "1       NaN  http://www.properati.com.ar/15bob_venta_depart...   \n",
       "2       NaN  http://www.properati.com.ar/15bod_venta_depart...   \n",
       "\n",
       "                                         description  \\\n",
       "0  2 AMBIENTES TIPO CASA PLANTA BAJA POR PASILLO,...   \n",
       "1  Venta de departamento en décimo piso al frente...   \n",
       "2  2 AMBIENTES 3ER PISO LATERAL LIVING COMEDOR AM...   \n",
       "\n",
       "                                               title  \\\n",
       "0                 2 AMB TIPO CASA SIN EXPENSAS EN PB   \n",
       "1  VENTA Depto 2 dorm. a estrenar 7 e/ 36 y 37   ...   \n",
       "2           2 AMB 3ER PISO CON ASCENSOR APTO CREDITO   \n",
       "\n",
       "                                     image_thumbnail  \n",
       "0  https://thumbs4.properati.com/8/BluUYiHJLhgIIK...  \n",
       "1  https://thumbs4.properati.com/7/ikpVBu2ztHA7jv...  \n",
       "2  https://thumbs4.properati.com/5/SXKr34F_IwG3W_...  \n",
       "\n",
       "[3 rows x 26 columns]"
      ]
     },
     "execution_count": 68,
     "metadata": {},
     "output_type": "execute_result"
    }
   ],
   "source": [
    "data = pd.read_csv(data_location, sep=\",\", encoding='utf-8')\n",
    "data.head(3)"
   ]
  },
  {
   "cell_type": "code",
   "execution_count": 11,
   "metadata": {},
   "outputs": [
    {
     "data": {
      "text/plain": [
       "(121220, 26)"
      ]
     },
     "execution_count": 11,
     "metadata": {},
     "output_type": "execute_result"
    }
   ],
   "source": [
    "data.shape"
   ]
  },
  {
   "cell_type": "code",
   "execution_count": 8,
   "metadata": {},
   "outputs": [
    {
     "data": {
      "text/plain": [
       "Unnamed: 0                      int64\n",
       "operation                      object\n",
       "property_type                  object\n",
       "place_name                     object\n",
       "place_with_parent_names        object\n",
       "country_name                   object\n",
       "state_name                     object\n",
       "geonames_id                   float64\n",
       "lat-lon                        object\n",
       "lat                           float64\n",
       "lon                           float64\n",
       "price                         float64\n",
       "currency                       object\n",
       "price_aprox_local_currency    float64\n",
       "price_aprox_usd               float64\n",
       "surface_total_in_m2           float64\n",
       "surface_covered_in_m2         float64\n",
       "price_usd_per_m2              float64\n",
       "price_per_m2                  float64\n",
       "floor                         float64\n",
       "rooms                         float64\n",
       "expenses                      float64\n",
       "properati_url                  object\n",
       "description                    object\n",
       "title                          object\n",
       "image_thumbnail                object\n",
       "dtype: object"
      ]
     },
     "execution_count": 8,
     "metadata": {},
     "output_type": "execute_result"
    }
   ],
   "source": [
    "data.dtypes"
   ]
  },
  {
   "cell_type": "markdown",
   "metadata": {},
   "source": [
    "### Analisis informacion de Place\n",
    "\n",
    "Los campos 'place_with_parent_names', 'place_name', 'country_name' y 'state_name' traen informacion de dónde se ubica la propiedad.  \n",
    "\n",
    "El valor de nulos es consistente a través de 'place_with_parent_names', 'country_name' y 'state_name'. En la columa 'place_name' se encuentran 23 valores nulos.  \n",
    "El campo 'country_name' tiene un único valor de territorio por lo que se procede a realizar un drop de ese registro junto con el 'place_with_parent_names' por tratarse de inormación redundante.  \n",
    "Respecto a los 23 nulos en 'place_name' se cuentan con dos alternativas\n",
    "\n",
    "    * drop de campos faltantes\n",
    "    \n",
    "    * broadcastin de valor de place usando un regex para extraer del 'place_with_parent_names' los valores que ya se tienen. \n",
    "    "
   ]
  },
  {
   "cell_type": "code",
   "execution_count": 60,
   "metadata": {},
   "outputs": [
    {
     "name": "stdout",
     "output_type": "stream",
     "text": [
      "'Place with Parent' valores nulos:  0\n",
      "'Place name' valores nulos:  23\n",
      "'Country Name' valores nulos:  0\n",
      "'State Name' valores nulos:  0\n"
     ]
    }
   ],
   "source": [
    "place_with_parent_nulls = data['place_with_parent_names'].isnull().sum()\n",
    "place_name_nulls = data['place_name'].isnull().sum()\n",
    "country_name_nulls = data['country_name'].isnull().sum()\n",
    "state_name_nulls = data['state_name'].isnull().sum()\n",
    "\n",
    "print(\"'Place with Parent' valores nulos: \", place_with_parent_nulls)\n",
    "print(\"'Place name' valores nulos: \", place_name_nulls)\n",
    "print(\"'Country Name' valores nulos: \", country_name_nulls)\n",
    "print(\"'State Name' valores nulos: \", state_name_nulls)"
   ]
  },
  {
   "cell_type": "code",
   "execution_count": 64,
   "metadata": {},
   "outputs": [
    {
     "data": {
      "text/plain": [
       "Argentina    121220\n",
       "Name: country_name, dtype: int64"
      ]
     },
     "execution_count": 64,
     "metadata": {},
     "output_type": "execute_result"
    }
   ],
   "source": [
    "data['country_name'].value_counts()"
   ]
  },
  {
   "cell_type": "code",
   "execution_count": 70,
   "metadata": {},
   "outputs": [
    {
     "data": {
      "text/plain": [
       "Córdoba                9254\n",
       "Rosario                8504\n",
       "Mar del Plata          6534\n",
       "Tigre                  3324\n",
       "Nordelta               3315\n",
       "                       ... \n",
       "Santa Ana                 1\n",
       "Calmayo                   1\n",
       "Speluzzi                  1\n",
       "Carmen de Patagones       1\n",
       "Emilia                    1\n",
       "Name: place_name, Length: 1060, dtype: int64"
      ]
     },
     "execution_count": 70,
     "metadata": {},
     "output_type": "execute_result"
    }
   ],
   "source": [
    "data['place_name'].value_counts()"
   ]
  },
  {
   "cell_type": "code",
   "execution_count": 66,
   "metadata": {},
   "outputs": [
    {
     "data": {
      "text/plain": [
       "Capital Federal                 32316\n",
       "Bs.As. G.B.A. Zona Norte        25560\n",
       "Bs.As. G.B.A. Zona Sur          13952\n",
       "Córdoba                         12069\n",
       "Santa Fe                        10172\n",
       "Buenos Aires Costa Atlántica    10006\n",
       "Bs.As. G.B.A. Zona Oeste         9322\n",
       "Buenos Aires Interior            2291\n",
       "Río Negro                         808\n",
       "Neuquén                           733\n",
       "Mendoza                           681\n",
       "Tucumán                           674\n",
       "Corrientes                        583\n",
       "Misiones                          464\n",
       "Entre Ríos                        369\n",
       "Salta                             278\n",
       "Chubut                            259\n",
       "San Luis                          252\n",
       "La Pampa                          157\n",
       "Formosa                            65\n",
       "Chaco                              57\n",
       "San Juan                           40\n",
       "Tierra Del Fuego                   31\n",
       "Catamarca                          27\n",
       "Jujuy                              26\n",
       "Santa Cruz                         20\n",
       "La Rioja                            4\n",
       "Santiago Del Estero                 4\n",
       "Name: state_name, dtype: int64"
      ]
     },
     "execution_count": 66,
     "metadata": {},
     "output_type": "execute_result"
    }
   ],
   "source": [
    "data['state_name'].value_counts()"
   ]
  },
  {
   "cell_type": "markdown",
   "metadata": {},
   "source": [
    "### Drop de información innecesaria\n",
    "\n",
    "Se *procede a limpiar aquellos datos que no son de relevancia para el objetivo final.  \n",
    "Las decisiones se tomaron en base a varios criterios diferentes según cada caso\n",
    "\n",
    "* **'Unnamed: 0:** Indice redundante que no va a ser utilizado en la organización final.\n",
    "* **'operation':** Único rsultado para el campo. Al tratarse de todas operaciones de venta, se vuelve redundante.\n",
    "* **'place_with_parent_names':** Información que esta repetida y se encuentra en otros registros.\n",
    "* **'country_name':** Único rsultado para el campo. Al tratarse de todas operaciones dentro del territorio argentino, se vuelve redundante.\n",
    "* **'geonames_id':** Información que no aporta información para el proyecto a largo plazo de estimación de precio.\n",
    "* **'lat-lon':** Merge de las columnas 'lat' y 'lon'\n",
    "* **'lat':** Información que no aporta información para el proyecto a largo plazo de estimación de precio.\n",
    "* **'lon':** Información que no aporta información para el proyecto a largo plazo de estimación de precio.\n",
    "* **'price_per_m2':** Del análisis realizado se desprende que el campo 'price_per_m2' se compone con la misma formula de 'price_usd_per_m2' pero tomando otra superficie como referencia. Es decir 'price_per_m2 = price/'surface_covered_in_m2' mientras que 'price_usd_per_m2' = price/'surface_total_in_m2' \n",
    "* **'expenses':** Excesivos registros nulos (88%) mientras que no aportan información para la estimación.\n",
    "* **'properati_url':** Información inncesaria.\n",
    "* **'image_thumbnail':** Información inncesaria.\n"
   ]
  },
  {
   "cell_type": "code",
   "execution_count": 71,
   "metadata": {},
   "outputs": [
    {
     "data": {
      "text/plain": [
       "sell    121220\n",
       "Name: operation, dtype: int64"
      ]
     },
     "execution_count": 71,
     "metadata": {},
     "output_type": "execute_result"
    }
   ],
   "source": [
    "data['operation'].value_counts()"
   ]
  },
  {
   "cell_type": "code",
   "execution_count": 10,
   "metadata": {},
   "outputs": [
    {
     "data": {
      "text/plain": [
       "88.23461475004125"
      ]
     },
     "execution_count": 10,
     "metadata": {},
     "output_type": "execute_result"
    }
   ],
   "source": [
    "data['expenses'].isnull().sum()*100/ len(data)"
   ]
  },
  {
   "cell_type": "code",
   "execution_count": 5,
   "metadata": {},
   "outputs": [
    {
     "data": {
      "text/plain": [
       "Index(['Unnamed: 0', 'operation', 'property_type', 'place_name',\n",
       "       'place_with_parent_names', 'country_name', 'state_name', 'geonames_id',\n",
       "       'lat-lon', 'lat', 'lon', 'price', 'currency',\n",
       "       'price_aprox_local_currency', 'price_aprox_usd', 'surface_total_in_m2',\n",
       "       'surface_covered_in_m2', 'price_usd_per_m2', 'price_per_m2', 'floor',\n",
       "       'rooms', 'expenses', 'properati_url', 'description', 'title',\n",
       "       'image_thumbnail'],\n",
       "      dtype='object')"
      ]
     },
     "execution_count": 5,
     "metadata": {},
     "output_type": "execute_result"
    }
   ],
   "source": [
    "data.columns"
   ]
  },
  {
   "cell_type": "code",
   "execution_count": 79,
   "metadata": {},
   "outputs": [
    {
     "data": {
      "text/html": [
       "<div>\n",
       "<style scoped>\n",
       "    .dataframe tbody tr th:only-of-type {\n",
       "        vertical-align: middle;\n",
       "    }\n",
       "\n",
       "    .dataframe tbody tr th {\n",
       "        vertical-align: top;\n",
       "    }\n",
       "\n",
       "    .dataframe thead th {\n",
       "        text-align: right;\n",
       "    }\n",
       "</style>\n",
       "<table border=\"1\" class=\"dataframe\">\n",
       "  <thead>\n",
       "    <tr style=\"text-align: right;\">\n",
       "      <th></th>\n",
       "      <th>property_type</th>\n",
       "      <th>place_name</th>\n",
       "      <th>state_name</th>\n",
       "      <th>price</th>\n",
       "      <th>currency</th>\n",
       "      <th>price_aprox_local_currency</th>\n",
       "      <th>price_aprox_usd</th>\n",
       "      <th>surface_total_in_m2</th>\n",
       "      <th>surface_covered_in_m2</th>\n",
       "      <th>price_usd_per_m2</th>\n",
       "      <th>floor</th>\n",
       "      <th>rooms</th>\n",
       "      <th>description</th>\n",
       "      <th>title</th>\n",
       "    </tr>\n",
       "  </thead>\n",
       "  <tbody>\n",
       "    <tr>\n",
       "      <th>0</th>\n",
       "      <td>PH</td>\n",
       "      <td>Mataderos</td>\n",
       "      <td>Capital Federal</td>\n",
       "      <td>62000.0</td>\n",
       "      <td>USD</td>\n",
       "      <td>1093959.0</td>\n",
       "      <td>62000.0</td>\n",
       "      <td>55.0</td>\n",
       "      <td>40.0</td>\n",
       "      <td>1127.272727</td>\n",
       "      <td>NaN</td>\n",
       "      <td>NaN</td>\n",
       "      <td>2 AMBIENTES TIPO CASA PLANTA BAJA POR PASILLO,...</td>\n",
       "      <td>2 AMB TIPO CASA SIN EXPENSAS EN PB</td>\n",
       "    </tr>\n",
       "    <tr>\n",
       "      <th>1</th>\n",
       "      <td>apartment</td>\n",
       "      <td>La Plata</td>\n",
       "      <td>Bs.As. G.B.A. Zona Sur</td>\n",
       "      <td>150000.0</td>\n",
       "      <td>USD</td>\n",
       "      <td>2646675.0</td>\n",
       "      <td>150000.0</td>\n",
       "      <td>NaN</td>\n",
       "      <td>NaN</td>\n",
       "      <td>NaN</td>\n",
       "      <td>NaN</td>\n",
       "      <td>NaN</td>\n",
       "      <td>Venta de departamento en décimo piso al frente...</td>\n",
       "      <td>VENTA Depto 2 dorm. a estrenar 7 e/ 36 y 37   ...</td>\n",
       "    </tr>\n",
       "    <tr>\n",
       "      <th>2</th>\n",
       "      <td>apartment</td>\n",
       "      <td>Mataderos</td>\n",
       "      <td>Capital Federal</td>\n",
       "      <td>72000.0</td>\n",
       "      <td>USD</td>\n",
       "      <td>1270404.0</td>\n",
       "      <td>72000.0</td>\n",
       "      <td>55.0</td>\n",
       "      <td>55.0</td>\n",
       "      <td>1309.090909</td>\n",
       "      <td>NaN</td>\n",
       "      <td>NaN</td>\n",
       "      <td>2 AMBIENTES 3ER PISO LATERAL LIVING COMEDOR AM...</td>\n",
       "      <td>2 AMB 3ER PISO CON ASCENSOR APTO CREDITO</td>\n",
       "    </tr>\n",
       "    <tr>\n",
       "      <th>3</th>\n",
       "      <td>PH</td>\n",
       "      <td>Liniers</td>\n",
       "      <td>Capital Federal</td>\n",
       "      <td>95000.0</td>\n",
       "      <td>USD</td>\n",
       "      <td>1676227.5</td>\n",
       "      <td>95000.0</td>\n",
       "      <td>NaN</td>\n",
       "      <td>NaN</td>\n",
       "      <td>NaN</td>\n",
       "      <td>NaN</td>\n",
       "      <td>NaN</td>\n",
       "      <td>PH 3 ambientes con patio. Hay 3 deptos en lote...</td>\n",
       "      <td>PH 3 amb. cfte. reciclado</td>\n",
       "    </tr>\n",
       "    <tr>\n",
       "      <th>4</th>\n",
       "      <td>apartment</td>\n",
       "      <td>Centro</td>\n",
       "      <td>Buenos Aires Costa Atlántica</td>\n",
       "      <td>64000.0</td>\n",
       "      <td>USD</td>\n",
       "      <td>1129248.0</td>\n",
       "      <td>64000.0</td>\n",
       "      <td>35.0</td>\n",
       "      <td>35.0</td>\n",
       "      <td>1828.571429</td>\n",
       "      <td>NaN</td>\n",
       "      <td>NaN</td>\n",
       "      <td>DEPARTAMENTO CON FANTÁSTICA ILUMINACIÓN NATURA...</td>\n",
       "      <td>DEPTO 2 AMB AL CONTRAFRENTE ZONA CENTRO/PLAZA ...</td>\n",
       "    </tr>\n",
       "  </tbody>\n",
       "</table>\n",
       "</div>"
      ],
      "text/plain": [
       "  property_type place_name                    state_name     price currency  \\\n",
       "0            PH  Mataderos               Capital Federal   62000.0      USD   \n",
       "1     apartment   La Plata        Bs.As. G.B.A. Zona Sur  150000.0      USD   \n",
       "2     apartment  Mataderos               Capital Federal   72000.0      USD   \n",
       "3            PH    Liniers               Capital Federal   95000.0      USD   \n",
       "4     apartment     Centro  Buenos Aires Costa Atlántica   64000.0      USD   \n",
       "\n",
       "   price_aprox_local_currency  price_aprox_usd  surface_total_in_m2  \\\n",
       "0                   1093959.0          62000.0                 55.0   \n",
       "1                   2646675.0         150000.0                  NaN   \n",
       "2                   1270404.0          72000.0                 55.0   \n",
       "3                   1676227.5          95000.0                  NaN   \n",
       "4                   1129248.0          64000.0                 35.0   \n",
       "\n",
       "   surface_covered_in_m2  price_usd_per_m2  floor  rooms  \\\n",
       "0                   40.0       1127.272727    NaN    NaN   \n",
       "1                    NaN               NaN    NaN    NaN   \n",
       "2                   55.0       1309.090909    NaN    NaN   \n",
       "3                    NaN               NaN    NaN    NaN   \n",
       "4                   35.0       1828.571429    NaN    NaN   \n",
       "\n",
       "                                         description  \\\n",
       "0  2 AMBIENTES TIPO CASA PLANTA BAJA POR PASILLO,...   \n",
       "1  Venta de departamento en décimo piso al frente...   \n",
       "2  2 AMBIENTES 3ER PISO LATERAL LIVING COMEDOR AM...   \n",
       "3  PH 3 ambientes con patio. Hay 3 deptos en lote...   \n",
       "4  DEPARTAMENTO CON FANTÁSTICA ILUMINACIÓN NATURA...   \n",
       "\n",
       "                                               title  \n",
       "0                 2 AMB TIPO CASA SIN EXPENSAS EN PB  \n",
       "1  VENTA Depto 2 dorm. a estrenar 7 e/ 36 y 37   ...  \n",
       "2           2 AMB 3ER PISO CON ASCENSOR APTO CREDITO  \n",
       "3                       PH 3 amb. cfte. reciclado     \n",
       "4  DEPTO 2 AMB AL CONTRAFRENTE ZONA CENTRO/PLAZA ...  "
      ]
     },
     "execution_count": 79,
     "metadata": {},
     "output_type": "execute_result"
    }
   ],
   "source": [
    "data_filtrada = data.drop(columns=(['Unnamed: 0','operation','place_with_parent_names','country_name','geonames_id','lat-lon', 'lat', 'lon','price_per_m2','expenses', 'properati_url','image_thumbnail']))\n",
    "data_filtrada.head(5)"
   ]
  },
  {
   "cell_type": "markdown",
   "metadata": {},
   "source": [
    "### Price Analisis\n",
    "Revisión de campos nulos en columnas de precio.  \n",
    "\n",
    "Drop price.isnull() - price_aprox_usd.isnull() - price_aprox_local_currency.isnull()  \n",
    "Los 3 campos cuentan el mismo porcentaje de datos faltantes (16,85%). Resta definir si parte de esos registros faltantes no estan imputados en Comentario o Título."
   ]
  },
  {
   "cell_type": "code",
   "execution_count": 80,
   "metadata": {},
   "outputs": [
    {
     "data": {
      "text/plain": [
       "16.837155584886982"
      ]
     },
     "execution_count": 80,
     "metadata": {},
     "output_type": "execute_result"
    }
   ],
   "source": [
    "data_filtrada.price_aprox_local_currency.isnull().sum()*100/ len(data_filtrada)"
   ]
  },
  {
   "cell_type": "code",
   "execution_count": 81,
   "metadata": {},
   "outputs": [
    {
     "data": {
      "text/plain": [
       "16.837155584886982"
      ]
     },
     "execution_count": 81,
     "metadata": {},
     "output_type": "execute_result"
    }
   ],
   "source": [
    "data_filtrada.price_aprox_usd.isnull().sum()*100/ len(data_filtrada)"
   ]
  },
  {
   "cell_type": "code",
   "execution_count": 82,
   "metadata": {},
   "outputs": [
    {
     "data": {
      "text/plain": [
       "16.837155584886982"
      ]
     },
     "execution_count": 82,
     "metadata": {},
     "output_type": "execute_result"
    }
   ],
   "source": [
    "data_filtrada.price.isnull().sum()*100/ len(data_filtrada)"
   ]
  },
  {
   "cell_type": "markdown",
   "metadata": {},
   "source": [
    "### Currency Analisis\n",
    "Revisión de los valores que trae la serie Currency.  \n",
    "\n",
    "Se encuentran 2 valores fuera del registro esperado\n",
    "   * PEN: dos resultados \n",
    "   * UYU: un resultado\n",
    "\n",
    "Drop currency para los casos mencionados arriba por ser outlyers de la consigna de territorio Argentino."
   ]
  },
  {
   "cell_type": "code",
   "execution_count": 83,
   "metadata": {},
   "outputs": [
    {
     "data": {
      "text/plain": [
       "USD    87587\n",
       "ARS    13219\n",
       "PEN        2\n",
       "UYU        1\n",
       "Name: currency, dtype: int64"
      ]
     },
     "execution_count": 83,
     "metadata": {},
     "output_type": "execute_result"
    }
   ],
   "source": [
    "data.currency.value_counts()"
   ]
  },
  {
   "cell_type": "code",
   "execution_count": 84,
   "metadata": {},
   "outputs": [
    {
     "data": {
      "text/plain": [
       "(121220, 14)"
      ]
     },
     "execution_count": 84,
     "metadata": {},
     "output_type": "execute_result"
    }
   ],
   "source": [
    "data_filtrada.shape"
   ]
  },
  {
   "cell_type": "code",
   "execution_count": 85,
   "metadata": {},
   "outputs": [],
   "source": [
    "data_filtrada.drop(data_filtrada.loc[(data_filtrada['currency']==\"PEN\")].index, inplace=True)\n",
    "data_filtrada.drop(data_filtrada.loc[(data_filtrada['currency']==\"UYU\")].index, inplace=True)"
   ]
  },
  {
   "cell_type": "code",
   "execution_count": 86,
   "metadata": {},
   "outputs": [
    {
     "data": {
      "text/plain": [
       "USD    87587\n",
       "ARS    13219\n",
       "Name: currency, dtype: int64"
      ]
     },
     "execution_count": 86,
     "metadata": {},
     "output_type": "execute_result"
    }
   ],
   "source": [
    "data_filtrada.currency.value_counts()"
   ]
  },
  {
   "cell_type": "markdown",
   "metadata": {},
   "source": [
    "### Rename\n",
    "Renombramiento de las columnas para tener la información más prolija."
   ]
  },
  {
   "cell_type": "code",
   "execution_count": 87,
   "metadata": {},
   "outputs": [
    {
     "data": {
      "text/plain": [
       "Index(['property_type', 'place_name', 'state_name', 'price', 'currency',\n",
       "       'price_aprox_local_currency', 'price_aprox_usd', 'surface_total_in_m2',\n",
       "       'surface_covered_in_m2', 'price_usd_per_m2', 'floor', 'rooms',\n",
       "       'description', 'title'],\n",
       "      dtype='object')"
      ]
     },
     "execution_count": 87,
     "metadata": {},
     "output_type": "execute_result"
    }
   ],
   "source": [
    "data_filtrada.columns"
   ]
  },
  {
   "cell_type": "code",
   "execution_count": 90,
   "metadata": {},
   "outputs": [
    {
     "data": {
      "text/html": [
       "<div>\n",
       "<style scoped>\n",
       "    .dataframe tbody tr th:only-of-type {\n",
       "        vertical-align: middle;\n",
       "    }\n",
       "\n",
       "    .dataframe tbody tr th {\n",
       "        vertical-align: top;\n",
       "    }\n",
       "\n",
       "    .dataframe thead th {\n",
       "        text-align: right;\n",
       "    }\n",
       "</style>\n",
       "<table border=\"1\" class=\"dataframe\">\n",
       "  <thead>\n",
       "    <tr style=\"text-align: right;\">\n",
       "      <th></th>\n",
       "      <th>Propiedad</th>\n",
       "      <th>Barrio</th>\n",
       "      <th>Localidad</th>\n",
       "      <th>Precio</th>\n",
       "      <th>Moneda</th>\n",
       "      <th>Precio aprox ARS</th>\n",
       "      <th>Precio aprox USD</th>\n",
       "      <th>Superfice total M2</th>\n",
       "      <th>Superficie cubierta M2</th>\n",
       "      <th>Precio USD por M2</th>\n",
       "      <th>Piso</th>\n",
       "      <th>Ambientes</th>\n",
       "      <th>Descripcion</th>\n",
       "      <th>Titulo</th>\n",
       "    </tr>\n",
       "  </thead>\n",
       "  <tbody>\n",
       "    <tr>\n",
       "      <th>0</th>\n",
       "      <td>PH</td>\n",
       "      <td>Mataderos</td>\n",
       "      <td>Capital Federal</td>\n",
       "      <td>62000.0</td>\n",
       "      <td>USD</td>\n",
       "      <td>1093959.0</td>\n",
       "      <td>62000.0</td>\n",
       "      <td>55.0</td>\n",
       "      <td>40.0</td>\n",
       "      <td>1127.272727</td>\n",
       "      <td>NaN</td>\n",
       "      <td>NaN</td>\n",
       "      <td>2 AMBIENTES TIPO CASA PLANTA BAJA POR PASILLO,...</td>\n",
       "      <td>2 AMB TIPO CASA SIN EXPENSAS EN PB</td>\n",
       "    </tr>\n",
       "    <tr>\n",
       "      <th>1</th>\n",
       "      <td>apartment</td>\n",
       "      <td>La Plata</td>\n",
       "      <td>Bs.As. G.B.A. Zona Sur</td>\n",
       "      <td>150000.0</td>\n",
       "      <td>USD</td>\n",
       "      <td>2646675.0</td>\n",
       "      <td>150000.0</td>\n",
       "      <td>NaN</td>\n",
       "      <td>NaN</td>\n",
       "      <td>NaN</td>\n",
       "      <td>NaN</td>\n",
       "      <td>NaN</td>\n",
       "      <td>Venta de departamento en décimo piso al frente...</td>\n",
       "      <td>VENTA Depto 2 dorm. a estrenar 7 e/ 36 y 37   ...</td>\n",
       "    </tr>\n",
       "    <tr>\n",
       "      <th>2</th>\n",
       "      <td>apartment</td>\n",
       "      <td>Mataderos</td>\n",
       "      <td>Capital Federal</td>\n",
       "      <td>72000.0</td>\n",
       "      <td>USD</td>\n",
       "      <td>1270404.0</td>\n",
       "      <td>72000.0</td>\n",
       "      <td>55.0</td>\n",
       "      <td>55.0</td>\n",
       "      <td>1309.090909</td>\n",
       "      <td>NaN</td>\n",
       "      <td>NaN</td>\n",
       "      <td>2 AMBIENTES 3ER PISO LATERAL LIVING COMEDOR AM...</td>\n",
       "      <td>2 AMB 3ER PISO CON ASCENSOR APTO CREDITO</td>\n",
       "    </tr>\n",
       "  </tbody>\n",
       "</table>\n",
       "</div>"
      ],
      "text/plain": [
       "   Propiedad     Barrio               Localidad    Precio Moneda  \\\n",
       "0         PH  Mataderos         Capital Federal   62000.0    USD   \n",
       "1  apartment   La Plata  Bs.As. G.B.A. Zona Sur  150000.0    USD   \n",
       "2  apartment  Mataderos         Capital Federal   72000.0    USD   \n",
       "\n",
       "   Precio aprox ARS  Precio aprox USD  Superfice total M2  \\\n",
       "0         1093959.0           62000.0                55.0   \n",
       "1         2646675.0          150000.0                 NaN   \n",
       "2         1270404.0           72000.0                55.0   \n",
       "\n",
       "   Superficie cubierta M2  Precio USD por M2  Piso  Ambientes  \\\n",
       "0                    40.0        1127.272727   NaN        NaN   \n",
       "1                     NaN                NaN   NaN        NaN   \n",
       "2                    55.0        1309.090909   NaN        NaN   \n",
       "\n",
       "                                         Descripcion  \\\n",
       "0  2 AMBIENTES TIPO CASA PLANTA BAJA POR PASILLO,...   \n",
       "1  Venta de departamento en décimo piso al frente...   \n",
       "2  2 AMBIENTES 3ER PISO LATERAL LIVING COMEDOR AM...   \n",
       "\n",
       "                                              Titulo  \n",
       "0                 2 AMB TIPO CASA SIN EXPENSAS EN PB  \n",
       "1  VENTA Depto 2 dorm. a estrenar 7 e/ 36 y 37   ...  \n",
       "2           2 AMB 3ER PISO CON ASCENSOR APTO CREDITO  "
      ]
     },
     "execution_count": 90,
     "metadata": {},
     "output_type": "execute_result"
    }
   ],
   "source": [
    "data_filtrada_renamed = data_filtrada.rename(columns = {\n",
    "    'property_type':'Propiedad', \n",
    "    'place_name':'Barrio', \n",
    "    'state_name':'Localidad', \n",
    "    'price':'Precio', \n",
    "    'currency':'Moneda',\n",
    "    'price_aprox_local_currency':'Precio aprox ARS' ,\n",
    "    'price_aprox_usd': 'Precio aprox USD', \n",
    "    'surface_total_in_m2': 'Superfice total M2',\n",
    "    'surface_covered_in_m2': 'Superficie cubierta M2', \n",
    "    'price_usd_per_m2':'Precio USD por M2', \n",
    "    'floor': 'Piso', \n",
    "    'rooms': 'Ambientes',\n",
    "    'description': 'Descripcion', \n",
    "    'title' : 'Titulo'},  inplace = False)\n",
    "\n",
    "data_filtrada_renamed.head(3)"
   ]
  },
  {
   "cell_type": "code",
   "execution_count": 92,
   "metadata": {},
   "outputs": [
    {
     "data": {
      "text/plain": [
       "Index(['Propiedad', 'Barrio', 'Localidad', 'Precio', 'Moneda',\n",
       "       'Precio aprox ARS', 'Precio aprox USD', 'Superfice total M2',\n",
       "       'Superficie cubierta M2', 'Precio USD por M2', 'Piso', 'Ambientes',\n",
       "       'Descripcion', 'Titulo'],\n",
       "      dtype='object')"
      ]
     },
     "execution_count": 92,
     "metadata": {},
     "output_type": "execute_result"
    }
   ],
   "source": [
    "data_filtrada_renamed.columns"
   ]
  },
  {
   "cell_type": "code",
   "execution_count": 76,
   "metadata": {},
   "outputs": [
    {
     "data": {
      "text/plain": [
       "Capital Federal                 32314\n",
       "Bs.As. G.B.A. Zona Norte        25560\n",
       "Bs.As. G.B.A. Zona Sur          13952\n",
       "Córdoba                         12069\n",
       "Santa Fe                        10172\n",
       "Buenos Aires Costa Atlántica    10006\n",
       "Bs.As. G.B.A. Zona Oeste         9322\n",
       "Buenos Aires Interior            2291\n",
       "Río Negro                         808\n",
       "Neuquén                           733\n",
       "Mendoza                           680\n",
       "Tucumán                           674\n",
       "Corrientes                        583\n",
       "Misiones                          464\n",
       "Entre Ríos                        369\n",
       "Salta                             278\n",
       "Chubut                            259\n",
       "San Luis                          252\n",
       "La Pampa                          157\n",
       "Formosa                            65\n",
       "Chaco                              57\n",
       "San Juan                           40\n",
       "Tierra Del Fuego                   31\n",
       "Catamarca                          27\n",
       "Jujuy                              26\n",
       "Santa Cruz                         20\n",
       "La Rioja                            4\n",
       "Santiago Del Estero                 4\n",
       "Name: Localidad, dtype: int64"
      ]
     },
     "execution_count": 76,
     "metadata": {},
     "output_type": "execute_result"
    }
   ],
   "source": [
    "data_filtrada_renamed.Localidad.value_counts()"
   ]
  },
  {
   "cell_type": "code",
   "execution_count": 103,
   "metadata": {},
   "outputs": [
    {
     "data": {
      "text/plain": [
       "Propiedad                  object\n",
       "Barrio                     object\n",
       "Localidad                  object\n",
       "Precio                    float64\n",
       "Moneda                     object\n",
       "Precio aprox ARS          float64\n",
       "Precio aprox USD          float64\n",
       "Superfice total M2        float64\n",
       "Superficie cubierta M2    float64\n",
       "Precio USD por M2         float64\n",
       "Piso                      float64\n",
       "Ambientes                 float64\n",
       "Descripcion                object\n",
       "Titulo                     object\n",
       "dtype: object"
      ]
     },
     "execution_count": 103,
     "metadata": {},
     "output_type": "execute_result"
    }
   ],
   "source": [
    "data_filtrada_renamed.dtypes"
   ]
  },
  {
   "cell_type": "code",
   "execution_count": 100,
   "metadata": {},
   "outputs": [
    {
     "data": {
      "text/html": [
       "<div>\n",
       "<style scoped>\n",
       "    .dataframe tbody tr th:only-of-type {\n",
       "        vertical-align: middle;\n",
       "    }\n",
       "\n",
       "    .dataframe tbody tr th {\n",
       "        vertical-align: top;\n",
       "    }\n",
       "\n",
       "    .dataframe thead th {\n",
       "        text-align: right;\n",
       "    }\n",
       "</style>\n",
       "<table border=\"1\" class=\"dataframe\">\n",
       "  <thead>\n",
       "    <tr style=\"text-align: right;\">\n",
       "      <th></th>\n",
       "      <th></th>\n",
       "      <th></th>\n",
       "      <th>Ambientes</th>\n",
       "      <th>Piso</th>\n",
       "      <th>Precio</th>\n",
       "      <th>Precio USD por M2</th>\n",
       "      <th>Precio aprox ARS</th>\n",
       "      <th>Precio aprox USD</th>\n",
       "      <th>Superfice total M2</th>\n",
       "      <th>Superficie cubierta M2</th>\n",
       "    </tr>\n",
       "    <tr>\n",
       "      <th>Localidad</th>\n",
       "      <th>Barrio</th>\n",
       "      <th>Propiedad</th>\n",
       "      <th></th>\n",
       "      <th></th>\n",
       "      <th></th>\n",
       "      <th></th>\n",
       "      <th></th>\n",
       "      <th></th>\n",
       "      <th></th>\n",
       "      <th></th>\n",
       "    </tr>\n",
       "  </thead>\n",
       "  <tbody>\n",
       "    <tr>\n",
       "      <th rowspan=\"5\" valign=\"top\">Bs.As. G.B.A. Zona Norte</th>\n",
       "      <th>Country Maschwitz Club</th>\n",
       "      <th>house</th>\n",
       "      <td>4.000000</td>\n",
       "      <td>9.00</td>\n",
       "      <td>3.116667e+05</td>\n",
       "      <td>1369.986720</td>\n",
       "      <td>5.499202e+06</td>\n",
       "      <td>311666.666667</td>\n",
       "      <td>275.500000</td>\n",
       "      <td>241.666667</td>\n",
       "    </tr>\n",
       "    <tr>\n",
       "      <th>los alamos</th>\n",
       "      <th>apartment</th>\n",
       "      <td>1.000000</td>\n",
       "      <td>NaN</td>\n",
       "      <td>8.160000e+04</td>\n",
       "      <td>1600.000000</td>\n",
       "      <td>1.439791e+06</td>\n",
       "      <td>81600.000000</td>\n",
       "      <td>51.000000</td>\n",
       "      <td>41.000000</td>\n",
       "    </tr>\n",
       "    <tr>\n",
       "      <th>Acacias Blancas</th>\n",
       "      <th>house</th>\n",
       "      <td>6.200000</td>\n",
       "      <td>42.00</td>\n",
       "      <td>2.495294e+05</td>\n",
       "      <td>1181.861023</td>\n",
       "      <td>4.402822e+06</td>\n",
       "      <td>249529.411765</td>\n",
       "      <td>239.333333</td>\n",
       "      <td>210.212121</td>\n",
       "    </tr>\n",
       "    <tr>\n",
       "      <th rowspan=\"2\" valign=\"top\">Acassuso</th>\n",
       "      <th>PH</th>\n",
       "      <td>4.500000</td>\n",
       "      <td>NaN</td>\n",
       "      <td>2.387500e+05</td>\n",
       "      <td>1990.304342</td>\n",
       "      <td>4.212624e+06</td>\n",
       "      <td>238750.000000</td>\n",
       "      <td>190.166667</td>\n",
       "      <td>115.375000</td>\n",
       "    </tr>\n",
       "    <tr>\n",
       "      <th>apartment</th>\n",
       "      <td>3.105263</td>\n",
       "      <td>4.14</td>\n",
       "      <td>2.894698e+05</td>\n",
       "      <td>2799.079776</td>\n",
       "      <td>5.107549e+06</td>\n",
       "      <td>289469.767442</td>\n",
       "      <td>104.761905</td>\n",
       "      <td>95.219512</td>\n",
       "    </tr>\n",
       "    <tr>\n",
       "      <th>...</th>\n",
       "      <th>...</th>\n",
       "      <th>...</th>\n",
       "      <td>...</td>\n",
       "      <td>...</td>\n",
       "      <td>...</td>\n",
       "      <td>...</td>\n",
       "      <td>...</td>\n",
       "      <td>...</td>\n",
       "      <td>...</td>\n",
       "      <td>...</td>\n",
       "    </tr>\n",
       "    <tr>\n",
       "      <th rowspan=\"5\" valign=\"top\">Tucumán</th>\n",
       "      <th>Tucumán</th>\n",
       "      <th>store</th>\n",
       "      <td>NaN</td>\n",
       "      <td>NaN</td>\n",
       "      <td>3.666667e+06</td>\n",
       "      <td>469.374992</td>\n",
       "      <td>3.628418e+06</td>\n",
       "      <td>205640.143333</td>\n",
       "      <td>602.500000</td>\n",
       "      <td>484.500000</td>\n",
       "    </tr>\n",
       "    <tr>\n",
       "      <th>Villa Belgrano</th>\n",
       "      <th>apartment</th>\n",
       "      <td>NaN</td>\n",
       "      <td>NaN</td>\n",
       "      <td>NaN</td>\n",
       "      <td>NaN</td>\n",
       "      <td>NaN</td>\n",
       "      <td>NaN</td>\n",
       "      <td>200.000000</td>\n",
       "      <td>147.000000</td>\n",
       "    </tr>\n",
       "    <tr>\n",
       "      <th rowspan=\"3\" valign=\"top\">Yerba Buena</th>\n",
       "      <th>apartment</th>\n",
       "      <td>2.923077</td>\n",
       "      <td>NaN</td>\n",
       "      <td>9.669562e+05</td>\n",
       "      <td>904.461996</td>\n",
       "      <td>1.623067e+06</td>\n",
       "      <td>91987.110000</td>\n",
       "      <td>92.111111</td>\n",
       "      <td>79.500000</td>\n",
       "    </tr>\n",
       "    <tr>\n",
       "      <th>house</th>\n",
       "      <td>4.400000</td>\n",
       "      <td>NaN</td>\n",
       "      <td>4.566842e+06</td>\n",
       "      <td>1061.394102</td>\n",
       "      <td>5.628282e+06</td>\n",
       "      <td>318982.235263</td>\n",
       "      <td>341.462687</td>\n",
       "      <td>245.923077</td>\n",
       "    </tr>\n",
       "    <tr>\n",
       "      <th>store</th>\n",
       "      <td>NaN</td>\n",
       "      <td>NaN</td>\n",
       "      <td>1.893694e+06</td>\n",
       "      <td>694.020321</td>\n",
       "      <td>1.873939e+06</td>\n",
       "      <td>106205.287500</td>\n",
       "      <td>131.666667</td>\n",
       "      <td>144.500000</td>\n",
       "    </tr>\n",
       "  </tbody>\n",
       "</table>\n",
       "<p>2135 rows × 8 columns</p>\n",
       "</div>"
      ],
      "text/plain": [
       "                                                            Ambientes   Piso  \\\n",
       "Localidad                Barrio                  Propiedad                     \n",
       "Bs.As. G.B.A. Zona Norte  Country Maschwitz Club house       4.000000   9.00   \n",
       "                          los alamos             apartment   1.000000    NaN   \n",
       "                         Acacias Blancas         house       6.200000  42.00   \n",
       "                         Acassuso                PH          4.500000    NaN   \n",
       "                                                 apartment   3.105263   4.14   \n",
       "...                                                               ...    ...   \n",
       "Tucumán                  Tucumán                 store            NaN    NaN   \n",
       "                         Villa Belgrano          apartment        NaN    NaN   \n",
       "                         Yerba Buena             apartment   2.923077    NaN   \n",
       "                                                 house       4.400000    NaN   \n",
       "                                                 store            NaN    NaN   \n",
       "\n",
       "                                                                  Precio  \\\n",
       "Localidad                Barrio                  Propiedad                 \n",
       "Bs.As. G.B.A. Zona Norte  Country Maschwitz Club house      3.116667e+05   \n",
       "                          los alamos             apartment  8.160000e+04   \n",
       "                         Acacias Blancas         house      2.495294e+05   \n",
       "                         Acassuso                PH         2.387500e+05   \n",
       "                                                 apartment  2.894698e+05   \n",
       "...                                                                  ...   \n",
       "Tucumán                  Tucumán                 store      3.666667e+06   \n",
       "                         Villa Belgrano          apartment           NaN   \n",
       "                         Yerba Buena             apartment  9.669562e+05   \n",
       "                                                 house      4.566842e+06   \n",
       "                                                 store      1.893694e+06   \n",
       "\n",
       "                                                            Precio USD por M2  \\\n",
       "Localidad                Barrio                  Propiedad                      \n",
       "Bs.As. G.B.A. Zona Norte  Country Maschwitz Club house            1369.986720   \n",
       "                          los alamos             apartment        1600.000000   \n",
       "                         Acacias Blancas         house            1181.861023   \n",
       "                         Acassuso                PH               1990.304342   \n",
       "                                                 apartment        2799.079776   \n",
       "...                                                                       ...   \n",
       "Tucumán                  Tucumán                 store             469.374992   \n",
       "                         Villa Belgrano          apartment                NaN   \n",
       "                         Yerba Buena             apartment         904.461996   \n",
       "                                                 house            1061.394102   \n",
       "                                                 store             694.020321   \n",
       "\n",
       "                                                            Precio aprox ARS  \\\n",
       "Localidad                Barrio                  Propiedad                     \n",
       "Bs.As. G.B.A. Zona Norte  Country Maschwitz Club house          5.499202e+06   \n",
       "                          los alamos             apartment      1.439791e+06   \n",
       "                         Acacias Blancas         house          4.402822e+06   \n",
       "                         Acassuso                PH             4.212624e+06   \n",
       "                                                 apartment      5.107549e+06   \n",
       "...                                                                      ...   \n",
       "Tucumán                  Tucumán                 store          3.628418e+06   \n",
       "                         Villa Belgrano          apartment               NaN   \n",
       "                         Yerba Buena             apartment      1.623067e+06   \n",
       "                                                 house          5.628282e+06   \n",
       "                                                 store          1.873939e+06   \n",
       "\n",
       "                                                            Precio aprox USD  \\\n",
       "Localidad                Barrio                  Propiedad                     \n",
       "Bs.As. G.B.A. Zona Norte  Country Maschwitz Club house         311666.666667   \n",
       "                          los alamos             apartment      81600.000000   \n",
       "                         Acacias Blancas         house         249529.411765   \n",
       "                         Acassuso                PH            238750.000000   \n",
       "                                                 apartment     289469.767442   \n",
       "...                                                                      ...   \n",
       "Tucumán                  Tucumán                 store         205640.143333   \n",
       "                         Villa Belgrano          apartment               NaN   \n",
       "                         Yerba Buena             apartment      91987.110000   \n",
       "                                                 house         318982.235263   \n",
       "                                                 store         106205.287500   \n",
       "\n",
       "                                                            Superfice total M2  \\\n",
       "Localidad                Barrio                  Propiedad                       \n",
       "Bs.As. G.B.A. Zona Norte  Country Maschwitz Club house              275.500000   \n",
       "                          los alamos             apartment           51.000000   \n",
       "                         Acacias Blancas         house              239.333333   \n",
       "                         Acassuso                PH                 190.166667   \n",
       "                                                 apartment          104.761905   \n",
       "...                                                                        ...   \n",
       "Tucumán                  Tucumán                 store              602.500000   \n",
       "                         Villa Belgrano          apartment          200.000000   \n",
       "                         Yerba Buena             apartment           92.111111   \n",
       "                                                 house              341.462687   \n",
       "                                                 store              131.666667   \n",
       "\n",
       "                                                            Superficie cubierta M2  \n",
       "Localidad                Barrio                  Propiedad                          \n",
       "Bs.As. G.B.A. Zona Norte  Country Maschwitz Club house                  241.666667  \n",
       "                          los alamos             apartment               41.000000  \n",
       "                         Acacias Blancas         house                  210.212121  \n",
       "                         Acassuso                PH                     115.375000  \n",
       "                                                 apartment               95.219512  \n",
       "...                                                                            ...  \n",
       "Tucumán                  Tucumán                 store                  484.500000  \n",
       "                         Villa Belgrano          apartment              147.000000  \n",
       "                         Yerba Buena             apartment               79.500000  \n",
       "                                                 house                  245.923077  \n",
       "                                                 store                  144.500000  \n",
       "\n",
       "[2135 rows x 8 columns]"
      ]
     },
     "execution_count": 100,
     "metadata": {},
     "output_type": "execute_result"
    }
   ],
   "source": [
    "data_filtrada_renamed_org = data_filtrada_renamed.pivot_table(['Precio', 'Moneda',\n",
    "       'Precio aprox ARS', 'Precio aprox USD', 'Superfice total M2',\n",
    "       'Superficie cubierta M2', 'Precio USD por M2', 'Piso', 'Ambientes',\n",
    "       'Descripcion', 'Titulo'], index= ['Localidad','Barrio','Propiedad'])\n",
    "data_filtrada_renamed_org"
   ]
  },
  {
   "cell_type": "code",
   "execution_count": 102,
   "metadata": {},
   "outputs": [
    {
     "data": {
      "text/plain": [
       "Ambientes                 float64\n",
       "Piso                      float64\n",
       "Precio                    float64\n",
       "Precio USD por M2         float64\n",
       "Precio aprox ARS          float64\n",
       "Precio aprox USD          float64\n",
       "Superfice total M2        float64\n",
       "Superficie cubierta M2    float64\n",
       "dtype: object"
      ]
     },
     "execution_count": 102,
     "metadata": {},
     "output_type": "execute_result"
    }
   ],
   "source": [
    "data_filtrada_renamed_org.dtypes"
   ]
  }
 ],
 "metadata": {
  "kernelspec": {
   "display_name": "Python 3",
   "language": "python",
   "name": "python3"
  },
  "language_info": {
   "codemirror_mode": {
    "name": "ipython",
    "version": 3
   },
   "file_extension": ".py",
   "mimetype": "text/x-python",
   "name": "python",
   "nbconvert_exporter": "python",
   "pygments_lexer": "ipython3",
   "version": "3.7.9"
  }
 },
 "nbformat": 4,
 "nbformat_minor": 4
}
